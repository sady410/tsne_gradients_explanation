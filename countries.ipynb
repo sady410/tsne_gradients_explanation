{
 "cells": [
  {
   "cell_type": "markdown",
   "metadata": {},
   "source": [
    "#### IMPORTS"
   ]
  },
  {
   "cell_type": "code",
   "execution_count": 1,
   "metadata": {},
   "outputs": [],
   "source": [
    "import numpy as np\n",
    "from explainer import Explainer\n",
    "from custom_tsne import CustomTSNE\n",
    "import pandas as pd\n",
    "import matplotlib.pyplot as plt\n",
    "import seaborn as sns\n",
    "from sklearn.preprocessing import StandardScaler \n",
    "\n",
    "import plotly.express as px\n",
    "from plotly.subplots import make_subplots\n",
    "import plotly.graph_objects as go"
   ]
  },
  {
   "cell_type": "markdown",
   "metadata": {},
   "source": [
    "#### LOADING DATA"
   ]
  },
  {
   "cell_type": "code",
   "execution_count": 2,
   "metadata": {},
   "outputs": [],
   "source": [
    "filepath = \"datasets/country_dataset_with_names.csv\"\n",
    "\n",
    "# Loading dataset\n",
    "\n",
    "df = pd.read_csv(filepath, index_col = 0)\n",
    "\n",
    "data = df.to_numpy()\n",
    "X_init = data[0:].astype(np.float64)\n",
    "scaler = StandardScaler()\n",
    "X = scaler.fit_transform(X_init)\n",
    "countries = df.index.to_numpy()\n",
    "features = df.columns\n",
    "\n",
    "# Loading t-SNE data\n",
    "\n",
    "tsne = CustomTSNE(X, countries)\n",
    "tsne.load_tsne_data(\"embeddings/countries/perplexity_4\")"
   ]
  },
  {
   "cell_type": "markdown",
   "metadata": {},
   "source": [
    "#### Plot t-SNE embedding"
   ]
  },
  {
   "cell_type": "code",
   "execution_count": 3,
   "metadata": {},
   "outputs": [
    {
     "data": {
      "application/vnd.plotly.v1+json": {
       "config": {
        "plotlyServerURL": "https://plot.ly"
       },
       "data": [
        {
         "hovertemplate": "comp-1=%{x}<br>comp-2=%{y}<br>countries=%{text}<extra></extra>",
         "legendgroup": "",
         "marker": {
          "color": "#636efa",
          "symbol": "circle"
         },
         "mode": "markers+text",
         "name": "",
         "orientation": "v",
         "showlegend": false,
         "text": [
          "Norway",
          "Iceland",
          "Australia",
          "Ireland",
          "Sweden",
          "Canada",
          "Japan",
          "United States",
          "Switzerland",
          "Netherlands",
          "Finland",
          "Luxembourg",
          "Belgium",
          "Austria",
          "Denmark",
          "France",
          "Italy",
          "United Kingdom",
          "Spain",
          "New Zealand",
          "Germany",
          "Israel",
          "Greece",
          "Singapore",
          "Korea, Rep. of",
          "Slovenia",
          "Portugal",
          "Cyprus",
          "Czech Republic",
          "Malta",
          "Kuwait",
          "Hungary",
          "Argentina",
          "Poland",
          "Chile",
          "Bahrain",
          "Estonia",
          "Lithuania",
          "Slovakia",
          "Uruguay",
          "Croatia",
          "Latvia",
          "Costa Rica",
          "United Arab Emirates",
          "Mexico",
          "Bulgaria",
          "Trinidad and Tobago",
          "Panama",
          "Oman",
          "Romania",
          "Malaysia",
          "Mauritius",
          "Russian Federation",
          "Macedonia, TFYR",
          "Belarus",
          "Brazil",
          "Colombia",
          "Venezuela, RB",
          "Albania",
          "Thailand",
          "Saudi Arabia",
          "Ukraine",
          "Lebanon",
          "Kazakhstan",
          "Armenia",
          "China",
          "Peru",
          "Ecuador",
          "Philippines",
          "Jordan",
          "Tunisia",
          "Fiji",
          "Paraguay",
          "Turkey",
          "Sri Lanka",
          "Dominican Republic",
          "Belize",
          "Iran, Islamic Rep. of",
          "Georgia",
          "Azerbaijan",
          "El Salvador",
          "Algeria",
          "Guyana",
          "Jamaica",
          "Cape Verde",
          "Syrian Arab Republic",
          "Indonesia",
          "Viet Nam",
          "Kyrgyzstan",
          "Egypt",
          "Nicaragua",
          "Moldova, Rep. of",
          "Bolivia",
          "Mongolia",
          "Honduras",
          "Guatemala",
          "South Africa",
          "Morocco",
          "Gabon",
          "Namibia",
          "India",
          "Cambodia",
          "Botswana",
          "Lao People's Dem.  Rep.",
          "Pakistan",
          "Ghana",
          "Bangladesh",
          "Nepal",
          "Papua New Guinea",
          "Sudan",
          "Uganda",
          "Togo",
          "Zimbabwe",
          "Madagascar",
          "Cameroon",
          "Swaziland",
          "Yemen",
          "Kenya",
          "Gambia",
          "Senegal",
          "Rwanda",
          "Nigeria",
          "Guinea",
          "Angola",
          "Tanzania, U. Rep. of",
          "Benin",
          "Cote d'Ivoire",
          "Zambia",
          "Malawi",
          "Mozambique",
          "Burundi",
          "Ethiopia",
          "Chad",
          "Central African Republic",
          "Burkina Faso",
          "Mali",
          "Sierra Leone",
          "Niger"
         ],
         "textposition": "top center",
         "type": "scatter",
         "x": [
          -38.87454953803157,
          -35.905313603849955,
          -33.57934605345161,
          -34.35780949853687,
          -36.92953991821367,
          -31.269882146591538,
          -25.604256771769435,
          -23.301394152250907,
          -37.87554489141438,
          -35.82951839585211,
          -35.9462803941838,
          -36.45802713377117,
          -35.01923541646399,
          -32.9284652185541,
          -35.59056984886919,
          -27.147592598187924,
          -28.350974622242536,
          -26.96599630563207,
          -29.692809368709575,
          -30.068363115668557,
          -24.874394030886343,
          -2.469578410869182,
          -2.729049300879983,
          -0.2730980253903988,
          0.7279996107376382,
          -13.943759266132252,
          -29.762841206040946,
          0.4998385110791165,
          -12.352575386844892,
          -14.829930219860579,
          12.332510289349415,
          -10.487494444114493,
          5.68838143853691,
          -19.176049451450343,
          13.80673941508967,
          8.202287235156287,
          -13.984279600843177,
          -11.634515700649834,
          -12.758322269237297,
          7.30511803190554,
          -10.715550981805828,
          -11.920885285766479,
          13.309163445061756,
          11.625793420211469,
          10.78321933563621,
          -14.107064446745971,
          -2.373384678772237,
          7.797947510180492,
          17.24902689483527,
          -18.733811706816756,
          0.3184652594520961,
          1.4573176602426479,
          -20.52678496116204,
          -10.365247208109448,
          -7.174298730789052,
          10.994774022685709,
          10.199113291426158,
          4.021722923308313,
          -16.09267922785612,
          -5.571987500570479,
          16.262552623100976,
          -17.628026413807767,
          17.568338151226516,
          -6.646241362066231,
          -14.542061376126455,
          9.703249214476442,
          4.855855846882184,
          3.3599612287560943,
          14.596983741866534,
          18.766926458109722,
          14.72042687953594,
          2.252286081910392,
          -2.0263281581301245,
          21.749050197202624,
          21.25622470501854,
          10.228093845196295,
          8.63491809892865,
          19.797642376987312,
          -12.819191603999045,
          -7.818032100082717,
          10.978377560349934,
          15.398252965408727,
          -1.1105402065875718,
          -11.230470164619993,
          2.9972888628093144,
          16.507403031358546,
          12.41276007189194,
          -8.883455064544272,
          -9.92197346517957,
          19.39262458126039,
          3.9359380062932487,
          -13.59560746965413,
          13.059312769866466,
          -9.369779114260687,
          4.4369218761679186,
          16.535555404988248,
          7.867808966231853,
          17.874056748751645,
          24.38657214007602,
          4.450380708247004,
          10.209472694340704,
          6.331380118798199,
          11.950866257837854,
          12.003775270586708,
          21.84899132275002,
          13.432979304723633,
          17.794847977562675,
          16.633295801004948,
          23.663203171268776,
          23.69838327057461,
          9.89804325977691,
          24.40210353611728,
          9.536615945078147,
          14.949675246190331,
          16.087513743908165,
          -0.051282913883280795,
          20.98337099530101,
          13.555717258326112,
          26.3563399690124,
          13.854698930647215,
          11.754387634401363,
          22.297095901703212,
          11.474180393539411,
          -4.756163356784036,
          8.465078531033615,
          17.667206795280148,
          23.134732934419564,
          13.905142734512504,
          10.037624900107831,
          11.349429745770216,
          12.884183740867432,
          11.892185814624987,
          19.08839205172512,
          20.830404641986124,
          16.237294550931402,
          17.55065289141644,
          17.885093359516343,
          15.002661670129267
         ],
         "xaxis": "x",
         "y": [
          9.226808648130522,
          6.245797519646558,
          7.928316236184327,
          17.039053865486082,
          9.317839978063343,
          7.217207392533315,
          12.69059816297715,
          12.40187003727448,
          12.458056341408378,
          13.61278461185534,
          8.560145248570329,
          17.447200274803553,
          15.022046672792813,
          14.160218196849636,
          11.51428405290481,
          14.268932457830683,
          13.345650811834462,
          15.217224262982022,
          11.744057416114957,
          6.946687016250702,
          16.454636027811745,
          -5.566915766612388,
          -2.709532644420216,
          -10.211374590904787,
          -7.94371680318568,
          -29.723619825827498,
          16.155946125757715,
          -11.963713286457567,
          -27.575715209559167,
          -31.333890162900982,
          -21.558269613035606,
          -28.977140495870067,
          2.231904610845066,
          -20.856899600819023,
          -13.403394645845045,
          -18.54789914273427,
          -24.952175619825816,
          -22.563810361361178,
          -26.489640382218454,
          -2.999761394721268,
          -26.20595245632181,
          -21.46977514782438,
          -6.570789396096234,
          -22.254498651996858,
          -0.06646525750398749,
          -21.918938525547595,
          -10.468462457521166,
          -8.654218754838459,
          -18.470789795537208,
          -19.722610380094086,
          -17.320438839720875,
          -14.88997306312686,
          -17.966720471334146,
          -24.212816419553803,
          -25.411271680260676,
          3.079788658043152,
          7.340495930927096,
          5.668186455481582,
          -12.7694456215657,
          -13.443924804736803,
          -17.71291635441144,
          -18.245981185847327,
          -6.142638178772002,
          -11.854434493369652,
          -13.328265427153905,
          -34.85710407682664,
          4.550594111562723,
          6.715725815060813,
          1.7820010880053343,
          -7.668167134536726,
          -5.206599394149656,
          -13.453195372472678,
          7.302466183508385,
          1.0987686396804999,
          -1.0669863048935846,
          -3.8785750236682355,
          -7.37528546839939,
          -13.476217047890575,
          -14.59300570980641,
          -9.506083351852432,
          -2.078135134666214,
          -13.734883529932723,
          -20.777347934644208,
          -19.593071228555715,
          13.37279237546833,
          -15.21611441380224,
          1.7742644163876464,
          -7.7773859350317744,
          -13.772710994161795,
          -3.4254061858456986,
          12.051283420121585,
          -18.579324759247314,
          15.874447158657734,
          -14.167303519700727,
          9.186648045306951,
          -0.384099971329448,
          0.6761318135202325,
          -4.321509921243022,
          20.712818543837518,
          -13.094378003671062,
          -34.38303510748664,
          22.499227026463085,
          -13.289193426887802,
          12.186135240245614,
          -12.722880532353843,
          27.67411419336921,
          3.6483814781731305,
          1.136041960154802,
          22.046757470477274,
          -0.47126849157194395,
          29.32191371792513,
          12.858407393127084,
          20.671504405194632,
          25.050045025657088,
          15.644927543234367,
          -19.302202881909356,
          15.049236453076011,
          21.408488493343807,
          13.335623120311547,
          12.471786296555837,
          32.86421151351249,
          11.111938090335368,
          22.072540059462273,
          -26.080766219865787,
          30.295145346681167,
          16.228329996834056,
          12.553345346662988,
          18.008364348362704,
          22.29858367684897,
          31.559603614042043,
          34.58807531487912,
          28.90128069654135,
          22.275177504913405,
          25.474174710765325,
          21.34226444815942,
          21.541896940927646,
          12.31772866223561,
          19.902105272887855
         ],
         "yaxis": "y"
        }
       ],
       "layout": {
        "font": {
         "size": 10
        },
        "height": 1000,
        "legend": {
         "tracegroupgap": 0
        },
        "margin": {
         "t": 60
        },
        "template": {
         "data": {
          "bar": [
           {
            "error_x": {
             "color": "rgb(36,36,36)"
            },
            "error_y": {
             "color": "rgb(36,36,36)"
            },
            "marker": {
             "line": {
              "color": "white",
              "width": 0.5
             },
             "pattern": {
              "fillmode": "overlay",
              "size": 10,
              "solidity": 0.2
             }
            },
            "type": "bar"
           }
          ],
          "barpolar": [
           {
            "marker": {
             "line": {
              "color": "white",
              "width": 0.5
             },
             "pattern": {
              "fillmode": "overlay",
              "size": 10,
              "solidity": 0.2
             }
            },
            "type": "barpolar"
           }
          ],
          "carpet": [
           {
            "aaxis": {
             "endlinecolor": "rgb(36,36,36)",
             "gridcolor": "white",
             "linecolor": "white",
             "minorgridcolor": "white",
             "startlinecolor": "rgb(36,36,36)"
            },
            "baxis": {
             "endlinecolor": "rgb(36,36,36)",
             "gridcolor": "white",
             "linecolor": "white",
             "minorgridcolor": "white",
             "startlinecolor": "rgb(36,36,36)"
            },
            "type": "carpet"
           }
          ],
          "choropleth": [
           {
            "colorbar": {
             "outlinewidth": 1,
             "tickcolor": "rgb(36,36,36)",
             "ticks": "outside"
            },
            "type": "choropleth"
           }
          ],
          "contour": [
           {
            "colorbar": {
             "outlinewidth": 1,
             "tickcolor": "rgb(36,36,36)",
             "ticks": "outside"
            },
            "colorscale": [
             [
              0,
              "#440154"
             ],
             [
              0.1111111111111111,
              "#482878"
             ],
             [
              0.2222222222222222,
              "#3e4989"
             ],
             [
              0.3333333333333333,
              "#31688e"
             ],
             [
              0.4444444444444444,
              "#26828e"
             ],
             [
              0.5555555555555556,
              "#1f9e89"
             ],
             [
              0.6666666666666666,
              "#35b779"
             ],
             [
              0.7777777777777778,
              "#6ece58"
             ],
             [
              0.8888888888888888,
              "#b5de2b"
             ],
             [
              1,
              "#fde725"
             ]
            ],
            "type": "contour"
           }
          ],
          "contourcarpet": [
           {
            "colorbar": {
             "outlinewidth": 1,
             "tickcolor": "rgb(36,36,36)",
             "ticks": "outside"
            },
            "type": "contourcarpet"
           }
          ],
          "heatmap": [
           {
            "colorbar": {
             "outlinewidth": 1,
             "tickcolor": "rgb(36,36,36)",
             "ticks": "outside"
            },
            "colorscale": [
             [
              0,
              "#440154"
             ],
             [
              0.1111111111111111,
              "#482878"
             ],
             [
              0.2222222222222222,
              "#3e4989"
             ],
             [
              0.3333333333333333,
              "#31688e"
             ],
             [
              0.4444444444444444,
              "#26828e"
             ],
             [
              0.5555555555555556,
              "#1f9e89"
             ],
             [
              0.6666666666666666,
              "#35b779"
             ],
             [
              0.7777777777777778,
              "#6ece58"
             ],
             [
              0.8888888888888888,
              "#b5de2b"
             ],
             [
              1,
              "#fde725"
             ]
            ],
            "type": "heatmap"
           }
          ],
          "heatmapgl": [
           {
            "colorbar": {
             "outlinewidth": 1,
             "tickcolor": "rgb(36,36,36)",
             "ticks": "outside"
            },
            "colorscale": [
             [
              0,
              "#440154"
             ],
             [
              0.1111111111111111,
              "#482878"
             ],
             [
              0.2222222222222222,
              "#3e4989"
             ],
             [
              0.3333333333333333,
              "#31688e"
             ],
             [
              0.4444444444444444,
              "#26828e"
             ],
             [
              0.5555555555555556,
              "#1f9e89"
             ],
             [
              0.6666666666666666,
              "#35b779"
             ],
             [
              0.7777777777777778,
              "#6ece58"
             ],
             [
              0.8888888888888888,
              "#b5de2b"
             ],
             [
              1,
              "#fde725"
             ]
            ],
            "type": "heatmapgl"
           }
          ],
          "histogram": [
           {
            "marker": {
             "line": {
              "color": "white",
              "width": 0.6
             }
            },
            "type": "histogram"
           }
          ],
          "histogram2d": [
           {
            "colorbar": {
             "outlinewidth": 1,
             "tickcolor": "rgb(36,36,36)",
             "ticks": "outside"
            },
            "colorscale": [
             [
              0,
              "#440154"
             ],
             [
              0.1111111111111111,
              "#482878"
             ],
             [
              0.2222222222222222,
              "#3e4989"
             ],
             [
              0.3333333333333333,
              "#31688e"
             ],
             [
              0.4444444444444444,
              "#26828e"
             ],
             [
              0.5555555555555556,
              "#1f9e89"
             ],
             [
              0.6666666666666666,
              "#35b779"
             ],
             [
              0.7777777777777778,
              "#6ece58"
             ],
             [
              0.8888888888888888,
              "#b5de2b"
             ],
             [
              1,
              "#fde725"
             ]
            ],
            "type": "histogram2d"
           }
          ],
          "histogram2dcontour": [
           {
            "colorbar": {
             "outlinewidth": 1,
             "tickcolor": "rgb(36,36,36)",
             "ticks": "outside"
            },
            "colorscale": [
             [
              0,
              "#440154"
             ],
             [
              0.1111111111111111,
              "#482878"
             ],
             [
              0.2222222222222222,
              "#3e4989"
             ],
             [
              0.3333333333333333,
              "#31688e"
             ],
             [
              0.4444444444444444,
              "#26828e"
             ],
             [
              0.5555555555555556,
              "#1f9e89"
             ],
             [
              0.6666666666666666,
              "#35b779"
             ],
             [
              0.7777777777777778,
              "#6ece58"
             ],
             [
              0.8888888888888888,
              "#b5de2b"
             ],
             [
              1,
              "#fde725"
             ]
            ],
            "type": "histogram2dcontour"
           }
          ],
          "mesh3d": [
           {
            "colorbar": {
             "outlinewidth": 1,
             "tickcolor": "rgb(36,36,36)",
             "ticks": "outside"
            },
            "type": "mesh3d"
           }
          ],
          "parcoords": [
           {
            "line": {
             "colorbar": {
              "outlinewidth": 1,
              "tickcolor": "rgb(36,36,36)",
              "ticks": "outside"
             }
            },
            "type": "parcoords"
           }
          ],
          "pie": [
           {
            "automargin": true,
            "type": "pie"
           }
          ],
          "scatter": [
           {
            "fillpattern": {
             "fillmode": "overlay",
             "size": 10,
             "solidity": 0.2
            },
            "type": "scatter"
           }
          ],
          "scatter3d": [
           {
            "line": {
             "colorbar": {
              "outlinewidth": 1,
              "tickcolor": "rgb(36,36,36)",
              "ticks": "outside"
             }
            },
            "marker": {
             "colorbar": {
              "outlinewidth": 1,
              "tickcolor": "rgb(36,36,36)",
              "ticks": "outside"
             }
            },
            "type": "scatter3d"
           }
          ],
          "scattercarpet": [
           {
            "marker": {
             "colorbar": {
              "outlinewidth": 1,
              "tickcolor": "rgb(36,36,36)",
              "ticks": "outside"
             }
            },
            "type": "scattercarpet"
           }
          ],
          "scattergeo": [
           {
            "marker": {
             "colorbar": {
              "outlinewidth": 1,
              "tickcolor": "rgb(36,36,36)",
              "ticks": "outside"
             }
            },
            "type": "scattergeo"
           }
          ],
          "scattergl": [
           {
            "marker": {
             "colorbar": {
              "outlinewidth": 1,
              "tickcolor": "rgb(36,36,36)",
              "ticks": "outside"
             }
            },
            "type": "scattergl"
           }
          ],
          "scattermapbox": [
           {
            "marker": {
             "colorbar": {
              "outlinewidth": 1,
              "tickcolor": "rgb(36,36,36)",
              "ticks": "outside"
             }
            },
            "type": "scattermapbox"
           }
          ],
          "scatterpolar": [
           {
            "marker": {
             "colorbar": {
              "outlinewidth": 1,
              "tickcolor": "rgb(36,36,36)",
              "ticks": "outside"
             }
            },
            "type": "scatterpolar"
           }
          ],
          "scatterpolargl": [
           {
            "marker": {
             "colorbar": {
              "outlinewidth": 1,
              "tickcolor": "rgb(36,36,36)",
              "ticks": "outside"
             }
            },
            "type": "scatterpolargl"
           }
          ],
          "scatterternary": [
           {
            "marker": {
             "colorbar": {
              "outlinewidth": 1,
              "tickcolor": "rgb(36,36,36)",
              "ticks": "outside"
             }
            },
            "type": "scatterternary"
           }
          ],
          "surface": [
           {
            "colorbar": {
             "outlinewidth": 1,
             "tickcolor": "rgb(36,36,36)",
             "ticks": "outside"
            },
            "colorscale": [
             [
              0,
              "#440154"
             ],
             [
              0.1111111111111111,
              "#482878"
             ],
             [
              0.2222222222222222,
              "#3e4989"
             ],
             [
              0.3333333333333333,
              "#31688e"
             ],
             [
              0.4444444444444444,
              "#26828e"
             ],
             [
              0.5555555555555556,
              "#1f9e89"
             ],
             [
              0.6666666666666666,
              "#35b779"
             ],
             [
              0.7777777777777778,
              "#6ece58"
             ],
             [
              0.8888888888888888,
              "#b5de2b"
             ],
             [
              1,
              "#fde725"
             ]
            ],
            "type": "surface"
           }
          ],
          "table": [
           {
            "cells": {
             "fill": {
              "color": "rgb(237,237,237)"
             },
             "line": {
              "color": "white"
             }
            },
            "header": {
             "fill": {
              "color": "rgb(217,217,217)"
             },
             "line": {
              "color": "white"
             }
            },
            "type": "table"
           }
          ]
         },
         "layout": {
          "annotationdefaults": {
           "arrowhead": 0,
           "arrowwidth": 1
          },
          "autotypenumbers": "strict",
          "coloraxis": {
           "colorbar": {
            "outlinewidth": 1,
            "tickcolor": "rgb(36,36,36)",
            "ticks": "outside"
           }
          },
          "colorscale": {
           "diverging": [
            [
             0,
             "rgb(103,0,31)"
            ],
            [
             0.1,
             "rgb(178,24,43)"
            ],
            [
             0.2,
             "rgb(214,96,77)"
            ],
            [
             0.3,
             "rgb(244,165,130)"
            ],
            [
             0.4,
             "rgb(253,219,199)"
            ],
            [
             0.5,
             "rgb(247,247,247)"
            ],
            [
             0.6,
             "rgb(209,229,240)"
            ],
            [
             0.7,
             "rgb(146,197,222)"
            ],
            [
             0.8,
             "rgb(67,147,195)"
            ],
            [
             0.9,
             "rgb(33,102,172)"
            ],
            [
             1,
             "rgb(5,48,97)"
            ]
           ],
           "sequential": [
            [
             0,
             "#440154"
            ],
            [
             0.1111111111111111,
             "#482878"
            ],
            [
             0.2222222222222222,
             "#3e4989"
            ],
            [
             0.3333333333333333,
             "#31688e"
            ],
            [
             0.4444444444444444,
             "#26828e"
            ],
            [
             0.5555555555555556,
             "#1f9e89"
            ],
            [
             0.6666666666666666,
             "#35b779"
            ],
            [
             0.7777777777777778,
             "#6ece58"
            ],
            [
             0.8888888888888888,
             "#b5de2b"
            ],
            [
             1,
             "#fde725"
            ]
           ],
           "sequentialminus": [
            [
             0,
             "#440154"
            ],
            [
             0.1111111111111111,
             "#482878"
            ],
            [
             0.2222222222222222,
             "#3e4989"
            ],
            [
             0.3333333333333333,
             "#31688e"
            ],
            [
             0.4444444444444444,
             "#26828e"
            ],
            [
             0.5555555555555556,
             "#1f9e89"
            ],
            [
             0.6666666666666666,
             "#35b779"
            ],
            [
             0.7777777777777778,
             "#6ece58"
            ],
            [
             0.8888888888888888,
             "#b5de2b"
            ],
            [
             1,
             "#fde725"
            ]
           ]
          },
          "colorway": [
           "#1F77B4",
           "#FF7F0E",
           "#2CA02C",
           "#D62728",
           "#9467BD",
           "#8C564B",
           "#E377C2",
           "#7F7F7F",
           "#BCBD22",
           "#17BECF"
          ],
          "font": {
           "color": "rgb(36,36,36)"
          },
          "geo": {
           "bgcolor": "white",
           "lakecolor": "white",
           "landcolor": "white",
           "showlakes": true,
           "showland": true,
           "subunitcolor": "white"
          },
          "hoverlabel": {
           "align": "left"
          },
          "hovermode": "closest",
          "mapbox": {
           "style": "light"
          },
          "paper_bgcolor": "white",
          "plot_bgcolor": "white",
          "polar": {
           "angularaxis": {
            "gridcolor": "rgb(232,232,232)",
            "linecolor": "rgb(36,36,36)",
            "showgrid": false,
            "showline": true,
            "ticks": "outside"
           },
           "bgcolor": "white",
           "radialaxis": {
            "gridcolor": "rgb(232,232,232)",
            "linecolor": "rgb(36,36,36)",
            "showgrid": false,
            "showline": true,
            "ticks": "outside"
           }
          },
          "scene": {
           "xaxis": {
            "backgroundcolor": "white",
            "gridcolor": "rgb(232,232,232)",
            "gridwidth": 2,
            "linecolor": "rgb(36,36,36)",
            "showbackground": true,
            "showgrid": false,
            "showline": true,
            "ticks": "outside",
            "zeroline": false,
            "zerolinecolor": "rgb(36,36,36)"
           },
           "yaxis": {
            "backgroundcolor": "white",
            "gridcolor": "rgb(232,232,232)",
            "gridwidth": 2,
            "linecolor": "rgb(36,36,36)",
            "showbackground": true,
            "showgrid": false,
            "showline": true,
            "ticks": "outside",
            "zeroline": false,
            "zerolinecolor": "rgb(36,36,36)"
           },
           "zaxis": {
            "backgroundcolor": "white",
            "gridcolor": "rgb(232,232,232)",
            "gridwidth": 2,
            "linecolor": "rgb(36,36,36)",
            "showbackground": true,
            "showgrid": false,
            "showline": true,
            "ticks": "outside",
            "zeroline": false,
            "zerolinecolor": "rgb(36,36,36)"
           }
          },
          "shapedefaults": {
           "fillcolor": "black",
           "line": {
            "width": 0
           },
           "opacity": 0.3
          },
          "ternary": {
           "aaxis": {
            "gridcolor": "rgb(232,232,232)",
            "linecolor": "rgb(36,36,36)",
            "showgrid": false,
            "showline": true,
            "ticks": "outside"
           },
           "baxis": {
            "gridcolor": "rgb(232,232,232)",
            "linecolor": "rgb(36,36,36)",
            "showgrid": false,
            "showline": true,
            "ticks": "outside"
           },
           "bgcolor": "white",
           "caxis": {
            "gridcolor": "rgb(232,232,232)",
            "linecolor": "rgb(36,36,36)",
            "showgrid": false,
            "showline": true,
            "ticks": "outside"
           }
          },
          "title": {
           "x": 0.05
          },
          "xaxis": {
           "automargin": true,
           "gridcolor": "rgb(232,232,232)",
           "linecolor": "rgb(36,36,36)",
           "showgrid": false,
           "showline": true,
           "ticks": "outside",
           "title": {
            "standoff": 15
           },
           "zeroline": false,
           "zerolinecolor": "rgb(36,36,36)"
          },
          "yaxis": {
           "automargin": true,
           "gridcolor": "rgb(232,232,232)",
           "linecolor": "rgb(36,36,36)",
           "showgrid": false,
           "showline": true,
           "ticks": "outside",
           "title": {
            "standoff": 15
           },
           "zeroline": false,
           "zerolinecolor": "rgb(36,36,36)"
          }
         }
        },
        "width": 1000,
        "xaxis": {
         "anchor": "y",
         "domain": [
          0,
          1
         ],
         "mirror": true,
         "showgrid": false,
         "tickfont": {
          "size": 20
         },
         "ticks": "outside",
         "title": {},
         "zeroline": false
        },
        "yaxis": {
         "anchor": "x",
         "domain": [
          0,
          1
         ],
         "mirror": true,
         "showgrid": false,
         "tickfont": {
          "size": 20
         },
         "ticks": "outside",
         "title": {},
         "zeroline": false
        }
       }
      }
     },
     "metadata": {},
     "output_type": "display_data"
    }
   ],
   "source": [
    "tsne.plot_tsne_embedding_labels()"
   ]
  },
  {
   "cell_type": "markdown",
   "metadata": {},
   "source": [
    "#### COMPUTE GRADIENTS"
   ]
  },
  {
   "cell_type": "code",
   "execution_count": 4,
   "metadata": {},
   "outputs": [],
   "source": [
    "explainer = Explainer(tsne, features)\n",
    "gradients = explainer.compute_all_gradients()"
   ]
  },
  {
   "cell_type": "markdown",
   "metadata": {},
   "source": [
    "#### EXPLAIN EMBEDDING LOCALLY"
   ]
  },
  {
   "cell_type": "code",
   "execution_count": 5,
   "metadata": {},
   "outputs": [],
   "source": [
    "country = \"Austria\"\n",
    "instance_id = np.where(countries == country)[0][0]"
   ]
  },
  {
   "cell_type": "markdown",
   "metadata": {},
   "source": [
    "##### PLOT LOCAL EXPLANATION OF INSTANCE"
   ]
  },
  {
   "cell_type": "code",
   "execution_count": 6,
   "metadata": {},
   "outputs": [
    {
     "data": {
      "application/vnd.plotly.v1+json": {
       "config": {
        "plotlyServerURL": "https://plot.ly"
       },
       "data": [
        {
         "name": "X-axis gradients",
         "orientation": "h",
         "showlegend": false,
         "type": "bar",
         "x": [
          0.021100964909052968,
          0.04611634625242189,
          0.007212033360768819,
          -0.04945231967455002,
          -0.40663333063344825,
          -0.44476010665521565,
          -0.11074393850194296,
          0.1556137177084072,
          0.13673528899724713,
          -0.1947393798951711,
          -0.004848175980000523,
          -0.03760761242694483,
          -0.05926937642072848,
          -0.057122444709070186,
          -0.18079334652458856,
          -0.021203151962495635,
          -0.21137854014498042,
          -0.3478393195792232,
          -0.39883330981787884,
          0.056771019831955385,
          0.061565018732871325,
          0.003682223817739005,
          -0.043807311916941864,
          0.06325201297442838,
          -0.002863768637894574,
          -0.12634737776751262,
          -0.009471285570819842,
          -0.0028035195821473507,
          0.016960383028268525,
          0.0009749958786035356,
          0.0872161513259147,
          -0.2525762890658605,
          -0.12970624603961403,
          -0.20465799465391632,
          0.06253614244027632,
          0.04661864077840385,
          0.04330941652677028,
          0.004927304856345881,
          0.04984604101587506,
          0.04664033294544301,
          -0.3282124402068054,
          -0.038606432069006685,
          -0.006045186835791929,
          0.0026157933566622374,
          0.004360071645313195
         ],
         "xaxis": "x",
         "y": [
          "Pop growth",
          "Pop growth 2004",
          "Price index",
          "Carbon Dioxide 2003",
          "Export 1990",
          "Export 2004",
          "Elec 2003",
          "GDP",
          "GDP PPP",
          "GDP pc",
          "GDP pc growth rate",
          "Fem Econo Rate",
          "Fem Econo 1990",
          "Fem Econo 2004",
          "Health Exp",
          "Babies",
          "Internet 1990",
          "Import 1990",
          "Import 2004",
          "Tertiary female ratio",
          "Babies immunized",
          "Manufactured Exp 2004",
          "Foreign invest 2004",
          "Military 2004",
          "Public Health 2003",
          "Private Health 2003",
          "Primary export 2004",
          "Public Health",
          "Refugees asylum",
          "Refugees origin",
          "Armed forces",
          "Parliament Women",
          "Female Male income",
          "House women 2006",
          "Pop 1975",
          "Pop 2004",
          "Pop 2015",
          "Tuberculosis detected",
          "Tuberculosis cured 2004",
          "Trad fuel",
          "ODA pc donnor 2004",
          "ODA to least dev 1990",
          "ODA to least dev 2004",
          "ODA received",
          "ODA received pc"
         ],
         "yaxis": "y"
        },
        {
         "name": "Y-axis gradients",
         "orientation": "h",
         "showlegend": false,
         "type": "bar",
         "x": [
          -0.02777178821783799,
          -0.0022398047345009832,
          0.001160342409972149,
          -0.0660582511589534,
          0.33122425317052717,
          0.31931086177857637,
          -0.16768541112633137,
          -0.0382616257006077,
          -0.035071041290684134,
          0.007039406629117096,
          0.0997442958301036,
          -0.07900362777425239,
          0.11036702319422903,
          -0.043642496890807785,
          0.0428036926668419,
          0.08281573582553695,
          -0.297981683397006,
          0.32185080419127227,
          0.32951220515331575,
          -0.0039017626671505306,
          -0.15462455623489257,
          0.09965106570427007,
          0.06605764270752254,
          0.023987738444861493,
          0.008247385578462826,
          0.06397255871321471,
          -0.0925270072037809,
          0.008235087377444548,
          -0.006576688077218264,
          0.00007499307320673675,
          -0.018092516734524996,
          -0.12946691380943134,
          -0.08294643570676695,
          -0.1667967053182248,
          -0.01427930258974397,
          -0.012734210610202072,
          -0.01227342433049684,
          0.0240491457649226,
          0.05948499346014287,
          -0.012770413043185394,
          0.000940764837638333,
          0.30090488484572125,
          0.45417052565346017,
          0.00007521680926947304,
          0.00020054062111753124
         ],
         "xaxis": "x2",
         "y": [
          "Pop growth",
          "Pop growth 2004",
          "Price index",
          "Carbon Dioxide 2003",
          "Export 1990",
          "Export 2004",
          "Elec 2003",
          "GDP",
          "GDP PPP",
          "GDP pc",
          "GDP pc growth rate",
          "Fem Econo Rate",
          "Fem Econo 1990",
          "Fem Econo 2004",
          "Health Exp",
          "Babies",
          "Internet 1990",
          "Import 1990",
          "Import 2004",
          "Tertiary female ratio",
          "Babies immunized",
          "Manufactured Exp 2004",
          "Foreign invest 2004",
          "Military 2004",
          "Public Health 2003",
          "Private Health 2003",
          "Primary export 2004",
          "Public Health",
          "Refugees asylum",
          "Refugees origin",
          "Armed forces",
          "Parliament Women",
          "Female Male income",
          "House women 2006",
          "Pop 1975",
          "Pop 2004",
          "Pop 2015",
          "Tuberculosis detected",
          "Tuberculosis cured 2004",
          "Trad fuel",
          "ODA pc donnor 2004",
          "ODA to least dev 1990",
          "ODA to least dev 2004",
          "ODA received",
          "ODA received pc"
         ],
         "yaxis": "y2"
        }
       ],
       "layout": {
        "font": {
         "size": 15
        },
        "height": 1000,
        "template": {
         "data": {
          "bar": [
           {
            "error_x": {
             "color": "rgb(36,36,36)"
            },
            "error_y": {
             "color": "rgb(36,36,36)"
            },
            "marker": {
             "line": {
              "color": "white",
              "width": 0.5
             },
             "pattern": {
              "fillmode": "overlay",
              "size": 10,
              "solidity": 0.2
             }
            },
            "type": "bar"
           }
          ],
          "barpolar": [
           {
            "marker": {
             "line": {
              "color": "white",
              "width": 0.5
             },
             "pattern": {
              "fillmode": "overlay",
              "size": 10,
              "solidity": 0.2
             }
            },
            "type": "barpolar"
           }
          ],
          "carpet": [
           {
            "aaxis": {
             "endlinecolor": "rgb(36,36,36)",
             "gridcolor": "white",
             "linecolor": "white",
             "minorgridcolor": "white",
             "startlinecolor": "rgb(36,36,36)"
            },
            "baxis": {
             "endlinecolor": "rgb(36,36,36)",
             "gridcolor": "white",
             "linecolor": "white",
             "minorgridcolor": "white",
             "startlinecolor": "rgb(36,36,36)"
            },
            "type": "carpet"
           }
          ],
          "choropleth": [
           {
            "colorbar": {
             "outlinewidth": 1,
             "tickcolor": "rgb(36,36,36)",
             "ticks": "outside"
            },
            "type": "choropleth"
           }
          ],
          "contour": [
           {
            "colorbar": {
             "outlinewidth": 1,
             "tickcolor": "rgb(36,36,36)",
             "ticks": "outside"
            },
            "colorscale": [
             [
              0,
              "#440154"
             ],
             [
              0.1111111111111111,
              "#482878"
             ],
             [
              0.2222222222222222,
              "#3e4989"
             ],
             [
              0.3333333333333333,
              "#31688e"
             ],
             [
              0.4444444444444444,
              "#26828e"
             ],
             [
              0.5555555555555556,
              "#1f9e89"
             ],
             [
              0.6666666666666666,
              "#35b779"
             ],
             [
              0.7777777777777778,
              "#6ece58"
             ],
             [
              0.8888888888888888,
              "#b5de2b"
             ],
             [
              1,
              "#fde725"
             ]
            ],
            "type": "contour"
           }
          ],
          "contourcarpet": [
           {
            "colorbar": {
             "outlinewidth": 1,
             "tickcolor": "rgb(36,36,36)",
             "ticks": "outside"
            },
            "type": "contourcarpet"
           }
          ],
          "heatmap": [
           {
            "colorbar": {
             "outlinewidth": 1,
             "tickcolor": "rgb(36,36,36)",
             "ticks": "outside"
            },
            "colorscale": [
             [
              0,
              "#440154"
             ],
             [
              0.1111111111111111,
              "#482878"
             ],
             [
              0.2222222222222222,
              "#3e4989"
             ],
             [
              0.3333333333333333,
              "#31688e"
             ],
             [
              0.4444444444444444,
              "#26828e"
             ],
             [
              0.5555555555555556,
              "#1f9e89"
             ],
             [
              0.6666666666666666,
              "#35b779"
             ],
             [
              0.7777777777777778,
              "#6ece58"
             ],
             [
              0.8888888888888888,
              "#b5de2b"
             ],
             [
              1,
              "#fde725"
             ]
            ],
            "type": "heatmap"
           }
          ],
          "heatmapgl": [
           {
            "colorbar": {
             "outlinewidth": 1,
             "tickcolor": "rgb(36,36,36)",
             "ticks": "outside"
            },
            "colorscale": [
             [
              0,
              "#440154"
             ],
             [
              0.1111111111111111,
              "#482878"
             ],
             [
              0.2222222222222222,
              "#3e4989"
             ],
             [
              0.3333333333333333,
              "#31688e"
             ],
             [
              0.4444444444444444,
              "#26828e"
             ],
             [
              0.5555555555555556,
              "#1f9e89"
             ],
             [
              0.6666666666666666,
              "#35b779"
             ],
             [
              0.7777777777777778,
              "#6ece58"
             ],
             [
              0.8888888888888888,
              "#b5de2b"
             ],
             [
              1,
              "#fde725"
             ]
            ],
            "type": "heatmapgl"
           }
          ],
          "histogram": [
           {
            "marker": {
             "line": {
              "color": "white",
              "width": 0.6
             }
            },
            "type": "histogram"
           }
          ],
          "histogram2d": [
           {
            "colorbar": {
             "outlinewidth": 1,
             "tickcolor": "rgb(36,36,36)",
             "ticks": "outside"
            },
            "colorscale": [
             [
              0,
              "#440154"
             ],
             [
              0.1111111111111111,
              "#482878"
             ],
             [
              0.2222222222222222,
              "#3e4989"
             ],
             [
              0.3333333333333333,
              "#31688e"
             ],
             [
              0.4444444444444444,
              "#26828e"
             ],
             [
              0.5555555555555556,
              "#1f9e89"
             ],
             [
              0.6666666666666666,
              "#35b779"
             ],
             [
              0.7777777777777778,
              "#6ece58"
             ],
             [
              0.8888888888888888,
              "#b5de2b"
             ],
             [
              1,
              "#fde725"
             ]
            ],
            "type": "histogram2d"
           }
          ],
          "histogram2dcontour": [
           {
            "colorbar": {
             "outlinewidth": 1,
             "tickcolor": "rgb(36,36,36)",
             "ticks": "outside"
            },
            "colorscale": [
             [
              0,
              "#440154"
             ],
             [
              0.1111111111111111,
              "#482878"
             ],
             [
              0.2222222222222222,
              "#3e4989"
             ],
             [
              0.3333333333333333,
              "#31688e"
             ],
             [
              0.4444444444444444,
              "#26828e"
             ],
             [
              0.5555555555555556,
              "#1f9e89"
             ],
             [
              0.6666666666666666,
              "#35b779"
             ],
             [
              0.7777777777777778,
              "#6ece58"
             ],
             [
              0.8888888888888888,
              "#b5de2b"
             ],
             [
              1,
              "#fde725"
             ]
            ],
            "type": "histogram2dcontour"
           }
          ],
          "mesh3d": [
           {
            "colorbar": {
             "outlinewidth": 1,
             "tickcolor": "rgb(36,36,36)",
             "ticks": "outside"
            },
            "type": "mesh3d"
           }
          ],
          "parcoords": [
           {
            "line": {
             "colorbar": {
              "outlinewidth": 1,
              "tickcolor": "rgb(36,36,36)",
              "ticks": "outside"
             }
            },
            "type": "parcoords"
           }
          ],
          "pie": [
           {
            "automargin": true,
            "type": "pie"
           }
          ],
          "scatter": [
           {
            "fillpattern": {
             "fillmode": "overlay",
             "size": 10,
             "solidity": 0.2
            },
            "type": "scatter"
           }
          ],
          "scatter3d": [
           {
            "line": {
             "colorbar": {
              "outlinewidth": 1,
              "tickcolor": "rgb(36,36,36)",
              "ticks": "outside"
             }
            },
            "marker": {
             "colorbar": {
              "outlinewidth": 1,
              "tickcolor": "rgb(36,36,36)",
              "ticks": "outside"
             }
            },
            "type": "scatter3d"
           }
          ],
          "scattercarpet": [
           {
            "marker": {
             "colorbar": {
              "outlinewidth": 1,
              "tickcolor": "rgb(36,36,36)",
              "ticks": "outside"
             }
            },
            "type": "scattercarpet"
           }
          ],
          "scattergeo": [
           {
            "marker": {
             "colorbar": {
              "outlinewidth": 1,
              "tickcolor": "rgb(36,36,36)",
              "ticks": "outside"
             }
            },
            "type": "scattergeo"
           }
          ],
          "scattergl": [
           {
            "marker": {
             "colorbar": {
              "outlinewidth": 1,
              "tickcolor": "rgb(36,36,36)",
              "ticks": "outside"
             }
            },
            "type": "scattergl"
           }
          ],
          "scattermapbox": [
           {
            "marker": {
             "colorbar": {
              "outlinewidth": 1,
              "tickcolor": "rgb(36,36,36)",
              "ticks": "outside"
             }
            },
            "type": "scattermapbox"
           }
          ],
          "scatterpolar": [
           {
            "marker": {
             "colorbar": {
              "outlinewidth": 1,
              "tickcolor": "rgb(36,36,36)",
              "ticks": "outside"
             }
            },
            "type": "scatterpolar"
           }
          ],
          "scatterpolargl": [
           {
            "marker": {
             "colorbar": {
              "outlinewidth": 1,
              "tickcolor": "rgb(36,36,36)",
              "ticks": "outside"
             }
            },
            "type": "scatterpolargl"
           }
          ],
          "scatterternary": [
           {
            "marker": {
             "colorbar": {
              "outlinewidth": 1,
              "tickcolor": "rgb(36,36,36)",
              "ticks": "outside"
             }
            },
            "type": "scatterternary"
           }
          ],
          "surface": [
           {
            "colorbar": {
             "outlinewidth": 1,
             "tickcolor": "rgb(36,36,36)",
             "ticks": "outside"
            },
            "colorscale": [
             [
              0,
              "#440154"
             ],
             [
              0.1111111111111111,
              "#482878"
             ],
             [
              0.2222222222222222,
              "#3e4989"
             ],
             [
              0.3333333333333333,
              "#31688e"
             ],
             [
              0.4444444444444444,
              "#26828e"
             ],
             [
              0.5555555555555556,
              "#1f9e89"
             ],
             [
              0.6666666666666666,
              "#35b779"
             ],
             [
              0.7777777777777778,
              "#6ece58"
             ],
             [
              0.8888888888888888,
              "#b5de2b"
             ],
             [
              1,
              "#fde725"
             ]
            ],
            "type": "surface"
           }
          ],
          "table": [
           {
            "cells": {
             "fill": {
              "color": "rgb(237,237,237)"
             },
             "line": {
              "color": "white"
             }
            },
            "header": {
             "fill": {
              "color": "rgb(217,217,217)"
             },
             "line": {
              "color": "white"
             }
            },
            "type": "table"
           }
          ]
         },
         "layout": {
          "annotationdefaults": {
           "arrowhead": 0,
           "arrowwidth": 1
          },
          "autotypenumbers": "strict",
          "coloraxis": {
           "colorbar": {
            "outlinewidth": 1,
            "tickcolor": "rgb(36,36,36)",
            "ticks": "outside"
           }
          },
          "colorscale": {
           "diverging": [
            [
             0,
             "rgb(103,0,31)"
            ],
            [
             0.1,
             "rgb(178,24,43)"
            ],
            [
             0.2,
             "rgb(214,96,77)"
            ],
            [
             0.3,
             "rgb(244,165,130)"
            ],
            [
             0.4,
             "rgb(253,219,199)"
            ],
            [
             0.5,
             "rgb(247,247,247)"
            ],
            [
             0.6,
             "rgb(209,229,240)"
            ],
            [
             0.7,
             "rgb(146,197,222)"
            ],
            [
             0.8,
             "rgb(67,147,195)"
            ],
            [
             0.9,
             "rgb(33,102,172)"
            ],
            [
             1,
             "rgb(5,48,97)"
            ]
           ],
           "sequential": [
            [
             0,
             "#440154"
            ],
            [
             0.1111111111111111,
             "#482878"
            ],
            [
             0.2222222222222222,
             "#3e4989"
            ],
            [
             0.3333333333333333,
             "#31688e"
            ],
            [
             0.4444444444444444,
             "#26828e"
            ],
            [
             0.5555555555555556,
             "#1f9e89"
            ],
            [
             0.6666666666666666,
             "#35b779"
            ],
            [
             0.7777777777777778,
             "#6ece58"
            ],
            [
             0.8888888888888888,
             "#b5de2b"
            ],
            [
             1,
             "#fde725"
            ]
           ],
           "sequentialminus": [
            [
             0,
             "#440154"
            ],
            [
             0.1111111111111111,
             "#482878"
            ],
            [
             0.2222222222222222,
             "#3e4989"
            ],
            [
             0.3333333333333333,
             "#31688e"
            ],
            [
             0.4444444444444444,
             "#26828e"
            ],
            [
             0.5555555555555556,
             "#1f9e89"
            ],
            [
             0.6666666666666666,
             "#35b779"
            ],
            [
             0.7777777777777778,
             "#6ece58"
            ],
            [
             0.8888888888888888,
             "#b5de2b"
            ],
            [
             1,
             "#fde725"
            ]
           ]
          },
          "colorway": [
           "#1F77B4",
           "#FF7F0E",
           "#2CA02C",
           "#D62728",
           "#9467BD",
           "#8C564B",
           "#E377C2",
           "#7F7F7F",
           "#BCBD22",
           "#17BECF"
          ],
          "font": {
           "color": "rgb(36,36,36)"
          },
          "geo": {
           "bgcolor": "white",
           "lakecolor": "white",
           "landcolor": "white",
           "showlakes": true,
           "showland": true,
           "subunitcolor": "white"
          },
          "hoverlabel": {
           "align": "left"
          },
          "hovermode": "closest",
          "mapbox": {
           "style": "light"
          },
          "paper_bgcolor": "white",
          "plot_bgcolor": "white",
          "polar": {
           "angularaxis": {
            "gridcolor": "rgb(232,232,232)",
            "linecolor": "rgb(36,36,36)",
            "showgrid": false,
            "showline": true,
            "ticks": "outside"
           },
           "bgcolor": "white",
           "radialaxis": {
            "gridcolor": "rgb(232,232,232)",
            "linecolor": "rgb(36,36,36)",
            "showgrid": false,
            "showline": true,
            "ticks": "outside"
           }
          },
          "scene": {
           "xaxis": {
            "backgroundcolor": "white",
            "gridcolor": "rgb(232,232,232)",
            "gridwidth": 2,
            "linecolor": "rgb(36,36,36)",
            "showbackground": true,
            "showgrid": false,
            "showline": true,
            "ticks": "outside",
            "zeroline": false,
            "zerolinecolor": "rgb(36,36,36)"
           },
           "yaxis": {
            "backgroundcolor": "white",
            "gridcolor": "rgb(232,232,232)",
            "gridwidth": 2,
            "linecolor": "rgb(36,36,36)",
            "showbackground": true,
            "showgrid": false,
            "showline": true,
            "ticks": "outside",
            "zeroline": false,
            "zerolinecolor": "rgb(36,36,36)"
           },
           "zaxis": {
            "backgroundcolor": "white",
            "gridcolor": "rgb(232,232,232)",
            "gridwidth": 2,
            "linecolor": "rgb(36,36,36)",
            "showbackground": true,
            "showgrid": false,
            "showline": true,
            "ticks": "outside",
            "zeroline": false,
            "zerolinecolor": "rgb(36,36,36)"
           }
          },
          "shapedefaults": {
           "fillcolor": "black",
           "line": {
            "width": 0
           },
           "opacity": 0.3
          },
          "ternary": {
           "aaxis": {
            "gridcolor": "rgb(232,232,232)",
            "linecolor": "rgb(36,36,36)",
            "showgrid": false,
            "showline": true,
            "ticks": "outside"
           },
           "baxis": {
            "gridcolor": "rgb(232,232,232)",
            "linecolor": "rgb(36,36,36)",
            "showgrid": false,
            "showline": true,
            "ticks": "outside"
           },
           "bgcolor": "white",
           "caxis": {
            "gridcolor": "rgb(232,232,232)",
            "linecolor": "rgb(36,36,36)",
            "showgrid": false,
            "showline": true,
            "ticks": "outside"
           }
          },
          "title": {
           "x": 0.05
          },
          "xaxis": {
           "automargin": true,
           "gridcolor": "rgb(232,232,232)",
           "linecolor": "rgb(36,36,36)",
           "showgrid": false,
           "showline": true,
           "ticks": "outside",
           "title": {
            "standoff": 15
           },
           "zeroline": false,
           "zerolinecolor": "rgb(36,36,36)"
          },
          "yaxis": {
           "automargin": true,
           "gridcolor": "rgb(232,232,232)",
           "linecolor": "rgb(36,36,36)",
           "showgrid": false,
           "showline": true,
           "ticks": "outside",
           "title": {
            "standoff": 15
           },
           "zeroline": false,
           "zerolinecolor": "rgb(36,36,36)"
          }
         }
        },
        "width": 900,
        "xaxis": {
         "anchor": "y",
         "domain": [
          0,
          0.33999999999999997
         ],
         "linecolor": "black",
         "linewidth": 2,
         "mirror": true,
         "showgrid": false,
         "showline": true,
         "ticks": "outside",
         "zerolinecolor": "grey",
         "zerolinewidth": 1
        },
        "xaxis2": {
         "anchor": "y2",
         "domain": [
          0.6599999999999999,
          0.9999999999999999
         ],
         "linecolor": "black",
         "linewidth": 2,
         "mirror": true,
         "showgrid": false,
         "showline": true,
         "ticks": "outside",
         "zerolinecolor": "grey",
         "zerolinewidth": 1
        },
        "yaxis": {
         "anchor": "x",
         "categoryorder": "total ascending",
         "domain": [
          0,
          1
         ],
         "linecolor": "black",
         "linewidth": 2,
         "mirror": true,
         "showline": true
        },
        "yaxis2": {
         "anchor": "x2",
         "categoryorder": "total ascending",
         "domain": [
          0,
          1
         ],
         "linecolor": "black",
         "linewidth": 2,
         "mirror": true,
         "showline": true
        }
       }
      }
     },
     "metadata": {},
     "output_type": "display_data"
    }
   ],
   "source": [
    "explainer.plot_instance_explanation(instance_id)"
   ]
  },
  {
   "cell_type": "markdown",
   "metadata": {},
   "source": [
    "##### PLOT SCOPE OF EXPLANATION AROUND INSTANCE"
   ]
  },
  {
   "cell_type": "code",
   "execution_count": 7,
   "metadata": {},
   "outputs": [
    {
     "data": {
      "application/vnd.plotly.v1+json": {
       "config": {
        "plotlyServerURL": "https://plot.ly"
       },
       "data": [
        {
         "marker": {
          "color": "black",
          "size": 7
         },
         "mode": "markers",
         "showlegend": false,
         "type": "scatter",
         "x": [
          -38.87454953803157,
          -35.905313603849955,
          -33.57934605345161,
          -34.35780949853687,
          -36.92953991821367,
          -31.269882146591538,
          -25.604256771769435,
          -23.301394152250907,
          -37.87554489141438,
          -35.82951839585211,
          -35.9462803941838,
          -36.45802713377117,
          -35.01923541646399,
          -32.9284652185541,
          -35.59056984886919,
          -27.147592598187924,
          -28.350974622242536,
          -26.96599630563207,
          -29.692809368709575,
          -30.068363115668557,
          -24.874394030886343,
          -2.469578410869182,
          -2.729049300879983,
          -0.2730980253903988,
          0.7279996107376382,
          -13.943759266132252,
          -29.762841206040946,
          0.4998385110791165,
          -12.352575386844892,
          -14.829930219860579,
          12.332510289349415,
          -10.487494444114493,
          5.68838143853691,
          -19.176049451450343,
          13.80673941508967,
          8.202287235156287,
          -13.984279600843177,
          -11.634515700649834,
          -12.758322269237297,
          7.30511803190554,
          -10.715550981805828,
          -11.920885285766479,
          13.309163445061756,
          11.625793420211469,
          10.78321933563621,
          -14.107064446745971,
          -2.373384678772237,
          7.797947510180492,
          17.24902689483527,
          -18.733811706816756,
          0.3184652594520961,
          1.4573176602426479,
          -20.52678496116204,
          -10.365247208109448,
          -7.174298730789052,
          10.994774022685709,
          10.199113291426158,
          4.021722923308313,
          -16.09267922785612,
          -5.571987500570479,
          16.262552623100976,
          -17.628026413807767,
          17.568338151226516,
          -6.646241362066231,
          -14.542061376126455,
          9.703249214476442,
          4.855855846882184,
          3.3599612287560943,
          14.596983741866534,
          18.766926458109722,
          14.72042687953594,
          2.252286081910392,
          -2.0263281581301245,
          21.749050197202624,
          21.25622470501854,
          10.228093845196295,
          8.63491809892865,
          19.797642376987312,
          -12.819191603999045,
          -7.818032100082717,
          10.978377560349934,
          15.398252965408727,
          -1.1105402065875718,
          -11.230470164619993,
          2.9972888628093144,
          16.507403031358546,
          12.41276007189194,
          -8.883455064544272,
          -9.92197346517957,
          19.39262458126039,
          3.9359380062932487,
          -13.59560746965413,
          13.059312769866466,
          -9.369779114260687,
          4.4369218761679186,
          16.535555404988248,
          7.867808966231853,
          17.874056748751645,
          24.38657214007602,
          4.450380708247004,
          10.209472694340704,
          6.331380118798199,
          11.950866257837854,
          12.003775270586708,
          21.84899132275002,
          13.432979304723633,
          17.794847977562675,
          16.633295801004948,
          23.663203171268776,
          23.69838327057461,
          9.89804325977691,
          24.40210353611728,
          9.536615945078147,
          14.949675246190331,
          16.087513743908165,
          -0.051282913883280795,
          20.98337099530101,
          13.555717258326112,
          26.3563399690124,
          13.854698930647215,
          11.754387634401363,
          22.297095901703212,
          11.474180393539411,
          -4.756163356784036,
          8.465078531033615,
          17.667206795280148,
          23.134732934419564,
          13.905142734512504,
          10.037624900107831,
          11.349429745770216,
          12.884183740867432,
          11.892185814624987,
          19.08839205172512,
          20.830404641986124,
          16.237294550931402,
          17.55065289141644,
          17.885093359516343,
          15.002661670129267
         ],
         "y": [
          9.226808648130522,
          6.245797519646558,
          7.928316236184327,
          17.039053865486082,
          9.317839978063343,
          7.217207392533315,
          12.69059816297715,
          12.40187003727448,
          12.458056341408378,
          13.61278461185534,
          8.560145248570329,
          17.447200274803553,
          15.022046672792813,
          14.160218196849636,
          11.51428405290481,
          14.268932457830683,
          13.345650811834462,
          15.217224262982022,
          11.744057416114957,
          6.946687016250702,
          16.454636027811745,
          -5.566915766612388,
          -2.709532644420216,
          -10.211374590904787,
          -7.94371680318568,
          -29.723619825827498,
          16.155946125757715,
          -11.963713286457567,
          -27.575715209559167,
          -31.333890162900982,
          -21.558269613035606,
          -28.977140495870067,
          2.231904610845066,
          -20.856899600819023,
          -13.403394645845045,
          -18.54789914273427,
          -24.952175619825816,
          -22.563810361361178,
          -26.489640382218454,
          -2.999761394721268,
          -26.20595245632181,
          -21.46977514782438,
          -6.570789396096234,
          -22.254498651996858,
          -0.06646525750398749,
          -21.918938525547595,
          -10.468462457521166,
          -8.654218754838459,
          -18.470789795537208,
          -19.722610380094086,
          -17.320438839720875,
          -14.88997306312686,
          -17.966720471334146,
          -24.212816419553803,
          -25.411271680260676,
          3.079788658043152,
          7.340495930927096,
          5.668186455481582,
          -12.7694456215657,
          -13.443924804736803,
          -17.71291635441144,
          -18.245981185847327,
          -6.142638178772002,
          -11.854434493369652,
          -13.328265427153905,
          -34.85710407682664,
          4.550594111562723,
          6.715725815060813,
          1.7820010880053343,
          -7.668167134536726,
          -5.206599394149656,
          -13.453195372472678,
          7.302466183508385,
          1.0987686396804999,
          -1.0669863048935846,
          -3.8785750236682355,
          -7.37528546839939,
          -13.476217047890575,
          -14.59300570980641,
          -9.506083351852432,
          -2.078135134666214,
          -13.734883529932723,
          -20.777347934644208,
          -19.593071228555715,
          13.37279237546833,
          -15.21611441380224,
          1.7742644163876464,
          -7.7773859350317744,
          -13.772710994161795,
          -3.4254061858456986,
          12.051283420121585,
          -18.579324759247314,
          15.874447158657734,
          -14.167303519700727,
          9.186648045306951,
          -0.384099971329448,
          0.6761318135202325,
          -4.321509921243022,
          20.712818543837518,
          -13.094378003671062,
          -34.38303510748664,
          22.499227026463085,
          -13.289193426887802,
          12.186135240245614,
          -12.722880532353843,
          27.67411419336921,
          3.6483814781731305,
          1.136041960154802,
          22.046757470477274,
          -0.47126849157194395,
          29.32191371792513,
          12.858407393127084,
          20.671504405194632,
          25.050045025657088,
          15.644927543234367,
          -19.302202881909356,
          15.049236453076011,
          21.408488493343807,
          13.335623120311547,
          12.471786296555837,
          32.86421151351249,
          11.111938090335368,
          22.072540059462273,
          -26.080766219865787,
          30.295145346681167,
          16.228329996834056,
          12.553345346662988,
          18.008364348362704,
          22.29858367684897,
          31.559603614042043,
          34.58807531487912,
          28.90128069654135,
          22.275177504913405,
          25.474174710765325,
          21.34226444815942,
          21.541896940927646,
          12.31772866223561,
          19.902105272887855
         ]
        },
        {
         "marker": {
          "color": "crimson",
          "size": 12
         },
         "showlegend": false,
         "type": "scatter",
         "x": [
          -32.9284652185541
         ],
         "y": [
          14.160218196849636
         ]
        },
        {
         "type": "contour",
         "x": [
          -38.87454953803157,
          -35.905313603849955,
          -33.57934605345161,
          -34.35780949853687,
          -36.92953991821367,
          -31.269882146591538,
          -25.604256771769435,
          -23.301394152250907,
          -37.87554489141438,
          -35.82951839585211,
          -35.9462803941838,
          -36.45802713377117,
          -35.01923541646399,
          -32.9284652185541,
          -35.59056984886919,
          -27.147592598187924,
          -28.350974622242536,
          -26.96599630563207,
          -29.692809368709575,
          -30.068363115668557,
          -24.874394030886343,
          -2.469578410869182,
          -2.729049300879983,
          -0.2730980253903988,
          0.7279996107376382,
          -13.943759266132252,
          -29.762841206040946,
          0.4998385110791165,
          -12.352575386844892,
          -14.829930219860579,
          12.332510289349415,
          -10.487494444114493,
          5.68838143853691,
          -19.176049451450343,
          13.80673941508967,
          8.202287235156287,
          -13.984279600843177,
          -11.634515700649834,
          -12.758322269237297,
          7.30511803190554,
          -10.715550981805828,
          -11.920885285766479,
          13.309163445061756,
          11.625793420211469,
          10.78321933563621,
          -14.107064446745971,
          -2.373384678772237,
          7.797947510180492,
          17.24902689483527,
          -18.733811706816756,
          0.3184652594520961,
          1.4573176602426479,
          -20.52678496116204,
          -10.365247208109448,
          -7.174298730789052,
          10.994774022685709,
          10.199113291426158,
          4.021722923308313,
          -16.09267922785612,
          -5.571987500570479,
          16.262552623100976,
          -17.628026413807767,
          17.568338151226516,
          -6.646241362066231,
          -14.542061376126455,
          9.703249214476442,
          4.855855846882184,
          3.3599612287560943,
          14.596983741866534,
          18.766926458109722,
          14.72042687953594,
          2.252286081910392,
          -2.0263281581301245,
          21.749050197202624,
          21.25622470501854,
          10.228093845196295,
          8.63491809892865,
          19.797642376987312,
          -12.819191603999045,
          -7.818032100082717,
          10.978377560349934,
          15.398252965408727,
          -1.1105402065875718,
          -11.230470164619993,
          2.9972888628093144,
          16.507403031358546,
          12.41276007189194,
          -8.883455064544272,
          -9.92197346517957,
          19.39262458126039,
          3.9359380062932487,
          -13.59560746965413,
          13.059312769866466,
          -9.369779114260687,
          4.4369218761679186,
          16.535555404988248,
          7.867808966231853,
          17.874056748751645,
          24.38657214007602,
          4.450380708247004,
          10.209472694340704,
          6.331380118798199,
          11.950866257837854,
          12.003775270586708,
          21.84899132275002,
          13.432979304723633,
          17.794847977562675,
          16.633295801004948,
          23.663203171268776,
          23.69838327057461,
          9.89804325977691,
          24.40210353611728,
          9.536615945078147,
          14.949675246190331,
          16.087513743908165,
          -0.051282913883280795,
          20.98337099530101,
          13.555717258326112,
          26.3563399690124,
          13.854698930647215,
          11.754387634401363,
          22.297095901703212,
          11.474180393539411,
          -4.756163356784036,
          8.465078531033615,
          17.667206795280148,
          23.134732934419564,
          13.905142734512504,
          10.037624900107831,
          11.349429745770216,
          12.884183740867432,
          11.892185814624987,
          19.08839205172512,
          20.830404641986124,
          16.237294550931402,
          17.55065289141644,
          17.885093359516343,
          15.002661670129267
         ],
         "y": [
          9.226808648130522,
          6.245797519646558,
          7.928316236184327,
          17.039053865486082,
          9.317839978063343,
          7.217207392533315,
          12.69059816297715,
          12.40187003727448,
          12.458056341408378,
          13.61278461185534,
          8.560145248570329,
          17.447200274803553,
          15.022046672792813,
          14.160218196849636,
          11.51428405290481,
          14.268932457830683,
          13.345650811834462,
          15.217224262982022,
          11.744057416114957,
          6.946687016250702,
          16.454636027811745,
          -5.566915766612388,
          -2.709532644420216,
          -10.211374590904787,
          -7.94371680318568,
          -29.723619825827498,
          16.155946125757715,
          -11.963713286457567,
          -27.575715209559167,
          -31.333890162900982,
          -21.558269613035606,
          -28.977140495870067,
          2.231904610845066,
          -20.856899600819023,
          -13.403394645845045,
          -18.54789914273427,
          -24.952175619825816,
          -22.563810361361178,
          -26.489640382218454,
          -2.999761394721268,
          -26.20595245632181,
          -21.46977514782438,
          -6.570789396096234,
          -22.254498651996858,
          -0.06646525750398749,
          -21.918938525547595,
          -10.468462457521166,
          -8.654218754838459,
          -18.470789795537208,
          -19.722610380094086,
          -17.320438839720875,
          -14.88997306312686,
          -17.966720471334146,
          -24.212816419553803,
          -25.411271680260676,
          3.079788658043152,
          7.340495930927096,
          5.668186455481582,
          -12.7694456215657,
          -13.443924804736803,
          -17.71291635441144,
          -18.245981185847327,
          -6.142638178772002,
          -11.854434493369652,
          -13.328265427153905,
          -34.85710407682664,
          4.550594111562723,
          6.715725815060813,
          1.7820010880053343,
          -7.668167134536726,
          -5.206599394149656,
          -13.453195372472678,
          7.302466183508385,
          1.0987686396804999,
          -1.0669863048935846,
          -3.8785750236682355,
          -7.37528546839939,
          -13.476217047890575,
          -14.59300570980641,
          -9.506083351852432,
          -2.078135134666214,
          -13.734883529932723,
          -20.777347934644208,
          -19.593071228555715,
          13.37279237546833,
          -15.21611441380224,
          1.7742644163876464,
          -7.7773859350317744,
          -13.772710994161795,
          -3.4254061858456986,
          12.051283420121585,
          -18.579324759247314,
          15.874447158657734,
          -14.167303519700727,
          9.186648045306951,
          -0.384099971329448,
          0.6761318135202325,
          -4.321509921243022,
          20.712818543837518,
          -13.094378003671062,
          -34.38303510748664,
          22.499227026463085,
          -13.289193426887802,
          12.186135240245614,
          -12.722880532353843,
          27.67411419336921,
          3.6483814781731305,
          1.136041960154802,
          22.046757470477274,
          -0.47126849157194395,
          29.32191371792513,
          12.858407393127084,
          20.671504405194632,
          25.050045025657088,
          15.644927543234367,
          -19.302202881909356,
          15.049236453076011,
          21.408488493343807,
          13.335623120311547,
          12.471786296555837,
          32.86421151351249,
          11.111938090335368,
          22.072540059462273,
          -26.080766219865787,
          30.295145346681167,
          16.228329996834056,
          12.553345346662988,
          18.008364348362704,
          22.29858367684897,
          31.559603614042043,
          34.58807531487912,
          28.90128069654135,
          22.275177504913405,
          25.474174710765325,
          21.34226444815942,
          21.541896940927646,
          12.31772866223561,
          19.902105272887855
         ],
         "z": [
          0.16944684415612063,
          0.2773084955693609,
          0.29351245854054764,
          0.13252825969627144,
          0.5294038260566186,
          0.3059893484598914,
          0.2630072699878793,
          0.19120627347113658,
          0.19613181281449465,
          0.6258136050389392,
          0.4131464090801684,
          0.05280489583243816,
          0.7367086215168382,
          1,
          0.6174118025433896,
          0.5047248108704984,
          0.5988618734142966,
          0.4578398075431592,
          0.49263468788408765,
          0.2754278115615048,
          0.40408589969362574,
          0.1657932765714027,
          0.06932916977942088,
          0.030798181075965245,
          0.251798424206055,
          0.3920224781351241,
          0.6820007137649495,
          0.17069131476026303,
          0.36998526436139284,
          0.04761294432936449,
          0.32523484942540454,
          0.17589612889990108,
          0.12289125169531424,
          0.37951454412555513,
          0.22893733191551202,
          0.09943268362969,
          0.05573545038272798,
          0.07652363062606847,
          0.18483575910771077,
          0.10486896001358674,
          0.10013601886740679,
          0.11846050815798971,
          0.022075529448550138,
          0.3213989659796075,
          0.13247639354150276,
          0.1653146631234875,
          0.24570420118558794,
          0.2675060128626162,
          0.1064711326800085,
          0.25469313818070943,
          0.026267441351653327,
          0.2803215071285625,
          0.12224621574546343,
          0.02757871722397013,
          0.003161174052913773,
          0.14792808223195647,
          0.07294063039343601,
          0.008217956121612212,
          0.09496993730200166,
          0.22422394306398055,
          0.21770368435491938,
          0.3128881939030631,
          0.21517099674198206,
          0.24284476898964616,
          0.0884512280687817,
          0.1940051040762029,
          0.13248061854074894,
          0.00724355376873607,
          0.015337322799535511,
          0.005167895014068679,
          0.2506703051036478,
          0.17790856129621294,
          0.059999579921390246,
          0.16296351678324514,
          0.07741510493323356,
          0.35896424558239026,
          0.24726045655795456,
          0.03152235551388707,
          0.050653222293201565,
          0.011498180476050134,
          0.40303159618483847,
          0.0019139790772372642,
          0.004370688052622368,
          0.07716300261051307,
          0.18336234189994438,
          0.02515561934527069,
          0.1643246599134974,
          0.09908706911709808,
          0.21735737990109805,
          0.059302001227109075,
          0.15005819707686582,
          0.10918637424886687,
          0.12407982725936643,
          0.2817607125460793,
          0.10724116941061974,
          0.15069843406772265,
          0.2805130659309491,
          0.30155459237274485,
          0.3607092807015171,
          0.06268632273358628,
          0.17420443700153618,
          0.0493989916107489,
          0.24844680583172143,
          0.05322117887948898,
          0.047267463420098445,
          0.07356449433475361,
          0.2305658129885517,
          0.11706798265757999,
          0.33365391778824854,
          0.14093812904610703,
          0.10897826029774987,
          0.3277148700702989,
          0.11047875856048035,
          0.04544475658560266,
          0.2484368967087803,
          0.3360778382296997,
          0.2708482679381301,
          0.1900078358323334,
          0.3490420952789945,
          0.18130146213948017,
          0.15282227914326177,
          0.23439100494972268,
          0.19825040265647612,
          0.3112643058311185,
          0.10036608622213275,
          0.061120112957182476,
          0.2771625977703837,
          0.21697679607403017,
          0.05850605531346585,
          0.06114754233533435,
          0.11184570770607494,
          0.24901184376718966,
          0.2852627568572937,
          0.29562014038640483,
          0.2703940243466718,
          0.18132755860802122,
          0.020135378377092807,
          0.16118526370584307
         ]
        }
       ],
       "layout": {
        "autosize": false,
        "font": {
         "size": 20
        },
        "height": 800,
        "template": {
         "data": {
          "bar": [
           {
            "error_x": {
             "color": "rgb(36,36,36)"
            },
            "error_y": {
             "color": "rgb(36,36,36)"
            },
            "marker": {
             "line": {
              "color": "white",
              "width": 0.5
             },
             "pattern": {
              "fillmode": "overlay",
              "size": 10,
              "solidity": 0.2
             }
            },
            "type": "bar"
           }
          ],
          "barpolar": [
           {
            "marker": {
             "line": {
              "color": "white",
              "width": 0.5
             },
             "pattern": {
              "fillmode": "overlay",
              "size": 10,
              "solidity": 0.2
             }
            },
            "type": "barpolar"
           }
          ],
          "carpet": [
           {
            "aaxis": {
             "endlinecolor": "rgb(36,36,36)",
             "gridcolor": "white",
             "linecolor": "white",
             "minorgridcolor": "white",
             "startlinecolor": "rgb(36,36,36)"
            },
            "baxis": {
             "endlinecolor": "rgb(36,36,36)",
             "gridcolor": "white",
             "linecolor": "white",
             "minorgridcolor": "white",
             "startlinecolor": "rgb(36,36,36)"
            },
            "type": "carpet"
           }
          ],
          "choropleth": [
           {
            "colorbar": {
             "outlinewidth": 1,
             "tickcolor": "rgb(36,36,36)",
             "ticks": "outside"
            },
            "type": "choropleth"
           }
          ],
          "contour": [
           {
            "colorbar": {
             "outlinewidth": 1,
             "tickcolor": "rgb(36,36,36)",
             "ticks": "outside"
            },
            "colorscale": [
             [
              0,
              "#440154"
             ],
             [
              0.1111111111111111,
              "#482878"
             ],
             [
              0.2222222222222222,
              "#3e4989"
             ],
             [
              0.3333333333333333,
              "#31688e"
             ],
             [
              0.4444444444444444,
              "#26828e"
             ],
             [
              0.5555555555555556,
              "#1f9e89"
             ],
             [
              0.6666666666666666,
              "#35b779"
             ],
             [
              0.7777777777777778,
              "#6ece58"
             ],
             [
              0.8888888888888888,
              "#b5de2b"
             ],
             [
              1,
              "#fde725"
             ]
            ],
            "type": "contour"
           }
          ],
          "contourcarpet": [
           {
            "colorbar": {
             "outlinewidth": 1,
             "tickcolor": "rgb(36,36,36)",
             "ticks": "outside"
            },
            "type": "contourcarpet"
           }
          ],
          "heatmap": [
           {
            "colorbar": {
             "outlinewidth": 1,
             "tickcolor": "rgb(36,36,36)",
             "ticks": "outside"
            },
            "colorscale": [
             [
              0,
              "#440154"
             ],
             [
              0.1111111111111111,
              "#482878"
             ],
             [
              0.2222222222222222,
              "#3e4989"
             ],
             [
              0.3333333333333333,
              "#31688e"
             ],
             [
              0.4444444444444444,
              "#26828e"
             ],
             [
              0.5555555555555556,
              "#1f9e89"
             ],
             [
              0.6666666666666666,
              "#35b779"
             ],
             [
              0.7777777777777778,
              "#6ece58"
             ],
             [
              0.8888888888888888,
              "#b5de2b"
             ],
             [
              1,
              "#fde725"
             ]
            ],
            "type": "heatmap"
           }
          ],
          "heatmapgl": [
           {
            "colorbar": {
             "outlinewidth": 1,
             "tickcolor": "rgb(36,36,36)",
             "ticks": "outside"
            },
            "colorscale": [
             [
              0,
              "#440154"
             ],
             [
              0.1111111111111111,
              "#482878"
             ],
             [
              0.2222222222222222,
              "#3e4989"
             ],
             [
              0.3333333333333333,
              "#31688e"
             ],
             [
              0.4444444444444444,
              "#26828e"
             ],
             [
              0.5555555555555556,
              "#1f9e89"
             ],
             [
              0.6666666666666666,
              "#35b779"
             ],
             [
              0.7777777777777778,
              "#6ece58"
             ],
             [
              0.8888888888888888,
              "#b5de2b"
             ],
             [
              1,
              "#fde725"
             ]
            ],
            "type": "heatmapgl"
           }
          ],
          "histogram": [
           {
            "marker": {
             "line": {
              "color": "white",
              "width": 0.6
             }
            },
            "type": "histogram"
           }
          ],
          "histogram2d": [
           {
            "colorbar": {
             "outlinewidth": 1,
             "tickcolor": "rgb(36,36,36)",
             "ticks": "outside"
            },
            "colorscale": [
             [
              0,
              "#440154"
             ],
             [
              0.1111111111111111,
              "#482878"
             ],
             [
              0.2222222222222222,
              "#3e4989"
             ],
             [
              0.3333333333333333,
              "#31688e"
             ],
             [
              0.4444444444444444,
              "#26828e"
             ],
             [
              0.5555555555555556,
              "#1f9e89"
             ],
             [
              0.6666666666666666,
              "#35b779"
             ],
             [
              0.7777777777777778,
              "#6ece58"
             ],
             [
              0.8888888888888888,
              "#b5de2b"
             ],
             [
              1,
              "#fde725"
             ]
            ],
            "type": "histogram2d"
           }
          ],
          "histogram2dcontour": [
           {
            "colorbar": {
             "outlinewidth": 1,
             "tickcolor": "rgb(36,36,36)",
             "ticks": "outside"
            },
            "colorscale": [
             [
              0,
              "#440154"
             ],
             [
              0.1111111111111111,
              "#482878"
             ],
             [
              0.2222222222222222,
              "#3e4989"
             ],
             [
              0.3333333333333333,
              "#31688e"
             ],
             [
              0.4444444444444444,
              "#26828e"
             ],
             [
              0.5555555555555556,
              "#1f9e89"
             ],
             [
              0.6666666666666666,
              "#35b779"
             ],
             [
              0.7777777777777778,
              "#6ece58"
             ],
             [
              0.8888888888888888,
              "#b5de2b"
             ],
             [
              1,
              "#fde725"
             ]
            ],
            "type": "histogram2dcontour"
           }
          ],
          "mesh3d": [
           {
            "colorbar": {
             "outlinewidth": 1,
             "tickcolor": "rgb(36,36,36)",
             "ticks": "outside"
            },
            "type": "mesh3d"
           }
          ],
          "parcoords": [
           {
            "line": {
             "colorbar": {
              "outlinewidth": 1,
              "tickcolor": "rgb(36,36,36)",
              "ticks": "outside"
             }
            },
            "type": "parcoords"
           }
          ],
          "pie": [
           {
            "automargin": true,
            "type": "pie"
           }
          ],
          "scatter": [
           {
            "fillpattern": {
             "fillmode": "overlay",
             "size": 10,
             "solidity": 0.2
            },
            "type": "scatter"
           }
          ],
          "scatter3d": [
           {
            "line": {
             "colorbar": {
              "outlinewidth": 1,
              "tickcolor": "rgb(36,36,36)",
              "ticks": "outside"
             }
            },
            "marker": {
             "colorbar": {
              "outlinewidth": 1,
              "tickcolor": "rgb(36,36,36)",
              "ticks": "outside"
             }
            },
            "type": "scatter3d"
           }
          ],
          "scattercarpet": [
           {
            "marker": {
             "colorbar": {
              "outlinewidth": 1,
              "tickcolor": "rgb(36,36,36)",
              "ticks": "outside"
             }
            },
            "type": "scattercarpet"
           }
          ],
          "scattergeo": [
           {
            "marker": {
             "colorbar": {
              "outlinewidth": 1,
              "tickcolor": "rgb(36,36,36)",
              "ticks": "outside"
             }
            },
            "type": "scattergeo"
           }
          ],
          "scattergl": [
           {
            "marker": {
             "colorbar": {
              "outlinewidth": 1,
              "tickcolor": "rgb(36,36,36)",
              "ticks": "outside"
             }
            },
            "type": "scattergl"
           }
          ],
          "scattermapbox": [
           {
            "marker": {
             "colorbar": {
              "outlinewidth": 1,
              "tickcolor": "rgb(36,36,36)",
              "ticks": "outside"
             }
            },
            "type": "scattermapbox"
           }
          ],
          "scatterpolar": [
           {
            "marker": {
             "colorbar": {
              "outlinewidth": 1,
              "tickcolor": "rgb(36,36,36)",
              "ticks": "outside"
             }
            },
            "type": "scatterpolar"
           }
          ],
          "scatterpolargl": [
           {
            "marker": {
             "colorbar": {
              "outlinewidth": 1,
              "tickcolor": "rgb(36,36,36)",
              "ticks": "outside"
             }
            },
            "type": "scatterpolargl"
           }
          ],
          "scatterternary": [
           {
            "marker": {
             "colorbar": {
              "outlinewidth": 1,
              "tickcolor": "rgb(36,36,36)",
              "ticks": "outside"
             }
            },
            "type": "scatterternary"
           }
          ],
          "surface": [
           {
            "colorbar": {
             "outlinewidth": 1,
             "tickcolor": "rgb(36,36,36)",
             "ticks": "outside"
            },
            "colorscale": [
             [
              0,
              "#440154"
             ],
             [
              0.1111111111111111,
              "#482878"
             ],
             [
              0.2222222222222222,
              "#3e4989"
             ],
             [
              0.3333333333333333,
              "#31688e"
             ],
             [
              0.4444444444444444,
              "#26828e"
             ],
             [
              0.5555555555555556,
              "#1f9e89"
             ],
             [
              0.6666666666666666,
              "#35b779"
             ],
             [
              0.7777777777777778,
              "#6ece58"
             ],
             [
              0.8888888888888888,
              "#b5de2b"
             ],
             [
              1,
              "#fde725"
             ]
            ],
            "type": "surface"
           }
          ],
          "table": [
           {
            "cells": {
             "fill": {
              "color": "rgb(237,237,237)"
             },
             "line": {
              "color": "white"
             }
            },
            "header": {
             "fill": {
              "color": "rgb(217,217,217)"
             },
             "line": {
              "color": "white"
             }
            },
            "type": "table"
           }
          ]
         },
         "layout": {
          "annotationdefaults": {
           "arrowhead": 0,
           "arrowwidth": 1
          },
          "autotypenumbers": "strict",
          "coloraxis": {
           "colorbar": {
            "outlinewidth": 1,
            "tickcolor": "rgb(36,36,36)",
            "ticks": "outside"
           }
          },
          "colorscale": {
           "diverging": [
            [
             0,
             "rgb(103,0,31)"
            ],
            [
             0.1,
             "rgb(178,24,43)"
            ],
            [
             0.2,
             "rgb(214,96,77)"
            ],
            [
             0.3,
             "rgb(244,165,130)"
            ],
            [
             0.4,
             "rgb(253,219,199)"
            ],
            [
             0.5,
             "rgb(247,247,247)"
            ],
            [
             0.6,
             "rgb(209,229,240)"
            ],
            [
             0.7,
             "rgb(146,197,222)"
            ],
            [
             0.8,
             "rgb(67,147,195)"
            ],
            [
             0.9,
             "rgb(33,102,172)"
            ],
            [
             1,
             "rgb(5,48,97)"
            ]
           ],
           "sequential": [
            [
             0,
             "#440154"
            ],
            [
             0.1111111111111111,
             "#482878"
            ],
            [
             0.2222222222222222,
             "#3e4989"
            ],
            [
             0.3333333333333333,
             "#31688e"
            ],
            [
             0.4444444444444444,
             "#26828e"
            ],
            [
             0.5555555555555556,
             "#1f9e89"
            ],
            [
             0.6666666666666666,
             "#35b779"
            ],
            [
             0.7777777777777778,
             "#6ece58"
            ],
            [
             0.8888888888888888,
             "#b5de2b"
            ],
            [
             1,
             "#fde725"
            ]
           ],
           "sequentialminus": [
            [
             0,
             "#440154"
            ],
            [
             0.1111111111111111,
             "#482878"
            ],
            [
             0.2222222222222222,
             "#3e4989"
            ],
            [
             0.3333333333333333,
             "#31688e"
            ],
            [
             0.4444444444444444,
             "#26828e"
            ],
            [
             0.5555555555555556,
             "#1f9e89"
            ],
            [
             0.6666666666666666,
             "#35b779"
            ],
            [
             0.7777777777777778,
             "#6ece58"
            ],
            [
             0.8888888888888888,
             "#b5de2b"
            ],
            [
             1,
             "#fde725"
            ]
           ]
          },
          "colorway": [
           "#1F77B4",
           "#FF7F0E",
           "#2CA02C",
           "#D62728",
           "#9467BD",
           "#8C564B",
           "#E377C2",
           "#7F7F7F",
           "#BCBD22",
           "#17BECF"
          ],
          "font": {
           "color": "rgb(36,36,36)"
          },
          "geo": {
           "bgcolor": "white",
           "lakecolor": "white",
           "landcolor": "white",
           "showlakes": true,
           "showland": true,
           "subunitcolor": "white"
          },
          "hoverlabel": {
           "align": "left"
          },
          "hovermode": "closest",
          "mapbox": {
           "style": "light"
          },
          "paper_bgcolor": "white",
          "plot_bgcolor": "white",
          "polar": {
           "angularaxis": {
            "gridcolor": "rgb(232,232,232)",
            "linecolor": "rgb(36,36,36)",
            "showgrid": false,
            "showline": true,
            "ticks": "outside"
           },
           "bgcolor": "white",
           "radialaxis": {
            "gridcolor": "rgb(232,232,232)",
            "linecolor": "rgb(36,36,36)",
            "showgrid": false,
            "showline": true,
            "ticks": "outside"
           }
          },
          "scene": {
           "xaxis": {
            "backgroundcolor": "white",
            "gridcolor": "rgb(232,232,232)",
            "gridwidth": 2,
            "linecolor": "rgb(36,36,36)",
            "showbackground": true,
            "showgrid": false,
            "showline": true,
            "ticks": "outside",
            "zeroline": false,
            "zerolinecolor": "rgb(36,36,36)"
           },
           "yaxis": {
            "backgroundcolor": "white",
            "gridcolor": "rgb(232,232,232)",
            "gridwidth": 2,
            "linecolor": "rgb(36,36,36)",
            "showbackground": true,
            "showgrid": false,
            "showline": true,
            "ticks": "outside",
            "zeroline": false,
            "zerolinecolor": "rgb(36,36,36)"
           },
           "zaxis": {
            "backgroundcolor": "white",
            "gridcolor": "rgb(232,232,232)",
            "gridwidth": 2,
            "linecolor": "rgb(36,36,36)",
            "showbackground": true,
            "showgrid": false,
            "showline": true,
            "ticks": "outside",
            "zeroline": false,
            "zerolinecolor": "rgb(36,36,36)"
           }
          },
          "shapedefaults": {
           "fillcolor": "black",
           "line": {
            "width": 0
           },
           "opacity": 0.3
          },
          "ternary": {
           "aaxis": {
            "gridcolor": "rgb(232,232,232)",
            "linecolor": "rgb(36,36,36)",
            "showgrid": false,
            "showline": true,
            "ticks": "outside"
           },
           "baxis": {
            "gridcolor": "rgb(232,232,232)",
            "linecolor": "rgb(36,36,36)",
            "showgrid": false,
            "showline": true,
            "ticks": "outside"
           },
           "bgcolor": "white",
           "caxis": {
            "gridcolor": "rgb(232,232,232)",
            "linecolor": "rgb(36,36,36)",
            "showgrid": false,
            "showline": true,
            "ticks": "outside"
           }
          },
          "title": {
           "x": 0.05
          },
          "xaxis": {
           "automargin": true,
           "gridcolor": "rgb(232,232,232)",
           "linecolor": "rgb(36,36,36)",
           "showgrid": false,
           "showline": true,
           "ticks": "outside",
           "title": {
            "standoff": 15
           },
           "zeroline": false,
           "zerolinecolor": "rgb(36,36,36)"
          },
          "yaxis": {
           "automargin": true,
           "gridcolor": "rgb(232,232,232)",
           "linecolor": "rgb(36,36,36)",
           "showgrid": false,
           "showline": true,
           "ticks": "outside",
           "title": {
            "standoff": 15
           },
           "zeroline": false,
           "zerolinecolor": "rgb(36,36,36)"
          }
         }
        },
        "width": 800,
        "xaxis": {
         "mirror": true,
         "showgrid": false,
         "ticks": "outside",
         "zeroline": false
        },
        "yaxis": {
         "mirror": true,
         "showgrid": false,
         "ticks": "outside",
         "zeroline": false
        }
       }
      }
     },
     "metadata": {},
     "output_type": "display_data"
    }
   ],
   "source": [
    "explainer.compute_all_angles()\n",
    "explainer.plot_scope_explanation(instance_id)"
   ]
  },
  {
   "cell_type": "markdown",
   "metadata": {},
   "source": [
    "#### EXPLAIN GLOBALLY"
   ]
  },
  {
   "cell_type": "markdown",
   "metadata": {},
   "source": [
    "##### PLOT FEATURE IMPORTANCE RANKING"
   ]
  },
  {
   "cell_type": "code",
   "execution_count": 8,
   "metadata": {},
   "outputs": [
    {
     "data": {
      "application/vnd.plotly.v1+json": {
       "config": {
        "plotlyServerURL": "https://plot.ly"
       },
       "data": [
        {
         "orientation": "h",
         "showlegend": false,
         "type": "bar",
         "x": [
          0.07391394328885799,
          0.08650593481833127,
          0.042073777822585194,
          0.061954056061000795,
          0.09566544191571998,
          0.09471208040281828,
          0.05702182801328855,
          0.024541540137614747,
          0.027894319130151387,
          0.039544519998168666,
          0.1080526692662016,
          0.08787842532227459,
          0.09977163817626573,
          0.08787718915222101,
          0.04035051039314332,
          0.08737156449838346,
          0.026396653878684534,
          0.09297518392871904,
          0.09609529039005783,
          0.09084406880496257,
          0.0942602075793902,
          0.09278673874991254,
          0.023548468147391827,
          0.07583452938200921,
          0.07581855351680362,
          0.10604402487713809,
          0.09174106774127667,
          0.07608637766600598,
          0.06532390162312736,
          0.043191401642003614,
          0.04176044811078779,
          0.10170456053077186,
          0.09376530777034146,
          0.1015216426836354,
          0.025175485788716954,
          0.026189216822118538,
          0.026770782374475128,
          0.09870148039714938,
          0.09735901553285665,
          0.02618594161240614,
          0.026176094199780703,
          0.03220420074878566,
          0.0309027408240912,
          0.09140708949399809,
          0.08076675345224224
         ],
         "y": [
          "Pop growth",
          "Pop growth 2004",
          "Price index",
          "Carbon Dioxide 2003",
          "Export 1990",
          "Export 2004",
          "Elec 2003",
          "GDP",
          "GDP PPP",
          "GDP pc",
          "GDP pc growth rate",
          "Fem Econo Rate",
          "Fem Econo 1990",
          "Fem Econo 2004",
          "Health Exp",
          "Babies",
          "Internet 1990",
          "Import 1990",
          "Import 2004",
          "Tertiary female ratio",
          "Babies immunized",
          "Manufactured Exp 2004",
          "Foreign invest 2004",
          "Military 2004",
          "Public Health 2003",
          "Private Health 2003",
          "Primary export 2004",
          "Public Health",
          "Refugees asylum",
          "Refugees origin",
          "Armed forces",
          "Parliament Women",
          "Female Male income",
          "House women 2006",
          "Pop 1975",
          "Pop 2004",
          "Pop 2015",
          "Tuberculosis detected",
          "Tuberculosis cured 2004",
          "Trad fuel",
          "ODA pc donnor 2004",
          "ODA to least dev 1990",
          "ODA to least dev 2004",
          "ODA received",
          "ODA received pc"
         ]
        }
       ],
       "layout": {
        "font": {
         "size": 15
        },
        "height": 1000,
        "template": {
         "data": {
          "bar": [
           {
            "error_x": {
             "color": "rgb(36,36,36)"
            },
            "error_y": {
             "color": "rgb(36,36,36)"
            },
            "marker": {
             "line": {
              "color": "white",
              "width": 0.5
             },
             "pattern": {
              "fillmode": "overlay",
              "size": 10,
              "solidity": 0.2
             }
            },
            "type": "bar"
           }
          ],
          "barpolar": [
           {
            "marker": {
             "line": {
              "color": "white",
              "width": 0.5
             },
             "pattern": {
              "fillmode": "overlay",
              "size": 10,
              "solidity": 0.2
             }
            },
            "type": "barpolar"
           }
          ],
          "carpet": [
           {
            "aaxis": {
             "endlinecolor": "rgb(36,36,36)",
             "gridcolor": "white",
             "linecolor": "white",
             "minorgridcolor": "white",
             "startlinecolor": "rgb(36,36,36)"
            },
            "baxis": {
             "endlinecolor": "rgb(36,36,36)",
             "gridcolor": "white",
             "linecolor": "white",
             "minorgridcolor": "white",
             "startlinecolor": "rgb(36,36,36)"
            },
            "type": "carpet"
           }
          ],
          "choropleth": [
           {
            "colorbar": {
             "outlinewidth": 1,
             "tickcolor": "rgb(36,36,36)",
             "ticks": "outside"
            },
            "type": "choropleth"
           }
          ],
          "contour": [
           {
            "colorbar": {
             "outlinewidth": 1,
             "tickcolor": "rgb(36,36,36)",
             "ticks": "outside"
            },
            "colorscale": [
             [
              0,
              "#440154"
             ],
             [
              0.1111111111111111,
              "#482878"
             ],
             [
              0.2222222222222222,
              "#3e4989"
             ],
             [
              0.3333333333333333,
              "#31688e"
             ],
             [
              0.4444444444444444,
              "#26828e"
             ],
             [
              0.5555555555555556,
              "#1f9e89"
             ],
             [
              0.6666666666666666,
              "#35b779"
             ],
             [
              0.7777777777777778,
              "#6ece58"
             ],
             [
              0.8888888888888888,
              "#b5de2b"
             ],
             [
              1,
              "#fde725"
             ]
            ],
            "type": "contour"
           }
          ],
          "contourcarpet": [
           {
            "colorbar": {
             "outlinewidth": 1,
             "tickcolor": "rgb(36,36,36)",
             "ticks": "outside"
            },
            "type": "contourcarpet"
           }
          ],
          "heatmap": [
           {
            "colorbar": {
             "outlinewidth": 1,
             "tickcolor": "rgb(36,36,36)",
             "ticks": "outside"
            },
            "colorscale": [
             [
              0,
              "#440154"
             ],
             [
              0.1111111111111111,
              "#482878"
             ],
             [
              0.2222222222222222,
              "#3e4989"
             ],
             [
              0.3333333333333333,
              "#31688e"
             ],
             [
              0.4444444444444444,
              "#26828e"
             ],
             [
              0.5555555555555556,
              "#1f9e89"
             ],
             [
              0.6666666666666666,
              "#35b779"
             ],
             [
              0.7777777777777778,
              "#6ece58"
             ],
             [
              0.8888888888888888,
              "#b5de2b"
             ],
             [
              1,
              "#fde725"
             ]
            ],
            "type": "heatmap"
           }
          ],
          "heatmapgl": [
           {
            "colorbar": {
             "outlinewidth": 1,
             "tickcolor": "rgb(36,36,36)",
             "ticks": "outside"
            },
            "colorscale": [
             [
              0,
              "#440154"
             ],
             [
              0.1111111111111111,
              "#482878"
             ],
             [
              0.2222222222222222,
              "#3e4989"
             ],
             [
              0.3333333333333333,
              "#31688e"
             ],
             [
              0.4444444444444444,
              "#26828e"
             ],
             [
              0.5555555555555556,
              "#1f9e89"
             ],
             [
              0.6666666666666666,
              "#35b779"
             ],
             [
              0.7777777777777778,
              "#6ece58"
             ],
             [
              0.8888888888888888,
              "#b5de2b"
             ],
             [
              1,
              "#fde725"
             ]
            ],
            "type": "heatmapgl"
           }
          ],
          "histogram": [
           {
            "marker": {
             "line": {
              "color": "white",
              "width": 0.6
             }
            },
            "type": "histogram"
           }
          ],
          "histogram2d": [
           {
            "colorbar": {
             "outlinewidth": 1,
             "tickcolor": "rgb(36,36,36)",
             "ticks": "outside"
            },
            "colorscale": [
             [
              0,
              "#440154"
             ],
             [
              0.1111111111111111,
              "#482878"
             ],
             [
              0.2222222222222222,
              "#3e4989"
             ],
             [
              0.3333333333333333,
              "#31688e"
             ],
             [
              0.4444444444444444,
              "#26828e"
             ],
             [
              0.5555555555555556,
              "#1f9e89"
             ],
             [
              0.6666666666666666,
              "#35b779"
             ],
             [
              0.7777777777777778,
              "#6ece58"
             ],
             [
              0.8888888888888888,
              "#b5de2b"
             ],
             [
              1,
              "#fde725"
             ]
            ],
            "type": "histogram2d"
           }
          ],
          "histogram2dcontour": [
           {
            "colorbar": {
             "outlinewidth": 1,
             "tickcolor": "rgb(36,36,36)",
             "ticks": "outside"
            },
            "colorscale": [
             [
              0,
              "#440154"
             ],
             [
              0.1111111111111111,
              "#482878"
             ],
             [
              0.2222222222222222,
              "#3e4989"
             ],
             [
              0.3333333333333333,
              "#31688e"
             ],
             [
              0.4444444444444444,
              "#26828e"
             ],
             [
              0.5555555555555556,
              "#1f9e89"
             ],
             [
              0.6666666666666666,
              "#35b779"
             ],
             [
              0.7777777777777778,
              "#6ece58"
             ],
             [
              0.8888888888888888,
              "#b5de2b"
             ],
             [
              1,
              "#fde725"
             ]
            ],
            "type": "histogram2dcontour"
           }
          ],
          "mesh3d": [
           {
            "colorbar": {
             "outlinewidth": 1,
             "tickcolor": "rgb(36,36,36)",
             "ticks": "outside"
            },
            "type": "mesh3d"
           }
          ],
          "parcoords": [
           {
            "line": {
             "colorbar": {
              "outlinewidth": 1,
              "tickcolor": "rgb(36,36,36)",
              "ticks": "outside"
             }
            },
            "type": "parcoords"
           }
          ],
          "pie": [
           {
            "automargin": true,
            "type": "pie"
           }
          ],
          "scatter": [
           {
            "fillpattern": {
             "fillmode": "overlay",
             "size": 10,
             "solidity": 0.2
            },
            "type": "scatter"
           }
          ],
          "scatter3d": [
           {
            "line": {
             "colorbar": {
              "outlinewidth": 1,
              "tickcolor": "rgb(36,36,36)",
              "ticks": "outside"
             }
            },
            "marker": {
             "colorbar": {
              "outlinewidth": 1,
              "tickcolor": "rgb(36,36,36)",
              "ticks": "outside"
             }
            },
            "type": "scatter3d"
           }
          ],
          "scattercarpet": [
           {
            "marker": {
             "colorbar": {
              "outlinewidth": 1,
              "tickcolor": "rgb(36,36,36)",
              "ticks": "outside"
             }
            },
            "type": "scattercarpet"
           }
          ],
          "scattergeo": [
           {
            "marker": {
             "colorbar": {
              "outlinewidth": 1,
              "tickcolor": "rgb(36,36,36)",
              "ticks": "outside"
             }
            },
            "type": "scattergeo"
           }
          ],
          "scattergl": [
           {
            "marker": {
             "colorbar": {
              "outlinewidth": 1,
              "tickcolor": "rgb(36,36,36)",
              "ticks": "outside"
             }
            },
            "type": "scattergl"
           }
          ],
          "scattermapbox": [
           {
            "marker": {
             "colorbar": {
              "outlinewidth": 1,
              "tickcolor": "rgb(36,36,36)",
              "ticks": "outside"
             }
            },
            "type": "scattermapbox"
           }
          ],
          "scatterpolar": [
           {
            "marker": {
             "colorbar": {
              "outlinewidth": 1,
              "tickcolor": "rgb(36,36,36)",
              "ticks": "outside"
             }
            },
            "type": "scatterpolar"
           }
          ],
          "scatterpolargl": [
           {
            "marker": {
             "colorbar": {
              "outlinewidth": 1,
              "tickcolor": "rgb(36,36,36)",
              "ticks": "outside"
             }
            },
            "type": "scatterpolargl"
           }
          ],
          "scatterternary": [
           {
            "marker": {
             "colorbar": {
              "outlinewidth": 1,
              "tickcolor": "rgb(36,36,36)",
              "ticks": "outside"
             }
            },
            "type": "scatterternary"
           }
          ],
          "surface": [
           {
            "colorbar": {
             "outlinewidth": 1,
             "tickcolor": "rgb(36,36,36)",
             "ticks": "outside"
            },
            "colorscale": [
             [
              0,
              "#440154"
             ],
             [
              0.1111111111111111,
              "#482878"
             ],
             [
              0.2222222222222222,
              "#3e4989"
             ],
             [
              0.3333333333333333,
              "#31688e"
             ],
             [
              0.4444444444444444,
              "#26828e"
             ],
             [
              0.5555555555555556,
              "#1f9e89"
             ],
             [
              0.6666666666666666,
              "#35b779"
             ],
             [
              0.7777777777777778,
              "#6ece58"
             ],
             [
              0.8888888888888888,
              "#b5de2b"
             ],
             [
              1,
              "#fde725"
             ]
            ],
            "type": "surface"
           }
          ],
          "table": [
           {
            "cells": {
             "fill": {
              "color": "rgb(237,237,237)"
             },
             "line": {
              "color": "white"
             }
            },
            "header": {
             "fill": {
              "color": "rgb(217,217,217)"
             },
             "line": {
              "color": "white"
             }
            },
            "type": "table"
           }
          ]
         },
         "layout": {
          "annotationdefaults": {
           "arrowhead": 0,
           "arrowwidth": 1
          },
          "autotypenumbers": "strict",
          "coloraxis": {
           "colorbar": {
            "outlinewidth": 1,
            "tickcolor": "rgb(36,36,36)",
            "ticks": "outside"
           }
          },
          "colorscale": {
           "diverging": [
            [
             0,
             "rgb(103,0,31)"
            ],
            [
             0.1,
             "rgb(178,24,43)"
            ],
            [
             0.2,
             "rgb(214,96,77)"
            ],
            [
             0.3,
             "rgb(244,165,130)"
            ],
            [
             0.4,
             "rgb(253,219,199)"
            ],
            [
             0.5,
             "rgb(247,247,247)"
            ],
            [
             0.6,
             "rgb(209,229,240)"
            ],
            [
             0.7,
             "rgb(146,197,222)"
            ],
            [
             0.8,
             "rgb(67,147,195)"
            ],
            [
             0.9,
             "rgb(33,102,172)"
            ],
            [
             1,
             "rgb(5,48,97)"
            ]
           ],
           "sequential": [
            [
             0,
             "#440154"
            ],
            [
             0.1111111111111111,
             "#482878"
            ],
            [
             0.2222222222222222,
             "#3e4989"
            ],
            [
             0.3333333333333333,
             "#31688e"
            ],
            [
             0.4444444444444444,
             "#26828e"
            ],
            [
             0.5555555555555556,
             "#1f9e89"
            ],
            [
             0.6666666666666666,
             "#35b779"
            ],
            [
             0.7777777777777778,
             "#6ece58"
            ],
            [
             0.8888888888888888,
             "#b5de2b"
            ],
            [
             1,
             "#fde725"
            ]
           ],
           "sequentialminus": [
            [
             0,
             "#440154"
            ],
            [
             0.1111111111111111,
             "#482878"
            ],
            [
             0.2222222222222222,
             "#3e4989"
            ],
            [
             0.3333333333333333,
             "#31688e"
            ],
            [
             0.4444444444444444,
             "#26828e"
            ],
            [
             0.5555555555555556,
             "#1f9e89"
            ],
            [
             0.6666666666666666,
             "#35b779"
            ],
            [
             0.7777777777777778,
             "#6ece58"
            ],
            [
             0.8888888888888888,
             "#b5de2b"
            ],
            [
             1,
             "#fde725"
            ]
           ]
          },
          "colorway": [
           "#1F77B4",
           "#FF7F0E",
           "#2CA02C",
           "#D62728",
           "#9467BD",
           "#8C564B",
           "#E377C2",
           "#7F7F7F",
           "#BCBD22",
           "#17BECF"
          ],
          "font": {
           "color": "rgb(36,36,36)"
          },
          "geo": {
           "bgcolor": "white",
           "lakecolor": "white",
           "landcolor": "white",
           "showlakes": true,
           "showland": true,
           "subunitcolor": "white"
          },
          "hoverlabel": {
           "align": "left"
          },
          "hovermode": "closest",
          "mapbox": {
           "style": "light"
          },
          "paper_bgcolor": "white",
          "plot_bgcolor": "white",
          "polar": {
           "angularaxis": {
            "gridcolor": "rgb(232,232,232)",
            "linecolor": "rgb(36,36,36)",
            "showgrid": false,
            "showline": true,
            "ticks": "outside"
           },
           "bgcolor": "white",
           "radialaxis": {
            "gridcolor": "rgb(232,232,232)",
            "linecolor": "rgb(36,36,36)",
            "showgrid": false,
            "showline": true,
            "ticks": "outside"
           }
          },
          "scene": {
           "xaxis": {
            "backgroundcolor": "white",
            "gridcolor": "rgb(232,232,232)",
            "gridwidth": 2,
            "linecolor": "rgb(36,36,36)",
            "showbackground": true,
            "showgrid": false,
            "showline": true,
            "ticks": "outside",
            "zeroline": false,
            "zerolinecolor": "rgb(36,36,36)"
           },
           "yaxis": {
            "backgroundcolor": "white",
            "gridcolor": "rgb(232,232,232)",
            "gridwidth": 2,
            "linecolor": "rgb(36,36,36)",
            "showbackground": true,
            "showgrid": false,
            "showline": true,
            "ticks": "outside",
            "zeroline": false,
            "zerolinecolor": "rgb(36,36,36)"
           },
           "zaxis": {
            "backgroundcolor": "white",
            "gridcolor": "rgb(232,232,232)",
            "gridwidth": 2,
            "linecolor": "rgb(36,36,36)",
            "showbackground": true,
            "showgrid": false,
            "showline": true,
            "ticks": "outside",
            "zeroline": false,
            "zerolinecolor": "rgb(36,36,36)"
           }
          },
          "shapedefaults": {
           "fillcolor": "black",
           "line": {
            "width": 0
           },
           "opacity": 0.3
          },
          "ternary": {
           "aaxis": {
            "gridcolor": "rgb(232,232,232)",
            "linecolor": "rgb(36,36,36)",
            "showgrid": false,
            "showline": true,
            "ticks": "outside"
           },
           "baxis": {
            "gridcolor": "rgb(232,232,232)",
            "linecolor": "rgb(36,36,36)",
            "showgrid": false,
            "showline": true,
            "ticks": "outside"
           },
           "bgcolor": "white",
           "caxis": {
            "gridcolor": "rgb(232,232,232)",
            "linecolor": "rgb(36,36,36)",
            "showgrid": false,
            "showline": true,
            "ticks": "outside"
           }
          },
          "title": {
           "x": 0.05
          },
          "xaxis": {
           "automargin": true,
           "gridcolor": "rgb(232,232,232)",
           "linecolor": "rgb(36,36,36)",
           "showgrid": false,
           "showline": true,
           "ticks": "outside",
           "title": {
            "standoff": 15
           },
           "zeroline": false,
           "zerolinecolor": "rgb(36,36,36)"
          },
          "yaxis": {
           "automargin": true,
           "gridcolor": "rgb(232,232,232)",
           "linecolor": "rgb(36,36,36)",
           "showgrid": false,
           "showline": true,
           "ticks": "outside",
           "title": {
            "standoff": 15
           },
           "zeroline": false,
           "zerolinecolor": "rgb(36,36,36)"
          }
         }
        },
        "width": 900,
        "xaxis": {
         "linecolor": "black",
         "linewidth": 2,
         "mirror": true,
         "showgrid": false,
         "showline": true,
         "ticks": "outside",
         "zerolinecolor": "grey",
         "zerolinewidth": 1
        },
        "yaxis": {
         "categoryorder": "total ascending",
         "linecolor": "black",
         "linewidth": 2,
         "mirror": true,
         "showline": true
        }
       }
      }
     },
     "metadata": {},
     "output_type": "display_data"
    }
   ],
   "source": [
    "explainer.plot_feature_importance_ranking()"
   ]
  },
  {
   "cell_type": "markdown",
   "metadata": {},
   "source": [
    "##### PLOT VECTOR FIELDS"
   ]
  },
  {
   "cell_type": "code",
   "execution_count": 9,
   "metadata": {},
   "outputs": [],
   "source": [
    "explainer.scale_gradients()\n",
    "feature_id = 7"
   ]
  },
  {
   "cell_type": "code",
   "execution_count": 10,
   "metadata": {},
   "outputs": [
    {
     "data": {
      "application/vnd.plotly.v1+json": {
       "config": {
        "plotlyServerURL": "https://plot.ly"
       },
       "data": [
        {
         "mode": "lines",
         "type": "scatter",
         "x": [
          -38.87454953803157,
          -38.90689477076857,
          null,
          -35.905313603849955,
          -34.9431765568622,
          null,
          -33.57934605345161,
          -31.63114063509002,
          null,
          -34.35780949853687,
          -33.38423156409268,
          null,
          -36.92953991821367,
          -37.00502728764177,
          null,
          -31.269882146591538,
          -31.436838017140477,
          null,
          -25.604256771769435,
          -21.204135142577826,
          null,
          -23.301394152250907,
          -27.26130715184852,
          null,
          -37.87554489141438,
          -37.58699283411508,
          null,
          -35.82951839585211,
          -35.55157338893885,
          null,
          -35.9462803941838,
          -34.79216709031844,
          null,
          -36.45802713377117,
          -36.54685449709171,
          null,
          -35.01923541646399,
          -34.82952106761266,
          null,
          -32.9284652185541,
          -30.668383180821085,
          null,
          -35.59056984886919,
          -34.14196121619437,
          null,
          -27.147592598187924,
          -18.564132414493187,
          null,
          -28.350974622242536,
          -22.619554946835464,
          null,
          -26.96599630563207,
          -17.939739559974093,
          null,
          -29.692809368709575,
          -28.36841223887763,
          null,
          -30.068363115668557,
          -29.592571787186163,
          null,
          -24.874394030886343,
          -20.0172715118553,
          null,
          -2.469578410869182,
          -2.2896458626112905,
          null,
          -2.729049300879983,
          -5.528768164348207,
          null,
          -0.2730980253903988,
          -0.03620724616387233,
          null,
          0.7279996107376382,
          1.4344053595220845,
          null,
          -13.943759266132252,
          -13.821873592322389,
          null,
          -29.762841206040946,
          -24.879046965971547,
          null,
          0.4998385110791165,
          0.14691691712851274,
          null,
          -12.352575386844892,
          -12.357522112591441,
          null,
          -14.829930219860579,
          -15.225692129728348,
          null,
          12.332510289349415,
          12.459560549589659,
          null,
          -10.487494444114493,
          -10.540226376992313,
          null,
          5.68838143853691,
          6.101020061187005,
          null,
          -19.176049451450343,
          -20.45879377890659,
          null,
          13.80673941508967,
          13.985805929837658,
          null,
          8.202287235156287,
          8.328161684133727,
          null,
          -13.984279600843177,
          -14.11824690180176,
          null,
          -11.634515700649834,
          -11.62824410278688,
          null,
          -12.758322269237297,
          -12.570745875703745,
          null,
          7.30511803190554,
          7.322682279471919,
          null,
          -10.715550981805828,
          -10.79812001128605,
          null,
          -11.920885285766479,
          -11.914719977081306,
          null,
          13.309163445061756,
          12.764351777639785,
          null,
          11.625793420211469,
          11.812591542480803,
          null,
          10.78321933563621,
          9.483694509873576,
          null,
          -14.107064446745971,
          -14.4206392714792,
          null,
          -2.373384678772237,
          -2.2908428646366468,
          null,
          7.797947510180492,
          7.854117650024283,
          null,
          17.24902689483527,
          16.939953488517304,
          null,
          -18.733811706816756,
          -19.813819740447432,
          null,
          0.3184652594520961,
          -0.04530842418139153,
          null,
          1.4573176602426479,
          1.277821526284522,
          null,
          -20.52678496116204,
          -21.21495706675739,
          null,
          -10.365247208109448,
          -10.452067986469643,
          null,
          -7.174298730789052,
          -7.177012887809069,
          null,
          10.994774022685709,
          10.559432433711873,
          null,
          10.199113291426158,
          10.475911202926396,
          null,
          4.021722923308313,
          4.4975618705823495,
          null,
          -16.09267922785612,
          -16.127480999349686,
          null,
          -5.571987500570479,
          -5.4600916046100565,
          null,
          16.262552623100976,
          15.985730505869224,
          null,
          -17.628026413807767,
          -18.502598025679593,
          null,
          17.568338151226516,
          17.598178732031823,
          null,
          -6.646241362066231,
          -6.308750834298384,
          null,
          -14.542061376126455,
          -14.544921300064583,
          null,
          9.703249214476442,
          10.066445471189017,
          null,
          4.855855846882184,
          4.919518342942969,
          null,
          3.3599612287560943,
          3.520218333427987,
          null,
          14.596983741866534,
          13.931865496515602,
          null,
          18.766926458109722,
          18.75800309986757,
          null,
          14.72042687953594,
          14.34329703040906,
          null,
          2.252286081910392,
          2.2372967099182683,
          null,
          -2.0263281581301245,
          -1.7968618393914557,
          null,
          21.749050197202624,
          21.38270188263728,
          null,
          21.25622470501854,
          21.079072889038358,
          null,
          10.228093845196295,
          10.277158159898555,
          null,
          8.63491809892865,
          8.67150638462058,
          null,
          19.797642376987312,
          19.76235842424195,
          null,
          -12.819191603999045,
          -12.833929373549072,
          null,
          -7.818032100082717,
          -7.794434774128827,
          null,
          10.978377560349934,
          10.79798716056138,
          null,
          15.398252965408727,
          15.320006095390768,
          null,
          -1.1105402065875718,
          -1.154884594754742,
          null,
          -11.230470164619993,
          -11.073608547434798,
          null,
          2.9972888628093144,
          2.8344166475214503,
          null,
          16.507403031358546,
          16.221266451916744,
          null,
          12.41276007189194,
          10.846604269895359,
          null,
          -8.883455064544272,
          -9.051299175477522,
          null,
          -9.92197346517957,
          -9.824959665315664,
          null,
          19.39262458126039,
          19.44814063402876,
          null,
          3.9359380062932487,
          3.9178808546297583,
          null,
          -13.59560746965413,
          -13.744284140205119,
          null,
          13.059312769866466,
          12.99330616466538,
          null,
          -9.369779114260687,
          -9.268021078656565,
          null,
          4.4369218761679186,
          4.487948990562308,
          null,
          16.535555404988248,
          16.03710958331004,
          null,
          7.867808966231853,
          8.957175270617,
          null,
          17.874056748751645,
          17.841371171229852,
          null,
          24.38657214007602,
          24.35332662943245,
          null,
          4.450380708247004,
          4.452286466628362,
          null,
          10.209472694340704,
          11.239453990561557,
          null,
          6.331380118798199,
          6.101160761470419,
          null,
          11.950866257837854,
          12.226659489005128,
          null,
          12.003775270586708,
          12.044152463542332,
          null,
          21.84899132275002,
          21.71155228829965,
          null,
          13.432979304723633,
          13.420604657225176,
          null,
          17.794847977562675,
          17.68477964302894,
          null,
          16.633295801004948,
          16.20637785934506,
          null,
          23.663203171268776,
          23.66947126675206,
          null,
          23.69838327057461,
          23.594466189830097,
          null,
          9.89804325977691,
          9.892295704503882,
          null,
          24.40210353611728,
          24.375031782692062,
          null,
          9.536615945078147,
          9.480214038285892,
          null,
          14.949675246190331,
          14.928035091388205,
          null,
          16.087513743908165,
          16.101700734194537,
          null,
          -0.051282913883280795,
          -0.17596977980601353,
          null,
          20.98337099530101,
          21.016287440919378,
          null,
          13.555717258326112,
          13.551738813246178,
          null,
          26.3563399690124,
          26.368192973317644,
          null,
          13.854698930647215,
          13.871399358591162,
          null,
          11.754387634401363,
          11.72897952891314,
          null,
          22.297095901703212,
          22.33967779630703,
          null,
          11.474180393539411,
          11.517384092864175,
          null,
          -4.756163356784036,
          -4.695191862630634,
          null,
          8.465078531033615,
          8.426345903280021,
          null,
          17.667206795280148,
          17.69587453795695,
          null,
          23.134732934419564,
          23.083090292097527,
          null,
          13.905142734512504,
          13.887630485522497,
          null,
          10.037624900107831,
          10.027403573879766,
          null,
          11.349429745770216,
          11.338415930716929,
          null,
          12.884183740867432,
          12.814075501724838,
          null,
          11.892185814624987,
          11.887608874639678,
          null,
          19.08839205172512,
          19.091717646580946,
          null,
          20.830404641986124,
          20.82153917674767,
          null,
          16.237294550931402,
          16.229519479276487,
          null,
          17.55065289141644,
          17.56028817919332,
          null,
          17.885093359516343,
          17.88366299199606,
          null,
          15.002661670129267,
          14.961506671149813,
          null,
          -38.87047209151314,
          -38.90689477076857,
          -38.92508070411166,
          null,
          -35.248369215753506,
          -34.9431765568622,
          -35.180451747914375,
          null,
          -32.000338528944745,
          -31.63114063509002,
          -32.360371294481006,
          null,
          -33.68322000801695,
          -33.38423156409268,
          -33.63416152062272,
          null,
          -36.917720544815495,
          -37.00502728764177,
          -37.049773076059566,
          null,
          -31.01682971165302,
          -31.436838017140477,
          -31.7627140028969,
          null,
          -22.10523206018041,
          -21.204135142577826,
          -22.783895320282337,
          null,
          -25.706030413033627,
          -27.26130715184852,
          -26.58392327585777,
          null,
          -37.585166212143115,
          -37.58699283411508,
          -37.75150959946109,
          null,
          -35.604389061779045,
          -35.55157338893885,
          -35.655467439287065,
          null,
          -35.07427202213321,
          -34.79216709031844,
          -35.16076921161955,
          null,
          -36.56973212096423,
          -36.54685449709171,
          -36.47389462251748,
          null,
          -34.92060263225692,
          -34.82952106761266,
          -34.84540340717208,
          null,
          -31.362535997199036,
          -30.668383180821085,
          -31.24849981238023,
          null,
          -34.477068000618125,
          -34.14196121619437,
          -34.623602537289386,
          null,
          -21.299834088059498,
          -18.564132414493187,
          -20.66791925818344,
          null,
          -24.708795702284448,
          -22.619554946835464,
          -23.761777856750797,
          null,
          -20.732273540819307,
          -17.939739559974093,
          -20.23634969345718,
          null,
          -28.59162010910911,
          -28.36841223887763,
          -28.891920094582026,
          null,
          -29.337937377932796,
          -29.592571787186163,
          -30.115464756684826,
          null,
          -21.98897711776198,
          -20.0172715118553,
          -20.784087219580538,
          null,
          -2.3065833582886164,
          -2.2896458626112905,
          -2.3741571396362517,
          null,
          -4.68558642728242,
          -5.528768164348207,
          -4.793424807648275,
          null,
          0.0037165409651789827,
          -0.03620724616387233,
          -0.2096937435957581,
          null,
          1.319907438595714,
          1.4344053595220845,
          1.150620718800362,
          null,
          -13.833955797945189,
          -13.821873592322389,
          -13.878512427654778,
          null,
          -26.38579153214393,
          -24.879046965971547,
          -26.125861645097128,
          null,
          0.28506095183040536,
          0.14691691712851274,
          0.2077555729574499,
          null,
          -12.390143888462836,
          -12.357522112591441,
          -12.322111295711398,
          null,
          -15.105756927834001,
          -15.225692129728348,
          -15.122490603848165,
          null,
          12.41130387728997,
          12.459560549589659,
          12.436184306679335,
          null,
          -10.553770208593948,
          -10.540226376992313,
          -10.496951460467638,
          null,
          5.954994213122375,
          6.101020061187005,
          6.014393827998301,
          null,
          -20.05511846318364,
          -20.45879377890659,
          -20.139237867310168,
          null,
          13.933472445278989,
          13.985805929837658,
          13.937178924873205,
          null,
          8.282815632217853,
          8.328161684133727,
          8.302537761539845,
          null,
          -14.100786176553626,
          -14.11824690180176,
          -14.060174776567461,
          null,
          -11.630421346730413,
          -11.62824410278688,
          -11.62960288338276,
          null,
          -12.624598076670363,
          -12.570745875703745,
          -12.622652166439394,
          null,
          7.3755856547287815,
          7.322682279471919,
          7.259875907918386,
          null,
          -10.800918655286994,
          -10.79812001128605,
          -10.748767662660295,
          null,
          -11.914157492420705,
          -11.914719977081306,
          -11.918758558787703,
          null,
          12.963365989231123,
          12.764351777639785,
          12.872510868205143,
          null,
          11.735833187367172,
          11.812591542480803,
          11.784030207350538,
          null,
          9.947741699319492,
          9.483694509873576,
          9.752339654006004,
          null,
          -14.32290810201126,
          -14.4206392714792,
          -14.341572071627509,
          null,
          -2.272369810896768,
          -2.2908428646366468,
          -2.3558542785662233,
          null,
          7.829262907726253,
          7.854117650024283,
          7.847302792770479,
          null,
          17.01303721888205,
          16.939953488517304,
          17.041130157671454,
          null,
          -19.47650713601222,
          -19.813819740447432,
          -19.542206997127295,
          null,
          0.07662633778022955,
          -0.04530842418139153,
          0.0378580815448849,
          null,
          1.3230228106789903,
          1.277821526284522,
          1.3338229574140839,
          null,
          -21.028293154804636,
          -21.21495706675739,
          -21.013618829034954,
          null,
          -10.43734397737002,
          -10.452067986469643,
          -10.417841088715688,
          null,
          -7.184859089509422,
          -7.177012887809069,
          -7.167636402114698,
          null,
          10.587009832365181,
          10.559432433711873,
          10.77730740226652,
          null,
          10.249626156859375,
          10.475911202926396,
          10.546133276061981,
          null,
          4.373441580532693,
          4.4975618705823495,
          4.353396752170438,
          null,
          -16.109721412311945,
          -16.127480999349686,
          -16.125618805669756,
          null,
          -5.4889927344331,
          -5.4600916046100565,
          -5.494279123425156,
          null,
          16.045772730709697,
          15.985730505869224,
          16.081764901528555,
          null,
          -18.204656161413105,
          -18.502598025679593,
          -18.307442795931205,
          null,
          17.595493876269952,
          17.598178732031823,
          17.58403900364407,
          null,
          -6.4318224912908875,
          -6.308750834298384,
          -6.3759615924230335,
          null,
          -14.546160631950727,
          -14.544921300064583,
          -14.54206949852604,
          null,
          9.92033117072456,
          10.066445471189017,
          10.00778406625555,
          null,
          4.880026753254727,
          4.919518342942969,
          4.923116025969732,
          null,
          3.4737829420615256,
          3.520218333427987,
          3.4762982735812327,
          null,
          14.066583211455912,
          13.931865496515602,
          14.172151805839098,
          null,
          18.758269445324718,
          18.75800309986757,
          18.76276788274609,
          null,
          14.492786655977438,
          14.34329703040906,
          14.40643908662226,
          null,
          2.246302379435538,
          2.2372967099182683,
          2.236742281751727,
          null,
          -1.8926221423352048,
          -1.7968618393914557,
          -1.8304782203102872,
          null,
          21.534355470456365,
          21.38270188263728,
          21.437601179518843,
          null,
          21.155726307530095,
          21.079072889038358,
          21.10230042308786,
          null,
          10.282808602164033,
          10.277158159898555,
          10.243844492951297,
          null,
          8.655482805578943,
          8.67150638462058,
          8.666900918419067,
          null,
          19.768652480575625,
          19.76235842424195,
          19.77595800992446,
          null,
          -12.833198537751393,
          -12.833929373549072,
          -12.826350825370948,
          null,
          -7.7966616431721345,
          -7.794434774128827,
          -7.805512444927009,
          null,
          10.944788265052146,
          10.79798716056138,
          10.752892972595768,
          null,
          15.346388210817242,
          15.320006095390768,
          15.337740783777576,
          null,
          -1.1399704085089435,
          -1.154884594754742,
          -1.1447967244001669,
          null,
          -11.106123248196132,
          -11.073608547434798,
          -11.129534869165546,
          null,
          2.871315295704282,
          2.8344166475214503,
          2.8893478906408543,
          null,
          16.288374970660357,
          16.221266451916744,
          16.315486192516158,
          null,
          11.262982508875819,
          10.846604269895359,
          11.313249060997231,
          null,
          -9.00111141955858,
          -9.051299175477522,
          -9.006853807904657,
          null,
          -9.836857385556492,
          -9.824959665315664,
          -9.867759836182746,
          null,
          19.438288031322433,
          19.44814063402876,
          19.42669242166213,
          null,
          3.918836343438466,
          3.9178808546297583,
          3.927106269123407,
          null,
          -13.703858183137381,
          -13.744284140205119,
          -13.700883875152988,
          null,
          13.004850916140024,
          12.99330616466538,
          13.01897696508909,
          null,
          -9.289031163719281,
          -9.268021078656565,
          -9.304383758691568,
          null,
          4.446813147846677,
          4.487948990562308,
          4.5003149515640954,
          null,
          16.169776513616583,
          16.03710958331004,
          16.18547416929905,
          null,
          8.652315764877088,
          8.957175270617,
          8.64783308981879,
          null,
          17.85851569285154,
          17.841371171229852,
          17.842655287210174,
          null,
          24.35830090303522,
          24.35332662943245,
          24.36709669244529,
          null,
          4.466907892211995,
          4.452286466628362,
          4.436590544791951,
          null,
          10.830707872298145,
          11.239453990561557,
          11.067480614661225,
          null,
          6.143695456818924,
          6.101160761470419,
          6.188427324867708,
          null,
          12.159955615437445,
          12.226659489005128,
          12.137866844058456,
          null,
          12.022779693688731,
          12.044152463542332,
          12.042759943234863,
          null,
          21.72863970400791,
          21.71155228829965,
          21.771955140479964,
          null,
          13.424171765563337,
          13.420604657225176,
          13.424014567850492,
          null,
          17.726805113767995,
          17.68477964302894,
          17.70481241333601,
          null,
          16.330921980553846,
          16.20637785934506,
          16.32253672181162,
          null,
          23.667290447480116,
          23.66947126675206,
          23.668118036180786,
          null,
          23.669700397407933,
          23.594466189830097,
          23.5778220506218,
          null,
          9.893456946690575,
          9.892295704503882,
          9.894375023483763,
          null,
          24.369944358234513,
          24.375031782692062,
          24.39538268330486,
          null,
          9.485555767487122,
          9.480214038285892,
          9.506672582451223,
          null,
          14.935329743229198,
          14.928035091388205,
          14.932941495815344,
          null,
          16.095894479787294,
          16.101700734194537,
          16.09950814255182,
          null,
          -0.10932750397966648,
          -0.17596977980601353,
          -0.17231165894245226,
          null,
          20.998920736215357,
          21.016287440919378,
          21.015095340993348,
          null,
          13.553068842871124,
          13.551738813246178,
          13.552651892911522,
          null,
          26.359255016022477,
          26.368192973317644,
          26.370448022204943,
          null,
          13.867694573139609,
          13.871399358591162,
          13.86568818270098,
          null,
          11.738399684006353,
          11.72897952891314,
          11.733884859361186,
          null,
          22.29994462468759,
          22.33967779630703,
          22.355402632643493,
          null,
          11.499619851492572,
          11.517384092864175,
          11.510789415768098,
          null,
          -4.714551550414952,
          -4.695191862630634,
          -4.710208852726862,
          null,
          8.4335631282622,
          8.426345903280021,
          8.440966736988061,
          null,
          17.67537860990088,
          17.69587453795695,
          17.700207146264233,
          null,
          23.082767693603635,
          23.083090292097527,
          23.11252981653616,
          null,
          13.891181818879797,
          13.887630485522497,
          13.893952830854762,
          null,
          10.029401028771787,
          10.027403573879766,
          10.03116906188644,
          null,
          11.340179863232125,
          11.338415930716929,
          11.342861758641098,
          null,
          12.842695599444369,
          12.814075501724838,
          12.824983520992461,
          null,
          11.887215310801317,
          11.887608874639678,
          11.890582988516025,
          null,
          19.089179916202465,
          19.091717646580946,
          19.09238035479198,
          null,
          20.82296548845399,
          20.82153917674767,
          20.825111352399997,
          null,
          16.232946040746167,
          16.229519479276487,
          16.230476624282932,
          null,
          17.552990584135756,
          17.56028817919332,
          17.56215324895704,
          null,
          17.87037628754075,
          17.88366299199606,
          17.897756159933664,
          null,
          14.97473215217778,
          14.961506671149813,
          14.971485019431514,
          null
         ],
         "y": [
          9.226808648130522,
          9.49291681780106,
          null,
          6.245797519646558,
          5.9148352007865785,
          null,
          7.928316236184327,
          9.682758542980665,
          null,
          17.039053865486082,
          16.799991496638413,
          null,
          9.317839978063343,
          9.961332931236793,
          null,
          7.217207392533315,
          10.85190701378562,
          null,
          12.69059816297715,
          15.997729206502234,
          null,
          12.40187003727448,
          16.679848395936162,
          null,
          12.458056341408378,
          13.268648887705597,
          null,
          13.61278461185534,
          13.861689920040561,
          null,
          8.560145248570329,
          8.981646687273539,
          null,
          17.447200274803553,
          16.980183442038154,
          null,
          15.022046672792813,
          14.655600297472912,
          null,
          14.160218196849636,
          13.60451903193125,
          null,
          11.51428405290481,
          12.228347924730294,
          null,
          14.268932457830683,
          11.189606857630785,
          null,
          13.345650811834462,
          8.730825905494033,
          null,
          15.217224262982022,
          12.800583717876687,
          null,
          11.744057416114957,
          13.207421447606006,
          null,
          6.946687016250702,
          10.735583634988123,
          null,
          16.454636027811745,
          10.58319871778681,
          null,
          -5.566915766612388,
          -5.237628234545929,
          null,
          -2.709532644420216,
          -2.1840354260533017,
          null,
          -10.211374590904787,
          -9.17142470917258,
          null,
          -7.94371680318568,
          -7.118781376140971,
          null,
          -29.723619825827498,
          -29.50649504249194,
          null,
          16.155946125757715,
          14.889305879955492,
          null,
          -11.963713286457567,
          -11.587003608282531,
          null,
          -27.575715209559167,
          -27.907238532961095,
          null,
          -31.333890162900982,
          -31.252346836965792,
          null,
          -21.558269613035606,
          -21.67951212791323,
          null,
          -28.977140495870067,
          -29.254018672175835,
          null,
          2.231904610845066,
          1.9424498519413558,
          null,
          -20.856899600819023,
          -20.44698512761196,
          null,
          -13.403394645845045,
          -13.421456348089517,
          null,
          -18.54789914273427,
          -18.64400522355465,
          null,
          -24.952175619825816,
          -25.15007526978637,
          null,
          -22.563810361361178,
          -22.567798739256588,
          null,
          -26.489640382218454,
          -26.49912281704451,
          null,
          -2.999761394721268,
          -2.4359069499446138,
          null,
          -26.20595245632181,
          -26.46008462584649,
          null,
          -21.46977514782438,
          -21.447354117675587,
          null,
          -6.570789396096234,
          -6.128051725041054,
          null,
          -22.254498651996858,
          -22.489363083833716,
          null,
          -0.06646525750398749,
          0.8857303423100802,
          null,
          -21.918938525547595,
          -21.82798886473343,
          null,
          -10.468462457521166,
          -10.061642034325788,
          null,
          -8.654218754838459,
          -8.742127246956363,
          null,
          -18.470789795537208,
          -18.607686892280498,
          null,
          -19.722610380094086,
          -19.40245447506348,
          null,
          -17.320438839720875,
          -17.131520842774957,
          null,
          -14.88997306312686,
          -14.942602257370982,
          null,
          -17.966720471334146,
          -18.038228568425524,
          null,
          -24.212816419553803,
          -24.307854138992845,
          null,
          -25.411271680260676,
          -25.49519796223956,
          null,
          3.079788658043152,
          2.1524672043467,
          null,
          7.340495930927096,
          5.895614564586658,
          null,
          5.668186455481582,
          5.765865051091706,
          null,
          -12.7694456215657,
          -12.69197750714788,
          null,
          -13.443924804736803,
          -13.418164192410222,
          null,
          -17.71291635441144,
          -17.888306466764107,
          null,
          -18.245981185847327,
          -17.745101162044023,
          null,
          -6.142638178772002,
          -6.086818500460561,
          null,
          -11.854434493369652,
          -12.126645063214479,
          null,
          -13.328265427153905,
          -13.348201550335165,
          null,
          -34.85710407682664,
          -35.28326267809415,
          null,
          4.550594111562723,
          4.340619769622787,
          null,
          6.715725815060813,
          6.703468586118831,
          null,
          1.7820010880053343,
          1.2675645533776865,
          null,
          -7.668167134536726,
          -7.690088053080836,
          null,
          -5.206599394149656,
          -4.785827055442897,
          null,
          -13.453195372472678,
          -13.406608946349483,
          null,
          7.302466183508385,
          6.999638395741975,
          null,
          1.0987686396804999,
          1.5702530089767985,
          null,
          -1.0669863048935846,
          -0.8066415782022425,
          null,
          -3.8785750236682355,
          -3.688702633727173,
          null,
          -7.37528546839939,
          -7.430926016005241,
          null,
          -13.476217047890575,
          -13.511816945983316,
          null,
          -14.59300570980641,
          -14.626374662454737,
          null,
          -9.506083351852432,
          -9.462953329992642,
          null,
          -2.078135134666214,
          -1.1430279672419772,
          null,
          -13.734883529932723,
          -13.692744554551622,
          null,
          -20.777347934644208,
          -20.75382926191198,
          null,
          -19.593071228555715,
          -19.478986227880174,
          null,
          13.37279237546833,
          13.284919408098483,
          null,
          -15.21611441380224,
          -15.348227596728556,
          null,
          1.7742644163876464,
          1.52931513926496,
          null,
          -7.7773859350317744,
          -7.74940323450893,
          null,
          -13.772710994161795,
          -13.622123125633689,
          null,
          -3.4254061858456986,
          -3.368900694933401,
          null,
          12.051283420121585,
          12.010984011610498,
          null,
          -18.579324759247314,
          -18.593818583867662,
          null,
          15.874447158657734,
          15.805610818534065,
          null,
          -14.167303519700727,
          -14.092490211810903,
          null,
          9.186648045306951,
          8.925933363430865,
          null,
          -0.384099971329448,
          -0.4605947625905124,
          null,
          0.6761318135202325,
          0.6979759219534875,
          null,
          -4.321509921243022,
          -4.244222048238689,
          null,
          20.712818543837518,
          20.669956597537414,
          null,
          -13.094378003671062,
          -12.946641347357735,
          null,
          -34.38303510748664,
          -35.53683041741973,
          null,
          22.499227026463085,
          22.28124830541551,
          null,
          -13.289193426887802,
          -13.181554681967665,
          null,
          12.186135240245614,
          12.088771337680058,
          null,
          -12.722880532353843,
          -12.933956971940463,
          null,
          27.67411419336921,
          27.674880218976732,
          null,
          3.6483814781731305,
          3.7555520686639783,
          null,
          1.136041960154802,
          1.176903387499851,
          null,
          22.046757470477274,
          22.04272462466971,
          null,
          -0.47126849157194395,
          -0.02354463388361322,
          null,
          29.32191371792513,
          29.31743992297912,
          null,
          12.858407393127084,
          12.734446248504641,
          null,
          20.671504405194632,
          20.568602011012185,
          null,
          25.050045025657088,
          25.061682972819266,
          null,
          15.644927543234367,
          15.627318138081657,
          null,
          -19.302202881909356,
          -18.995280632874778,
          null,
          15.049236453076011,
          14.970417485374702,
          null,
          21.408488493343807,
          21.410520293554693,
          null,
          13.335623120311547,
          13.28107951909931,
          null,
          12.471786296555837,
          12.481563451877355,
          null,
          32.86421151351249,
          32.88621228711832,
          null,
          11.111938090335368,
          10.841690810859118,
          null,
          22.072540059462273,
          22.018110690834455,
          null,
          -26.080766219865787,
          -26.101928217547478,
          null,
          30.295145346681167,
          30.25906750706491,
          null,
          16.228329996834056,
          16.10734035705275,
          null,
          12.553345346662988,
          12.408314303349144,
          null,
          18.008364348362704,
          17.9948611866872,
          null,
          22.29858367684897,
          22.289968038515212,
          null,
          31.559603614042043,
          31.546534718046164,
          null,
          34.58807531487912,
          34.67438640306866,
          null,
          28.90128069654135,
          28.884869978340355,
          null,
          22.275177504913405,
          22.259581744195945,
          null,
          25.474174710765325,
          25.463717900019496,
          null,
          21.34226444815942,
          21.35429793269449,
          null,
          21.541896940927646,
          21.49724720805817,
          null,
          12.31772866223561,
          12.184306343271782,
          null,
          19.902105272887855,
          19.917928574573594,
          null,
          9.421217669130968,
          9.49291681780106,
          9.414580036449003,
          null,
          5.909414980210947,
          5.9148352007865785,
          6.10685713063676,
          null,
          8.988269947268565,
          9.682758542980665,
          9.38806524511809,
          null,
          16.767490060409347,
          16.799991496638413,
          16.967280019215732,
          null,
          9.78767271762267,
          9.961332931236793,
          9.772181797076025,
          null,
          9.844387571158645,
          10.85190701378562,
          9.81012620869412,
          null,
          14.61394414615053,
          15.997729206502234,
          15.516902284310424,
          null,
          15.880163990785169,
          16.679848395936162,
          15.067541983777437,
          null,
          13.010529352641402,
          13.268648887705597,
          13.069743722238057,
          null,
          13.763002738297395,
          13.861689920040561,
          13.820040412958072,
          null,
          8.744403150512897,
          8.981646687273539,
          8.981241149074151,
          null,
          17.120953347758128,
          16.980183442038154,
          17.10272489923765,
          null,
          14.739438545277947,
          14.655600297472912,
          14.778370222548988,
          null,
          13.529276878584495,
          13.60451903193125,
          13.993073028068425,
          null,
          11.878411759741955,
          12.228347924730294,
          12.1756837590441,
          null,
          11.176977836005047,
          11.189606857630785,
          12.938407605359513,
          null,
          9.443702685053484,
          8.730825905494033,
          10.619859272358855,
          null,
          12.555705016321674,
          12.800583717876687,
          14.408001991828211,
          null,
          12.658996584181741,
          13.207421447606006,
          12.930778881880876,
          null,
          9.618645111415455,
          10.735583634988123,
          9.71628324243185,
          null,
          11.740032489845259,
          10.58319871778681,
          12.736772733910858,
          null,
          -5.348919120529061,
          -5.237628234545929,
          -5.3119947869625905,
          null,
          -2.044909109469681,
          -2.1840354260533017,
          -2.6194452576426692,
          null,
          -9.488901103606937,
          -9.17142470917258,
          -9.440288252648784,
          null,
          -7.423818594800206,
          -7.118781376140971,
          -7.278855597533007,
          null,
          -29.580210416186727,
          -29.50649504249194,
          -29.555198002811252,
          null,
          14.745274825818248,
          14.889305879955492,
          15.747488429395215,
          null,
          -11.656989111466734,
          -11.587003608282531,
          -11.729412887954158,
          null,
          -27.813271962820682,
          -27.907238532961095,
          -27.81428709072998,
          null,
          -31.234726971921738,
          -31.252346836965792,
          -31.315942099003227,
          null,
          -21.6583690434115,
          -21.67951212791323,
          -21.63229679448134,
          null,
          -29.170553943464263,
          -29.254018672175835,
          -29.181375173408693,
          null,
          1.9817101859811623,
          1.9424498519413558,
          2.0663886184974576,
          null,
          -20.430925889681735,
          -20.44698512761196,
          -20.6941605289178,
          null,
          -13.434737920105809,
          -13.421456348089517,
          -13.397991307082448,
          null,
          -18.629827650190872,
          -18.64400522355465,
          -18.60399669194269,
          null,
          -25.080539962926714,
          -25.15007526978637,
          -25.1080316722116,
          null,
          -22.56731788831341,
          -22.567798739256588,
          -22.56603088063343,
          null,
          -26.515696116334826,
          -26.49912281704451,
          -26.477203173334313,
          null,
          -2.596664106171819,
          -2.4359069499446138,
          -2.5930597102897828,
          null,
          -26.379970707135367,
          -26.46008462584649,
          -26.39691486991362,
          null,
          -21.454307378578005,
          -21.447354117675587,
          -21.453042182721912,
          null,
          -6.1969619523982535,
          -6.128051725041054,
          -6.308763891144549,
          null,
          -22.442319587954522,
          -22.489363083833716,
          -22.40398635562361,
          null,
          0.750638088851833,
          0.8857303423100802,
          0.48395988855427263,
          null,
          -21.821453610322873,
          -21.82798886473343,
          -21.885802954222022,
          null,
          -10.184797168154601,
          -10.061642034325788,
          -10.167858590293992,
          null,
          -8.72310855433608,
          -8.742127246956363,
          -8.71158176276808,
          null,
          -18.537381735577384,
          -18.607686892280498,
          -18.6008073340136,
          null,
          -19.381893566764397,
          -19.40245447506348,
          -19.60352426823754,
          null,
          -17.147452918849748,
          -17.131520842774957,
          -17.222103675298406,
          null,
          -14.90934828969142,
          -14.942602257370982,
          -14.946183065769077,
          null,
          -17.947459262420026,
          -18.038228568425524,
          -18.088680495733094,
          null,
          -24.272153929379368,
          -24.307854138992845,
          -24.289970602414407,
          null,
          -25.471260000967995,
          -25.49519796223956,
          -25.47181697879179,
          null,
          2.458555020284142,
          2.1524672043467,
          2.3692176646902685,
          null,
          6.274536733535942,
          5.895614564586658,
          6.331339010354076,
          null,
          5.689504742956656,
          5.765865051091706,
          5.787152645924617,
          null,
          -12.710245499725003,
          -12.69197750714788,
          -12.717387243849533,
          null,
          -13.436907504715467,
          -13.418164192410222,
          -13.413945114491105,
          null,
          -17.81045900639973,
          -17.888306466764107,
          -17.86726625052652,
          null,
          -17.796566808311844,
          -17.745101162044023,
          -17.97603947313642,
          null,
          -6.105616326318918,
          -6.086818500460561,
          -6.0994926784845465,
          null,
          -12.08453535168301,
          -12.126645063214479,
          -12.015278216476082,
          null,
          -13.342287956504446,
          -13.348201550335165,
          -13.342874847461578,
          null,
          -35.200391380958344,
          -35.28326267809415,
          -35.12585911949264,
          null,
          4.393281014717234,
          4.340619769622787,
          4.406345328333542,
          null,
          6.690480647022599,
          6.703468586118831,
          6.723367341767901,
          null,
          1.4808333692944018,
          1.2675645533776865,
          1.344343066732336,
          null,
          -7.682992784982333,
          -7.690088053080836,
          -7.684823965941289,
          null,
          -4.865750252441739,
          -4.785827055442897,
          -4.943141855472197,
          null,
          -13.418204022459376,
          -13.406608946349483,
          -13.421280022753642,
          null,
          7.061463276034856,
          6.999638395741975,
          7.1085525379689045,
          null,
          1.4749274451001364,
          1.5702530089767985,
          1.3997483432672828,
          null,
          -0.8618579369143727,
          -0.8066415782022425,
          -0.8982116306095392,
          null,
          -3.7472634340267463,
          -3.688702633727173,
          -3.7371948436587603,
          null,
          -7.418994691619648,
          -7.430926016005241,
          -7.411486333189811,
          null,
          -13.498160710749254,
          -13.511816945983316,
          -13.505401404294291,
          null,
          -14.6154555106685,
          -14.626374662454737,
          -14.61847987910078,
          null,
          -9.477533247216892,
          -9.462953329992642,
          -9.47269079073398,
          null,
          -1.3881328135866708,
          -1.1430279672419772,
          -1.4251511038208244,
          null,
          -13.696595258106054,
          -13.692744554551622,
          -13.71265246152505,
          null,
          -20.75590935667814,
          -20.75382926191198,
          -20.765009361076114,
          null,
          -19.527242627700915,
          -19.478986227880174,
          -19.49505272802573,
          null,
          13.326403155324643,
          13.284919408098483,
          13.292979808274728,
          null,
          -15.281624519623817,
          -15.348227596728556,
          -15.340343203970656,
          null,
          1.7590652972794287,
          1.52931513926496,
          1.4376711981579098,
          null,
          -7.740069955602896,
          -7.74940323450893,
          -7.774513595729552,
          null,
          -13.674529220404617,
          -13.622123125633689,
          -13.654620816164204,
          null,
          -3.390526315284067,
          -3.368900694933401,
          -3.3791337502892382,
          null,
          12.02419750153047,
          12.010984011610498,
          12.020491955770469,
          null,
          -18.574477537003542,
          -18.593818583867662,
          -18.60498778670616,
          null,
          15.831788995362297,
          15.805610818534065,
          15.818243642219507,
          null,
          -14.124021655195657,
          -14.092490211810903,
          -14.10313967644254,
          null,
          8.994195171944117,
          8.925933363430865,
          9.004666552531315,
          null,
          -0.38788673191639994,
          -0.4605947625905124,
          -0.4901738387386765,
          null,
          0.5800423318347858,
          0.6979759219534875,
          0.803593463570763,
          null,
          -4.262656363647606,
          -4.244222048238689,
          -4.269363839192818,
          null,
          20.685450904227206,
          20.669956597537414,
          20.678628523638057,
          null,
          -12.988485003411322,
          -12.946641347357735,
          -12.98809391875848,
          null,
          -35.31724884099414,
          -35.53683041741973,
          -35.10588423066041,
          null,
          22.366320101389412,
          22.28124830541551,
          22.319076306835658,
          null,
          -13.240196934396922,
          -13.181554681967665,
          -13.183600830125673,
          null,
          12.112076035915058,
          12.088771337680058,
          12.12036192390812,
          null,
          -12.860350804651693,
          -12.933956971940463,
          -12.888554955608447,
          null,
          27.675933984006825,
          27.674880218976732,
          27.673394556780206,
          null,
          3.736633521014977,
          3.7555520686639783,
          3.714046168483269,
          null,
          1.2091885936530187,
          1.176903387499851,
          1.12157987229613,
          null,
          22.04321837082888,
          22.04272462466971,
          22.044504659778223,
          null,
          -0.1390989549944036,
          -0.02354463388361322,
          -0.16042399590453757,
          null,
          29.319290854511898,
          29.31743992297912,
          29.318111386704945,
          null,
          12.772169585860377,
          12.734446248504641,
          12.766614134868435,
          null,
          20.603398173627998,
          20.568602011012185,
          20.591823820681043,
          null,
          25.060622555552552,
          25.061682972819266,
          25.056181734244344,
          null,
          15.630826695569855,
          15.627318138081657,
          15.633738037440517,
          null,
          -19.069010778720504,
          -18.995280632874778,
          -19.094598030572737,
          null,
          14.989259739838317,
          14.970417485374702,
          14.996014592307217,
          null,
          21.410355725762106,
          21.410520293554693,
          21.409539300748232,
          null,
          13.295239595100982,
          13.28107951909931,
          13.297671974839774,
          null,
          12.477093630837286,
          12.481563451877355,
          12.480520760492679,
          null,
          32.88261712289984,
          32.88621228711832,
          32.87740307257141,
          null,
          10.913506463443865,
          10.841690810859118,
          10.922244782861151,
          null,
          22.029021793019957,
          22.018110690834455,
          22.03788771428111,
          null,
          -26.102218529379442,
          -26.101928217547478,
          -26.08970644187797,
          null,
          30.273212332631996,
          30.25906750706491,
          30.265263929294598,
          null,
          16.138506794923217,
          16.10734035705275,
          16.144389762198703,
          null,
          12.454498530883823,
          12.408314303349144,
          12.443900836526604,
          null,
          18.00046469567518,
          17.9948611866872,
          17.996870970529468,
          null,
          22.29344562388334,
          22.289968038515212,
          22.29134808420644,
          null,
          31.551349025565834,
          31.546534718046164,
          31.54908885760398,
          null,
          34.657248164269504,
          34.67438640306866,
          34.642861106269585,
          null,
          28.889965909279866,
          28.884869978340355,
          28.889026665878006,
          null,
          22.263637084445698,
          22.259581744195945,
          22.264319536703237,
          null,
          25.467575406695392,
          25.463717900019496,
          25.465756106080487,
          null,
          21.35170336904504,
          21.35429793269449,
          21.35010783037197,
          null,
          21.508845676655493,
          21.49724720805817,
          21.51082295415935,
          null,
          12.222065898196606,
          12.184306343271782,
          12.22177236949403,
          null,
          19.917690614219282,
          19.917928574573594,
          19.90924511102957,
          null
         ]
        }
       ],
       "layout": {
        "font": {
         "size": 10
        },
        "height": 600,
        "hovermode": "closest",
        "showlegend": false,
        "template": {
         "data": {
          "bar": [
           {
            "error_x": {
             "color": "rgb(36,36,36)"
            },
            "error_y": {
             "color": "rgb(36,36,36)"
            },
            "marker": {
             "line": {
              "color": "white",
              "width": 0.5
             },
             "pattern": {
              "fillmode": "overlay",
              "size": 10,
              "solidity": 0.2
             }
            },
            "type": "bar"
           }
          ],
          "barpolar": [
           {
            "marker": {
             "line": {
              "color": "white",
              "width": 0.5
             },
             "pattern": {
              "fillmode": "overlay",
              "size": 10,
              "solidity": 0.2
             }
            },
            "type": "barpolar"
           }
          ],
          "carpet": [
           {
            "aaxis": {
             "endlinecolor": "rgb(36,36,36)",
             "gridcolor": "white",
             "linecolor": "white",
             "minorgridcolor": "white",
             "startlinecolor": "rgb(36,36,36)"
            },
            "baxis": {
             "endlinecolor": "rgb(36,36,36)",
             "gridcolor": "white",
             "linecolor": "white",
             "minorgridcolor": "white",
             "startlinecolor": "rgb(36,36,36)"
            },
            "type": "carpet"
           }
          ],
          "choropleth": [
           {
            "colorbar": {
             "outlinewidth": 1,
             "tickcolor": "rgb(36,36,36)",
             "ticks": "outside"
            },
            "type": "choropleth"
           }
          ],
          "contour": [
           {
            "colorbar": {
             "outlinewidth": 1,
             "tickcolor": "rgb(36,36,36)",
             "ticks": "outside"
            },
            "colorscale": [
             [
              0,
              "#440154"
             ],
             [
              0.1111111111111111,
              "#482878"
             ],
             [
              0.2222222222222222,
              "#3e4989"
             ],
             [
              0.3333333333333333,
              "#31688e"
             ],
             [
              0.4444444444444444,
              "#26828e"
             ],
             [
              0.5555555555555556,
              "#1f9e89"
             ],
             [
              0.6666666666666666,
              "#35b779"
             ],
             [
              0.7777777777777778,
              "#6ece58"
             ],
             [
              0.8888888888888888,
              "#b5de2b"
             ],
             [
              1,
              "#fde725"
             ]
            ],
            "type": "contour"
           }
          ],
          "contourcarpet": [
           {
            "colorbar": {
             "outlinewidth": 1,
             "tickcolor": "rgb(36,36,36)",
             "ticks": "outside"
            },
            "type": "contourcarpet"
           }
          ],
          "heatmap": [
           {
            "colorbar": {
             "outlinewidth": 1,
             "tickcolor": "rgb(36,36,36)",
             "ticks": "outside"
            },
            "colorscale": [
             [
              0,
              "#440154"
             ],
             [
              0.1111111111111111,
              "#482878"
             ],
             [
              0.2222222222222222,
              "#3e4989"
             ],
             [
              0.3333333333333333,
              "#31688e"
             ],
             [
              0.4444444444444444,
              "#26828e"
             ],
             [
              0.5555555555555556,
              "#1f9e89"
             ],
             [
              0.6666666666666666,
              "#35b779"
             ],
             [
              0.7777777777777778,
              "#6ece58"
             ],
             [
              0.8888888888888888,
              "#b5de2b"
             ],
             [
              1,
              "#fde725"
             ]
            ],
            "type": "heatmap"
           }
          ],
          "heatmapgl": [
           {
            "colorbar": {
             "outlinewidth": 1,
             "tickcolor": "rgb(36,36,36)",
             "ticks": "outside"
            },
            "colorscale": [
             [
              0,
              "#440154"
             ],
             [
              0.1111111111111111,
              "#482878"
             ],
             [
              0.2222222222222222,
              "#3e4989"
             ],
             [
              0.3333333333333333,
              "#31688e"
             ],
             [
              0.4444444444444444,
              "#26828e"
             ],
             [
              0.5555555555555556,
              "#1f9e89"
             ],
             [
              0.6666666666666666,
              "#35b779"
             ],
             [
              0.7777777777777778,
              "#6ece58"
             ],
             [
              0.8888888888888888,
              "#b5de2b"
             ],
             [
              1,
              "#fde725"
             ]
            ],
            "type": "heatmapgl"
           }
          ],
          "histogram": [
           {
            "marker": {
             "line": {
              "color": "white",
              "width": 0.6
             }
            },
            "type": "histogram"
           }
          ],
          "histogram2d": [
           {
            "colorbar": {
             "outlinewidth": 1,
             "tickcolor": "rgb(36,36,36)",
             "ticks": "outside"
            },
            "colorscale": [
             [
              0,
              "#440154"
             ],
             [
              0.1111111111111111,
              "#482878"
             ],
             [
              0.2222222222222222,
              "#3e4989"
             ],
             [
              0.3333333333333333,
              "#31688e"
             ],
             [
              0.4444444444444444,
              "#26828e"
             ],
             [
              0.5555555555555556,
              "#1f9e89"
             ],
             [
              0.6666666666666666,
              "#35b779"
             ],
             [
              0.7777777777777778,
              "#6ece58"
             ],
             [
              0.8888888888888888,
              "#b5de2b"
             ],
             [
              1,
              "#fde725"
             ]
            ],
            "type": "histogram2d"
           }
          ],
          "histogram2dcontour": [
           {
            "colorbar": {
             "outlinewidth": 1,
             "tickcolor": "rgb(36,36,36)",
             "ticks": "outside"
            },
            "colorscale": [
             [
              0,
              "#440154"
             ],
             [
              0.1111111111111111,
              "#482878"
             ],
             [
              0.2222222222222222,
              "#3e4989"
             ],
             [
              0.3333333333333333,
              "#31688e"
             ],
             [
              0.4444444444444444,
              "#26828e"
             ],
             [
              0.5555555555555556,
              "#1f9e89"
             ],
             [
              0.6666666666666666,
              "#35b779"
             ],
             [
              0.7777777777777778,
              "#6ece58"
             ],
             [
              0.8888888888888888,
              "#b5de2b"
             ],
             [
              1,
              "#fde725"
             ]
            ],
            "type": "histogram2dcontour"
           }
          ],
          "mesh3d": [
           {
            "colorbar": {
             "outlinewidth": 1,
             "tickcolor": "rgb(36,36,36)",
             "ticks": "outside"
            },
            "type": "mesh3d"
           }
          ],
          "parcoords": [
           {
            "line": {
             "colorbar": {
              "outlinewidth": 1,
              "tickcolor": "rgb(36,36,36)",
              "ticks": "outside"
             }
            },
            "type": "parcoords"
           }
          ],
          "pie": [
           {
            "automargin": true,
            "type": "pie"
           }
          ],
          "scatter": [
           {
            "fillpattern": {
             "fillmode": "overlay",
             "size": 10,
             "solidity": 0.2
            },
            "type": "scatter"
           }
          ],
          "scatter3d": [
           {
            "line": {
             "colorbar": {
              "outlinewidth": 1,
              "tickcolor": "rgb(36,36,36)",
              "ticks": "outside"
             }
            },
            "marker": {
             "colorbar": {
              "outlinewidth": 1,
              "tickcolor": "rgb(36,36,36)",
              "ticks": "outside"
             }
            },
            "type": "scatter3d"
           }
          ],
          "scattercarpet": [
           {
            "marker": {
             "colorbar": {
              "outlinewidth": 1,
              "tickcolor": "rgb(36,36,36)",
              "ticks": "outside"
             }
            },
            "type": "scattercarpet"
           }
          ],
          "scattergeo": [
           {
            "marker": {
             "colorbar": {
              "outlinewidth": 1,
              "tickcolor": "rgb(36,36,36)",
              "ticks": "outside"
             }
            },
            "type": "scattergeo"
           }
          ],
          "scattergl": [
           {
            "marker": {
             "colorbar": {
              "outlinewidth": 1,
              "tickcolor": "rgb(36,36,36)",
              "ticks": "outside"
             }
            },
            "type": "scattergl"
           }
          ],
          "scattermapbox": [
           {
            "marker": {
             "colorbar": {
              "outlinewidth": 1,
              "tickcolor": "rgb(36,36,36)",
              "ticks": "outside"
             }
            },
            "type": "scattermapbox"
           }
          ],
          "scatterpolar": [
           {
            "marker": {
             "colorbar": {
              "outlinewidth": 1,
              "tickcolor": "rgb(36,36,36)",
              "ticks": "outside"
             }
            },
            "type": "scatterpolar"
           }
          ],
          "scatterpolargl": [
           {
            "marker": {
             "colorbar": {
              "outlinewidth": 1,
              "tickcolor": "rgb(36,36,36)",
              "ticks": "outside"
             }
            },
            "type": "scatterpolargl"
           }
          ],
          "scatterternary": [
           {
            "marker": {
             "colorbar": {
              "outlinewidth": 1,
              "tickcolor": "rgb(36,36,36)",
              "ticks": "outside"
             }
            },
            "type": "scatterternary"
           }
          ],
          "surface": [
           {
            "colorbar": {
             "outlinewidth": 1,
             "tickcolor": "rgb(36,36,36)",
             "ticks": "outside"
            },
            "colorscale": [
             [
              0,
              "#440154"
             ],
             [
              0.1111111111111111,
              "#482878"
             ],
             [
              0.2222222222222222,
              "#3e4989"
             ],
             [
              0.3333333333333333,
              "#31688e"
             ],
             [
              0.4444444444444444,
              "#26828e"
             ],
             [
              0.5555555555555556,
              "#1f9e89"
             ],
             [
              0.6666666666666666,
              "#35b779"
             ],
             [
              0.7777777777777778,
              "#6ece58"
             ],
             [
              0.8888888888888888,
              "#b5de2b"
             ],
             [
              1,
              "#fde725"
             ]
            ],
            "type": "surface"
           }
          ],
          "table": [
           {
            "cells": {
             "fill": {
              "color": "rgb(237,237,237)"
             },
             "line": {
              "color": "white"
             }
            },
            "header": {
             "fill": {
              "color": "rgb(217,217,217)"
             },
             "line": {
              "color": "white"
             }
            },
            "type": "table"
           }
          ]
         },
         "layout": {
          "annotationdefaults": {
           "arrowhead": 0,
           "arrowwidth": 1
          },
          "autotypenumbers": "strict",
          "coloraxis": {
           "colorbar": {
            "outlinewidth": 1,
            "tickcolor": "rgb(36,36,36)",
            "ticks": "outside"
           }
          },
          "colorscale": {
           "diverging": [
            [
             0,
             "rgb(103,0,31)"
            ],
            [
             0.1,
             "rgb(178,24,43)"
            ],
            [
             0.2,
             "rgb(214,96,77)"
            ],
            [
             0.3,
             "rgb(244,165,130)"
            ],
            [
             0.4,
             "rgb(253,219,199)"
            ],
            [
             0.5,
             "rgb(247,247,247)"
            ],
            [
             0.6,
             "rgb(209,229,240)"
            ],
            [
             0.7,
             "rgb(146,197,222)"
            ],
            [
             0.8,
             "rgb(67,147,195)"
            ],
            [
             0.9,
             "rgb(33,102,172)"
            ],
            [
             1,
             "rgb(5,48,97)"
            ]
           ],
           "sequential": [
            [
             0,
             "#440154"
            ],
            [
             0.1111111111111111,
             "#482878"
            ],
            [
             0.2222222222222222,
             "#3e4989"
            ],
            [
             0.3333333333333333,
             "#31688e"
            ],
            [
             0.4444444444444444,
             "#26828e"
            ],
            [
             0.5555555555555556,
             "#1f9e89"
            ],
            [
             0.6666666666666666,
             "#35b779"
            ],
            [
             0.7777777777777778,
             "#6ece58"
            ],
            [
             0.8888888888888888,
             "#b5de2b"
            ],
            [
             1,
             "#fde725"
            ]
           ],
           "sequentialminus": [
            [
             0,
             "#440154"
            ],
            [
             0.1111111111111111,
             "#482878"
            ],
            [
             0.2222222222222222,
             "#3e4989"
            ],
            [
             0.3333333333333333,
             "#31688e"
            ],
            [
             0.4444444444444444,
             "#26828e"
            ],
            [
             0.5555555555555556,
             "#1f9e89"
            ],
            [
             0.6666666666666666,
             "#35b779"
            ],
            [
             0.7777777777777778,
             "#6ece58"
            ],
            [
             0.8888888888888888,
             "#b5de2b"
            ],
            [
             1,
             "#fde725"
            ]
           ]
          },
          "colorway": [
           "#1F77B4",
           "#FF7F0E",
           "#2CA02C",
           "#D62728",
           "#9467BD",
           "#8C564B",
           "#E377C2",
           "#7F7F7F",
           "#BCBD22",
           "#17BECF"
          ],
          "font": {
           "color": "rgb(36,36,36)"
          },
          "geo": {
           "bgcolor": "white",
           "lakecolor": "white",
           "landcolor": "white",
           "showlakes": true,
           "showland": true,
           "subunitcolor": "white"
          },
          "hoverlabel": {
           "align": "left"
          },
          "hovermode": "closest",
          "mapbox": {
           "style": "light"
          },
          "paper_bgcolor": "white",
          "plot_bgcolor": "white",
          "polar": {
           "angularaxis": {
            "gridcolor": "rgb(232,232,232)",
            "linecolor": "rgb(36,36,36)",
            "showgrid": false,
            "showline": true,
            "ticks": "outside"
           },
           "bgcolor": "white",
           "radialaxis": {
            "gridcolor": "rgb(232,232,232)",
            "linecolor": "rgb(36,36,36)",
            "showgrid": false,
            "showline": true,
            "ticks": "outside"
           }
          },
          "scene": {
           "xaxis": {
            "backgroundcolor": "white",
            "gridcolor": "rgb(232,232,232)",
            "gridwidth": 2,
            "linecolor": "rgb(36,36,36)",
            "showbackground": true,
            "showgrid": false,
            "showline": true,
            "ticks": "outside",
            "zeroline": false,
            "zerolinecolor": "rgb(36,36,36)"
           },
           "yaxis": {
            "backgroundcolor": "white",
            "gridcolor": "rgb(232,232,232)",
            "gridwidth": 2,
            "linecolor": "rgb(36,36,36)",
            "showbackground": true,
            "showgrid": false,
            "showline": true,
            "ticks": "outside",
            "zeroline": false,
            "zerolinecolor": "rgb(36,36,36)"
           },
           "zaxis": {
            "backgroundcolor": "white",
            "gridcolor": "rgb(232,232,232)",
            "gridwidth": 2,
            "linecolor": "rgb(36,36,36)",
            "showbackground": true,
            "showgrid": false,
            "showline": true,
            "ticks": "outside",
            "zeroline": false,
            "zerolinecolor": "rgb(36,36,36)"
           }
          },
          "shapedefaults": {
           "fillcolor": "black",
           "line": {
            "width": 0
           },
           "opacity": 0.3
          },
          "ternary": {
           "aaxis": {
            "gridcolor": "rgb(232,232,232)",
            "linecolor": "rgb(36,36,36)",
            "showgrid": false,
            "showline": true,
            "ticks": "outside"
           },
           "baxis": {
            "gridcolor": "rgb(232,232,232)",
            "linecolor": "rgb(36,36,36)",
            "showgrid": false,
            "showline": true,
            "ticks": "outside"
           },
           "bgcolor": "white",
           "caxis": {
            "gridcolor": "rgb(232,232,232)",
            "linecolor": "rgb(36,36,36)",
            "showgrid": false,
            "showline": true,
            "ticks": "outside"
           }
          },
          "title": {
           "x": 0.05
          },
          "xaxis": {
           "automargin": true,
           "gridcolor": "rgb(232,232,232)",
           "linecolor": "rgb(36,36,36)",
           "showgrid": false,
           "showline": true,
           "ticks": "outside",
           "title": {
            "standoff": 15
           },
           "zeroline": false,
           "zerolinecolor": "rgb(36,36,36)"
          },
          "yaxis": {
           "automargin": true,
           "gridcolor": "rgb(232,232,232)",
           "linecolor": "rgb(36,36,36)",
           "showgrid": false,
           "showline": true,
           "ticks": "outside",
           "title": {
            "standoff": 15
           },
           "zeroline": false,
           "zerolinecolor": "rgb(36,36,36)"
          }
         }
        },
        "title": {
         "text": "Vector field for GDP"
        },
        "width": 600,
        "xaxis": {
         "mirror": true,
         "showgrid": false,
         "zeroline": false
        },
        "yaxis": {
         "mirror": true,
         "showgrid": false,
         "zeroline": false
        }
       }
      }
     },
     "metadata": {},
     "output_type": "display_data"
    }
   ],
   "source": [
    "explainer.plot_arrow_fields(feature_id)"
   ]
  },
  {
   "cell_type": "markdown",
   "metadata": {},
   "source": [
    "##### PLOT ARROW WITH CONTOUR VALUE OF THE FEATURE IN HD"
   ]
  },
  {
   "cell_type": "code",
   "execution_count": 11,
   "metadata": {},
   "outputs": [
    {
     "data": {
      "application/vnd.plotly.v1+json": {
       "config": {
        "plotlyServerURL": "https://plot.ly"
       },
       "data": [
        {
         "line": {
          "color": "#00f514",
          "width": 3
         },
         "mode": "lines",
         "type": "scatter",
         "x": [
          -32.9284652185541,
          -30.668383180821085,
          null,
          -31.362535997199036,
          -30.668383180821085,
          -31.24849981238023,
          null
         ],
         "y": [
          14.160218196849636,
          13.60451903193125,
          null,
          13.529276878584495,
          13.60451903193125,
          13.993073028068425,
          null
         ]
        },
        {
         "marker": {
          "color": "crimson",
          "size": 12
         },
         "showlegend": false,
         "type": "scatter",
         "x": [
          -32.9284652185541
         ],
         "y": [
          14.160218196849636
         ]
        },
        {
         "type": "contour",
         "x": [
          -38.87454953803157,
          -35.905313603849955,
          -33.57934605345161,
          -34.35780949853687,
          -36.92953991821367,
          -31.269882146591538,
          -25.604256771769435,
          -23.301394152250907,
          -37.87554489141438,
          -35.82951839585211,
          -35.9462803941838,
          -36.45802713377117,
          -35.01923541646399,
          -32.9284652185541,
          -35.59056984886919,
          -27.147592598187924,
          -28.350974622242536,
          -26.96599630563207,
          -29.692809368709575,
          -30.068363115668557,
          -24.874394030886343,
          -2.469578410869182,
          -2.729049300879983,
          -0.2730980253903988,
          0.7279996107376382,
          -13.943759266132252,
          -29.762841206040946,
          0.4998385110791165,
          -12.352575386844892,
          -14.829930219860579,
          12.332510289349415,
          -10.487494444114493,
          5.68838143853691,
          -19.176049451450343,
          13.80673941508967,
          8.202287235156287,
          -13.984279600843177,
          -11.634515700649834,
          -12.758322269237297,
          7.30511803190554,
          -10.715550981805828,
          -11.920885285766479,
          13.309163445061756,
          11.625793420211469,
          10.78321933563621,
          -14.107064446745971,
          -2.373384678772237,
          7.797947510180492,
          17.24902689483527,
          -18.733811706816756,
          0.3184652594520961,
          1.4573176602426479,
          -20.52678496116204,
          -10.365247208109448,
          -7.174298730789052,
          10.994774022685709,
          10.199113291426158,
          4.021722923308313,
          -16.09267922785612,
          -5.571987500570479,
          16.262552623100976,
          -17.628026413807767,
          17.568338151226516,
          -6.646241362066231,
          -14.542061376126455,
          9.703249214476442,
          4.855855846882184,
          3.3599612287560943,
          14.596983741866534,
          18.766926458109722,
          14.72042687953594,
          2.252286081910392,
          -2.0263281581301245,
          21.749050197202624,
          21.25622470501854,
          10.228093845196295,
          8.63491809892865,
          19.797642376987312,
          -12.819191603999045,
          -7.818032100082717,
          10.978377560349934,
          15.398252965408727,
          -1.1105402065875718,
          -11.230470164619993,
          2.9972888628093144,
          16.507403031358546,
          12.41276007189194,
          -8.883455064544272,
          -9.92197346517957,
          19.39262458126039,
          3.9359380062932487,
          -13.59560746965413,
          13.059312769866466,
          -9.369779114260687,
          4.4369218761679186,
          16.535555404988248,
          7.867808966231853,
          17.874056748751645,
          24.38657214007602,
          4.450380708247004,
          10.209472694340704,
          6.331380118798199,
          11.950866257837854,
          12.003775270586708,
          21.84899132275002,
          13.432979304723633,
          17.794847977562675,
          16.633295801004948,
          23.663203171268776,
          23.69838327057461,
          9.89804325977691,
          24.40210353611728,
          9.536615945078147,
          14.949675246190331,
          16.087513743908165,
          -0.051282913883280795,
          20.98337099530101,
          13.555717258326112,
          26.3563399690124,
          13.854698930647215,
          11.754387634401363,
          22.297095901703212,
          11.474180393539411,
          -4.756163356784036,
          8.465078531033615,
          17.667206795280148,
          23.134732934419564,
          13.905142734512504,
          10.037624900107831,
          11.349429745770216,
          12.884183740867432,
          11.892185814624987,
          19.08839205172512,
          20.830404641986124,
          16.237294550931402,
          17.55065289141644,
          17.885093359516343,
          15.002661670129267
         ],
         "y": [
          9.226808648130522,
          6.245797519646558,
          7.928316236184327,
          17.039053865486082,
          9.317839978063343,
          7.217207392533315,
          12.69059816297715,
          12.40187003727448,
          12.458056341408378,
          13.61278461185534,
          8.560145248570329,
          17.447200274803553,
          15.022046672792813,
          14.160218196849636,
          11.51428405290481,
          14.268932457830683,
          13.345650811834462,
          15.217224262982022,
          11.744057416114957,
          6.946687016250702,
          16.454636027811745,
          -5.566915766612388,
          -2.709532644420216,
          -10.211374590904787,
          -7.94371680318568,
          -29.723619825827498,
          16.155946125757715,
          -11.963713286457567,
          -27.575715209559167,
          -31.333890162900982,
          -21.558269613035606,
          -28.977140495870067,
          2.231904610845066,
          -20.856899600819023,
          -13.403394645845045,
          -18.54789914273427,
          -24.952175619825816,
          -22.563810361361178,
          -26.489640382218454,
          -2.999761394721268,
          -26.20595245632181,
          -21.46977514782438,
          -6.570789396096234,
          -22.254498651996858,
          -0.06646525750398749,
          -21.918938525547595,
          -10.468462457521166,
          -8.654218754838459,
          -18.470789795537208,
          -19.722610380094086,
          -17.320438839720875,
          -14.88997306312686,
          -17.966720471334146,
          -24.212816419553803,
          -25.411271680260676,
          3.079788658043152,
          7.340495930927096,
          5.668186455481582,
          -12.7694456215657,
          -13.443924804736803,
          -17.71291635441144,
          -18.245981185847327,
          -6.142638178772002,
          -11.854434493369652,
          -13.328265427153905,
          -34.85710407682664,
          4.550594111562723,
          6.715725815060813,
          1.7820010880053343,
          -7.668167134536726,
          -5.206599394149656,
          -13.453195372472678,
          7.302466183508385,
          1.0987686396804999,
          -1.0669863048935846,
          -3.8785750236682355,
          -7.37528546839939,
          -13.476217047890575,
          -14.59300570980641,
          -9.506083351852432,
          -2.078135134666214,
          -13.734883529932723,
          -20.777347934644208,
          -19.593071228555715,
          13.37279237546833,
          -15.21611441380224,
          1.7742644163876464,
          -7.7773859350317744,
          -13.772710994161795,
          -3.4254061858456986,
          12.051283420121585,
          -18.579324759247314,
          15.874447158657734,
          -14.167303519700727,
          9.186648045306951,
          -0.384099971329448,
          0.6761318135202325,
          -4.321509921243022,
          20.712818543837518,
          -13.094378003671062,
          -34.38303510748664,
          22.499227026463085,
          -13.289193426887802,
          12.186135240245614,
          -12.722880532353843,
          27.67411419336921,
          3.6483814781731305,
          1.136041960154802,
          22.046757470477274,
          -0.47126849157194395,
          29.32191371792513,
          12.858407393127084,
          20.671504405194632,
          25.050045025657088,
          15.644927543234367,
          -19.302202881909356,
          15.049236453076011,
          21.408488493343807,
          13.335623120311547,
          12.471786296555837,
          32.86421151351249,
          11.111938090335368,
          22.072540059462273,
          -26.080766219865787,
          30.295145346681167,
          16.228329996834056,
          12.553345346662988,
          18.008364348362704,
          22.29858367684897,
          31.559603614042043,
          34.58807531487912,
          28.90128069654135,
          22.275177504913405,
          25.474174710765325,
          21.34226444815942,
          21.541896940927646,
          12.31772866223561,
          19.902105272887855
         ],
         "z": [
          -0.03815796288573456,
          -0.24904166653047938,
          0.3050709990783057,
          -0.09887899567121174,
          0.04720605838786326,
          0.6070805738230075,
          3.8379713810712874,
          10.121933445542057,
          0.05704552501441505,
          0.2533916383280383,
          -0.09506731040146645,
          -0.23157882936443705,
          0.05243604515332775,
          -0.0007502609361413104,
          -0.04586997726870756,
          1.5543286852764515,
          1.2274101905131816,
          1.6232935955057965,
          0.6619511129386432,
          -0.17218745423119658,
          2.1695169590446435,
          -0.15623156240435584,
          -0.0779590486093539,
          -0.16518459059608315,
          0.3426559887148639,
          -0.23131289783398967,
          -0.11120048991527207,
          -0.24620506353904104,
          -0.16500730290911825,
          -0.2551580917307683,
          -0.2104815946156143,
          -0.1705918650485125,
          -0.12423113490719198,
          -0.04507218267736552,
          -0.1764423587183541,
          -0.2501053926522687,
          -0.24992810496530385,
          -0.24008863833875205,
          -0.22342359576405177,
          -0.24815522809565488,
          -0.22945137712085825,
          -0.24780065272172505,
          -0.24345710439108512,
          -0.16748933052662682,
          0.3398193857234255,
          -0.23849304915606798,
          -0.24877573500003203,
          -0.24771200887824266,
          -0.2383157614691031,
          -0.19496892200618582,
          -0.15499054859560157,
          -0.25453758482639116,
          0.25551909057161704,
          -0.25506944788728586,
          -0.2395567752778574,
          0.27555259919865044,
          -0.17325118035298598,
          -0.16225934376116236,
          -0.25311928333067196,
          -0.11651912052421898,
          -0.037714743668322316,
          -0.20241500485871147,
          -0.2405318575561643,
          -0.22377817113798157,
          -0.25710825628738215,
          1.4524769091151182,
          -0.19904653880637846,
          -0.2329971308601562,
          -0.1848635238491867,
          -0.2496621734348565,
          -0.2348586515732876,
          -0.2575514755047944,
          -0.2533852148611193,
          0.008557342629515774,
          -0.24203880289536592,
          -0.24327981670412022,
          -0.2588811331570311,
          -0.11501217518501734,
          -0.25524673557425076,
          -0.25232148873932997,
          -0.2458504881651112,
          -0.1848635238491867,
          -0.25914706468747845,
          -0.25196691336540017,
          -0.25905842084399605,
          -0.23858169299955045,
          -0.031509674624550905,
          -0.21978919818127138,
          -0.2579060508787242,
          -0.1900048667711687,
          -0.2557785986351454,
          -0.2575514755047944,
          -0.2520555572088826,
          -0.25843791393961885,
          -0.2532965710176369,
          -0.23547915847766476,
          -0.07122211650468781,
          -0.21553429369411387,
          -0.2534738587046018,
          -0.2548035163568385,
          0.3528500307153455,
          -0.2555126671046981,
          -0.2518782695219177,
          -0.25764011934827685,
          -0.17466948184870515,
          -0.25196691336540017,
          -0.20968380002427225,
          -0.253917077922014,
          -0.2563991055395226,
          -0.24115236446054142,
          -0.25382843407853156,
          -0.25799469472220665,
          -0.255689954791663,
          -0.25595588632211036,
          -0.2470915019738655,
          -0.2577287631917593,
          -0.24850980346958465,
          -0.24558455663466386,
          -0.2595016400614083,
          -0.25294199564370706,
          -0.258260626252654,
          -0.19594400428449277,
          -0.2563991055395226,
          -0.24257066595626062,
          -0.2501940364957512,
          -0.25622181785255765,
          -0.24611641969555856,
          -0.25506944788728586,
          -0.25817198240917155,
          -0.2544489409829087,
          -0.25923570853096095,
          -0.2527647079567422,
          -0.25613317400907526,
          -0.25870384547006625,
          -0.25560131094818056,
          -0.2555126671046981,
          -0.2588811331570311,
          -0.25710825628738215
         ]
        }
       ],
       "layout": {
        "font": {
         "size": 10
        },
        "height": 600,
        "hovermode": "closest",
        "showlegend": false,
        "template": {
         "data": {
          "bar": [
           {
            "error_x": {
             "color": "#2a3f5f"
            },
            "error_y": {
             "color": "#2a3f5f"
            },
            "marker": {
             "line": {
              "color": "#E5ECF6",
              "width": 0.5
             },
             "pattern": {
              "fillmode": "overlay",
              "size": 10,
              "solidity": 0.2
             }
            },
            "type": "bar"
           }
          ],
          "barpolar": [
           {
            "marker": {
             "line": {
              "color": "#E5ECF6",
              "width": 0.5
             },
             "pattern": {
              "fillmode": "overlay",
              "size": 10,
              "solidity": 0.2
             }
            },
            "type": "barpolar"
           }
          ],
          "carpet": [
           {
            "aaxis": {
             "endlinecolor": "#2a3f5f",
             "gridcolor": "white",
             "linecolor": "white",
             "minorgridcolor": "white",
             "startlinecolor": "#2a3f5f"
            },
            "baxis": {
             "endlinecolor": "#2a3f5f",
             "gridcolor": "white",
             "linecolor": "white",
             "minorgridcolor": "white",
             "startlinecolor": "#2a3f5f"
            },
            "type": "carpet"
           }
          ],
          "choropleth": [
           {
            "colorbar": {
             "outlinewidth": 0,
             "ticks": ""
            },
            "type": "choropleth"
           }
          ],
          "contour": [
           {
            "colorbar": {
             "outlinewidth": 0,
             "ticks": ""
            },
            "colorscale": [
             [
              0,
              "#0d0887"
             ],
             [
              0.1111111111111111,
              "#46039f"
             ],
             [
              0.2222222222222222,
              "#7201a8"
             ],
             [
              0.3333333333333333,
              "#9c179e"
             ],
             [
              0.4444444444444444,
              "#bd3786"
             ],
             [
              0.5555555555555556,
              "#d8576b"
             ],
             [
              0.6666666666666666,
              "#ed7953"
             ],
             [
              0.7777777777777778,
              "#fb9f3a"
             ],
             [
              0.8888888888888888,
              "#fdca26"
             ],
             [
              1,
              "#f0f921"
             ]
            ],
            "type": "contour"
           }
          ],
          "contourcarpet": [
           {
            "colorbar": {
             "outlinewidth": 0,
             "ticks": ""
            },
            "type": "contourcarpet"
           }
          ],
          "heatmap": [
           {
            "colorbar": {
             "outlinewidth": 0,
             "ticks": ""
            },
            "colorscale": [
             [
              0,
              "#0d0887"
             ],
             [
              0.1111111111111111,
              "#46039f"
             ],
             [
              0.2222222222222222,
              "#7201a8"
             ],
             [
              0.3333333333333333,
              "#9c179e"
             ],
             [
              0.4444444444444444,
              "#bd3786"
             ],
             [
              0.5555555555555556,
              "#d8576b"
             ],
             [
              0.6666666666666666,
              "#ed7953"
             ],
             [
              0.7777777777777778,
              "#fb9f3a"
             ],
             [
              0.8888888888888888,
              "#fdca26"
             ],
             [
              1,
              "#f0f921"
             ]
            ],
            "type": "heatmap"
           }
          ],
          "heatmapgl": [
           {
            "colorbar": {
             "outlinewidth": 0,
             "ticks": ""
            },
            "colorscale": [
             [
              0,
              "#0d0887"
             ],
             [
              0.1111111111111111,
              "#46039f"
             ],
             [
              0.2222222222222222,
              "#7201a8"
             ],
             [
              0.3333333333333333,
              "#9c179e"
             ],
             [
              0.4444444444444444,
              "#bd3786"
             ],
             [
              0.5555555555555556,
              "#d8576b"
             ],
             [
              0.6666666666666666,
              "#ed7953"
             ],
             [
              0.7777777777777778,
              "#fb9f3a"
             ],
             [
              0.8888888888888888,
              "#fdca26"
             ],
             [
              1,
              "#f0f921"
             ]
            ],
            "type": "heatmapgl"
           }
          ],
          "histogram": [
           {
            "marker": {
             "pattern": {
              "fillmode": "overlay",
              "size": 10,
              "solidity": 0.2
             }
            },
            "type": "histogram"
           }
          ],
          "histogram2d": [
           {
            "colorbar": {
             "outlinewidth": 0,
             "ticks": ""
            },
            "colorscale": [
             [
              0,
              "#0d0887"
             ],
             [
              0.1111111111111111,
              "#46039f"
             ],
             [
              0.2222222222222222,
              "#7201a8"
             ],
             [
              0.3333333333333333,
              "#9c179e"
             ],
             [
              0.4444444444444444,
              "#bd3786"
             ],
             [
              0.5555555555555556,
              "#d8576b"
             ],
             [
              0.6666666666666666,
              "#ed7953"
             ],
             [
              0.7777777777777778,
              "#fb9f3a"
             ],
             [
              0.8888888888888888,
              "#fdca26"
             ],
             [
              1,
              "#f0f921"
             ]
            ],
            "type": "histogram2d"
           }
          ],
          "histogram2dcontour": [
           {
            "colorbar": {
             "outlinewidth": 0,
             "ticks": ""
            },
            "colorscale": [
             [
              0,
              "#0d0887"
             ],
             [
              0.1111111111111111,
              "#46039f"
             ],
             [
              0.2222222222222222,
              "#7201a8"
             ],
             [
              0.3333333333333333,
              "#9c179e"
             ],
             [
              0.4444444444444444,
              "#bd3786"
             ],
             [
              0.5555555555555556,
              "#d8576b"
             ],
             [
              0.6666666666666666,
              "#ed7953"
             ],
             [
              0.7777777777777778,
              "#fb9f3a"
             ],
             [
              0.8888888888888888,
              "#fdca26"
             ],
             [
              1,
              "#f0f921"
             ]
            ],
            "type": "histogram2dcontour"
           }
          ],
          "mesh3d": [
           {
            "colorbar": {
             "outlinewidth": 0,
             "ticks": ""
            },
            "type": "mesh3d"
           }
          ],
          "parcoords": [
           {
            "line": {
             "colorbar": {
              "outlinewidth": 0,
              "ticks": ""
             }
            },
            "type": "parcoords"
           }
          ],
          "pie": [
           {
            "automargin": true,
            "type": "pie"
           }
          ],
          "scatter": [
           {
            "fillpattern": {
             "fillmode": "overlay",
             "size": 10,
             "solidity": 0.2
            },
            "type": "scatter"
           }
          ],
          "scatter3d": [
           {
            "line": {
             "colorbar": {
              "outlinewidth": 0,
              "ticks": ""
             }
            },
            "marker": {
             "colorbar": {
              "outlinewidth": 0,
              "ticks": ""
             }
            },
            "type": "scatter3d"
           }
          ],
          "scattercarpet": [
           {
            "marker": {
             "colorbar": {
              "outlinewidth": 0,
              "ticks": ""
             }
            },
            "type": "scattercarpet"
           }
          ],
          "scattergeo": [
           {
            "marker": {
             "colorbar": {
              "outlinewidth": 0,
              "ticks": ""
             }
            },
            "type": "scattergeo"
           }
          ],
          "scattergl": [
           {
            "marker": {
             "colorbar": {
              "outlinewidth": 0,
              "ticks": ""
             }
            },
            "type": "scattergl"
           }
          ],
          "scattermapbox": [
           {
            "marker": {
             "colorbar": {
              "outlinewidth": 0,
              "ticks": ""
             }
            },
            "type": "scattermapbox"
           }
          ],
          "scatterpolar": [
           {
            "marker": {
             "colorbar": {
              "outlinewidth": 0,
              "ticks": ""
             }
            },
            "type": "scatterpolar"
           }
          ],
          "scatterpolargl": [
           {
            "marker": {
             "colorbar": {
              "outlinewidth": 0,
              "ticks": ""
             }
            },
            "type": "scatterpolargl"
           }
          ],
          "scatterternary": [
           {
            "marker": {
             "colorbar": {
              "outlinewidth": 0,
              "ticks": ""
             }
            },
            "type": "scatterternary"
           }
          ],
          "surface": [
           {
            "colorbar": {
             "outlinewidth": 0,
             "ticks": ""
            },
            "colorscale": [
             [
              0,
              "#0d0887"
             ],
             [
              0.1111111111111111,
              "#46039f"
             ],
             [
              0.2222222222222222,
              "#7201a8"
             ],
             [
              0.3333333333333333,
              "#9c179e"
             ],
             [
              0.4444444444444444,
              "#bd3786"
             ],
             [
              0.5555555555555556,
              "#d8576b"
             ],
             [
              0.6666666666666666,
              "#ed7953"
             ],
             [
              0.7777777777777778,
              "#fb9f3a"
             ],
             [
              0.8888888888888888,
              "#fdca26"
             ],
             [
              1,
              "#f0f921"
             ]
            ],
            "type": "surface"
           }
          ],
          "table": [
           {
            "cells": {
             "fill": {
              "color": "#EBF0F8"
             },
             "line": {
              "color": "white"
             }
            },
            "header": {
             "fill": {
              "color": "#C8D4E3"
             },
             "line": {
              "color": "white"
             }
            },
            "type": "table"
           }
          ]
         },
         "layout": {
          "annotationdefaults": {
           "arrowcolor": "#2a3f5f",
           "arrowhead": 0,
           "arrowwidth": 1
          },
          "autotypenumbers": "strict",
          "coloraxis": {
           "colorbar": {
            "outlinewidth": 0,
            "ticks": ""
           }
          },
          "colorscale": {
           "diverging": [
            [
             0,
             "#8e0152"
            ],
            [
             0.1,
             "#c51b7d"
            ],
            [
             0.2,
             "#de77ae"
            ],
            [
             0.3,
             "#f1b6da"
            ],
            [
             0.4,
             "#fde0ef"
            ],
            [
             0.5,
             "#f7f7f7"
            ],
            [
             0.6,
             "#e6f5d0"
            ],
            [
             0.7,
             "#b8e186"
            ],
            [
             0.8,
             "#7fbc41"
            ],
            [
             0.9,
             "#4d9221"
            ],
            [
             1,
             "#276419"
            ]
           ],
           "sequential": [
            [
             0,
             "#0d0887"
            ],
            [
             0.1111111111111111,
             "#46039f"
            ],
            [
             0.2222222222222222,
             "#7201a8"
            ],
            [
             0.3333333333333333,
             "#9c179e"
            ],
            [
             0.4444444444444444,
             "#bd3786"
            ],
            [
             0.5555555555555556,
             "#d8576b"
            ],
            [
             0.6666666666666666,
             "#ed7953"
            ],
            [
             0.7777777777777778,
             "#fb9f3a"
            ],
            [
             0.8888888888888888,
             "#fdca26"
            ],
            [
             1,
             "#f0f921"
            ]
           ],
           "sequentialminus": [
            [
             0,
             "#0d0887"
            ],
            [
             0.1111111111111111,
             "#46039f"
            ],
            [
             0.2222222222222222,
             "#7201a8"
            ],
            [
             0.3333333333333333,
             "#9c179e"
            ],
            [
             0.4444444444444444,
             "#bd3786"
            ],
            [
             0.5555555555555556,
             "#d8576b"
            ],
            [
             0.6666666666666666,
             "#ed7953"
            ],
            [
             0.7777777777777778,
             "#fb9f3a"
            ],
            [
             0.8888888888888888,
             "#fdca26"
            ],
            [
             1,
             "#f0f921"
            ]
           ]
          },
          "colorway": [
           "#636efa",
           "#EF553B",
           "#00cc96",
           "#ab63fa",
           "#FFA15A",
           "#19d3f3",
           "#FF6692",
           "#B6E880",
           "#FF97FF",
           "#FECB52"
          ],
          "font": {
           "color": "#2a3f5f"
          },
          "geo": {
           "bgcolor": "white",
           "lakecolor": "white",
           "landcolor": "#E5ECF6",
           "showlakes": true,
           "showland": true,
           "subunitcolor": "white"
          },
          "hoverlabel": {
           "align": "left"
          },
          "hovermode": "closest",
          "mapbox": {
           "style": "light"
          },
          "paper_bgcolor": "white",
          "plot_bgcolor": "#E5ECF6",
          "polar": {
           "angularaxis": {
            "gridcolor": "white",
            "linecolor": "white",
            "ticks": ""
           },
           "bgcolor": "#E5ECF6",
           "radialaxis": {
            "gridcolor": "white",
            "linecolor": "white",
            "ticks": ""
           }
          },
          "scene": {
           "xaxis": {
            "backgroundcolor": "#E5ECF6",
            "gridcolor": "white",
            "gridwidth": 2,
            "linecolor": "white",
            "showbackground": true,
            "ticks": "",
            "zerolinecolor": "white"
           },
           "yaxis": {
            "backgroundcolor": "#E5ECF6",
            "gridcolor": "white",
            "gridwidth": 2,
            "linecolor": "white",
            "showbackground": true,
            "ticks": "",
            "zerolinecolor": "white"
           },
           "zaxis": {
            "backgroundcolor": "#E5ECF6",
            "gridcolor": "white",
            "gridwidth": 2,
            "linecolor": "white",
            "showbackground": true,
            "ticks": "",
            "zerolinecolor": "white"
           }
          },
          "shapedefaults": {
           "line": {
            "color": "#2a3f5f"
           }
          },
          "ternary": {
           "aaxis": {
            "gridcolor": "white",
            "linecolor": "white",
            "ticks": ""
           },
           "baxis": {
            "gridcolor": "white",
            "linecolor": "white",
            "ticks": ""
           },
           "bgcolor": "#E5ECF6",
           "caxis": {
            "gridcolor": "white",
            "linecolor": "white",
            "ticks": ""
           }
          },
          "title": {
           "x": 0.05
          },
          "xaxis": {
           "automargin": true,
           "gridcolor": "white",
           "linecolor": "white",
           "ticks": "",
           "title": {
            "standoff": 15
           },
           "zerolinecolor": "white",
           "zerolinewidth": 2
          },
          "yaxis": {
           "automargin": true,
           "gridcolor": "white",
           "linecolor": "white",
           "ticks": "",
           "title": {
            "standoff": 15
           },
           "zerolinecolor": "white",
           "zerolinewidth": 2
          }
         }
        },
        "title": {
         "text": "Vector for feature GDP of Austria"
        },
        "width": 600,
        "xaxis": {
         "mirror": true,
         "showgrid": false,
         "zeroline": false
        },
        "yaxis": {
         "mirror": true,
         "showgrid": false,
         "zeroline": false
        }
       }
      }
     },
     "metadata": {},
     "output_type": "display_data"
    }
   ],
   "source": [
    "explainer.plot_one_arrow_with_contour(feature_id, instance_id)"
   ]
  }
 ],
 "metadata": {
  "interpreter": {
   "hash": "706b4d18ccd75c46aca3b385179c80b6c02f39d920afa94521c6140b14505d5b"
  },
  "kernelspec": {
   "display_name": "Python 3.8.8 ('venv': venv)",
   "language": "python",
   "name": "python3"
  },
  "language_info": {
   "codemirror_mode": {
    "name": "ipython",
    "version": 3
   },
   "file_extension": ".py",
   "mimetype": "text/x-python",
   "name": "python",
   "nbconvert_exporter": "python",
   "pygments_lexer": "ipython3",
   "version": "3.11.1"
  },
  "orig_nbformat": 4
 },
 "nbformat": 4,
 "nbformat_minor": 2
}
