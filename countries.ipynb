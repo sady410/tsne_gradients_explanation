{
 "cells": [
  {
   "cell_type": "markdown",
   "metadata": {},
   "source": [
    "#### IMPORTS"
   ]
  },
  {
   "cell_type": "code",
   "execution_count": 1,
   "metadata": {},
   "outputs": [],
   "source": [
    "import numpy as np\n",
    "from explainer import Explainer\n",
    "from custom_tsne import CustomTSNE\n",
    "import pandas as pd\n",
    "import matplotlib.pyplot as plt\n",
    "import seaborn as sns\n",
    "from sklearn.preprocessing import StandardScaler \n",
    "\n",
    "import plotly.express as px\n",
    "from plotly.subplots import make_subplots\n",
    "import plotly.graph_objects as go"
   ]
  },
  {
   "cell_type": "markdown",
   "metadata": {},
   "source": [
    "#### LOADING DATA"
   ]
  },
  {
   "cell_type": "code",
   "execution_count": 2,
   "metadata": {},
   "outputs": [],
   "source": [
    "filepath = \"datasets/country_dataset_with_names.csv\"\n",
    "\n",
    "# Loading dataset\n",
    "\n",
    "df = pd.read_csv(filepath, index_col = 0)\n",
    "\n",
    "data = df.to_numpy()\n",
    "X_init = data[0:].astype(np.float64)\n",
    "scaler = StandardScaler()\n",
    "X = scaler.fit_transform(X_init)\n",
    "countries = df.index.to_numpy()\n",
    "features = df.columns\n",
    "\n",
    "# Loading t-SNE data\n",
    "\n",
    "tsne = CustomTSNE(X, countries)\n",
    "tsne.load_tsne_data(\"embeddings/countries/perplexity_4\")"
   ]
  },
  {
   "cell_type": "markdown",
   "metadata": {},
   "source": [
    "#### Plot t-SNE embedding"
   ]
  },
  {
   "cell_type": "code",
   "execution_count": 3,
   "metadata": {},
   "outputs": [
    {
     "data": {
      "application/vnd.plotly.v1+json": {
       "config": {
        "plotlyServerURL": "https://plot.ly"
       },
       "data": [
        {
         "hovertemplate": "comp-1=%{x}<br>comp-2=%{y}<br>countries=%{text}<extra></extra>",
         "legendgroup": "",
         "marker": {
          "color": "#636efa",
          "symbol": "circle"
         },
         "mode": "markers+text",
         "name": "",
         "orientation": "v",
         "showlegend": false,
         "text": [
          "Norway",
          "Iceland",
          "Australia",
          "Ireland",
          "Sweden",
          "Canada",
          "Japan",
          "United States",
          "Switzerland",
          "Netherlands",
          "Finland",
          "Luxembourg",
          "Belgium",
          "Austria",
          "Denmark",
          "France",
          "Italy",
          "United Kingdom",
          "Spain",
          "New Zealand",
          "Germany",
          "Israel",
          "Greece",
          "Singapore",
          "Korea, Rep. of",
          "Slovenia",
          "Portugal",
          "Cyprus",
          "Czech Republic",
          "Malta",
          "Kuwait",
          "Hungary",
          "Argentina",
          "Poland",
          "Chile",
          "Bahrain",
          "Estonia",
          "Lithuania",
          "Slovakia",
          "Uruguay",
          "Croatia",
          "Latvia",
          "Costa Rica",
          "United Arab Emirates",
          "Mexico",
          "Bulgaria",
          "Trinidad and Tobago",
          "Panama",
          "Oman",
          "Romania",
          "Malaysia",
          "Mauritius",
          "Russian Federation",
          "Macedonia, TFYR",
          "Belarus",
          "Brazil",
          "Colombia",
          "Venezuela, RB",
          "Albania",
          "Thailand",
          "Saudi Arabia",
          "Ukraine",
          "Lebanon",
          "Kazakhstan",
          "Armenia",
          "China",
          "Peru",
          "Ecuador",
          "Philippines",
          "Jordan",
          "Tunisia",
          "Fiji",
          "Paraguay",
          "Turkey",
          "Sri Lanka",
          "Dominican Republic",
          "Belize",
          "Iran, Islamic Rep. of",
          "Georgia",
          "Azerbaijan",
          "El Salvador",
          "Algeria",
          "Guyana",
          "Jamaica",
          "Cape Verde",
          "Syrian Arab Republic",
          "Indonesia",
          "Viet Nam",
          "Kyrgyzstan",
          "Egypt",
          "Nicaragua",
          "Moldova, Rep. of",
          "Bolivia",
          "Mongolia",
          "Honduras",
          "Guatemala",
          "South Africa",
          "Morocco",
          "Gabon",
          "Namibia",
          "India",
          "Cambodia",
          "Botswana",
          "Lao People's Dem.  Rep.",
          "Pakistan",
          "Ghana",
          "Bangladesh",
          "Nepal",
          "Papua New Guinea",
          "Sudan",
          "Uganda",
          "Togo",
          "Zimbabwe",
          "Madagascar",
          "Cameroon",
          "Swaziland",
          "Yemen",
          "Kenya",
          "Gambia",
          "Senegal",
          "Rwanda",
          "Nigeria",
          "Guinea",
          "Angola",
          "Tanzania, U. Rep. of",
          "Benin",
          "Cote d'Ivoire",
          "Zambia",
          "Malawi",
          "Mozambique",
          "Burundi",
          "Ethiopia",
          "Chad",
          "Central African Republic",
          "Burkina Faso",
          "Mali",
          "Sierra Leone",
          "Niger"
         ],
         "textposition": "top center",
         "type": "scatter",
         "x": [
          -5.335488691700415,
          -2.6847173306626395,
          -4.521439176888646,
          -13.181306520591576,
          -5.501201649866014,
          -3.941703297750068,
          -11.052997539895667,
          -11.65579287341167,
          -7.56492311920172,
          -9.606084981670667,
          -4.881128134530332,
          -13.084467497173362,
          -11.147224447458418,
          -10.904447654805573,
          -8.08075378074755,
          -11.203947200033092,
          -9.693399447215336,
          -10.913657430916702,
          -7.595293303836653,
          -3.6341073894485643,
          -9.472261918572661,
          10.142630716347561,
          8.258923980675796,
          10.215999052208653,
          8.517193270112745,
          20.71765695334937,
          -13.468065883381717,
          10.076654131438227,
          22.474571240699156,
          19.573384041715528,
          -1.4362795553173344,
          24.005488678860576,
          -11.470622133028504,
          27.06853060976988,
          0.45670540318377484,
          1.930542606126764,
          22.90647612791764,
          25.655980125073274,
          21.937828051284214,
          -7.493526702295228,
          24.278550708599088,
          25.718806375547256,
          -2.66255050368534,
          -1.247337386869069,
          -6.5815397126488495,
          24.945414677184797,
          10.708355048227853,
          -8.217892689197758,
          -3.8913601086215786,
          27.82580116249071,
          13.138355422911715,
          10.614823625414509,
          30.183286106223456,
          25.92014986456106,
          29.046979654131707,
          -8.057121248152006,
          -10.000164821318203,
          -14.686294523411387,
          23.18830153320365,
          17.488036879591423,
          -2.759053208359292,
          29.239581045746192,
          1.1642996771581942,
          15.798118433320036,
          22.181420557974047,
          -24.10630172417276,
          -13.449184794677212,
          -15.59491530266507,
          -4.307359712713656,
          2.1668617865864457,
          -1.709708339359337,
          9.14913947932584,
          -20.50473429363443,
          2.4752636096906393,
          2.7595142296373014,
          -5.039806350171215,
          -7.006243580279071,
          -3.3346105449746117,
          21.160742145624273,
          14.38445996385869,
          -5.015592253189129,
          -1.0342638124753065,
          16.032166626120908,
          27.435735564398883,
          -0.9511248460148433,
          -2.2036430389070523,
          -6.3344022680121705,
          13.556861639512023,
          18.1542496091128,
          0.6296381744034077,
          -2.4305996933575864,
          29.72024754634821,
          -10.503741294767533,
          17.574740770889004,
          -14.170393487389443,
          -2.620794371927941,
          -9.06842976473323,
          0.29177640768427504,
          -18.634964796759807,
          7.039860968457317,
          -23.782649543471667,
          -2.3093521116445186,
          2.3488233056737684,
          -8.295440394420892,
          1.3106758508056475,
          -9.813590875072961,
          -1.9423524755685204,
          -2.549401020183381,
          -17.888399009735533,
          4.741622556523453,
          -6.46897544912936,
          -19.4936242507213,
          -5.816237073541895,
          -13.59807947999115,
          -12.255339761394715,
          14.481262625288151,
          -15.462694923281216,
          -9.491385485394767,
          -21.075286676323078,
          -7.296077611851698,
          -8.27674356078026,
          -19.01663928201382,
          -7.943434426770269,
          30.763103200612772,
          -5.110395396127763,
          -13.584992378778226,
          -18.643521723588467,
          -10.664357472154656,
          -6.800602057946359,
          -7.8775410537438155,
          -9.323759142867136,
          -8.333271741839622,
          -13.783937060206197,
          -16.750706293212122,
          -11.370603376776925,
          -12.467768306749077,
          -7.6409625790355955,
          -10.778503694440563
         ],
         "xaxis": "x",
         "y": [
          -43.40757301268455,
          -40.2595805329575,
          -38.11490924954326,
          -40.23741913556531,
          -41.568770049014205,
          -35.803451346587046,
          -30.429357422006237,
          -28.420509031244674,
          -39.579094870385454,
          -40.77030806155414,
          -40.519319714241625,
          -42.262997793211724,
          -40.45067991108513,
          -38.42840189436322,
          -42.14839313925993,
          -32.61340555917635,
          -32.09793183542419,
          -33.48530519821042,
          -32.67404680754659,
          -34.68251037060013,
          -35.07638329871308,
          -15.740505981466761,
          -17.785601774038454,
          -3.6770013505126604,
          -11.061956070462882,
          6.312300858120517,
          -34.626756559193936,
          -5.0576913893620565,
          4.406350335231552,
          7.663500601060886,
          -15.008320658835425,
          6.406417869186235,
          3.789072950038908,
          -6.848289001028112,
          -6.3490672963986725,
          -12.926019810148633,
          1.380702385294671,
          1.2001333576386302,
          3.28943627172746,
          1.4737998812429975,
          4.020178819019543,
          0.1480104204570732,
          -0.26973187540302235,
          -15.895814143514595,
          5.452277411034531,
          -1.5603155567495812,
          -1.744656717149606,
          -3.525846429724759,
          -10.572670416380678,
          -6.108185347467688,
          -8.510383574420079,
          -7.368704565282618,
          -7.15068069163597,
          3.2256721271917126,
          4.606066287480672,
          8.448760494465887,
          11.985173258700868,
          5.3911761137388,
          -7.603457376474377,
          0.6609083926295405,
          -10.2900973402075,
          -4.792307211731796,
          1.6470008972713526,
          0.20112395364972172,
          -6.400921873367402,
          -6.368361431816477,
          4.898032543086575,
          6.116485792661516,
          8.669362476388322,
          0.14469696983243077,
          1.4881816073611103,
          -6.629347815798601,
          6.398015476501624,
          8.625929643698061,
          6.57464301220885,
          2.3856331074213935,
          -2.6652460818143577,
          -5.330299607678459,
          -4.732626971040539,
          2.12583335533585,
          4.208954991902344,
          -6.60789946247276,
          -10.660555528962021,
          -0.5385932570005605,
          18.611075798162844,
          -7.944384692608009,
          7.85551868180446,
          3.8026788472437314,
          -3.997869703001648,
          4.775223781018035,
          18.473710583877256,
          -1.0382369767191604,
          20.779889386241248,
          -4.082616596714781,
          8.276207866363068,
          6.442537899943086,
          4.523651145062201,
          3.177397833691031,
          25.168072303670154,
          -6.502464660725217,
          -5.853273065502623,
          28.158890547823248,
          -6.211763558704858,
          17.354253845816245,
          13.053393305310788,
          32.96219502530459,
          10.819837508729588,
          8.021458719748662,
          26.395007697295046,
          7.668383597910102,
          34.405606552058416,
          19.036632798310496,
          27.219401409132175,
          24.708385647912376,
          19.62950629474907,
          -9.941687010392904,
          17.119996292653354,
          26.11941605957211,
          20.121889345793637,
          18.970724326173876,
          37.77271796203438,
          16.594916405282824,
          27.78000655304581,
          6.241080847491796,
          35.349373116783305,
          18.992321700892404,
          18.15965442765171,
          23.046005416621195,
          28.439568450354166,
          36.535402591688346,
          39.40979475452892,
          34.0043962232708,
          29.10662066640273,
          30.80948555373964,
          27.65396576812661,
          28.19962225671593,
          22.85187613541246,
          25.068974072291166
         ],
         "yaxis": "y"
        }
       ],
       "layout": {
        "font": {
         "size": 10
        },
        "height": 1000,
        "legend": {
         "tracegroupgap": 0
        },
        "margin": {
         "t": 60
        },
        "template": {
         "data": {
          "bar": [
           {
            "error_x": {
             "color": "rgb(36,36,36)"
            },
            "error_y": {
             "color": "rgb(36,36,36)"
            },
            "marker": {
             "line": {
              "color": "white",
              "width": 0.5
             },
             "pattern": {
              "fillmode": "overlay",
              "size": 10,
              "solidity": 0.2
             }
            },
            "type": "bar"
           }
          ],
          "barpolar": [
           {
            "marker": {
             "line": {
              "color": "white",
              "width": 0.5
             },
             "pattern": {
              "fillmode": "overlay",
              "size": 10,
              "solidity": 0.2
             }
            },
            "type": "barpolar"
           }
          ],
          "carpet": [
           {
            "aaxis": {
             "endlinecolor": "rgb(36,36,36)",
             "gridcolor": "white",
             "linecolor": "white",
             "minorgridcolor": "white",
             "startlinecolor": "rgb(36,36,36)"
            },
            "baxis": {
             "endlinecolor": "rgb(36,36,36)",
             "gridcolor": "white",
             "linecolor": "white",
             "minorgridcolor": "white",
             "startlinecolor": "rgb(36,36,36)"
            },
            "type": "carpet"
           }
          ],
          "choropleth": [
           {
            "colorbar": {
             "outlinewidth": 1,
             "tickcolor": "rgb(36,36,36)",
             "ticks": "outside"
            },
            "type": "choropleth"
           }
          ],
          "contour": [
           {
            "colorbar": {
             "outlinewidth": 1,
             "tickcolor": "rgb(36,36,36)",
             "ticks": "outside"
            },
            "colorscale": [
             [
              0,
              "#440154"
             ],
             [
              0.1111111111111111,
              "#482878"
             ],
             [
              0.2222222222222222,
              "#3e4989"
             ],
             [
              0.3333333333333333,
              "#31688e"
             ],
             [
              0.4444444444444444,
              "#26828e"
             ],
             [
              0.5555555555555556,
              "#1f9e89"
             ],
             [
              0.6666666666666666,
              "#35b779"
             ],
             [
              0.7777777777777778,
              "#6ece58"
             ],
             [
              0.8888888888888888,
              "#b5de2b"
             ],
             [
              1,
              "#fde725"
             ]
            ],
            "type": "contour"
           }
          ],
          "contourcarpet": [
           {
            "colorbar": {
             "outlinewidth": 1,
             "tickcolor": "rgb(36,36,36)",
             "ticks": "outside"
            },
            "type": "contourcarpet"
           }
          ],
          "heatmap": [
           {
            "colorbar": {
             "outlinewidth": 1,
             "tickcolor": "rgb(36,36,36)",
             "ticks": "outside"
            },
            "colorscale": [
             [
              0,
              "#440154"
             ],
             [
              0.1111111111111111,
              "#482878"
             ],
             [
              0.2222222222222222,
              "#3e4989"
             ],
             [
              0.3333333333333333,
              "#31688e"
             ],
             [
              0.4444444444444444,
              "#26828e"
             ],
             [
              0.5555555555555556,
              "#1f9e89"
             ],
             [
              0.6666666666666666,
              "#35b779"
             ],
             [
              0.7777777777777778,
              "#6ece58"
             ],
             [
              0.8888888888888888,
              "#b5de2b"
             ],
             [
              1,
              "#fde725"
             ]
            ],
            "type": "heatmap"
           }
          ],
          "heatmapgl": [
           {
            "colorbar": {
             "outlinewidth": 1,
             "tickcolor": "rgb(36,36,36)",
             "ticks": "outside"
            },
            "colorscale": [
             [
              0,
              "#440154"
             ],
             [
              0.1111111111111111,
              "#482878"
             ],
             [
              0.2222222222222222,
              "#3e4989"
             ],
             [
              0.3333333333333333,
              "#31688e"
             ],
             [
              0.4444444444444444,
              "#26828e"
             ],
             [
              0.5555555555555556,
              "#1f9e89"
             ],
             [
              0.6666666666666666,
              "#35b779"
             ],
             [
              0.7777777777777778,
              "#6ece58"
             ],
             [
              0.8888888888888888,
              "#b5de2b"
             ],
             [
              1,
              "#fde725"
             ]
            ],
            "type": "heatmapgl"
           }
          ],
          "histogram": [
           {
            "marker": {
             "line": {
              "color": "white",
              "width": 0.6
             }
            },
            "type": "histogram"
           }
          ],
          "histogram2d": [
           {
            "colorbar": {
             "outlinewidth": 1,
             "tickcolor": "rgb(36,36,36)",
             "ticks": "outside"
            },
            "colorscale": [
             [
              0,
              "#440154"
             ],
             [
              0.1111111111111111,
              "#482878"
             ],
             [
              0.2222222222222222,
              "#3e4989"
             ],
             [
              0.3333333333333333,
              "#31688e"
             ],
             [
              0.4444444444444444,
              "#26828e"
             ],
             [
              0.5555555555555556,
              "#1f9e89"
             ],
             [
              0.6666666666666666,
              "#35b779"
             ],
             [
              0.7777777777777778,
              "#6ece58"
             ],
             [
              0.8888888888888888,
              "#b5de2b"
             ],
             [
              1,
              "#fde725"
             ]
            ],
            "type": "histogram2d"
           }
          ],
          "histogram2dcontour": [
           {
            "colorbar": {
             "outlinewidth": 1,
             "tickcolor": "rgb(36,36,36)",
             "ticks": "outside"
            },
            "colorscale": [
             [
              0,
              "#440154"
             ],
             [
              0.1111111111111111,
              "#482878"
             ],
             [
              0.2222222222222222,
              "#3e4989"
             ],
             [
              0.3333333333333333,
              "#31688e"
             ],
             [
              0.4444444444444444,
              "#26828e"
             ],
             [
              0.5555555555555556,
              "#1f9e89"
             ],
             [
              0.6666666666666666,
              "#35b779"
             ],
             [
              0.7777777777777778,
              "#6ece58"
             ],
             [
              0.8888888888888888,
              "#b5de2b"
             ],
             [
              1,
              "#fde725"
             ]
            ],
            "type": "histogram2dcontour"
           }
          ],
          "mesh3d": [
           {
            "colorbar": {
             "outlinewidth": 1,
             "tickcolor": "rgb(36,36,36)",
             "ticks": "outside"
            },
            "type": "mesh3d"
           }
          ],
          "parcoords": [
           {
            "line": {
             "colorbar": {
              "outlinewidth": 1,
              "tickcolor": "rgb(36,36,36)",
              "ticks": "outside"
             }
            },
            "type": "parcoords"
           }
          ],
          "pie": [
           {
            "automargin": true,
            "type": "pie"
           }
          ],
          "scatter": [
           {
            "marker": {
             "colorbar": {
              "outlinewidth": 1,
              "tickcolor": "rgb(36,36,36)",
              "ticks": "outside"
             }
            },
            "type": "scatter"
           }
          ],
          "scatter3d": [
           {
            "line": {
             "colorbar": {
              "outlinewidth": 1,
              "tickcolor": "rgb(36,36,36)",
              "ticks": "outside"
             }
            },
            "marker": {
             "colorbar": {
              "outlinewidth": 1,
              "tickcolor": "rgb(36,36,36)",
              "ticks": "outside"
             }
            },
            "type": "scatter3d"
           }
          ],
          "scattercarpet": [
           {
            "marker": {
             "colorbar": {
              "outlinewidth": 1,
              "tickcolor": "rgb(36,36,36)",
              "ticks": "outside"
             }
            },
            "type": "scattercarpet"
           }
          ],
          "scattergeo": [
           {
            "marker": {
             "colorbar": {
              "outlinewidth": 1,
              "tickcolor": "rgb(36,36,36)",
              "ticks": "outside"
             }
            },
            "type": "scattergeo"
           }
          ],
          "scattergl": [
           {
            "marker": {
             "colorbar": {
              "outlinewidth": 1,
              "tickcolor": "rgb(36,36,36)",
              "ticks": "outside"
             }
            },
            "type": "scattergl"
           }
          ],
          "scattermapbox": [
           {
            "marker": {
             "colorbar": {
              "outlinewidth": 1,
              "tickcolor": "rgb(36,36,36)",
              "ticks": "outside"
             }
            },
            "type": "scattermapbox"
           }
          ],
          "scatterpolar": [
           {
            "marker": {
             "colorbar": {
              "outlinewidth": 1,
              "tickcolor": "rgb(36,36,36)",
              "ticks": "outside"
             }
            },
            "type": "scatterpolar"
           }
          ],
          "scatterpolargl": [
           {
            "marker": {
             "colorbar": {
              "outlinewidth": 1,
              "tickcolor": "rgb(36,36,36)",
              "ticks": "outside"
             }
            },
            "type": "scatterpolargl"
           }
          ],
          "scatterternary": [
           {
            "marker": {
             "colorbar": {
              "outlinewidth": 1,
              "tickcolor": "rgb(36,36,36)",
              "ticks": "outside"
             }
            },
            "type": "scatterternary"
           }
          ],
          "surface": [
           {
            "colorbar": {
             "outlinewidth": 1,
             "tickcolor": "rgb(36,36,36)",
             "ticks": "outside"
            },
            "colorscale": [
             [
              0,
              "#440154"
             ],
             [
              0.1111111111111111,
              "#482878"
             ],
             [
              0.2222222222222222,
              "#3e4989"
             ],
             [
              0.3333333333333333,
              "#31688e"
             ],
             [
              0.4444444444444444,
              "#26828e"
             ],
             [
              0.5555555555555556,
              "#1f9e89"
             ],
             [
              0.6666666666666666,
              "#35b779"
             ],
             [
              0.7777777777777778,
              "#6ece58"
             ],
             [
              0.8888888888888888,
              "#b5de2b"
             ],
             [
              1,
              "#fde725"
             ]
            ],
            "type": "surface"
           }
          ],
          "table": [
           {
            "cells": {
             "fill": {
              "color": "rgb(237,237,237)"
             },
             "line": {
              "color": "white"
             }
            },
            "header": {
             "fill": {
              "color": "rgb(217,217,217)"
             },
             "line": {
              "color": "white"
             }
            },
            "type": "table"
           }
          ]
         },
         "layout": {
          "annotationdefaults": {
           "arrowhead": 0,
           "arrowwidth": 1
          },
          "autotypenumbers": "strict",
          "coloraxis": {
           "colorbar": {
            "outlinewidth": 1,
            "tickcolor": "rgb(36,36,36)",
            "ticks": "outside"
           }
          },
          "colorscale": {
           "diverging": [
            [
             0,
             "rgb(103,0,31)"
            ],
            [
             0.1,
             "rgb(178,24,43)"
            ],
            [
             0.2,
             "rgb(214,96,77)"
            ],
            [
             0.3,
             "rgb(244,165,130)"
            ],
            [
             0.4,
             "rgb(253,219,199)"
            ],
            [
             0.5,
             "rgb(247,247,247)"
            ],
            [
             0.6,
             "rgb(209,229,240)"
            ],
            [
             0.7,
             "rgb(146,197,222)"
            ],
            [
             0.8,
             "rgb(67,147,195)"
            ],
            [
             0.9,
             "rgb(33,102,172)"
            ],
            [
             1,
             "rgb(5,48,97)"
            ]
           ],
           "sequential": [
            [
             0,
             "#440154"
            ],
            [
             0.1111111111111111,
             "#482878"
            ],
            [
             0.2222222222222222,
             "#3e4989"
            ],
            [
             0.3333333333333333,
             "#31688e"
            ],
            [
             0.4444444444444444,
             "#26828e"
            ],
            [
             0.5555555555555556,
             "#1f9e89"
            ],
            [
             0.6666666666666666,
             "#35b779"
            ],
            [
             0.7777777777777778,
             "#6ece58"
            ],
            [
             0.8888888888888888,
             "#b5de2b"
            ],
            [
             1,
             "#fde725"
            ]
           ],
           "sequentialminus": [
            [
             0,
             "#440154"
            ],
            [
             0.1111111111111111,
             "#482878"
            ],
            [
             0.2222222222222222,
             "#3e4989"
            ],
            [
             0.3333333333333333,
             "#31688e"
            ],
            [
             0.4444444444444444,
             "#26828e"
            ],
            [
             0.5555555555555556,
             "#1f9e89"
            ],
            [
             0.6666666666666666,
             "#35b779"
            ],
            [
             0.7777777777777778,
             "#6ece58"
            ],
            [
             0.8888888888888888,
             "#b5de2b"
            ],
            [
             1,
             "#fde725"
            ]
           ]
          },
          "colorway": [
           "#1F77B4",
           "#FF7F0E",
           "#2CA02C",
           "#D62728",
           "#9467BD",
           "#8C564B",
           "#E377C2",
           "#7F7F7F",
           "#BCBD22",
           "#17BECF"
          ],
          "font": {
           "color": "rgb(36,36,36)"
          },
          "geo": {
           "bgcolor": "white",
           "lakecolor": "white",
           "landcolor": "white",
           "showlakes": true,
           "showland": true,
           "subunitcolor": "white"
          },
          "hoverlabel": {
           "align": "left"
          },
          "hovermode": "closest",
          "mapbox": {
           "style": "light"
          },
          "paper_bgcolor": "white",
          "plot_bgcolor": "white",
          "polar": {
           "angularaxis": {
            "gridcolor": "rgb(232,232,232)",
            "linecolor": "rgb(36,36,36)",
            "showgrid": false,
            "showline": true,
            "ticks": "outside"
           },
           "bgcolor": "white",
           "radialaxis": {
            "gridcolor": "rgb(232,232,232)",
            "linecolor": "rgb(36,36,36)",
            "showgrid": false,
            "showline": true,
            "ticks": "outside"
           }
          },
          "scene": {
           "xaxis": {
            "backgroundcolor": "white",
            "gridcolor": "rgb(232,232,232)",
            "gridwidth": 2,
            "linecolor": "rgb(36,36,36)",
            "showbackground": true,
            "showgrid": false,
            "showline": true,
            "ticks": "outside",
            "zeroline": false,
            "zerolinecolor": "rgb(36,36,36)"
           },
           "yaxis": {
            "backgroundcolor": "white",
            "gridcolor": "rgb(232,232,232)",
            "gridwidth": 2,
            "linecolor": "rgb(36,36,36)",
            "showbackground": true,
            "showgrid": false,
            "showline": true,
            "ticks": "outside",
            "zeroline": false,
            "zerolinecolor": "rgb(36,36,36)"
           },
           "zaxis": {
            "backgroundcolor": "white",
            "gridcolor": "rgb(232,232,232)",
            "gridwidth": 2,
            "linecolor": "rgb(36,36,36)",
            "showbackground": true,
            "showgrid": false,
            "showline": true,
            "ticks": "outside",
            "zeroline": false,
            "zerolinecolor": "rgb(36,36,36)"
           }
          },
          "shapedefaults": {
           "fillcolor": "black",
           "line": {
            "width": 0
           },
           "opacity": 0.3
          },
          "ternary": {
           "aaxis": {
            "gridcolor": "rgb(232,232,232)",
            "linecolor": "rgb(36,36,36)",
            "showgrid": false,
            "showline": true,
            "ticks": "outside"
           },
           "baxis": {
            "gridcolor": "rgb(232,232,232)",
            "linecolor": "rgb(36,36,36)",
            "showgrid": false,
            "showline": true,
            "ticks": "outside"
           },
           "bgcolor": "white",
           "caxis": {
            "gridcolor": "rgb(232,232,232)",
            "linecolor": "rgb(36,36,36)",
            "showgrid": false,
            "showline": true,
            "ticks": "outside"
           }
          },
          "title": {
           "x": 0.05
          },
          "xaxis": {
           "automargin": true,
           "gridcolor": "rgb(232,232,232)",
           "linecolor": "rgb(36,36,36)",
           "showgrid": false,
           "showline": true,
           "ticks": "outside",
           "title": {
            "standoff": 15
           },
           "zeroline": false,
           "zerolinecolor": "rgb(36,36,36)"
          },
          "yaxis": {
           "automargin": true,
           "gridcolor": "rgb(232,232,232)",
           "linecolor": "rgb(36,36,36)",
           "showgrid": false,
           "showline": true,
           "ticks": "outside",
           "title": {
            "standoff": 15
           },
           "zeroline": false,
           "zerolinecolor": "rgb(36,36,36)"
          }
         }
        },
        "width": 1000,
        "xaxis": {
         "anchor": "y",
         "domain": [
          0,
          1
         ],
         "mirror": true,
         "showgrid": false,
         "tickfont": {
          "size": 20
         },
         "ticks": "outside",
         "title": {},
         "zeroline": false
        },
        "yaxis": {
         "anchor": "x",
         "domain": [
          0,
          1
         ],
         "mirror": true,
         "showgrid": false,
         "tickfont": {
          "size": 20
         },
         "ticks": "outside",
         "title": {},
         "zeroline": false
        }
       }
      }
     },
     "metadata": {},
     "output_type": "display_data"
    }
   ],
   "source": [
    "tsne.plot_tsne_embedding_labels()"
   ]
  },
  {
   "cell_type": "markdown",
   "metadata": {},
   "source": [
    "#### COMPUTE GRADIENTS"
   ]
  },
  {
   "cell_type": "code",
   "execution_count": 4,
   "metadata": {},
   "outputs": [],
   "source": [
    "explainer = Explainer(tsne, features)\n",
    "gradients = explainer.compute_all_gradients()"
   ]
  },
  {
   "cell_type": "markdown",
   "metadata": {},
   "source": [
    "#### EXPLAIN EMBEDDING LOCALLY"
   ]
  },
  {
   "cell_type": "code",
   "execution_count": 5,
   "metadata": {},
   "outputs": [],
   "source": [
    "country = \"Austria\"\n",
    "instance_id = np.where(countries == country)[0][0]"
   ]
  },
  {
   "cell_type": "markdown",
   "metadata": {},
   "source": [
    "##### PLOT LOCAL EXPLANATION OF INSTANCE"
   ]
  },
  {
   "cell_type": "code",
   "execution_count": 6,
   "metadata": {},
   "outputs": [
    {
     "data": {
      "application/vnd.plotly.v1+json": {
       "config": {
        "plotlyServerURL": "https://plot.ly"
       },
       "data": [
        {
         "name": "X-axis gradients",
         "orientation": "h",
         "showlegend": false,
         "type": "bar",
         "x": [
          0.018492648544222126,
          -0.015365460138342073,
          -0.004321965672958802,
          0.0528400143860578,
          -0.1478993606332781,
          -0.14587773504238544,
          0.17496749758878152,
          0.002761845522653859,
          -0.0009059734526899611,
          0.06375590152275973,
          -0.12778769329843925,
          0.1054193810584129,
          -0.08381771842994569,
          0.06849680545464115,
          0.06879553070018442,
          -0.056221887574715745,
          0.43279631500668464,
          -0.1556237724245364,
          -0.16506828091790374,
          -0.0355771710359143,
          0.12891640413234237,
          -0.07667067872347494,
          -0.047099341233862446,
          -0.015990813884924092,
          0.032343620396062596,
          0.05011389207291286,
          0.07413938858644473,
          0.03219713426444167,
          0.0422703759355396,
          -0.0009771339142562916,
          -0.009414215389349999,
          0.15564912861479538,
          0.15614424615558387,
          0.16495877783972723,
          -0.0028590388739126557,
          -0.0009749927558825339,
          -0.0006977778937564724,
          0.002943184454964489,
          -0.026580385919578575,
          -0.0009360430774767687,
          0.14087259157862272,
          -0.24748134391636775,
          -0.3118342350506149,
          -0.00238944286120324,
          -0.0036684927571377143
         ],
         "xaxis": "x",
         "y": [
          "Pop growth",
          "Pop growth 2004",
          "Price index",
          "Carbon Dioxide 2003",
          "Export 1990",
          "Export 2004",
          "Elec 2003",
          "GDP",
          "GDP PPP",
          "GDP pc",
          "GDP pc growth rate",
          "Fem Econo Rate",
          "Fem Econo 1990",
          "Fem Econo 2004",
          "Health Exp",
          "Babies",
          "Internet 1990",
          "Import 1990",
          "Import 2004",
          "Tertiary female ratio",
          "Babies immunized",
          "Manufactured Exp 2004",
          "Foreign invest 2004",
          "Military 2004",
          "Public Health 2003",
          "Private Health 2003",
          "Primary export 2004",
          "Public Health",
          "Refugees asylum",
          "Refugees origin",
          "Armed forces",
          "Parliament Women",
          "Female Male income",
          "House women 2006",
          "Pop 1975",
          "Pop 2004",
          "Pop 2015",
          "Tuberculosis detected",
          "Tuberculosis cured 2004",
          "Trad fuel",
          "ODA pc donnor 2004",
          "ODA to least dev 1990",
          "ODA to least dev 2004",
          "ODA received",
          "ODA received pc"
         ],
         "yaxis": "y"
        },
        {
         "name": "Y-axis gradients",
         "orientation": "h",
         "showlegend": false,
         "type": "bar",
         "x": [
          0.01707618530930619,
          0.03085752165179481,
          0.005365227660674035,
          -0.03297984375112694,
          -0.34614829183839324,
          -0.3776005439857186,
          -0.0678649261413631,
          0.12595526666591358,
          0.10781110197651737,
          -0.13725410481790273,
          -0.01924170731438393,
          -0.004022855401500474,
          -0.07246906070155544,
          -0.02415439912653846,
          -0.13318872693520978,
          -0.02041744988952145,
          -0.11553264105543425,
          -0.30071551598325924,
          -0.3468158821478959,
          0.039194202411674185,
          0.04068902294054396,
          0.0005772664335654046,
          -0.043948225846398056,
          0.05148379461065662,
          0.0010376066360947313,
          -0.09728848628496413,
          -0.006001133279876624,
          0.0010906705405087037,
          0.039298551256655684,
          0.001075051616098144,
          0.06819708843422168,
          -0.199720312520286,
          -0.09140925493581238,
          -0.16442526842455346,
          0.04867939387316621,
          0.03622201902194851,
          0.03367087135223788,
          -0.007981095443737825,
          0.022008735734435868,
          0.036235539847502975,
          -0.2474185562752791,
          -0.021785974921878233,
          -0.039103929676453125,
          0.0028433711111740868,
          0.0047010092851964965
         ],
         "xaxis": "x2",
         "y": [
          "Pop growth",
          "Pop growth 2004",
          "Price index",
          "Carbon Dioxide 2003",
          "Export 1990",
          "Export 2004",
          "Elec 2003",
          "GDP",
          "GDP PPP",
          "GDP pc",
          "GDP pc growth rate",
          "Fem Econo Rate",
          "Fem Econo 1990",
          "Fem Econo 2004",
          "Health Exp",
          "Babies",
          "Internet 1990",
          "Import 1990",
          "Import 2004",
          "Tertiary female ratio",
          "Babies immunized",
          "Manufactured Exp 2004",
          "Foreign invest 2004",
          "Military 2004",
          "Public Health 2003",
          "Private Health 2003",
          "Primary export 2004",
          "Public Health",
          "Refugees asylum",
          "Refugees origin",
          "Armed forces",
          "Parliament Women",
          "Female Male income",
          "House women 2006",
          "Pop 1975",
          "Pop 2004",
          "Pop 2015",
          "Tuberculosis detected",
          "Tuberculosis cured 2004",
          "Trad fuel",
          "ODA pc donnor 2004",
          "ODA to least dev 1990",
          "ODA to least dev 2004",
          "ODA received",
          "ODA received pc"
         ],
         "yaxis": "y2"
        }
       ],
       "layout": {
        "font": {
         "size": 15
        },
        "height": 1000,
        "template": {
         "data": {
          "bar": [
           {
            "error_x": {
             "color": "rgb(36,36,36)"
            },
            "error_y": {
             "color": "rgb(36,36,36)"
            },
            "marker": {
             "line": {
              "color": "white",
              "width": 0.5
             },
             "pattern": {
              "fillmode": "overlay",
              "size": 10,
              "solidity": 0.2
             }
            },
            "type": "bar"
           }
          ],
          "barpolar": [
           {
            "marker": {
             "line": {
              "color": "white",
              "width": 0.5
             },
             "pattern": {
              "fillmode": "overlay",
              "size": 10,
              "solidity": 0.2
             }
            },
            "type": "barpolar"
           }
          ],
          "carpet": [
           {
            "aaxis": {
             "endlinecolor": "rgb(36,36,36)",
             "gridcolor": "white",
             "linecolor": "white",
             "minorgridcolor": "white",
             "startlinecolor": "rgb(36,36,36)"
            },
            "baxis": {
             "endlinecolor": "rgb(36,36,36)",
             "gridcolor": "white",
             "linecolor": "white",
             "minorgridcolor": "white",
             "startlinecolor": "rgb(36,36,36)"
            },
            "type": "carpet"
           }
          ],
          "choropleth": [
           {
            "colorbar": {
             "outlinewidth": 1,
             "tickcolor": "rgb(36,36,36)",
             "ticks": "outside"
            },
            "type": "choropleth"
           }
          ],
          "contour": [
           {
            "colorbar": {
             "outlinewidth": 1,
             "tickcolor": "rgb(36,36,36)",
             "ticks": "outside"
            },
            "colorscale": [
             [
              0,
              "#440154"
             ],
             [
              0.1111111111111111,
              "#482878"
             ],
             [
              0.2222222222222222,
              "#3e4989"
             ],
             [
              0.3333333333333333,
              "#31688e"
             ],
             [
              0.4444444444444444,
              "#26828e"
             ],
             [
              0.5555555555555556,
              "#1f9e89"
             ],
             [
              0.6666666666666666,
              "#35b779"
             ],
             [
              0.7777777777777778,
              "#6ece58"
             ],
             [
              0.8888888888888888,
              "#b5de2b"
             ],
             [
              1,
              "#fde725"
             ]
            ],
            "type": "contour"
           }
          ],
          "contourcarpet": [
           {
            "colorbar": {
             "outlinewidth": 1,
             "tickcolor": "rgb(36,36,36)",
             "ticks": "outside"
            },
            "type": "contourcarpet"
           }
          ],
          "heatmap": [
           {
            "colorbar": {
             "outlinewidth": 1,
             "tickcolor": "rgb(36,36,36)",
             "ticks": "outside"
            },
            "colorscale": [
             [
              0,
              "#440154"
             ],
             [
              0.1111111111111111,
              "#482878"
             ],
             [
              0.2222222222222222,
              "#3e4989"
             ],
             [
              0.3333333333333333,
              "#31688e"
             ],
             [
              0.4444444444444444,
              "#26828e"
             ],
             [
              0.5555555555555556,
              "#1f9e89"
             ],
             [
              0.6666666666666666,
              "#35b779"
             ],
             [
              0.7777777777777778,
              "#6ece58"
             ],
             [
              0.8888888888888888,
              "#b5de2b"
             ],
             [
              1,
              "#fde725"
             ]
            ],
            "type": "heatmap"
           }
          ],
          "heatmapgl": [
           {
            "colorbar": {
             "outlinewidth": 1,
             "tickcolor": "rgb(36,36,36)",
             "ticks": "outside"
            },
            "colorscale": [
             [
              0,
              "#440154"
             ],
             [
              0.1111111111111111,
              "#482878"
             ],
             [
              0.2222222222222222,
              "#3e4989"
             ],
             [
              0.3333333333333333,
              "#31688e"
             ],
             [
              0.4444444444444444,
              "#26828e"
             ],
             [
              0.5555555555555556,
              "#1f9e89"
             ],
             [
              0.6666666666666666,
              "#35b779"
             ],
             [
              0.7777777777777778,
              "#6ece58"
             ],
             [
              0.8888888888888888,
              "#b5de2b"
             ],
             [
              1,
              "#fde725"
             ]
            ],
            "type": "heatmapgl"
           }
          ],
          "histogram": [
           {
            "marker": {
             "line": {
              "color": "white",
              "width": 0.6
             }
            },
            "type": "histogram"
           }
          ],
          "histogram2d": [
           {
            "colorbar": {
             "outlinewidth": 1,
             "tickcolor": "rgb(36,36,36)",
             "ticks": "outside"
            },
            "colorscale": [
             [
              0,
              "#440154"
             ],
             [
              0.1111111111111111,
              "#482878"
             ],
             [
              0.2222222222222222,
              "#3e4989"
             ],
             [
              0.3333333333333333,
              "#31688e"
             ],
             [
              0.4444444444444444,
              "#26828e"
             ],
             [
              0.5555555555555556,
              "#1f9e89"
             ],
             [
              0.6666666666666666,
              "#35b779"
             ],
             [
              0.7777777777777778,
              "#6ece58"
             ],
             [
              0.8888888888888888,
              "#b5de2b"
             ],
             [
              1,
              "#fde725"
             ]
            ],
            "type": "histogram2d"
           }
          ],
          "histogram2dcontour": [
           {
            "colorbar": {
             "outlinewidth": 1,
             "tickcolor": "rgb(36,36,36)",
             "ticks": "outside"
            },
            "colorscale": [
             [
              0,
              "#440154"
             ],
             [
              0.1111111111111111,
              "#482878"
             ],
             [
              0.2222222222222222,
              "#3e4989"
             ],
             [
              0.3333333333333333,
              "#31688e"
             ],
             [
              0.4444444444444444,
              "#26828e"
             ],
             [
              0.5555555555555556,
              "#1f9e89"
             ],
             [
              0.6666666666666666,
              "#35b779"
             ],
             [
              0.7777777777777778,
              "#6ece58"
             ],
             [
              0.8888888888888888,
              "#b5de2b"
             ],
             [
              1,
              "#fde725"
             ]
            ],
            "type": "histogram2dcontour"
           }
          ],
          "mesh3d": [
           {
            "colorbar": {
             "outlinewidth": 1,
             "tickcolor": "rgb(36,36,36)",
             "ticks": "outside"
            },
            "type": "mesh3d"
           }
          ],
          "parcoords": [
           {
            "line": {
             "colorbar": {
              "outlinewidth": 1,
              "tickcolor": "rgb(36,36,36)",
              "ticks": "outside"
             }
            },
            "type": "parcoords"
           }
          ],
          "pie": [
           {
            "automargin": true,
            "type": "pie"
           }
          ],
          "scatter": [
           {
            "marker": {
             "colorbar": {
              "outlinewidth": 1,
              "tickcolor": "rgb(36,36,36)",
              "ticks": "outside"
             }
            },
            "type": "scatter"
           }
          ],
          "scatter3d": [
           {
            "line": {
             "colorbar": {
              "outlinewidth": 1,
              "tickcolor": "rgb(36,36,36)",
              "ticks": "outside"
             }
            },
            "marker": {
             "colorbar": {
              "outlinewidth": 1,
              "tickcolor": "rgb(36,36,36)",
              "ticks": "outside"
             }
            },
            "type": "scatter3d"
           }
          ],
          "scattercarpet": [
           {
            "marker": {
             "colorbar": {
              "outlinewidth": 1,
              "tickcolor": "rgb(36,36,36)",
              "ticks": "outside"
             }
            },
            "type": "scattercarpet"
           }
          ],
          "scattergeo": [
           {
            "marker": {
             "colorbar": {
              "outlinewidth": 1,
              "tickcolor": "rgb(36,36,36)",
              "ticks": "outside"
             }
            },
            "type": "scattergeo"
           }
          ],
          "scattergl": [
           {
            "marker": {
             "colorbar": {
              "outlinewidth": 1,
              "tickcolor": "rgb(36,36,36)",
              "ticks": "outside"
             }
            },
            "type": "scattergl"
           }
          ],
          "scattermapbox": [
           {
            "marker": {
             "colorbar": {
              "outlinewidth": 1,
              "tickcolor": "rgb(36,36,36)",
              "ticks": "outside"
             }
            },
            "type": "scattermapbox"
           }
          ],
          "scatterpolar": [
           {
            "marker": {
             "colorbar": {
              "outlinewidth": 1,
              "tickcolor": "rgb(36,36,36)",
              "ticks": "outside"
             }
            },
            "type": "scatterpolar"
           }
          ],
          "scatterpolargl": [
           {
            "marker": {
             "colorbar": {
              "outlinewidth": 1,
              "tickcolor": "rgb(36,36,36)",
              "ticks": "outside"
             }
            },
            "type": "scatterpolargl"
           }
          ],
          "scatterternary": [
           {
            "marker": {
             "colorbar": {
              "outlinewidth": 1,
              "tickcolor": "rgb(36,36,36)",
              "ticks": "outside"
             }
            },
            "type": "scatterternary"
           }
          ],
          "surface": [
           {
            "colorbar": {
             "outlinewidth": 1,
             "tickcolor": "rgb(36,36,36)",
             "ticks": "outside"
            },
            "colorscale": [
             [
              0,
              "#440154"
             ],
             [
              0.1111111111111111,
              "#482878"
             ],
             [
              0.2222222222222222,
              "#3e4989"
             ],
             [
              0.3333333333333333,
              "#31688e"
             ],
             [
              0.4444444444444444,
              "#26828e"
             ],
             [
              0.5555555555555556,
              "#1f9e89"
             ],
             [
              0.6666666666666666,
              "#35b779"
             ],
             [
              0.7777777777777778,
              "#6ece58"
             ],
             [
              0.8888888888888888,
              "#b5de2b"
             ],
             [
              1,
              "#fde725"
             ]
            ],
            "type": "surface"
           }
          ],
          "table": [
           {
            "cells": {
             "fill": {
              "color": "rgb(237,237,237)"
             },
             "line": {
              "color": "white"
             }
            },
            "header": {
             "fill": {
              "color": "rgb(217,217,217)"
             },
             "line": {
              "color": "white"
             }
            },
            "type": "table"
           }
          ]
         },
         "layout": {
          "annotationdefaults": {
           "arrowhead": 0,
           "arrowwidth": 1
          },
          "autotypenumbers": "strict",
          "coloraxis": {
           "colorbar": {
            "outlinewidth": 1,
            "tickcolor": "rgb(36,36,36)",
            "ticks": "outside"
           }
          },
          "colorscale": {
           "diverging": [
            [
             0,
             "rgb(103,0,31)"
            ],
            [
             0.1,
             "rgb(178,24,43)"
            ],
            [
             0.2,
             "rgb(214,96,77)"
            ],
            [
             0.3,
             "rgb(244,165,130)"
            ],
            [
             0.4,
             "rgb(253,219,199)"
            ],
            [
             0.5,
             "rgb(247,247,247)"
            ],
            [
             0.6,
             "rgb(209,229,240)"
            ],
            [
             0.7,
             "rgb(146,197,222)"
            ],
            [
             0.8,
             "rgb(67,147,195)"
            ],
            [
             0.9,
             "rgb(33,102,172)"
            ],
            [
             1,
             "rgb(5,48,97)"
            ]
           ],
           "sequential": [
            [
             0,
             "#440154"
            ],
            [
             0.1111111111111111,
             "#482878"
            ],
            [
             0.2222222222222222,
             "#3e4989"
            ],
            [
             0.3333333333333333,
             "#31688e"
            ],
            [
             0.4444444444444444,
             "#26828e"
            ],
            [
             0.5555555555555556,
             "#1f9e89"
            ],
            [
             0.6666666666666666,
             "#35b779"
            ],
            [
             0.7777777777777778,
             "#6ece58"
            ],
            [
             0.8888888888888888,
             "#b5de2b"
            ],
            [
             1,
             "#fde725"
            ]
           ],
           "sequentialminus": [
            [
             0,
             "#440154"
            ],
            [
             0.1111111111111111,
             "#482878"
            ],
            [
             0.2222222222222222,
             "#3e4989"
            ],
            [
             0.3333333333333333,
             "#31688e"
            ],
            [
             0.4444444444444444,
             "#26828e"
            ],
            [
             0.5555555555555556,
             "#1f9e89"
            ],
            [
             0.6666666666666666,
             "#35b779"
            ],
            [
             0.7777777777777778,
             "#6ece58"
            ],
            [
             0.8888888888888888,
             "#b5de2b"
            ],
            [
             1,
             "#fde725"
            ]
           ]
          },
          "colorway": [
           "#1F77B4",
           "#FF7F0E",
           "#2CA02C",
           "#D62728",
           "#9467BD",
           "#8C564B",
           "#E377C2",
           "#7F7F7F",
           "#BCBD22",
           "#17BECF"
          ],
          "font": {
           "color": "rgb(36,36,36)"
          },
          "geo": {
           "bgcolor": "white",
           "lakecolor": "white",
           "landcolor": "white",
           "showlakes": true,
           "showland": true,
           "subunitcolor": "white"
          },
          "hoverlabel": {
           "align": "left"
          },
          "hovermode": "closest",
          "mapbox": {
           "style": "light"
          },
          "paper_bgcolor": "white",
          "plot_bgcolor": "white",
          "polar": {
           "angularaxis": {
            "gridcolor": "rgb(232,232,232)",
            "linecolor": "rgb(36,36,36)",
            "showgrid": false,
            "showline": true,
            "ticks": "outside"
           },
           "bgcolor": "white",
           "radialaxis": {
            "gridcolor": "rgb(232,232,232)",
            "linecolor": "rgb(36,36,36)",
            "showgrid": false,
            "showline": true,
            "ticks": "outside"
           }
          },
          "scene": {
           "xaxis": {
            "backgroundcolor": "white",
            "gridcolor": "rgb(232,232,232)",
            "gridwidth": 2,
            "linecolor": "rgb(36,36,36)",
            "showbackground": true,
            "showgrid": false,
            "showline": true,
            "ticks": "outside",
            "zeroline": false,
            "zerolinecolor": "rgb(36,36,36)"
           },
           "yaxis": {
            "backgroundcolor": "white",
            "gridcolor": "rgb(232,232,232)",
            "gridwidth": 2,
            "linecolor": "rgb(36,36,36)",
            "showbackground": true,
            "showgrid": false,
            "showline": true,
            "ticks": "outside",
            "zeroline": false,
            "zerolinecolor": "rgb(36,36,36)"
           },
           "zaxis": {
            "backgroundcolor": "white",
            "gridcolor": "rgb(232,232,232)",
            "gridwidth": 2,
            "linecolor": "rgb(36,36,36)",
            "showbackground": true,
            "showgrid": false,
            "showline": true,
            "ticks": "outside",
            "zeroline": false,
            "zerolinecolor": "rgb(36,36,36)"
           }
          },
          "shapedefaults": {
           "fillcolor": "black",
           "line": {
            "width": 0
           },
           "opacity": 0.3
          },
          "ternary": {
           "aaxis": {
            "gridcolor": "rgb(232,232,232)",
            "linecolor": "rgb(36,36,36)",
            "showgrid": false,
            "showline": true,
            "ticks": "outside"
           },
           "baxis": {
            "gridcolor": "rgb(232,232,232)",
            "linecolor": "rgb(36,36,36)",
            "showgrid": false,
            "showline": true,
            "ticks": "outside"
           },
           "bgcolor": "white",
           "caxis": {
            "gridcolor": "rgb(232,232,232)",
            "linecolor": "rgb(36,36,36)",
            "showgrid": false,
            "showline": true,
            "ticks": "outside"
           }
          },
          "title": {
           "x": 0.05
          },
          "xaxis": {
           "automargin": true,
           "gridcolor": "rgb(232,232,232)",
           "linecolor": "rgb(36,36,36)",
           "showgrid": false,
           "showline": true,
           "ticks": "outside",
           "title": {
            "standoff": 15
           },
           "zeroline": false,
           "zerolinecolor": "rgb(36,36,36)"
          },
          "yaxis": {
           "automargin": true,
           "gridcolor": "rgb(232,232,232)",
           "linecolor": "rgb(36,36,36)",
           "showgrid": false,
           "showline": true,
           "ticks": "outside",
           "title": {
            "standoff": 15
           },
           "zeroline": false,
           "zerolinecolor": "rgb(36,36,36)"
          }
         }
        },
        "width": 900,
        "xaxis": {
         "anchor": "y",
         "domain": [
          0,
          0.33999999999999997
         ],
         "linecolor": "black",
         "linewidth": 2,
         "mirror": true,
         "showgrid": false,
         "showline": true,
         "ticks": "outside",
         "zerolinecolor": "grey",
         "zerolinewidth": 1
        },
        "xaxis2": {
         "anchor": "y2",
         "domain": [
          0.6599999999999999,
          0.9999999999999999
         ],
         "linecolor": "black",
         "linewidth": 2,
         "mirror": true,
         "showgrid": false,
         "showline": true,
         "ticks": "outside",
         "zerolinecolor": "grey",
         "zerolinewidth": 1
        },
        "yaxis": {
         "anchor": "x",
         "categoryorder": "total ascending",
         "domain": [
          0,
          1
         ],
         "linecolor": "black",
         "linewidth": 2,
         "mirror": true,
         "showline": true
        },
        "yaxis2": {
         "anchor": "x2",
         "categoryorder": "total ascending",
         "domain": [
          0,
          1
         ],
         "linecolor": "black",
         "linewidth": 2,
         "mirror": true,
         "showline": true
        }
       }
      }
     },
     "metadata": {},
     "output_type": "display_data"
    }
   ],
   "source": [
    "explainer.plot_instance_explanation(instance_id)"
   ]
  },
  {
   "cell_type": "markdown",
   "metadata": {},
   "source": [
    "##### PLOT SCOPE OF EXPLANATION AROUND INSTANCE"
   ]
  },
  {
   "cell_type": "code",
   "execution_count": 7,
   "metadata": {},
   "outputs": [
    {
     "data": {
      "application/vnd.plotly.v1+json": {
       "config": {
        "plotlyServerURL": "https://plot.ly"
       },
       "data": [
        {
         "marker": {
          "color": "black",
          "size": 7
         },
         "mode": "markers",
         "showlegend": false,
         "type": "scatter",
         "x": [
          -5.335488691700415,
          -2.6847173306626395,
          -4.521439176888646,
          -13.181306520591576,
          -5.501201649866014,
          -3.941703297750068,
          -11.052997539895667,
          -11.65579287341167,
          -7.56492311920172,
          -9.606084981670667,
          -4.881128134530332,
          -13.084467497173362,
          -11.147224447458418,
          -10.904447654805573,
          -8.08075378074755,
          -11.203947200033092,
          -9.693399447215336,
          -10.913657430916702,
          -7.595293303836653,
          -3.6341073894485643,
          -9.472261918572661,
          10.142630716347561,
          8.258923980675796,
          10.215999052208653,
          8.517193270112745,
          20.71765695334937,
          -13.468065883381717,
          10.076654131438227,
          22.474571240699156,
          19.573384041715528,
          -1.4362795553173344,
          24.005488678860576,
          -11.470622133028504,
          27.06853060976988,
          0.45670540318377484,
          1.930542606126764,
          22.90647612791764,
          25.655980125073274,
          21.937828051284214,
          -7.493526702295228,
          24.278550708599088,
          25.718806375547256,
          -2.66255050368534,
          -1.247337386869069,
          -6.5815397126488495,
          24.945414677184797,
          10.708355048227853,
          -8.217892689197758,
          -3.8913601086215786,
          27.82580116249071,
          13.138355422911715,
          10.614823625414509,
          30.183286106223456,
          25.92014986456106,
          29.046979654131707,
          -8.057121248152006,
          -10.000164821318203,
          -14.686294523411387,
          23.18830153320365,
          17.488036879591423,
          -2.759053208359292,
          29.239581045746192,
          1.1642996771581942,
          15.798118433320036,
          22.181420557974047,
          -24.10630172417276,
          -13.449184794677212,
          -15.59491530266507,
          -4.307359712713656,
          2.1668617865864457,
          -1.709708339359337,
          9.14913947932584,
          -20.50473429363443,
          2.4752636096906393,
          2.7595142296373014,
          -5.039806350171215,
          -7.006243580279071,
          -3.3346105449746117,
          21.160742145624273,
          14.38445996385869,
          -5.015592253189129,
          -1.0342638124753065,
          16.032166626120908,
          27.435735564398883,
          -0.9511248460148433,
          -2.2036430389070523,
          -6.3344022680121705,
          13.556861639512023,
          18.1542496091128,
          0.6296381744034077,
          -2.4305996933575864,
          29.72024754634821,
          -10.503741294767533,
          17.574740770889004,
          -14.170393487389443,
          -2.620794371927941,
          -9.06842976473323,
          0.29177640768427504,
          -18.634964796759807,
          7.039860968457317,
          -23.782649543471667,
          -2.3093521116445186,
          2.3488233056737684,
          -8.295440394420892,
          1.3106758508056475,
          -9.813590875072961,
          -1.9423524755685204,
          -2.549401020183381,
          -17.888399009735533,
          4.741622556523453,
          -6.46897544912936,
          -19.4936242507213,
          -5.816237073541895,
          -13.59807947999115,
          -12.255339761394715,
          14.481262625288151,
          -15.462694923281216,
          -9.491385485394767,
          -21.075286676323078,
          -7.296077611851698,
          -8.27674356078026,
          -19.01663928201382,
          -7.943434426770269,
          30.763103200612772,
          -5.110395396127763,
          -13.584992378778226,
          -18.643521723588467,
          -10.664357472154656,
          -6.800602057946359,
          -7.8775410537438155,
          -9.323759142867136,
          -8.333271741839622,
          -13.783937060206197,
          -16.750706293212122,
          -11.370603376776925,
          -12.467768306749077,
          -7.6409625790355955,
          -10.778503694440563
         ],
         "y": [
          -43.40757301268455,
          -40.2595805329575,
          -38.11490924954326,
          -40.23741913556531,
          -41.568770049014205,
          -35.803451346587046,
          -30.429357422006237,
          -28.420509031244674,
          -39.579094870385454,
          -40.77030806155414,
          -40.519319714241625,
          -42.262997793211724,
          -40.45067991108513,
          -38.42840189436322,
          -42.14839313925993,
          -32.61340555917635,
          -32.09793183542419,
          -33.48530519821042,
          -32.67404680754659,
          -34.68251037060013,
          -35.07638329871308,
          -15.740505981466761,
          -17.785601774038454,
          -3.6770013505126604,
          -11.061956070462882,
          6.312300858120517,
          -34.626756559193936,
          -5.0576913893620565,
          4.406350335231552,
          7.663500601060886,
          -15.008320658835425,
          6.406417869186235,
          3.789072950038908,
          -6.848289001028112,
          -6.3490672963986725,
          -12.926019810148633,
          1.380702385294671,
          1.2001333576386302,
          3.28943627172746,
          1.4737998812429975,
          4.020178819019543,
          0.1480104204570732,
          -0.26973187540302235,
          -15.895814143514595,
          5.452277411034531,
          -1.5603155567495812,
          -1.744656717149606,
          -3.525846429724759,
          -10.572670416380678,
          -6.108185347467688,
          -8.510383574420079,
          -7.368704565282618,
          -7.15068069163597,
          3.2256721271917126,
          4.606066287480672,
          8.448760494465887,
          11.985173258700868,
          5.3911761137388,
          -7.603457376474377,
          0.6609083926295405,
          -10.2900973402075,
          -4.792307211731796,
          1.6470008972713526,
          0.20112395364972172,
          -6.400921873367402,
          -6.368361431816477,
          4.898032543086575,
          6.116485792661516,
          8.669362476388322,
          0.14469696983243077,
          1.4881816073611103,
          -6.629347815798601,
          6.398015476501624,
          8.625929643698061,
          6.57464301220885,
          2.3856331074213935,
          -2.6652460818143577,
          -5.330299607678459,
          -4.732626971040539,
          2.12583335533585,
          4.208954991902344,
          -6.60789946247276,
          -10.660555528962021,
          -0.5385932570005605,
          18.611075798162844,
          -7.944384692608009,
          7.85551868180446,
          3.8026788472437314,
          -3.997869703001648,
          4.775223781018035,
          18.473710583877256,
          -1.0382369767191604,
          20.779889386241248,
          -4.082616596714781,
          8.276207866363068,
          6.442537899943086,
          4.523651145062201,
          3.177397833691031,
          25.168072303670154,
          -6.502464660725217,
          -5.853273065502623,
          28.158890547823248,
          -6.211763558704858,
          17.354253845816245,
          13.053393305310788,
          32.96219502530459,
          10.819837508729588,
          8.021458719748662,
          26.395007697295046,
          7.668383597910102,
          34.405606552058416,
          19.036632798310496,
          27.219401409132175,
          24.708385647912376,
          19.62950629474907,
          -9.941687010392904,
          17.119996292653354,
          26.11941605957211,
          20.121889345793637,
          18.970724326173876,
          37.77271796203438,
          16.594916405282824,
          27.78000655304581,
          6.241080847491796,
          35.349373116783305,
          18.992321700892404,
          18.15965442765171,
          23.046005416621195,
          28.439568450354166,
          36.535402591688346,
          39.40979475452892,
          34.0043962232708,
          29.10662066640273,
          30.80948555373964,
          27.65396576812661,
          28.19962225671593,
          22.85187613541246,
          25.068974072291166
         ]
        },
        {
         "marker": {
          "color": "crimson",
          "size": 12
         },
         "showlegend": false,
         "type": "scatter",
         "x": [
          -10.904447654805573
         ],
         "y": [
          -38.42840189436322
         ]
        },
        {
         "type": "contour",
         "x": [
          -5.335488691700415,
          -2.6847173306626395,
          -4.521439176888646,
          -13.181306520591576,
          -5.501201649866014,
          -3.941703297750068,
          -11.052997539895667,
          -11.65579287341167,
          -7.56492311920172,
          -9.606084981670667,
          -4.881128134530332,
          -13.084467497173362,
          -11.147224447458418,
          -10.904447654805573,
          -8.08075378074755,
          -11.203947200033092,
          -9.693399447215336,
          -10.913657430916702,
          -7.595293303836653,
          -3.6341073894485643,
          -9.472261918572661,
          10.142630716347561,
          8.258923980675796,
          10.215999052208653,
          8.517193270112745,
          20.71765695334937,
          -13.468065883381717,
          10.076654131438227,
          22.474571240699156,
          19.573384041715528,
          -1.4362795553173344,
          24.005488678860576,
          -11.470622133028504,
          27.06853060976988,
          0.45670540318377484,
          1.930542606126764,
          22.90647612791764,
          25.655980125073274,
          21.937828051284214,
          -7.493526702295228,
          24.278550708599088,
          25.718806375547256,
          -2.66255050368534,
          -1.247337386869069,
          -6.5815397126488495,
          24.945414677184797,
          10.708355048227853,
          -8.217892689197758,
          -3.8913601086215786,
          27.82580116249071,
          13.138355422911715,
          10.614823625414509,
          30.183286106223456,
          25.92014986456106,
          29.046979654131707,
          -8.057121248152006,
          -10.000164821318203,
          -14.686294523411387,
          23.18830153320365,
          17.488036879591423,
          -2.759053208359292,
          29.239581045746192,
          1.1642996771581942,
          15.798118433320036,
          22.181420557974047,
          -24.10630172417276,
          -13.449184794677212,
          -15.59491530266507,
          -4.307359712713656,
          2.1668617865864457,
          -1.709708339359337,
          9.14913947932584,
          -20.50473429363443,
          2.4752636096906393,
          2.7595142296373014,
          -5.039806350171215,
          -7.006243580279071,
          -3.3346105449746117,
          21.160742145624273,
          14.38445996385869,
          -5.015592253189129,
          -1.0342638124753065,
          16.032166626120908,
          27.435735564398883,
          -0.9511248460148433,
          -2.2036430389070523,
          -6.3344022680121705,
          13.556861639512023,
          18.1542496091128,
          0.6296381744034077,
          -2.4305996933575864,
          29.72024754634821,
          -10.503741294767533,
          17.574740770889004,
          -14.170393487389443,
          -2.620794371927941,
          -9.06842976473323,
          0.29177640768427504,
          -18.634964796759807,
          7.039860968457317,
          -23.782649543471667,
          -2.3093521116445186,
          2.3488233056737684,
          -8.295440394420892,
          1.3106758508056475,
          -9.813590875072961,
          -1.9423524755685204,
          -2.549401020183381,
          -17.888399009735533,
          4.741622556523453,
          -6.46897544912936,
          -19.4936242507213,
          -5.816237073541895,
          -13.59807947999115,
          -12.255339761394715,
          14.481262625288151,
          -15.462694923281216,
          -9.491385485394767,
          -21.075286676323078,
          -7.296077611851698,
          -8.27674356078026,
          -19.01663928201382,
          -7.943434426770269,
          30.763103200612772,
          -5.110395396127763,
          -13.584992378778226,
          -18.643521723588467,
          -10.664357472154656,
          -6.800602057946359,
          -7.8775410537438155,
          -9.323759142867136,
          -8.333271741839622,
          -13.783937060206197,
          -16.750706293212122,
          -11.370603376776925,
          -12.467768306749077,
          -7.6409625790355955,
          -10.778503694440563
         ],
         "y": [
          -43.40757301268455,
          -40.2595805329575,
          -38.11490924954326,
          -40.23741913556531,
          -41.568770049014205,
          -35.803451346587046,
          -30.429357422006237,
          -28.420509031244674,
          -39.579094870385454,
          -40.77030806155414,
          -40.519319714241625,
          -42.262997793211724,
          -40.45067991108513,
          -38.42840189436322,
          -42.14839313925993,
          -32.61340555917635,
          -32.09793183542419,
          -33.48530519821042,
          -32.67404680754659,
          -34.68251037060013,
          -35.07638329871308,
          -15.740505981466761,
          -17.785601774038454,
          -3.6770013505126604,
          -11.061956070462882,
          6.312300858120517,
          -34.626756559193936,
          -5.0576913893620565,
          4.406350335231552,
          7.663500601060886,
          -15.008320658835425,
          6.406417869186235,
          3.789072950038908,
          -6.848289001028112,
          -6.3490672963986725,
          -12.926019810148633,
          1.380702385294671,
          1.2001333576386302,
          3.28943627172746,
          1.4737998812429975,
          4.020178819019543,
          0.1480104204570732,
          -0.26973187540302235,
          -15.895814143514595,
          5.452277411034531,
          -1.5603155567495812,
          -1.744656717149606,
          -3.525846429724759,
          -10.572670416380678,
          -6.108185347467688,
          -8.510383574420079,
          -7.368704565282618,
          -7.15068069163597,
          3.2256721271917126,
          4.606066287480672,
          8.448760494465887,
          11.985173258700868,
          5.3911761137388,
          -7.603457376474377,
          0.6609083926295405,
          -10.2900973402075,
          -4.792307211731796,
          1.6470008972713526,
          0.20112395364972172,
          -6.400921873367402,
          -6.368361431816477,
          4.898032543086575,
          6.116485792661516,
          8.669362476388322,
          0.14469696983243077,
          1.4881816073611103,
          -6.629347815798601,
          6.398015476501624,
          8.625929643698061,
          6.57464301220885,
          2.3856331074213935,
          -2.6652460818143577,
          -5.330299607678459,
          -4.732626971040539,
          2.12583335533585,
          4.208954991902344,
          -6.60789946247276,
          -10.660555528962021,
          -0.5385932570005605,
          18.611075798162844,
          -7.944384692608009,
          7.85551868180446,
          3.8026788472437314,
          -3.997869703001648,
          4.775223781018035,
          18.473710583877256,
          -1.0382369767191604,
          20.779889386241248,
          -4.082616596714781,
          8.276207866363068,
          6.442537899943086,
          4.523651145062201,
          3.177397833691031,
          25.168072303670154,
          -6.502464660725217,
          -5.853273065502623,
          28.158890547823248,
          -6.211763558704858,
          17.354253845816245,
          13.053393305310788,
          32.96219502530459,
          10.819837508729588,
          8.021458719748662,
          26.395007697295046,
          7.668383597910102,
          34.405606552058416,
          19.036632798310496,
          27.219401409132175,
          24.708385647912376,
          19.62950629474907,
          -9.941687010392904,
          17.119996292653354,
          26.11941605957211,
          20.121889345793637,
          18.970724326173876,
          37.77271796203438,
          16.594916405282824,
          27.78000655304581,
          6.241080847491796,
          35.349373116783305,
          18.992321700892404,
          18.15965442765171,
          23.046005416621195,
          28.439568450354166,
          36.535402591688346,
          39.40979475452892,
          34.0043962232708,
          29.10662066640273,
          30.80948555373964,
          27.65396576812661,
          28.19962225671593,
          22.85187613541246,
          25.068974072291166
         ],
         "z": [
          0.22275873057731174,
          0.4633337376733324,
          0.1440852368519797,
          0.4489847660125878,
          0.4522237302995032,
          0.25017342456454755,
          0.08803644674729767,
          0.15680443371926778,
          0.683451936415729,
          0.7165463641243587,
          0.25878913253418157,
          0.3214892646025906,
          0.7834692668179006,
          1.0000000000000002,
          0.12704953232148827,
          0.542877895538481,
          0.42916128546966703,
          0.669608345659194,
          0.3612272983030518,
          0.2760460239370844,
          0.7206640952451359,
          0.12302698126703154,
          0.19051304218165413,
          0.06223915523488313,
          0.05567831096100281,
          0.32620819439397936,
          0.5488141440499782,
          0.023469225936866192,
          0.08484376711267347,
          0.0030166061990606623,
          0.13570515927330262,
          0.19087283083385118,
          0.045852884382338664,
          0.26629780832781336,
          0.01668509792036673,
          0.10075815517097828,
          0.013927055802643041,
          0.17291214289142667,
          0.0975923422192871,
          0.2913236382066362,
          0.0842558152824981,
          0.17318354630106594,
          0.20398008542009535,
          0.16893766406415395,
          0.4457058548361629,
          0.23798824376778688,
          0.12536829625033485,
          0.1043896338955068,
          0.015322752415700506,
          0.24704291649909518,
          0.07006827838007396,
          0.008049283910195866,
          0.03868389630148625,
          0.07596524455538997,
          0.023914267610651067,
          0.239260967939275,
          0.08404183631454601,
          0.14497954568645555,
          0.22172263771230433,
          0.13799699134261698,
          0.06915536638698049,
          0.20006533466615264,
          0.07200986112881891,
          0.20681679477943268,
          0.13608843339161306,
          0.026133099512224655,
          0.09666510571999609,
          0.06433917420792991,
          0.1748660818901522,
          0.04140839321185289,
          0.2580896403459357,
          0.022262267980543392,
          0.0359757250747448,
          0.01653063397468326,
          0.09202081673547233,
          0.30604003686047815,
          0.1951787310150296,
          0.01931428966619106,
          0.14074640145301578,
          0.05993906920431461,
          0.43406581857780746,
          0.049343749754874856,
          0.1788253503602016,
          0.1973398045975534,
          0.1569547309853646,
          0.027253719919552135,
          0.09490790641710822,
          0.0767252236366009,
          0.12844341742495735,
          0.2072699039709238,
          0.217089034920514,
          0.3043857894374879,
          0.11429216019967382,
          0.23497177894542848,
          0.07421078955328243,
          0.27221097386139026,
          0.3427048009650495,
          0.13477613613188355,
          0.21439575165880664,
          0.1976616609084443,
          0.08104800192842834,
          0.047382682732269116,
          0.17688001119863908,
          0.01548248819941442,
          0.008832168465478012,
          0.15131171392935433,
          0.13255283208081572,
          0.01345917289439323,
          0.22136397037257913,
          0.1912278340204868,
          0.03255130692300505,
          0.09758347691968912,
          0.13925080817079707,
          0.15734126083073277,
          0.15675094174835708,
          0.12191858278277742,
          0.08663588799637731,
          0.15475806445946552,
          0.0973526473174279,
          0.14966143484549896,
          0.12068109595100894,
          0.0034311349351941445,
          0.1003873296910386,
          0.02534346979032564,
          0.16171059852646777,
          0.16328174994142247,
          0.03297172761128893,
          0.12802930783200886,
          0.01742227147170359,
          0.14737810633561355,
          0.2644295349240861,
          0.08034095150293509,
          0.021363649482559473,
          0.027283446889594883,
          0.08189619140280337,
          0.055766269342219135,
          0.1386298870903481,
          0.12341053085112269
         ]
        }
       ],
       "layout": {
        "autosize": false,
        "font": {
         "size": 20
        },
        "height": 800,
        "template": {
         "data": {
          "bar": [
           {
            "error_x": {
             "color": "rgb(36,36,36)"
            },
            "error_y": {
             "color": "rgb(36,36,36)"
            },
            "marker": {
             "line": {
              "color": "white",
              "width": 0.5
             },
             "pattern": {
              "fillmode": "overlay",
              "size": 10,
              "solidity": 0.2
             }
            },
            "type": "bar"
           }
          ],
          "barpolar": [
           {
            "marker": {
             "line": {
              "color": "white",
              "width": 0.5
             },
             "pattern": {
              "fillmode": "overlay",
              "size": 10,
              "solidity": 0.2
             }
            },
            "type": "barpolar"
           }
          ],
          "carpet": [
           {
            "aaxis": {
             "endlinecolor": "rgb(36,36,36)",
             "gridcolor": "white",
             "linecolor": "white",
             "minorgridcolor": "white",
             "startlinecolor": "rgb(36,36,36)"
            },
            "baxis": {
             "endlinecolor": "rgb(36,36,36)",
             "gridcolor": "white",
             "linecolor": "white",
             "minorgridcolor": "white",
             "startlinecolor": "rgb(36,36,36)"
            },
            "type": "carpet"
           }
          ],
          "choropleth": [
           {
            "colorbar": {
             "outlinewidth": 1,
             "tickcolor": "rgb(36,36,36)",
             "ticks": "outside"
            },
            "type": "choropleth"
           }
          ],
          "contour": [
           {
            "colorbar": {
             "outlinewidth": 1,
             "tickcolor": "rgb(36,36,36)",
             "ticks": "outside"
            },
            "colorscale": [
             [
              0,
              "#440154"
             ],
             [
              0.1111111111111111,
              "#482878"
             ],
             [
              0.2222222222222222,
              "#3e4989"
             ],
             [
              0.3333333333333333,
              "#31688e"
             ],
             [
              0.4444444444444444,
              "#26828e"
             ],
             [
              0.5555555555555556,
              "#1f9e89"
             ],
             [
              0.6666666666666666,
              "#35b779"
             ],
             [
              0.7777777777777778,
              "#6ece58"
             ],
             [
              0.8888888888888888,
              "#b5de2b"
             ],
             [
              1,
              "#fde725"
             ]
            ],
            "type": "contour"
           }
          ],
          "contourcarpet": [
           {
            "colorbar": {
             "outlinewidth": 1,
             "tickcolor": "rgb(36,36,36)",
             "ticks": "outside"
            },
            "type": "contourcarpet"
           }
          ],
          "heatmap": [
           {
            "colorbar": {
             "outlinewidth": 1,
             "tickcolor": "rgb(36,36,36)",
             "ticks": "outside"
            },
            "colorscale": [
             [
              0,
              "#440154"
             ],
             [
              0.1111111111111111,
              "#482878"
             ],
             [
              0.2222222222222222,
              "#3e4989"
             ],
             [
              0.3333333333333333,
              "#31688e"
             ],
             [
              0.4444444444444444,
              "#26828e"
             ],
             [
              0.5555555555555556,
              "#1f9e89"
             ],
             [
              0.6666666666666666,
              "#35b779"
             ],
             [
              0.7777777777777778,
              "#6ece58"
             ],
             [
              0.8888888888888888,
              "#b5de2b"
             ],
             [
              1,
              "#fde725"
             ]
            ],
            "type": "heatmap"
           }
          ],
          "heatmapgl": [
           {
            "colorbar": {
             "outlinewidth": 1,
             "tickcolor": "rgb(36,36,36)",
             "ticks": "outside"
            },
            "colorscale": [
             [
              0,
              "#440154"
             ],
             [
              0.1111111111111111,
              "#482878"
             ],
             [
              0.2222222222222222,
              "#3e4989"
             ],
             [
              0.3333333333333333,
              "#31688e"
             ],
             [
              0.4444444444444444,
              "#26828e"
             ],
             [
              0.5555555555555556,
              "#1f9e89"
             ],
             [
              0.6666666666666666,
              "#35b779"
             ],
             [
              0.7777777777777778,
              "#6ece58"
             ],
             [
              0.8888888888888888,
              "#b5de2b"
             ],
             [
              1,
              "#fde725"
             ]
            ],
            "type": "heatmapgl"
           }
          ],
          "histogram": [
           {
            "marker": {
             "line": {
              "color": "white",
              "width": 0.6
             }
            },
            "type": "histogram"
           }
          ],
          "histogram2d": [
           {
            "colorbar": {
             "outlinewidth": 1,
             "tickcolor": "rgb(36,36,36)",
             "ticks": "outside"
            },
            "colorscale": [
             [
              0,
              "#440154"
             ],
             [
              0.1111111111111111,
              "#482878"
             ],
             [
              0.2222222222222222,
              "#3e4989"
             ],
             [
              0.3333333333333333,
              "#31688e"
             ],
             [
              0.4444444444444444,
              "#26828e"
             ],
             [
              0.5555555555555556,
              "#1f9e89"
             ],
             [
              0.6666666666666666,
              "#35b779"
             ],
             [
              0.7777777777777778,
              "#6ece58"
             ],
             [
              0.8888888888888888,
              "#b5de2b"
             ],
             [
              1,
              "#fde725"
             ]
            ],
            "type": "histogram2d"
           }
          ],
          "histogram2dcontour": [
           {
            "colorbar": {
             "outlinewidth": 1,
             "tickcolor": "rgb(36,36,36)",
             "ticks": "outside"
            },
            "colorscale": [
             [
              0,
              "#440154"
             ],
             [
              0.1111111111111111,
              "#482878"
             ],
             [
              0.2222222222222222,
              "#3e4989"
             ],
             [
              0.3333333333333333,
              "#31688e"
             ],
             [
              0.4444444444444444,
              "#26828e"
             ],
             [
              0.5555555555555556,
              "#1f9e89"
             ],
             [
              0.6666666666666666,
              "#35b779"
             ],
             [
              0.7777777777777778,
              "#6ece58"
             ],
             [
              0.8888888888888888,
              "#b5de2b"
             ],
             [
              1,
              "#fde725"
             ]
            ],
            "type": "histogram2dcontour"
           }
          ],
          "mesh3d": [
           {
            "colorbar": {
             "outlinewidth": 1,
             "tickcolor": "rgb(36,36,36)",
             "ticks": "outside"
            },
            "type": "mesh3d"
           }
          ],
          "parcoords": [
           {
            "line": {
             "colorbar": {
              "outlinewidth": 1,
              "tickcolor": "rgb(36,36,36)",
              "ticks": "outside"
             }
            },
            "type": "parcoords"
           }
          ],
          "pie": [
           {
            "automargin": true,
            "type": "pie"
           }
          ],
          "scatter": [
           {
            "marker": {
             "colorbar": {
              "outlinewidth": 1,
              "tickcolor": "rgb(36,36,36)",
              "ticks": "outside"
             }
            },
            "type": "scatter"
           }
          ],
          "scatter3d": [
           {
            "line": {
             "colorbar": {
              "outlinewidth": 1,
              "tickcolor": "rgb(36,36,36)",
              "ticks": "outside"
             }
            },
            "marker": {
             "colorbar": {
              "outlinewidth": 1,
              "tickcolor": "rgb(36,36,36)",
              "ticks": "outside"
             }
            },
            "type": "scatter3d"
           }
          ],
          "scattercarpet": [
           {
            "marker": {
             "colorbar": {
              "outlinewidth": 1,
              "tickcolor": "rgb(36,36,36)",
              "ticks": "outside"
             }
            },
            "type": "scattercarpet"
           }
          ],
          "scattergeo": [
           {
            "marker": {
             "colorbar": {
              "outlinewidth": 1,
              "tickcolor": "rgb(36,36,36)",
              "ticks": "outside"
             }
            },
            "type": "scattergeo"
           }
          ],
          "scattergl": [
           {
            "marker": {
             "colorbar": {
              "outlinewidth": 1,
              "tickcolor": "rgb(36,36,36)",
              "ticks": "outside"
             }
            },
            "type": "scattergl"
           }
          ],
          "scattermapbox": [
           {
            "marker": {
             "colorbar": {
              "outlinewidth": 1,
              "tickcolor": "rgb(36,36,36)",
              "ticks": "outside"
             }
            },
            "type": "scattermapbox"
           }
          ],
          "scatterpolar": [
           {
            "marker": {
             "colorbar": {
              "outlinewidth": 1,
              "tickcolor": "rgb(36,36,36)",
              "ticks": "outside"
             }
            },
            "type": "scatterpolar"
           }
          ],
          "scatterpolargl": [
           {
            "marker": {
             "colorbar": {
              "outlinewidth": 1,
              "tickcolor": "rgb(36,36,36)",
              "ticks": "outside"
             }
            },
            "type": "scatterpolargl"
           }
          ],
          "scatterternary": [
           {
            "marker": {
             "colorbar": {
              "outlinewidth": 1,
              "tickcolor": "rgb(36,36,36)",
              "ticks": "outside"
             }
            },
            "type": "scatterternary"
           }
          ],
          "surface": [
           {
            "colorbar": {
             "outlinewidth": 1,
             "tickcolor": "rgb(36,36,36)",
             "ticks": "outside"
            },
            "colorscale": [
             [
              0,
              "#440154"
             ],
             [
              0.1111111111111111,
              "#482878"
             ],
             [
              0.2222222222222222,
              "#3e4989"
             ],
             [
              0.3333333333333333,
              "#31688e"
             ],
             [
              0.4444444444444444,
              "#26828e"
             ],
             [
              0.5555555555555556,
              "#1f9e89"
             ],
             [
              0.6666666666666666,
              "#35b779"
             ],
             [
              0.7777777777777778,
              "#6ece58"
             ],
             [
              0.8888888888888888,
              "#b5de2b"
             ],
             [
              1,
              "#fde725"
             ]
            ],
            "type": "surface"
           }
          ],
          "table": [
           {
            "cells": {
             "fill": {
              "color": "rgb(237,237,237)"
             },
             "line": {
              "color": "white"
             }
            },
            "header": {
             "fill": {
              "color": "rgb(217,217,217)"
             },
             "line": {
              "color": "white"
             }
            },
            "type": "table"
           }
          ]
         },
         "layout": {
          "annotationdefaults": {
           "arrowhead": 0,
           "arrowwidth": 1
          },
          "autotypenumbers": "strict",
          "coloraxis": {
           "colorbar": {
            "outlinewidth": 1,
            "tickcolor": "rgb(36,36,36)",
            "ticks": "outside"
           }
          },
          "colorscale": {
           "diverging": [
            [
             0,
             "rgb(103,0,31)"
            ],
            [
             0.1,
             "rgb(178,24,43)"
            ],
            [
             0.2,
             "rgb(214,96,77)"
            ],
            [
             0.3,
             "rgb(244,165,130)"
            ],
            [
             0.4,
             "rgb(253,219,199)"
            ],
            [
             0.5,
             "rgb(247,247,247)"
            ],
            [
             0.6,
             "rgb(209,229,240)"
            ],
            [
             0.7,
             "rgb(146,197,222)"
            ],
            [
             0.8,
             "rgb(67,147,195)"
            ],
            [
             0.9,
             "rgb(33,102,172)"
            ],
            [
             1,
             "rgb(5,48,97)"
            ]
           ],
           "sequential": [
            [
             0,
             "#440154"
            ],
            [
             0.1111111111111111,
             "#482878"
            ],
            [
             0.2222222222222222,
             "#3e4989"
            ],
            [
             0.3333333333333333,
             "#31688e"
            ],
            [
             0.4444444444444444,
             "#26828e"
            ],
            [
             0.5555555555555556,
             "#1f9e89"
            ],
            [
             0.6666666666666666,
             "#35b779"
            ],
            [
             0.7777777777777778,
             "#6ece58"
            ],
            [
             0.8888888888888888,
             "#b5de2b"
            ],
            [
             1,
             "#fde725"
            ]
           ],
           "sequentialminus": [
            [
             0,
             "#440154"
            ],
            [
             0.1111111111111111,
             "#482878"
            ],
            [
             0.2222222222222222,
             "#3e4989"
            ],
            [
             0.3333333333333333,
             "#31688e"
            ],
            [
             0.4444444444444444,
             "#26828e"
            ],
            [
             0.5555555555555556,
             "#1f9e89"
            ],
            [
             0.6666666666666666,
             "#35b779"
            ],
            [
             0.7777777777777778,
             "#6ece58"
            ],
            [
             0.8888888888888888,
             "#b5de2b"
            ],
            [
             1,
             "#fde725"
            ]
           ]
          },
          "colorway": [
           "#1F77B4",
           "#FF7F0E",
           "#2CA02C",
           "#D62728",
           "#9467BD",
           "#8C564B",
           "#E377C2",
           "#7F7F7F",
           "#BCBD22",
           "#17BECF"
          ],
          "font": {
           "color": "rgb(36,36,36)"
          },
          "geo": {
           "bgcolor": "white",
           "lakecolor": "white",
           "landcolor": "white",
           "showlakes": true,
           "showland": true,
           "subunitcolor": "white"
          },
          "hoverlabel": {
           "align": "left"
          },
          "hovermode": "closest",
          "mapbox": {
           "style": "light"
          },
          "paper_bgcolor": "white",
          "plot_bgcolor": "white",
          "polar": {
           "angularaxis": {
            "gridcolor": "rgb(232,232,232)",
            "linecolor": "rgb(36,36,36)",
            "showgrid": false,
            "showline": true,
            "ticks": "outside"
           },
           "bgcolor": "white",
           "radialaxis": {
            "gridcolor": "rgb(232,232,232)",
            "linecolor": "rgb(36,36,36)",
            "showgrid": false,
            "showline": true,
            "ticks": "outside"
           }
          },
          "scene": {
           "xaxis": {
            "backgroundcolor": "white",
            "gridcolor": "rgb(232,232,232)",
            "gridwidth": 2,
            "linecolor": "rgb(36,36,36)",
            "showbackground": true,
            "showgrid": false,
            "showline": true,
            "ticks": "outside",
            "zeroline": false,
            "zerolinecolor": "rgb(36,36,36)"
           },
           "yaxis": {
            "backgroundcolor": "white",
            "gridcolor": "rgb(232,232,232)",
            "gridwidth": 2,
            "linecolor": "rgb(36,36,36)",
            "showbackground": true,
            "showgrid": false,
            "showline": true,
            "ticks": "outside",
            "zeroline": false,
            "zerolinecolor": "rgb(36,36,36)"
           },
           "zaxis": {
            "backgroundcolor": "white",
            "gridcolor": "rgb(232,232,232)",
            "gridwidth": 2,
            "linecolor": "rgb(36,36,36)",
            "showbackground": true,
            "showgrid": false,
            "showline": true,
            "ticks": "outside",
            "zeroline": false,
            "zerolinecolor": "rgb(36,36,36)"
           }
          },
          "shapedefaults": {
           "fillcolor": "black",
           "line": {
            "width": 0
           },
           "opacity": 0.3
          },
          "ternary": {
           "aaxis": {
            "gridcolor": "rgb(232,232,232)",
            "linecolor": "rgb(36,36,36)",
            "showgrid": false,
            "showline": true,
            "ticks": "outside"
           },
           "baxis": {
            "gridcolor": "rgb(232,232,232)",
            "linecolor": "rgb(36,36,36)",
            "showgrid": false,
            "showline": true,
            "ticks": "outside"
           },
           "bgcolor": "white",
           "caxis": {
            "gridcolor": "rgb(232,232,232)",
            "linecolor": "rgb(36,36,36)",
            "showgrid": false,
            "showline": true,
            "ticks": "outside"
           }
          },
          "title": {
           "x": 0.05
          },
          "xaxis": {
           "automargin": true,
           "gridcolor": "rgb(232,232,232)",
           "linecolor": "rgb(36,36,36)",
           "showgrid": false,
           "showline": true,
           "ticks": "outside",
           "title": {
            "standoff": 15
           },
           "zeroline": false,
           "zerolinecolor": "rgb(36,36,36)"
          },
          "yaxis": {
           "automargin": true,
           "gridcolor": "rgb(232,232,232)",
           "linecolor": "rgb(36,36,36)",
           "showgrid": false,
           "showline": true,
           "ticks": "outside",
           "title": {
            "standoff": 15
           },
           "zeroline": false,
           "zerolinecolor": "rgb(36,36,36)"
          }
         }
        },
        "width": 800,
        "xaxis": {
         "mirror": true,
         "showgrid": false,
         "ticks": "outside",
         "zeroline": false
        },
        "yaxis": {
         "mirror": true,
         "showgrid": false,
         "ticks": "outside",
         "zeroline": false
        }
       }
      }
     },
     "metadata": {},
     "output_type": "display_data"
    }
   ],
   "source": [
    "explainer.compute_all_angles()\n",
    "explainer.plot_scope_explanation(instance_id)"
   ]
  },
  {
   "cell_type": "markdown",
   "metadata": {},
   "source": [
    "#### EXPLAIN GLOBALLY"
   ]
  },
  {
   "cell_type": "markdown",
   "metadata": {},
   "source": [
    "##### PLOT FEATURE IMPORTANCE RANKING"
   ]
  },
  {
   "cell_type": "code",
   "execution_count": 8,
   "metadata": {},
   "outputs": [
    {
     "data": {
      "application/vnd.plotly.v1+json": {
       "config": {
        "plotlyServerURL": "https://plot.ly"
       },
       "data": [
        {
         "orientation": "h",
         "showlegend": false,
         "type": "bar",
         "x": [
          0.07441416382420991,
          0.08856751298298932,
          0.044797486317994906,
          0.06079458757850683,
          0.09519761026195404,
          0.09139555186044446,
          0.054739333399351164,
          0.022319149721569006,
          0.025165583431443907,
          0.03680228239872769,
          0.11183737880586941,
          0.08854756338947425,
          0.10016071735441187,
          0.08995934218134541,
          0.037876915477287124,
          0.08056927360371716,
          0.02921801309815261,
          0.0942172432366054,
          0.09406137326858166,
          0.08864973971548697,
          0.09295134181734803,
          0.09231158292592238,
          0.02387154438369465,
          0.07749235352831783,
          0.07444449168332704,
          0.10673817732878989,
          0.09137211804075641,
          0.07451647871781696,
          0.05871362542380754,
          0.040589274240200694,
          0.03820764196624156,
          0.10398800454448796,
          0.09758898781117578,
          0.10399676180101568,
          0.024868313320540774,
          0.02573229536963251,
          0.026243140292717182,
          0.10689771520569337,
          0.10242256372420001,
          0.025727928878619157,
          0.030944855266738062,
          0.029266863548420095,
          0.03013928501023657,
          0.09272446409715192,
          0.08562603583169152
         ],
         "y": [
          "Pop growth",
          "Pop growth 2004",
          "Price index",
          "Carbon Dioxide 2003",
          "Export 1990",
          "Export 2004",
          "Elec 2003",
          "GDP",
          "GDP PPP",
          "GDP pc",
          "GDP pc growth rate",
          "Fem Econo Rate",
          "Fem Econo 1990",
          "Fem Econo 2004",
          "Health Exp",
          "Babies",
          "Internet 1990",
          "Import 1990",
          "Import 2004",
          "Tertiary female ratio",
          "Babies immunized",
          "Manufactured Exp 2004",
          "Foreign invest 2004",
          "Military 2004",
          "Public Health 2003",
          "Private Health 2003",
          "Primary export 2004",
          "Public Health",
          "Refugees asylum",
          "Refugees origin",
          "Armed forces",
          "Parliament Women",
          "Female Male income",
          "House women 2006",
          "Pop 1975",
          "Pop 2004",
          "Pop 2015",
          "Tuberculosis detected",
          "Tuberculosis cured 2004",
          "Trad fuel",
          "ODA pc donnor 2004",
          "ODA to least dev 1990",
          "ODA to least dev 2004",
          "ODA received",
          "ODA received pc"
         ]
        }
       ],
       "layout": {
        "font": {
         "size": 15
        },
        "height": 1000,
        "template": {
         "data": {
          "bar": [
           {
            "error_x": {
             "color": "rgb(36,36,36)"
            },
            "error_y": {
             "color": "rgb(36,36,36)"
            },
            "marker": {
             "line": {
              "color": "white",
              "width": 0.5
             },
             "pattern": {
              "fillmode": "overlay",
              "size": 10,
              "solidity": 0.2
             }
            },
            "type": "bar"
           }
          ],
          "barpolar": [
           {
            "marker": {
             "line": {
              "color": "white",
              "width": 0.5
             },
             "pattern": {
              "fillmode": "overlay",
              "size": 10,
              "solidity": 0.2
             }
            },
            "type": "barpolar"
           }
          ],
          "carpet": [
           {
            "aaxis": {
             "endlinecolor": "rgb(36,36,36)",
             "gridcolor": "white",
             "linecolor": "white",
             "minorgridcolor": "white",
             "startlinecolor": "rgb(36,36,36)"
            },
            "baxis": {
             "endlinecolor": "rgb(36,36,36)",
             "gridcolor": "white",
             "linecolor": "white",
             "minorgridcolor": "white",
             "startlinecolor": "rgb(36,36,36)"
            },
            "type": "carpet"
           }
          ],
          "choropleth": [
           {
            "colorbar": {
             "outlinewidth": 1,
             "tickcolor": "rgb(36,36,36)",
             "ticks": "outside"
            },
            "type": "choropleth"
           }
          ],
          "contour": [
           {
            "colorbar": {
             "outlinewidth": 1,
             "tickcolor": "rgb(36,36,36)",
             "ticks": "outside"
            },
            "colorscale": [
             [
              0,
              "#440154"
             ],
             [
              0.1111111111111111,
              "#482878"
             ],
             [
              0.2222222222222222,
              "#3e4989"
             ],
             [
              0.3333333333333333,
              "#31688e"
             ],
             [
              0.4444444444444444,
              "#26828e"
             ],
             [
              0.5555555555555556,
              "#1f9e89"
             ],
             [
              0.6666666666666666,
              "#35b779"
             ],
             [
              0.7777777777777778,
              "#6ece58"
             ],
             [
              0.8888888888888888,
              "#b5de2b"
             ],
             [
              1,
              "#fde725"
             ]
            ],
            "type": "contour"
           }
          ],
          "contourcarpet": [
           {
            "colorbar": {
             "outlinewidth": 1,
             "tickcolor": "rgb(36,36,36)",
             "ticks": "outside"
            },
            "type": "contourcarpet"
           }
          ],
          "heatmap": [
           {
            "colorbar": {
             "outlinewidth": 1,
             "tickcolor": "rgb(36,36,36)",
             "ticks": "outside"
            },
            "colorscale": [
             [
              0,
              "#440154"
             ],
             [
              0.1111111111111111,
              "#482878"
             ],
             [
              0.2222222222222222,
              "#3e4989"
             ],
             [
              0.3333333333333333,
              "#31688e"
             ],
             [
              0.4444444444444444,
              "#26828e"
             ],
             [
              0.5555555555555556,
              "#1f9e89"
             ],
             [
              0.6666666666666666,
              "#35b779"
             ],
             [
              0.7777777777777778,
              "#6ece58"
             ],
             [
              0.8888888888888888,
              "#b5de2b"
             ],
             [
              1,
              "#fde725"
             ]
            ],
            "type": "heatmap"
           }
          ],
          "heatmapgl": [
           {
            "colorbar": {
             "outlinewidth": 1,
             "tickcolor": "rgb(36,36,36)",
             "ticks": "outside"
            },
            "colorscale": [
             [
              0,
              "#440154"
             ],
             [
              0.1111111111111111,
              "#482878"
             ],
             [
              0.2222222222222222,
              "#3e4989"
             ],
             [
              0.3333333333333333,
              "#31688e"
             ],
             [
              0.4444444444444444,
              "#26828e"
             ],
             [
              0.5555555555555556,
              "#1f9e89"
             ],
             [
              0.6666666666666666,
              "#35b779"
             ],
             [
              0.7777777777777778,
              "#6ece58"
             ],
             [
              0.8888888888888888,
              "#b5de2b"
             ],
             [
              1,
              "#fde725"
             ]
            ],
            "type": "heatmapgl"
           }
          ],
          "histogram": [
           {
            "marker": {
             "line": {
              "color": "white",
              "width": 0.6
             }
            },
            "type": "histogram"
           }
          ],
          "histogram2d": [
           {
            "colorbar": {
             "outlinewidth": 1,
             "tickcolor": "rgb(36,36,36)",
             "ticks": "outside"
            },
            "colorscale": [
             [
              0,
              "#440154"
             ],
             [
              0.1111111111111111,
              "#482878"
             ],
             [
              0.2222222222222222,
              "#3e4989"
             ],
             [
              0.3333333333333333,
              "#31688e"
             ],
             [
              0.4444444444444444,
              "#26828e"
             ],
             [
              0.5555555555555556,
              "#1f9e89"
             ],
             [
              0.6666666666666666,
              "#35b779"
             ],
             [
              0.7777777777777778,
              "#6ece58"
             ],
             [
              0.8888888888888888,
              "#b5de2b"
             ],
             [
              1,
              "#fde725"
             ]
            ],
            "type": "histogram2d"
           }
          ],
          "histogram2dcontour": [
           {
            "colorbar": {
             "outlinewidth": 1,
             "tickcolor": "rgb(36,36,36)",
             "ticks": "outside"
            },
            "colorscale": [
             [
              0,
              "#440154"
             ],
             [
              0.1111111111111111,
              "#482878"
             ],
             [
              0.2222222222222222,
              "#3e4989"
             ],
             [
              0.3333333333333333,
              "#31688e"
             ],
             [
              0.4444444444444444,
              "#26828e"
             ],
             [
              0.5555555555555556,
              "#1f9e89"
             ],
             [
              0.6666666666666666,
              "#35b779"
             ],
             [
              0.7777777777777778,
              "#6ece58"
             ],
             [
              0.8888888888888888,
              "#b5de2b"
             ],
             [
              1,
              "#fde725"
             ]
            ],
            "type": "histogram2dcontour"
           }
          ],
          "mesh3d": [
           {
            "colorbar": {
             "outlinewidth": 1,
             "tickcolor": "rgb(36,36,36)",
             "ticks": "outside"
            },
            "type": "mesh3d"
           }
          ],
          "parcoords": [
           {
            "line": {
             "colorbar": {
              "outlinewidth": 1,
              "tickcolor": "rgb(36,36,36)",
              "ticks": "outside"
             }
            },
            "type": "parcoords"
           }
          ],
          "pie": [
           {
            "automargin": true,
            "type": "pie"
           }
          ],
          "scatter": [
           {
            "marker": {
             "colorbar": {
              "outlinewidth": 1,
              "tickcolor": "rgb(36,36,36)",
              "ticks": "outside"
             }
            },
            "type": "scatter"
           }
          ],
          "scatter3d": [
           {
            "line": {
             "colorbar": {
              "outlinewidth": 1,
              "tickcolor": "rgb(36,36,36)",
              "ticks": "outside"
             }
            },
            "marker": {
             "colorbar": {
              "outlinewidth": 1,
              "tickcolor": "rgb(36,36,36)",
              "ticks": "outside"
             }
            },
            "type": "scatter3d"
           }
          ],
          "scattercarpet": [
           {
            "marker": {
             "colorbar": {
              "outlinewidth": 1,
              "tickcolor": "rgb(36,36,36)",
              "ticks": "outside"
             }
            },
            "type": "scattercarpet"
           }
          ],
          "scattergeo": [
           {
            "marker": {
             "colorbar": {
              "outlinewidth": 1,
              "tickcolor": "rgb(36,36,36)",
              "ticks": "outside"
             }
            },
            "type": "scattergeo"
           }
          ],
          "scattergl": [
           {
            "marker": {
             "colorbar": {
              "outlinewidth": 1,
              "tickcolor": "rgb(36,36,36)",
              "ticks": "outside"
             }
            },
            "type": "scattergl"
           }
          ],
          "scattermapbox": [
           {
            "marker": {
             "colorbar": {
              "outlinewidth": 1,
              "tickcolor": "rgb(36,36,36)",
              "ticks": "outside"
             }
            },
            "type": "scattermapbox"
           }
          ],
          "scatterpolar": [
           {
            "marker": {
             "colorbar": {
              "outlinewidth": 1,
              "tickcolor": "rgb(36,36,36)",
              "ticks": "outside"
             }
            },
            "type": "scatterpolar"
           }
          ],
          "scatterpolargl": [
           {
            "marker": {
             "colorbar": {
              "outlinewidth": 1,
              "tickcolor": "rgb(36,36,36)",
              "ticks": "outside"
             }
            },
            "type": "scatterpolargl"
           }
          ],
          "scatterternary": [
           {
            "marker": {
             "colorbar": {
              "outlinewidth": 1,
              "tickcolor": "rgb(36,36,36)",
              "ticks": "outside"
             }
            },
            "type": "scatterternary"
           }
          ],
          "surface": [
           {
            "colorbar": {
             "outlinewidth": 1,
             "tickcolor": "rgb(36,36,36)",
             "ticks": "outside"
            },
            "colorscale": [
             [
              0,
              "#440154"
             ],
             [
              0.1111111111111111,
              "#482878"
             ],
             [
              0.2222222222222222,
              "#3e4989"
             ],
             [
              0.3333333333333333,
              "#31688e"
             ],
             [
              0.4444444444444444,
              "#26828e"
             ],
             [
              0.5555555555555556,
              "#1f9e89"
             ],
             [
              0.6666666666666666,
              "#35b779"
             ],
             [
              0.7777777777777778,
              "#6ece58"
             ],
             [
              0.8888888888888888,
              "#b5de2b"
             ],
             [
              1,
              "#fde725"
             ]
            ],
            "type": "surface"
           }
          ],
          "table": [
           {
            "cells": {
             "fill": {
              "color": "rgb(237,237,237)"
             },
             "line": {
              "color": "white"
             }
            },
            "header": {
             "fill": {
              "color": "rgb(217,217,217)"
             },
             "line": {
              "color": "white"
             }
            },
            "type": "table"
           }
          ]
         },
         "layout": {
          "annotationdefaults": {
           "arrowhead": 0,
           "arrowwidth": 1
          },
          "autotypenumbers": "strict",
          "coloraxis": {
           "colorbar": {
            "outlinewidth": 1,
            "tickcolor": "rgb(36,36,36)",
            "ticks": "outside"
           }
          },
          "colorscale": {
           "diverging": [
            [
             0,
             "rgb(103,0,31)"
            ],
            [
             0.1,
             "rgb(178,24,43)"
            ],
            [
             0.2,
             "rgb(214,96,77)"
            ],
            [
             0.3,
             "rgb(244,165,130)"
            ],
            [
             0.4,
             "rgb(253,219,199)"
            ],
            [
             0.5,
             "rgb(247,247,247)"
            ],
            [
             0.6,
             "rgb(209,229,240)"
            ],
            [
             0.7,
             "rgb(146,197,222)"
            ],
            [
             0.8,
             "rgb(67,147,195)"
            ],
            [
             0.9,
             "rgb(33,102,172)"
            ],
            [
             1,
             "rgb(5,48,97)"
            ]
           ],
           "sequential": [
            [
             0,
             "#440154"
            ],
            [
             0.1111111111111111,
             "#482878"
            ],
            [
             0.2222222222222222,
             "#3e4989"
            ],
            [
             0.3333333333333333,
             "#31688e"
            ],
            [
             0.4444444444444444,
             "#26828e"
            ],
            [
             0.5555555555555556,
             "#1f9e89"
            ],
            [
             0.6666666666666666,
             "#35b779"
            ],
            [
             0.7777777777777778,
             "#6ece58"
            ],
            [
             0.8888888888888888,
             "#b5de2b"
            ],
            [
             1,
             "#fde725"
            ]
           ],
           "sequentialminus": [
            [
             0,
             "#440154"
            ],
            [
             0.1111111111111111,
             "#482878"
            ],
            [
             0.2222222222222222,
             "#3e4989"
            ],
            [
             0.3333333333333333,
             "#31688e"
            ],
            [
             0.4444444444444444,
             "#26828e"
            ],
            [
             0.5555555555555556,
             "#1f9e89"
            ],
            [
             0.6666666666666666,
             "#35b779"
            ],
            [
             0.7777777777777778,
             "#6ece58"
            ],
            [
             0.8888888888888888,
             "#b5de2b"
            ],
            [
             1,
             "#fde725"
            ]
           ]
          },
          "colorway": [
           "#1F77B4",
           "#FF7F0E",
           "#2CA02C",
           "#D62728",
           "#9467BD",
           "#8C564B",
           "#E377C2",
           "#7F7F7F",
           "#BCBD22",
           "#17BECF"
          ],
          "font": {
           "color": "rgb(36,36,36)"
          },
          "geo": {
           "bgcolor": "white",
           "lakecolor": "white",
           "landcolor": "white",
           "showlakes": true,
           "showland": true,
           "subunitcolor": "white"
          },
          "hoverlabel": {
           "align": "left"
          },
          "hovermode": "closest",
          "mapbox": {
           "style": "light"
          },
          "paper_bgcolor": "white",
          "plot_bgcolor": "white",
          "polar": {
           "angularaxis": {
            "gridcolor": "rgb(232,232,232)",
            "linecolor": "rgb(36,36,36)",
            "showgrid": false,
            "showline": true,
            "ticks": "outside"
           },
           "bgcolor": "white",
           "radialaxis": {
            "gridcolor": "rgb(232,232,232)",
            "linecolor": "rgb(36,36,36)",
            "showgrid": false,
            "showline": true,
            "ticks": "outside"
           }
          },
          "scene": {
           "xaxis": {
            "backgroundcolor": "white",
            "gridcolor": "rgb(232,232,232)",
            "gridwidth": 2,
            "linecolor": "rgb(36,36,36)",
            "showbackground": true,
            "showgrid": false,
            "showline": true,
            "ticks": "outside",
            "zeroline": false,
            "zerolinecolor": "rgb(36,36,36)"
           },
           "yaxis": {
            "backgroundcolor": "white",
            "gridcolor": "rgb(232,232,232)",
            "gridwidth": 2,
            "linecolor": "rgb(36,36,36)",
            "showbackground": true,
            "showgrid": false,
            "showline": true,
            "ticks": "outside",
            "zeroline": false,
            "zerolinecolor": "rgb(36,36,36)"
           },
           "zaxis": {
            "backgroundcolor": "white",
            "gridcolor": "rgb(232,232,232)",
            "gridwidth": 2,
            "linecolor": "rgb(36,36,36)",
            "showbackground": true,
            "showgrid": false,
            "showline": true,
            "ticks": "outside",
            "zeroline": false,
            "zerolinecolor": "rgb(36,36,36)"
           }
          },
          "shapedefaults": {
           "fillcolor": "black",
           "line": {
            "width": 0
           },
           "opacity": 0.3
          },
          "ternary": {
           "aaxis": {
            "gridcolor": "rgb(232,232,232)",
            "linecolor": "rgb(36,36,36)",
            "showgrid": false,
            "showline": true,
            "ticks": "outside"
           },
           "baxis": {
            "gridcolor": "rgb(232,232,232)",
            "linecolor": "rgb(36,36,36)",
            "showgrid": false,
            "showline": true,
            "ticks": "outside"
           },
           "bgcolor": "white",
           "caxis": {
            "gridcolor": "rgb(232,232,232)",
            "linecolor": "rgb(36,36,36)",
            "showgrid": false,
            "showline": true,
            "ticks": "outside"
           }
          },
          "title": {
           "x": 0.05
          },
          "xaxis": {
           "automargin": true,
           "gridcolor": "rgb(232,232,232)",
           "linecolor": "rgb(36,36,36)",
           "showgrid": false,
           "showline": true,
           "ticks": "outside",
           "title": {
            "standoff": 15
           },
           "zeroline": false,
           "zerolinecolor": "rgb(36,36,36)"
          },
          "yaxis": {
           "automargin": true,
           "gridcolor": "rgb(232,232,232)",
           "linecolor": "rgb(36,36,36)",
           "showgrid": false,
           "showline": true,
           "ticks": "outside",
           "title": {
            "standoff": 15
           },
           "zeroline": false,
           "zerolinecolor": "rgb(36,36,36)"
          }
         }
        },
        "width": 900,
        "xaxis": {
         "linecolor": "black",
         "linewidth": 2,
         "mirror": true,
         "showgrid": false,
         "showline": true,
         "ticks": "outside",
         "zerolinecolor": "grey",
         "zerolinewidth": 1
        },
        "yaxis": {
         "categoryorder": "total ascending",
         "linecolor": "black",
         "linewidth": 2,
         "mirror": true,
         "showline": true
        }
       }
      }
     },
     "metadata": {},
     "output_type": "display_data"
    }
   ],
   "source": [
    "explainer.plot_feature_importance_ranking()"
   ]
  },
  {
   "cell_type": "markdown",
   "metadata": {},
   "source": [
    "##### PLOT VECTOR FIELDS"
   ]
  },
  {
   "cell_type": "code",
   "execution_count": 9,
   "metadata": {},
   "outputs": [],
   "source": [
    "explainer.scale_gradients()\n",
    "feature_id = 7"
   ]
  },
  {
   "cell_type": "code",
   "execution_count": 10,
   "metadata": {},
   "outputs": [
    {
     "data": {
      "application/vnd.plotly.v1+json": {
       "config": {
        "plotlyServerURL": "https://plot.ly"
       },
       "data": [
        {
         "mode": "lines",
         "type": "scatter",
         "x": [
          -5.335488691700415,
          -5.540597391129587,
          null,
          -2.6847173306626395,
          -2.4225969815924273,
          null,
          -4.521439176888646,
          -6.228605497700647,
          null,
          -13.181306520591576,
          -12.98579416117085,
          null,
          -5.501201649866014,
          -6.128719091631351,
          null,
          -3.941703297750068,
          -8.214279188436768,
          null,
          -11.052997539895667,
          -14.996714470462143,
          null,
          -11.65579287341167,
          -15.451011721565843,
          null,
          -7.56492311920172,
          -8.173321165330359,
          null,
          -9.606084981670667,
          -9.667602455980893,
          null,
          -4.881128134530332,
          -5.287500904368617,
          null,
          -13.084467497173362,
          -12.496245880169841,
          null,
          -11.147224447458418,
          -10.714282108841731,
          null,
          -10.904447654805573,
          -10.856523859406854,
          null,
          -8.08075378074755,
          -8.701824525656145,
          null,
          -11.203947200033092,
          -7.449476906817422,
          null,
          -9.693399447215336,
          -13.646039141517676,
          null,
          -10.913657430916702,
          -8.1478634039436,
          null,
          -7.595293303836653,
          -10.752339910810512,
          null,
          -3.6341073894485643,
          -7.474494670991641,
          null,
          -9.472261918572661,
          -11.658869874352042,
          null,
          10.142630716347561,
          9.47285622179072,
          null,
          8.258923980675796,
          9.168523838483239,
          null,
          10.215999052208653,
          9.750803869592742,
          null,
          8.517193270112745,
          7.201214912449984,
          null,
          20.71765695334937,
          20.779935112762583,
          null,
          -13.468065883381717,
          -13.368772484604166,
          null,
          10.076654131438227,
          10.281469042262298,
          null,
          22.474571240699156,
          22.17497132960384,
          null,
          19.573384041715528,
          19.405600147165753,
          null,
          -1.4362795553173344,
          -1.78896174493913,
          null,
          24.005488678860576,
          23.884537183897347,
          null,
          -11.470622133028504,
          -10.936332725252715,
          null,
          27.06853060976988,
          28.071018576733717,
          null,
          0.45670540318377484,
          0.2886096834140605,
          null,
          1.930542606126764,
          1.7787451977944597,
          null,
          22.90647612791764,
          22.748847279026116,
          null,
          25.655980125073274,
          25.653748664950836,
          null,
          21.937828051284214,
          21.551617585606838,
          null,
          -7.493526702295228,
          -7.737597120554194,
          null,
          24.278550708599088,
          23.991496653489552,
          null,
          25.718806375547256,
          25.65398669552995,
          null,
          -2.66255050368534,
          -3.238380456716965,
          null,
          -1.247337386869069,
          -1.7489495915351736,
          null,
          -6.5815397126488495,
          -8.044807636633788,
          null,
          24.945414677184797,
          25.108575897677962,
          null,
          10.708355048227853,
          10.537076967755288,
          null,
          -8.217892689197758,
          -8.193921226113654,
          null,
          -3.8913601086215786,
          -3.6316772589181396,
          null,
          27.82580116249071,
          28.484069173906544,
          null,
          13.138355422911715,
          13.161838080490815,
          null,
          10.614823625414509,
          10.74359144571911,
          null,
          30.183286106223456,
          30.233013890843527,
          null,
          25.92014986456106,
          25.808719385804693,
          null,
          29.046979654131707,
          29.02503770581962,
          null,
          -8.057121248152006,
          -8.141602975798397,
          null,
          -10.000164821318203,
          -9.28160323576345,
          null,
          -14.686294523411387,
          -14.231742723157131,
          null,
          23.18830153320365,
          23.26426242042622,
          null,
          17.488036879591423,
          17.514876937300333,
          null,
          -2.759053208359292,
          -2.562600725914731,
          null,
          29.239581045746192,
          29.813208207911313,
          null,
          1.1642996771581942,
          1.1645122694170262,
          null,
          15.798118433320036,
          16.189339582347543,
          null,
          22.181420557974047,
          22.224630748261827,
          null,
          -24.10630172417276,
          -22.272482787162094,
          null,
          -13.449184794677212,
          -13.263105496562027,
          null,
          -15.59491530266507,
          -15.421367856680359,
          null,
          -4.307359712713656,
          -4.995838007012996,
          null,
          2.1668617865864457,
          2.131869104459549,
          null,
          -1.709708339359337,
          -2.1086097325747852,
          null,
          9.14913947932584,
          9.123489113005878,
          null,
          -20.50473429363443,
          -20.291590324998488,
          null,
          2.4752636096906393,
          2.0130300718297005,
          null,
          2.7595142296373014,
          2.5040081784588137,
          null,
          -5.039806350171215,
          -5.1215985344428185,
          null,
          -7.006243580279071,
          -6.961520557605191,
          null,
          -3.3346105449746117,
          -3.623063604454689,
          null,
          21.160742145624273,
          21.198468229594553,
          null,
          14.38445996385869,
          14.414378360347134,
          null,
          -5.015592253189129,
          -5.771595542067042,
          null,
          -1.0342638124753065,
          -0.9648729931491797,
          null,
          16.032166626120908,
          15.972553389643554,
          null,
          27.435735564398883,
          27.334700997468218,
          null,
          -0.9511248460148433,
          -0.9054263544195703,
          null,
          -2.2036430389070523,
          -1.9924448059035202,
          null,
          -6.3344022680121705,
          -7.659963811519125,
          null,
          13.556861639512023,
          13.588732957515317,
          null,
          18.1542496091128,
          18.141171274743705,
          null,
          0.6296381744034077,
          0.5830016232969187,
          null,
          -2.4305996933575864,
          -2.4338532342009933,
          null,
          29.72024754634821,
          29.710439090567778,
          null,
          -10.503741294767533,
          -10.470425275426756,
          null,
          17.574740770889004,
          17.5275801770859,
          null,
          -14.170393487389443,
          -13.925071803380524,
          null,
          -2.620794371927941,
          -3.059432542302458,
          null,
          -9.06842976473323,
          -8.232210662927645,
          null,
          0.29177640768427504,
          0.2311402805819613,
          null,
          -18.634964796759807,
          -18.626808515756686,
          null,
          7.039860968457317,
          6.973177629419897,
          null,
          -23.782649543471667,
          -23.63900281509428,
          null,
          -2.3093521116445186,
          -2.133721452966486,
          null,
          2.3488233056737684,
          2.061714476714927,
          null,
          -8.295440394420892,
          -8.236089141280631,
          null,
          1.3106758508056475,
          1.4346746174538225,
          null,
          -9.813590875072961,
          -9.802952892760342,
          null,
          -1.9423524755685204,
          -1.9850242276497745,
          null,
          -2.549401020183381,
          -2.890707662097898,
          null,
          -17.888399009735533,
          -17.900019787155067,
          null,
          4.741622556523453,
          4.475767517923031,
          null,
          -6.46897544912936,
          -6.465496670108115,
          null,
          -19.4936242507213,
          -19.48872812122709,
          null,
          -5.816237073541895,
          -5.824346409011638,
          null,
          -13.59807947999115,
          -13.581197225683294,
          null,
          -12.255339761394715,
          -12.234633051394948,
          null,
          14.481262625288151,
          14.369999299642847,
          null,
          -15.462694923281216,
          -15.404124221522071,
          null,
          -9.491385485394767,
          -9.481206859017595,
          null,
          -21.075286676323078,
          -21.103756327422907,
          null,
          -7.296077611851698,
          -7.308112055226296,
          null,
          -8.27674356078026,
          -8.275034940061948,
          null,
          -19.01663928201382,
          -19.088396894682017,
          null,
          -7.943434426770269,
          -7.954863788112082,
          null,
          30.763103200612772,
          30.840209590721045,
          null,
          -5.110395396127763,
          -5.075733932673671,
          null,
          -13.584992378778226,
          -13.483136027004045,
          null,
          -18.643521723588467,
          -18.643822114577706,
          null,
          -10.664357472154656,
          -10.655435283289034,
          null,
          -6.800602057946359,
          -6.795692664309109,
          null,
          -7.8775410537438155,
          -7.873452613929059,
          null,
          -9.323759142867136,
          -9.302483399808382,
          null,
          -8.333271741839622,
          -8.33123417225882,
          null,
          -13.783937060206197,
          -13.787651802573555,
          null,
          -16.750706293212122,
          -16.7511041552162,
          null,
          -11.370603376776925,
          -11.361379940414508,
          null,
          -12.467768306749077,
          -12.481739706447263,
          null,
          -7.6409625790355955,
          -7.551608052371344,
          null,
          -10.778503694440563,
          -10.748629705220868,
          null,
          -5.483195022109284,
          -5.540597391129587,
          -5.482356281362339,
          null,
          -2.3872547548487217,
          -2.4225969815924273,
          -2.6057267430035957,
          null,
          -5.549350872355138,
          -6.228605497700647,
          -5.945333166573396,
          null,
          -12.941535721838934,
          -12.98579416117085,
          -13.140285513354826,
          null,
          -5.956357227125216,
          -6.128719091631351,
          -5.947276850472683,
          null,
          -7.0174950049603675,
          -8.214279188436768,
          -7.002118550177526,
          null,
          -13.817471555263795,
          -14.996714470462143,
          -13.952428366787428,
          null,
          -14.884395156772245,
          -15.451011721565843,
          -13.877824798832599,
          null,
          -7.816607476814832,
          -8.173321165330359,
          -8.187010561177297,
          null,
          -9.58300269512033,
          -9.667602455980893,
          -9.717517706846232,
          null,
          -5.063019422975295,
          -5.287500904368617,
          -5.2828630898987194,
          null,
          -12.661755240749438,
          -12.496245880169841,
          -12.662385027321223,
          null,
          -10.800485019870557,
          -10.714282108841731,
          -10.872178830307243,
          null,
          -10.645779488589326,
          -10.856523859406854,
          -11.09428841236212,
          null,
          -8.461979797859701,
          -8.701824525656145,
          -8.591499895866619,
          null,
          -8.065335237397292,
          -7.449476906817422,
          -8.950447393934354,
          null,
          -12.012980707008353,
          -13.646039141517676,
          -13.050537764010173,
          null,
          -8.528220198229368,
          -8.1478634039436,
          -9.32690435231405,
          null,
          -9.73912184708285,
          -10.752339910810512,
          -9.98556593450786,
          null,
          -6.341597231090979,
          -7.474494670991641,
          -6.442121957236652,
          null,
          -10.734002015190848,
          -11.658869874352042,
          -11.35089411715465,
          null,
          9.672702930371782,
          9.47285622179072,
          9.650638803285062,
          null,
          8.669854185882578,
          9.168523838483239,
          9.154346926534162,
          null,
          9.873491976639452,
          9.750803869592742,
          9.89040005074363,
          null,
          7.50011000161708,
          7.201214912449984,
          7.644288914368682,
          null,
          20.740288922205256,
          20.779935112762583,
          20.784467907217877,
          null,
          -12.849637336673508,
          -13.368772484604166,
          -13.943890797009235,
          null,
          10.215858146623523,
          10.281469042262298,
          10.231602101704091,
          null,
          22.301287959709626,
          22.17497132960384,
          22.217573794884682,
          null,
          19.453644440620558,
          19.405600147165753,
          19.452155026268038,
          null,
          -1.6980634196638116,
          -1.78896174493913,
          -1.6810123595723176,
          null,
          23.943348663982725,
          23.884537183897347,
          23.893920040185954,
          null,
          -11.090954757162368,
          -10.936332725252715,
          -11.08295138165365,
          null,
          27.654961887316873,
          28.071018576733717,
          27.92185693916101,
          null,
          0.32467374081971134,
          0.2886096834140605,
          0.3473206104803876,
          null,
          1.817318220399874,
          1.7787451977944597,
          1.8257579178676206,
          null,
          22.80696499025443,
          22.748847279026116,
          22.77960316747361,
          null,
          25.65518181053331,
          25.653748664950836,
          25.653573651334742,
          null,
          21.665148491260396,
          21.551617585606838,
          21.655838154753674,
          null,
          -7.6129657786934475,
          -7.737597120554194,
          -7.724617759820894,
          null,
          24.088469658092176,
          23.991496653489552,
          24.05636919529879,
          null,
          25.671058144620506,
          25.65398669552995,
          25.673461591435778,
          null,
          -3.0833424910076506,
          -3.238380456716965,
          -3.0687565278114906,
          null,
          -1.6236705425252975,
          -1.7489495915351736,
          -1.591411868212516,
          null,
          -7.598739795921868,
          -8.044807636633788,
          -7.665862235104891,
          null,
          25.03367189274186,
          25.108575897677962,
          25.091487065676553,
          null,
          10.585353308158808,
          10.537076967755288,
          10.585369876345235,
          null,
          -8.213389497458667,
          -8.193921226113654,
          -8.187968438950383,
          null,
          -3.7340422665028368,
          -3.6316772589181396,
          -3.675725485900029,
          null,
          28.206033101503458,
          28.484069173906544,
          28.390963490613505,
          null,
          13.173886204695588,
          13.161838080490815,
          13.136550068259929,
          null,
          10.69400135714095,
          10.74359144571911,
          10.720580231976319,
          null,
          30.141099911261513,
          30.233013890843527,
          30.296890571072232,
          null,
          25.846246823828658,
          25.808719385804693,
          25.83401818695153,
          null,
          29.037174658060902,
          29.02503770581962,
          29.025271965727057,
          null,
          -8.221070978750458,
          -8.141602975798397,
          -8.014502859210001,
          null,
          -9.625432971883663,
          -9.28160323576345,
          -9.34290971135885,
          null,
          -14.352818937609637,
          -14.231742723157131,
          -14.366949892182951,
          null,
          23.237852263349534,
          23.26426242042622,
          23.247844646388064,
          null,
          17.52283595689148,
          17.514876937300333,
          17.491785075206867,
          null,
          -2.645190358023456,
          -2.562600725914731,
          -2.5907740626589426,
          null,
          29.56391393550771,
          29.813208207911313,
          29.73908255349356,
          null,
          1.168359762746648,
          1.1645122694170262,
          1.160544913261288,
          null,
          16.1009840267049,
          16.189339582347543,
          16.057118561888267,
          null,
          22.215905407849547,
          22.224630748261827,
          22.2089935105004,
          null,
          -22.931814067333892,
          -22.272482787162094,
          -22.64708718077012,
          null,
          -13.319130189678638,
          -13.263105496562027,
          -13.311995209437331,
          null,
          -15.470441582116187,
          -15.421367856680359,
          -15.470142883853375,
          null,
          -4.861147490496287,
          -4.995838007012996,
          -4.742353739895091,
          null,
          2.137224753871802,
          2.131869104459549,
          2.1462428741529873,
          null,
          -1.97425335189033,
          -2.1086097325747852,
          -2.0180592958837758,
          null,
          9.132154324338847,
          9.123489113005878,
          9.129285977643702,
          null,
          -20.386243221068302,
          -20.291590324998488,
          -20.317111317624008,
          null,
          2.1617739107267986,
          2.0130300718297005,
          2.124900699697215,
          null,
          2.6024920833090617,
          2.5040081784588137,
          2.5495825641237087,
          null,
          -5.083739173160049,
          -5.1215985344428185,
          -5.113342188526795,
          null,
          -6.983786787781531,
          -6.961520557605191,
          -6.964469864060382,
          null,
          -3.566393193729547,
          -3.623063604454689,
          -3.5170996883179027,
          null,
          21.19162923816224,
          21.198468229594553,
          21.184036667396054,
          null,
          14.409666751807924,
          14.414378360347134,
          14.402221511042782,
          null,
          -5.503243743561152,
          -5.771595542067042,
          -5.613700913463862,
          null,
          -0.9779795904654609,
          -0.9648729931491797,
          -0.9908900203555282,
          null,
          15.975497481245766,
          15.972553389643554,
          16.003220169092703,
          null,
          27.352120321395986,
          27.334700997468218,
          27.374246535733874,
          null,
          -0.9449835910399759,
          -0.9054263544195703,
          -0.8916346389990396,
          null,
          -2.0641665649707277,
          -1.9924448059035202,
          -2.039799899482178,
          null,
          -7.38964798190077,
          -7.659963811519125,
          -7.182907400638842,
          null,
          13.589343151438847,
          13.588732957515317,
          13.570153218186338,
          null,
          18.166470932968284,
          18.141171274743705,
          18.12324538509841,
          null,
          0.6115823690267095,
          0.5830016232969187,
          0.5807152913273316,
          null,
          -2.4526083089089368,
          -2.4338532342009933,
          -2.4132637624998647,
          null,
          29.693350045856256,
          29.710439090567778,
          29.733058295390208,
          null,
          -10.488394915780956,
          -10.470425275426756,
          -10.471239725589648,
          null,
          17.557648143919735,
          17.5275801770859,
          17.524102087445257,
          null,
          -14.018399669982177,
          -13.925071803380524,
          -13.970060122488043,
          null,
          -2.9486184860338476,
          -3.059432542302458,
          -2.9229355674334894,
          null,
          -8.41376170912979,
          -8.232210662927645,
          -8.522132968321658,
          null,
          0.2543845537332591,
          0.2311402805819613,
          0.2420836001453119,
          null,
          -18.632645511788358,
          -18.626808515756686,
          -18.625570157968028,
          null,
          6.992751067199433,
          6.973177629419897,
          6.991201296614059,
          null,
          -23.718021534478332,
          -23.63900281509428,
          -23.64097435810399,
          null,
          -2.2066182912902543,
          -2.133721452966486,
          -2.159847915008827,
          null,
          2.139424423726009,
          2.061714476714927,
          2.145880958464909,
          null,
          -8.25464906151194,
          -8.236089141280631,
          -8.250992381815502,
          null,
          1.383047296725579,
          1.4346746174538225,
          1.4163895025785598,
          null,
          -9.806447784780056,
          -9.802952892760342,
          -9.80545586082816,
          null,
          -1.969448727663061,
          -1.9850242276497745,
          -1.9765407293084318,
          null,
          -2.7963980614133206,
          -2.890707662097898,
          -2.7925832630831016,
          null,
          -17.897181506153608,
          -17.900019787155067,
          -17.89630609288317,
          null,
          4.602836160371071,
          4.475767517923031,
          4.498592086257932,
          null,
          -6.466754463909868,
          -6.465496670108115,
          -6.466200266091727,
          null,
          -19.498657679886705,
          -19.48872812122709,
          -19.48155907662115,
          null,
          -5.8312487869281755,
          -5.824346409011638,
          -5.812871861474863,
          null,
          -13.584471432295722,
          -13.581197225683294,
          -13.58744149694806,
          null,
          -12.245374143926508,
          -12.234633051394948,
          -12.235566724415907,
          null,
          14.4311138535285,
          14.369999299642847,
          14.37161674140099,
          null,
          -15.443993122010829,
          -15.404124221522071,
          -15.397278394775705,
          null,
          -9.484204136470511,
          -9.481206859017595,
          -9.483948449622499,
          null,
          -21.09970169263237,
          -21.103756327422907,
          -21.09175932958053,
          null,
          -7.303614347959384,
          -7.308112055226296,
          -7.305824555912583,
          null,
          -8.273905655106802,
          -8.275034940061948,
          -8.277127571985526,
          null,
          -19.094569923890298,
          -19.088396894682017,
          -19.041765806008026,
          null,
          -7.959390580320519,
          -7.954863788112082,
          -7.943892943995727,
          null,
          30.815653249669108,
          30.840209590721045,
          30.821292148292873,
          null,
          -5.088845313898401,
          -5.075733932673671,
          -5.082165224309012,
          null,
          -13.534621006227574,
          -13.483136027004045,
          -13.48907924506594,
          null,
          -18.658794500968995,
          -18.643822114577706,
          -18.628680363068852,
          null,
          -10.65976351781536,
          -10.655435283289034,
          -10.656137517785677,
          null,
          -6.797871978092244,
          -6.795692664309109,
          -6.7962813431100475,
          null,
          -7.876162388193752,
          -7.873452613929059,
          -7.873047965699039,
          null,
          -9.301360763232395,
          -9.302483399808382,
          -9.315601631636799,
          null,
          -8.333423463125033,
          -8.33123417225882,
          -8.330193694852259,
          null,
          -13.789091246883533,
          -13.787651802573555,
          -13.78411792866914,
          null,
          -16.752805995635573,
          -16.7511041552162,
          -16.749177994003233,
          null,
          -11.36247179962161,
          -11.361379940414508,
          -11.365488398260238,
          null,
          -12.480950665486931,
          -12.481739706447263,
          -12.474651454688532,
          null,
          -7.589077126806161,
          -7.551608052371344,
          -7.564518451540655,
          null,
          -10.757566817598578,
          -10.748629705220868,
          -10.756536013177069,
          null
         ],
         "y": [
          -43.40757301268455,
          -43.411660202495405,
          null,
          -40.2595805329575,
          -39.1949649324915,
          null,
          -38.11490924954326,
          -36.1852846258399,
          null,
          -40.23741913556531,
          -39.268909943955876,
          null,
          -41.568770049014205,
          -41.613018791033895,
          null,
          -35.803451346587046,
          -35.87838092350868,
          null,
          -30.429357422006237,
          -29.77171188973161,
          null,
          -28.420509031244674,
          -33.32553376727412,
          null,
          -39.579094870385454,
          -37.774117923897194,
          null,
          -40.77030806155414,
          -40.11481542293383,
          null,
          -40.519319714241625,
          -39.44801991307713,
          null,
          -42.262997793211724,
          -42.2599288386288,
          null,
          -40.45067991108513,
          -40.10131544705306,
          null,
          -38.42840189436322,
          -36.24281461963105,
          null,
          -42.14839313925993,
          -41.51724075182297,
          null,
          -32.61340555917635,
          -28.300247529308187,
          null,
          -32.09793183542419,
          -27.041908687620555,
          null,
          -33.48530519821042,
          -29.59331145812154,
          null,
          -32.67404680754659,
          -31.473122962200886,
          null,
          -34.68251037060013,
          -34.192652642883615,
          null,
          -35.07638329871308,
          -32.07026356180038,
          null,
          -15.740505981466761,
          -15.632987328363576,
          null,
          -17.785601774038454,
          -20.146538452312083,
          null,
          -3.6770013505126604,
          -3.7593945196194576,
          null,
          -11.061956070462882,
          -11.764540969652654,
          null,
          6.312300858120517,
          6.097016340162789,
          null,
          -34.626756559193936,
          -29.294451422155127,
          null,
          -5.0576913893620565,
          -5.134411797929622,
          null,
          4.406350335231552,
          4.814290074350132,
          null,
          7.663500601060886,
          7.67075852812349,
          null,
          -15.008320658835425,
          -15.091410599707016,
          null,
          6.406417869186235,
          6.647283915437915,
          null,
          3.789072950038908,
          3.750072442491326,
          null,
          -6.848289001028112,
          -8.148870545967517,
          null,
          -6.3490672963986725,
          -6.459425658338348,
          null,
          -12.926019810148633,
          -12.967146517802371,
          null,
          1.380702385294671,
          1.5140367483664017,
          null,
          1.2001333576386302,
          1.2079699292068673,
          null,
          3.28943627172746,
          3.334805609803053,
          null,
          1.4737998812429975,
          2.017880804088586,
          null,
          4.020178819019543,
          4.176604609623832,
          null,
          0.1480104204570732,
          0.13629840650031944,
          null,
          -0.26973187540302235,
          -0.34080938102560465,
          null,
          -15.895814143514595,
          -16.05301090001316,
          null,
          5.452277411034531,
          5.779365549422866,
          null,
          -1.5603155567495812,
          -1.8420493184539994,
          null,
          -1.744656717149606,
          -1.7447374540435685,
          null,
          -3.525846429724759,
          -3.649723434263636,
          null,
          -10.572670416380678,
          -10.856848515930402,
          null,
          -6.108185347467688,
          -7.009352489807408,
          null,
          -8.510383574420079,
          -8.328444307760638,
          null,
          -7.368704565282618,
          -7.498223617274351,
          null,
          -7.15068069163597,
          -7.909849719400791,
          null,
          3.2256721271917126,
          3.285262364373965,
          null,
          4.606066287480672,
          4.664068194513145,
          null,
          8.448760494465887,
          7.442152533056214,
          null,
          11.985173258700868,
          10.608435338249416,
          null,
          5.3911761137388,
          5.460036359005402,
          null,
          -7.603457376474377,
          -7.652150332301324,
          null,
          0.6609083926295405,
          0.8122195667935673,
          null,
          -10.2900973402075,
          -10.555268346586399,
          null,
          -4.792307211731796,
          -5.645905171794312,
          null,
          1.6470008972713526,
          1.685082716124532,
          null,
          0.20112395364972172,
          0.41488068539317635,
          null,
          -6.400921873367402,
          -6.367240146895872,
          null,
          -6.368361431816477,
          -7.755837638116292,
          null,
          4.898032543086575,
          4.863263732045554,
          null,
          6.116485792661516,
          6.115030233836296,
          null,
          8.669362476388322,
          8.090479658522229,
          null,
          0.14469696983243077,
          0.10075160356688215,
          null,
          1.4881816073611103,
          1.7016482936966675,
          null,
          -6.629347815798601,
          -6.615370341317845,
          null,
          6.398015476501624,
          6.061135204031494,
          null,
          8.625929643698061,
          8.805613071458792,
          null,
          6.57464301220885,
          6.832471487216597,
          null,
          2.3856331074213935,
          2.5298888184003716,
          null,
          -2.6652460818143577,
          -2.759377592770212,
          null,
          -5.330299607678459,
          -5.570507221048507,
          null,
          -4.732626971040539,
          -4.695628318015986,
          null,
          2.12583335533585,
          2.162114068184839,
          null,
          4.208954991902344,
          4.747213590887515,
          null,
          -6.60789946247276,
          -6.544986842938467,
          null,
          -10.660555528962021,
          -10.795648390147397,
          null,
          -0.5385932570005605,
          -0.6464144617340101,
          null,
          18.611075798162844,
          18.351105963627212,
          null,
          -7.944384692608009,
          -8.063123632229216,
          null,
          7.85551868180446,
          6.8480703131612986,
          null,
          3.8026788472437314,
          3.896191532714601,
          null,
          -3.997869703001648,
          -3.7872312912326525,
          null,
          4.775223781018035,
          4.925639277014063,
          null,
          18.473710583877256,
          18.28198432068848,
          null,
          -1.0382369767191604,
          -1.2317355679027389,
          null,
          20.779889386241248,
          20.69629201862961,
          null,
          -4.082616596714781,
          -3.919146417501109,
          null,
          8.276207866363068,
          8.040648896920995,
          null,
          6.442537899943086,
          6.317384849255157,
          null,
          4.523651145062201,
          5.051745085856197,
          null,
          3.177397833691031,
          3.237340470735434,
          null,
          25.168072303670154,
          25.133594052615823,
          null,
          -6.502464660725217,
          -6.494912617297283,
          null,
          -5.853273065502623,
          -6.228724521008376,
          null,
          28.158890547823248,
          27.93097816120838,
          null,
          -6.211763558704858,
          -6.243226299837193,
          null,
          17.354253845816245,
          17.33643481883886,
          null,
          13.053393305310788,
          12.89091649167064,
          null,
          32.96219502530459,
          32.95736137261262,
          null,
          10.819837508729588,
          10.85439688475742,
          null,
          8.021458719748662,
          8.002869179509279,
          null,
          26.395007697295046,
          26.39074180200826,
          null,
          7.668383597910102,
          8.176365735548307,
          null,
          34.405606552058416,
          34.40290594202635,
          null,
          19.036632798310496,
          18.953311179203048,
          null,
          27.219401409132175,
          27.12985051662907,
          null,
          24.708385647912376,
          24.7228587947445,
          null,
          19.62950629474907,
          19.581714667550173,
          null,
          -9.941687010392904,
          -9.65175714666722,
          null,
          17.119996292653354,
          16.89235508424924,
          null,
          26.11941605957211,
          26.118170095686637,
          null,
          20.121889345793637,
          20.083186152395864,
          null,
          18.970724326173876,
          18.981494685738607,
          null,
          37.77271796203438,
          37.78841838661266,
          null,
          16.594916405282824,
          16.337601551597967,
          null,
          27.78000655304581,
          27.704486457581552,
          null,
          6.241080847491796,
          6.213602453144727,
          null,
          35.349373116783305,
          35.31682099122508,
          null,
          18.992321700892404,
          18.77039636476646,
          null,
          18.15965442765171,
          18.012908012819118,
          null,
          23.046005416621195,
          23.02833589188489,
          null,
          28.439568450354166,
          28.431817274420833,
          null,
          36.535402591688346,
          36.52022598803166,
          null,
          39.40979475452892,
          39.479190610700485,
          null,
          34.0043962232708,
          33.988657538791735,
          null,
          29.10662066640273,
          29.082385650271647,
          null,
          30.80948555373964,
          30.79180627517892,
          null,
          27.65396576812661,
          27.668665675415188,
          null,
          28.19962225671593,
          28.168926156299403,
          null,
          22.85187613541246,
          22.732201530740024,
          null,
          25.068974072291166,
          25.063950954785643,
          null,
          -43.38946259983107,
          -43.411660202495405,
          -43.431553383896734,
          null,
          -39.52198349141821,
          -39.1949649324915,
          -39.46819322780367,
          null,
          -36.55409525085668,
          -36.1852846258399,
          -36.90442641269161,
          null,
          -39.562000975668795,
          -39.268909943955876,
          -39.52187947655418,
          null,
          -41.536157644515825,
          -41.613018791033895,
          -41.66493180773899,
          null,
          -35.41886558680438,
          -35.87838092350868,
          -36.29564979790586,
          null,
          -29.55245809691453,
          -29.77171188973161,
          -30.36175647481146,
          null,
          -31.553356714188965,
          -33.32553376727412,
          -32.33218149082775,
          null,
          -38.22052966300751,
          -37.774117923897194,
          -38.34538029516909,
          null,
          -40.293291836966944,
          -40.11481542293383,
          -40.305915966195315,
          null,
          -39.70833136652312,
          -39.44801991307713,
          -39.79172397031336,
          null,
          -42.32114909334777,
          -42.2599288386288,
          -42.20043890829489,
          null,
          -40.24422650990942,
          -40.10131544705306,
          -40.15538150948616,
          null,
          -36.86386596088716,
          -36.24281461963105,
          -36.85403141886457,
          null,
          -41.63144191258604,
          -41.51724075182297,
          -41.75889313569945,
          null,
          -29.901391701532642,
          -28.300247529308187,
          -29.13092902085409,
          null,
          -28.061676261946698,
          -27.041908687620555,
          -28.872805698802704,
          null,
          -30.974281978287866,
          -29.59331145812154,
          -30.406707616579094,
          null,
          -31.48774068497914,
          -31.473122962200886,
          -32.13560480478095,
          null,
          -33.93670040793683,
          -34.192652642883615,
          -34.72479429301249,
          null,
          -32.69335293206329,
          -32.07026356180038,
          -33.14207131192292,
          null,
          -15.594574763251684,
          -15.632987328363576,
          -15.732020584426209,
          null,
          -19.574302462018018,
          -20.146538452312083,
          -19.387641577776233,
          null,
          -3.6884354068057994,
          -3.7593945196194576,
          -3.7838990806254222,
          null,
          -11.431449484128994,
          -11.764540969652654,
          -11.70150414802977,
          null,
          6.151316606528518,
          6.097016340162789,
          6.164096837533657,
          null,
          -30.807857861615734,
          -29.294451422155127,
          -30.787481656127017,
          null,
          -5.133798964937821,
          -5.134411797929622,
          -5.09176846984465,
          null,
          4.730029446937568,
          4.814290074350132,
          4.668547924217661,
          null,
          7.685928103471107,
          7.67075852812349,
          7.651496820474115,
          null,
          -15.031799574504587,
          -15.091410599707016,
          -15.104174222330302,
          null,
          6.591792255852574,
          6.647283915437915,
          6.566971547266907,
          null,
          3.7062456672886777,
          3.750072442491326,
          3.815888311183595,
          null,
          -7.885087805257518,
          -8.148870545967517,
          -7.67936515837158,
          null,
          -6.411067140180907,
          -6.459425658338348,
          -6.445562413481748,
          null,
          -12.939977247286256,
          -12.967146517802371,
          -12.971127910098824,
          null,
          1.492622425690735,
          1.5140367483664017,
          1.4602750807966516,
          null,
          1.2059896999576578,
          1.2079699292068673,
          1.205531777371117,
          null,
          3.361643167790635,
          3.334805609803053,
          3.2823881124957257,
          null,
          1.8895432554264162,
          2.017880804088586,
          1.8394570557657237,
          null,
          4.16196044200563,
          4.176604609623832,
          4.103053480563163,
          null,
          0.1462510053021831,
          0.13629840650031944,
          0.1329492235522776,
          null,
          -0.261688445844255,
          -0.34080938102560465,
          -0.37985571168450866,
          null,
          -15.957227466945064,
          -16.05301090001316,
          -16.060164353825346,
          null,
          5.837296987951385,
          5.779365549422866,
          5.537016724900275,
          null,
          -1.7793677045895093,
          -1.8420493184539994,
          -1.7458850501785512,
          null,
          -1.7271405275949923,
          -1.7447374540435685,
          -1.7622888597740556,
          null,
          -3.617261159120488,
          -3.649723434263636,
          -3.612341925176637,
          null,
          -10.803381526632087,
          -10.856848515930402,
          -10.750091467347215,
          null,
          -6.822848731565344,
          -7.009352489807408,
          -6.6877641797986564,
          null,
          -8.382143866227223,
          -8.328444307760638,
          -8.3773249410807,
          null,
          -7.4749235445589,
          -7.498223617274351,
          -7.448498831545112,
          null,
          -7.700936430611754,
          -7.909849719400791,
          -7.690731688197939,
          null,
          3.279896853023182,
          3.285262364373965,
          3.2570299720341214,
          null,
          4.64996838179613,
          4.664068194513145,
          4.645465628812204,
          null,
          7.734591490843925,
          7.442152533056214,
          7.717254819285113,
          null,
          10.9228197166868,
          10.608435338249416,
          11.070277238574652,
          null,
          5.393984358141071,
          5.460036359005402,
          5.487263881264212,
          null,
          -7.646217454979376,
          -7.652150332301324,
          -7.630629362858371,
          null,
          0.7668098165369099,
          0.8122195667935673,
          0.7723177207675922,
          null,
          -10.500671787064924,
          -10.555268346586399,
          -10.4603573633435,
          null,
          -5.46412687380348,
          -5.645905171794312,
          -5.346411647271953,
          null,
          1.6743253416253499,
          1.685082716124532,
          1.6743689681262512,
          null,
          0.314479344315659,
          0.41488068539317635,
          0.39476265239311137,
          null,
          -6.381168914484666,
          -6.367240146895872,
          -6.372301661199453,
          null,
          -7.552858197044417,
          -7.755837638116292,
          -7.176536387642589,
          null,
          4.853972470132789,
          4.863263732045554,
          4.892158191059567,
          null,
          6.097633550497601,
          6.115030233836296,
          6.133247583907298,
          null,
          8.324313265664648,
          8.090479658522229,
          8.183029198728924,
          null,
          0.11673060513304039,
          0.10075160356688215,
          0.10954968383920594,
          null,
          1.6824000662208314,
          1.7016482936966675,
          1.6005406792126176,
          null,
          -6.616678817616349,
          -6.615370341317845,
          -6.621942582795414,
          null,
          6.134234516659492,
          6.061135204031494,
          6.177974235080613,
          null,
          8.802386868376248,
          8.805613071458792,
          8.70753095985477,
          null,
          6.78600409747201,
          6.832471487216597,
          6.733571167725225,
          null,
          2.497614382642668,
          2.5298888184003716,
          2.4808296378901726,
          null,
          -2.737430039289082,
          -2.759377592770212,
          -2.728252334514156,
          null,
          -5.473193797502547,
          -5.570507221048507,
          -5.532387851550209,
          null,
          -4.709929450577833,
          -4.695628318015986,
          -4.702187602189854,
          null,
          2.1488164444660094,
          2.162114068184839,
          2.1549560610190404,
          null,
          4.673044806790247,
          4.747213590887515,
          4.517903794860227,
          null,
          -6.569842317629096,
          -6.544986842938467,
          -6.555602482846251,
          null,
          -10.751447982409143,
          -10.795648390147397,
          -10.763681339019598,
          null,
          -0.6056520674795874,
          -0.6464144617340101,
          -0.6263855817170711,
          null,
          18.419704542775676,
          18.351105963627212,
          18.429082425562786,
          null,
          -8.051320415597218,
          -8.063123632229216,
          -8.007979985644019,
          null,
          7.2680884772415055,
          6.8480703131612986,
          6.9960672277831595,
          null,
          3.8665593887431067,
          3.896191532714601,
          3.873099768393985,
          null,
          -3.8452699834520554,
          -3.7872312912326525,
          -3.8479538157292827,
          null,
          4.888021169490363,
          4.925639277014063,
          4.87845078555417,
          null,
          18.33636728005896,
          18.28198432068848,
          18.33569961415561,
          null,
          -1.1761804015868873,
          -1.2317355679027389,
          -1.1781932152579837,
          null,
          20.716440342555153,
          20.69629201862961,
          20.723277192381136,
          null,
          -3.9603909719232417,
          -3.919146417501109,
          -3.970068895754359,
          null,
          8.081883317266703,
          8.040648896920995,
          8.132226291782077,
          null,
          6.397673395685125,
          6.317384849255157,
          6.307659541745364,
          null,
          4.817070158967074,
          5.051745085856197,
          4.988672425197799,
          null,
          3.226663807689786,
          3.237340470735434,
          3.214220541560438,
          null,
          25.142476856324524,
          25.133594052615823,
          25.14415062376314,
          null,
          -6.490199483589104,
          -6.494912617297283,
          -6.503883710694112,
          null,
          -6.137620854736119,
          -6.228724521008376,
          -6.108142809959381,
          null,
          27.977207670658657,
          27.93097816120838,
          28.01324920449072,
          null,
          -6.204897607286497,
          -6.243226299837193,
          -6.2638158089848375,
          null,
          17.335368344055254,
          17.33643481883886,
          17.34754793851861,
          null,
          12.923996947736212,
          12.89091649167064,
          12.94944299330094,
          null,
          32.95763249567187,
          32.95736137261262,
          32.95981553821302,
          null,
          10.84903270719656,
          10.85439688475742,
          10.840275947938888,
          null,
          8.043129839620986,
          8.002869179509279,
          7.9730895916696225,
          null,
          26.39313675309245,
          26.39074180200826,
          26.390752029117298,
          null,
          8.060439949201196,
          8.176365735548307,
          8.005883282157615,
          null,
          34.403310321272144,
          34.40290594202635,
          34.40402420877181,
          null,
          18.976297819917804,
          18.953311179203048,
          18.977302564864615,
          null,
          27.155927677313947,
          27.12985051662907,
          27.154263543666165,
          null,
          24.71704648064978,
          24.7228587947445,
          24.7205109232726,
          null,
          19.593062865797844,
          19.581714667550173,
          19.597312132950996,
          null,
          -9.722074343138537,
          -9.65175714666722,
          -9.744906922288996,
          null,
          16.950519205423376,
          16.89235508424924,
          16.962538621309584,
          null,
          26.117476954031606,
          26.118170095686637,
          26.119565731183034,
          null,
          20.097018042211765,
          20.083186152395864,
          20.091175725722007,
          null,
          18.9796932441311,
          18.981494685738607,
          18.977223630902404,
          null,
          37.78381699986595,
          37.78841838661266,
          37.784167629487726,
          null,
          16.417503377056693,
          16.337601551597967,
          16.402777847675,
          null,
          27.72694888205147,
          27.704486457581552,
          27.72460343896892,
          null,
          6.213437244885576,
          6.213602453144727,
          6.229260408043269,
          null,
          35.32244121326893,
          35.31682099122508,
          35.329554164488,
          null,
          18.822507767773622,
          18.77039636476646,
          18.843409922193086,
          null,
          18.05430779169337,
          18.012908012819118,
          18.05424614783185,
          null,
          23.03240159799276,
          23.02833589188489,
          23.03423253898152,
          null,
          28.433498657814287,
          28.431817274420833,
          28.43450612472356,
          null,
          36.52408489213967,
          36.52022598803166,
          36.52492388940252,
          null,
          39.45744435870613,
          39.479190610700485,
          39.46181039832032,
          null,
          33.992885329539476,
          33.988657538791735,
          33.99330346344351,
          null,
          29.08959884503362,
          29.082385650271647,
          29.088836535003477,
          null,
          30.796831024506115,
          30.79180627517892,
          30.796749378414322,
          null,
          27.663575276785604,
          27.668665675415188,
          27.66546803740158,
          null,
          28.179013176052067,
          28.168926156299403,
          28.176146075975726,
          null,
          22.75677041920692,
          22.732201530740024,
          22.775107048016825,
          null,
          25.06230175889924,
          25.063950954785643,
          25.068432262544015,
          null
         ]
        }
       ],
       "layout": {
        "font": {
         "size": 10
        },
        "height": 600,
        "hovermode": "closest",
        "showlegend": false,
        "template": {
         "data": {
          "bar": [
           {
            "error_x": {
             "color": "rgb(36,36,36)"
            },
            "error_y": {
             "color": "rgb(36,36,36)"
            },
            "marker": {
             "line": {
              "color": "white",
              "width": 0.5
             },
             "pattern": {
              "fillmode": "overlay",
              "size": 10,
              "solidity": 0.2
             }
            },
            "type": "bar"
           }
          ],
          "barpolar": [
           {
            "marker": {
             "line": {
              "color": "white",
              "width": 0.5
             },
             "pattern": {
              "fillmode": "overlay",
              "size": 10,
              "solidity": 0.2
             }
            },
            "type": "barpolar"
           }
          ],
          "carpet": [
           {
            "aaxis": {
             "endlinecolor": "rgb(36,36,36)",
             "gridcolor": "white",
             "linecolor": "white",
             "minorgridcolor": "white",
             "startlinecolor": "rgb(36,36,36)"
            },
            "baxis": {
             "endlinecolor": "rgb(36,36,36)",
             "gridcolor": "white",
             "linecolor": "white",
             "minorgridcolor": "white",
             "startlinecolor": "rgb(36,36,36)"
            },
            "type": "carpet"
           }
          ],
          "choropleth": [
           {
            "colorbar": {
             "outlinewidth": 1,
             "tickcolor": "rgb(36,36,36)",
             "ticks": "outside"
            },
            "type": "choropleth"
           }
          ],
          "contour": [
           {
            "colorbar": {
             "outlinewidth": 1,
             "tickcolor": "rgb(36,36,36)",
             "ticks": "outside"
            },
            "colorscale": [
             [
              0,
              "#440154"
             ],
             [
              0.1111111111111111,
              "#482878"
             ],
             [
              0.2222222222222222,
              "#3e4989"
             ],
             [
              0.3333333333333333,
              "#31688e"
             ],
             [
              0.4444444444444444,
              "#26828e"
             ],
             [
              0.5555555555555556,
              "#1f9e89"
             ],
             [
              0.6666666666666666,
              "#35b779"
             ],
             [
              0.7777777777777778,
              "#6ece58"
             ],
             [
              0.8888888888888888,
              "#b5de2b"
             ],
             [
              1,
              "#fde725"
             ]
            ],
            "type": "contour"
           }
          ],
          "contourcarpet": [
           {
            "colorbar": {
             "outlinewidth": 1,
             "tickcolor": "rgb(36,36,36)",
             "ticks": "outside"
            },
            "type": "contourcarpet"
           }
          ],
          "heatmap": [
           {
            "colorbar": {
             "outlinewidth": 1,
             "tickcolor": "rgb(36,36,36)",
             "ticks": "outside"
            },
            "colorscale": [
             [
              0,
              "#440154"
             ],
             [
              0.1111111111111111,
              "#482878"
             ],
             [
              0.2222222222222222,
              "#3e4989"
             ],
             [
              0.3333333333333333,
              "#31688e"
             ],
             [
              0.4444444444444444,
              "#26828e"
             ],
             [
              0.5555555555555556,
              "#1f9e89"
             ],
             [
              0.6666666666666666,
              "#35b779"
             ],
             [
              0.7777777777777778,
              "#6ece58"
             ],
             [
              0.8888888888888888,
              "#b5de2b"
             ],
             [
              1,
              "#fde725"
             ]
            ],
            "type": "heatmap"
           }
          ],
          "heatmapgl": [
           {
            "colorbar": {
             "outlinewidth": 1,
             "tickcolor": "rgb(36,36,36)",
             "ticks": "outside"
            },
            "colorscale": [
             [
              0,
              "#440154"
             ],
             [
              0.1111111111111111,
              "#482878"
             ],
             [
              0.2222222222222222,
              "#3e4989"
             ],
             [
              0.3333333333333333,
              "#31688e"
             ],
             [
              0.4444444444444444,
              "#26828e"
             ],
             [
              0.5555555555555556,
              "#1f9e89"
             ],
             [
              0.6666666666666666,
              "#35b779"
             ],
             [
              0.7777777777777778,
              "#6ece58"
             ],
             [
              0.8888888888888888,
              "#b5de2b"
             ],
             [
              1,
              "#fde725"
             ]
            ],
            "type": "heatmapgl"
           }
          ],
          "histogram": [
           {
            "marker": {
             "line": {
              "color": "white",
              "width": 0.6
             }
            },
            "type": "histogram"
           }
          ],
          "histogram2d": [
           {
            "colorbar": {
             "outlinewidth": 1,
             "tickcolor": "rgb(36,36,36)",
             "ticks": "outside"
            },
            "colorscale": [
             [
              0,
              "#440154"
             ],
             [
              0.1111111111111111,
              "#482878"
             ],
             [
              0.2222222222222222,
              "#3e4989"
             ],
             [
              0.3333333333333333,
              "#31688e"
             ],
             [
              0.4444444444444444,
              "#26828e"
             ],
             [
              0.5555555555555556,
              "#1f9e89"
             ],
             [
              0.6666666666666666,
              "#35b779"
             ],
             [
              0.7777777777777778,
              "#6ece58"
             ],
             [
              0.8888888888888888,
              "#b5de2b"
             ],
             [
              1,
              "#fde725"
             ]
            ],
            "type": "histogram2d"
           }
          ],
          "histogram2dcontour": [
           {
            "colorbar": {
             "outlinewidth": 1,
             "tickcolor": "rgb(36,36,36)",
             "ticks": "outside"
            },
            "colorscale": [
             [
              0,
              "#440154"
             ],
             [
              0.1111111111111111,
              "#482878"
             ],
             [
              0.2222222222222222,
              "#3e4989"
             ],
             [
              0.3333333333333333,
              "#31688e"
             ],
             [
              0.4444444444444444,
              "#26828e"
             ],
             [
              0.5555555555555556,
              "#1f9e89"
             ],
             [
              0.6666666666666666,
              "#35b779"
             ],
             [
              0.7777777777777778,
              "#6ece58"
             ],
             [
              0.8888888888888888,
              "#b5de2b"
             ],
             [
              1,
              "#fde725"
             ]
            ],
            "type": "histogram2dcontour"
           }
          ],
          "mesh3d": [
           {
            "colorbar": {
             "outlinewidth": 1,
             "tickcolor": "rgb(36,36,36)",
             "ticks": "outside"
            },
            "type": "mesh3d"
           }
          ],
          "parcoords": [
           {
            "line": {
             "colorbar": {
              "outlinewidth": 1,
              "tickcolor": "rgb(36,36,36)",
              "ticks": "outside"
             }
            },
            "type": "parcoords"
           }
          ],
          "pie": [
           {
            "automargin": true,
            "type": "pie"
           }
          ],
          "scatter": [
           {
            "marker": {
             "colorbar": {
              "outlinewidth": 1,
              "tickcolor": "rgb(36,36,36)",
              "ticks": "outside"
             }
            },
            "type": "scatter"
           }
          ],
          "scatter3d": [
           {
            "line": {
             "colorbar": {
              "outlinewidth": 1,
              "tickcolor": "rgb(36,36,36)",
              "ticks": "outside"
             }
            },
            "marker": {
             "colorbar": {
              "outlinewidth": 1,
              "tickcolor": "rgb(36,36,36)",
              "ticks": "outside"
             }
            },
            "type": "scatter3d"
           }
          ],
          "scattercarpet": [
           {
            "marker": {
             "colorbar": {
              "outlinewidth": 1,
              "tickcolor": "rgb(36,36,36)",
              "ticks": "outside"
             }
            },
            "type": "scattercarpet"
           }
          ],
          "scattergeo": [
           {
            "marker": {
             "colorbar": {
              "outlinewidth": 1,
              "tickcolor": "rgb(36,36,36)",
              "ticks": "outside"
             }
            },
            "type": "scattergeo"
           }
          ],
          "scattergl": [
           {
            "marker": {
             "colorbar": {
              "outlinewidth": 1,
              "tickcolor": "rgb(36,36,36)",
              "ticks": "outside"
             }
            },
            "type": "scattergl"
           }
          ],
          "scattermapbox": [
           {
            "marker": {
             "colorbar": {
              "outlinewidth": 1,
              "tickcolor": "rgb(36,36,36)",
              "ticks": "outside"
             }
            },
            "type": "scattermapbox"
           }
          ],
          "scatterpolar": [
           {
            "marker": {
             "colorbar": {
              "outlinewidth": 1,
              "tickcolor": "rgb(36,36,36)",
              "ticks": "outside"
             }
            },
            "type": "scatterpolar"
           }
          ],
          "scatterpolargl": [
           {
            "marker": {
             "colorbar": {
              "outlinewidth": 1,
              "tickcolor": "rgb(36,36,36)",
              "ticks": "outside"
             }
            },
            "type": "scatterpolargl"
           }
          ],
          "scatterternary": [
           {
            "marker": {
             "colorbar": {
              "outlinewidth": 1,
              "tickcolor": "rgb(36,36,36)",
              "ticks": "outside"
             }
            },
            "type": "scatterternary"
           }
          ],
          "surface": [
           {
            "colorbar": {
             "outlinewidth": 1,
             "tickcolor": "rgb(36,36,36)",
             "ticks": "outside"
            },
            "colorscale": [
             [
              0,
              "#440154"
             ],
             [
              0.1111111111111111,
              "#482878"
             ],
             [
              0.2222222222222222,
              "#3e4989"
             ],
             [
              0.3333333333333333,
              "#31688e"
             ],
             [
              0.4444444444444444,
              "#26828e"
             ],
             [
              0.5555555555555556,
              "#1f9e89"
             ],
             [
              0.6666666666666666,
              "#35b779"
             ],
             [
              0.7777777777777778,
              "#6ece58"
             ],
             [
              0.8888888888888888,
              "#b5de2b"
             ],
             [
              1,
              "#fde725"
             ]
            ],
            "type": "surface"
           }
          ],
          "table": [
           {
            "cells": {
             "fill": {
              "color": "rgb(237,237,237)"
             },
             "line": {
              "color": "white"
             }
            },
            "header": {
             "fill": {
              "color": "rgb(217,217,217)"
             },
             "line": {
              "color": "white"
             }
            },
            "type": "table"
           }
          ]
         },
         "layout": {
          "annotationdefaults": {
           "arrowhead": 0,
           "arrowwidth": 1
          },
          "autotypenumbers": "strict",
          "coloraxis": {
           "colorbar": {
            "outlinewidth": 1,
            "tickcolor": "rgb(36,36,36)",
            "ticks": "outside"
           }
          },
          "colorscale": {
           "diverging": [
            [
             0,
             "rgb(103,0,31)"
            ],
            [
             0.1,
             "rgb(178,24,43)"
            ],
            [
             0.2,
             "rgb(214,96,77)"
            ],
            [
             0.3,
             "rgb(244,165,130)"
            ],
            [
             0.4,
             "rgb(253,219,199)"
            ],
            [
             0.5,
             "rgb(247,247,247)"
            ],
            [
             0.6,
             "rgb(209,229,240)"
            ],
            [
             0.7,
             "rgb(146,197,222)"
            ],
            [
             0.8,
             "rgb(67,147,195)"
            ],
            [
             0.9,
             "rgb(33,102,172)"
            ],
            [
             1,
             "rgb(5,48,97)"
            ]
           ],
           "sequential": [
            [
             0,
             "#440154"
            ],
            [
             0.1111111111111111,
             "#482878"
            ],
            [
             0.2222222222222222,
             "#3e4989"
            ],
            [
             0.3333333333333333,
             "#31688e"
            ],
            [
             0.4444444444444444,
             "#26828e"
            ],
            [
             0.5555555555555556,
             "#1f9e89"
            ],
            [
             0.6666666666666666,
             "#35b779"
            ],
            [
             0.7777777777777778,
             "#6ece58"
            ],
            [
             0.8888888888888888,
             "#b5de2b"
            ],
            [
             1,
             "#fde725"
            ]
           ],
           "sequentialminus": [
            [
             0,
             "#440154"
            ],
            [
             0.1111111111111111,
             "#482878"
            ],
            [
             0.2222222222222222,
             "#3e4989"
            ],
            [
             0.3333333333333333,
             "#31688e"
            ],
            [
             0.4444444444444444,
             "#26828e"
            ],
            [
             0.5555555555555556,
             "#1f9e89"
            ],
            [
             0.6666666666666666,
             "#35b779"
            ],
            [
             0.7777777777777778,
             "#6ece58"
            ],
            [
             0.8888888888888888,
             "#b5de2b"
            ],
            [
             1,
             "#fde725"
            ]
           ]
          },
          "colorway": [
           "#1F77B4",
           "#FF7F0E",
           "#2CA02C",
           "#D62728",
           "#9467BD",
           "#8C564B",
           "#E377C2",
           "#7F7F7F",
           "#BCBD22",
           "#17BECF"
          ],
          "font": {
           "color": "rgb(36,36,36)"
          },
          "geo": {
           "bgcolor": "white",
           "lakecolor": "white",
           "landcolor": "white",
           "showlakes": true,
           "showland": true,
           "subunitcolor": "white"
          },
          "hoverlabel": {
           "align": "left"
          },
          "hovermode": "closest",
          "mapbox": {
           "style": "light"
          },
          "paper_bgcolor": "white",
          "plot_bgcolor": "white",
          "polar": {
           "angularaxis": {
            "gridcolor": "rgb(232,232,232)",
            "linecolor": "rgb(36,36,36)",
            "showgrid": false,
            "showline": true,
            "ticks": "outside"
           },
           "bgcolor": "white",
           "radialaxis": {
            "gridcolor": "rgb(232,232,232)",
            "linecolor": "rgb(36,36,36)",
            "showgrid": false,
            "showline": true,
            "ticks": "outside"
           }
          },
          "scene": {
           "xaxis": {
            "backgroundcolor": "white",
            "gridcolor": "rgb(232,232,232)",
            "gridwidth": 2,
            "linecolor": "rgb(36,36,36)",
            "showbackground": true,
            "showgrid": false,
            "showline": true,
            "ticks": "outside",
            "zeroline": false,
            "zerolinecolor": "rgb(36,36,36)"
           },
           "yaxis": {
            "backgroundcolor": "white",
            "gridcolor": "rgb(232,232,232)",
            "gridwidth": 2,
            "linecolor": "rgb(36,36,36)",
            "showbackground": true,
            "showgrid": false,
            "showline": true,
            "ticks": "outside",
            "zeroline": false,
            "zerolinecolor": "rgb(36,36,36)"
           },
           "zaxis": {
            "backgroundcolor": "white",
            "gridcolor": "rgb(232,232,232)",
            "gridwidth": 2,
            "linecolor": "rgb(36,36,36)",
            "showbackground": true,
            "showgrid": false,
            "showline": true,
            "ticks": "outside",
            "zeroline": false,
            "zerolinecolor": "rgb(36,36,36)"
           }
          },
          "shapedefaults": {
           "fillcolor": "black",
           "line": {
            "width": 0
           },
           "opacity": 0.3
          },
          "ternary": {
           "aaxis": {
            "gridcolor": "rgb(232,232,232)",
            "linecolor": "rgb(36,36,36)",
            "showgrid": false,
            "showline": true,
            "ticks": "outside"
           },
           "baxis": {
            "gridcolor": "rgb(232,232,232)",
            "linecolor": "rgb(36,36,36)",
            "showgrid": false,
            "showline": true,
            "ticks": "outside"
           },
           "bgcolor": "white",
           "caxis": {
            "gridcolor": "rgb(232,232,232)",
            "linecolor": "rgb(36,36,36)",
            "showgrid": false,
            "showline": true,
            "ticks": "outside"
           }
          },
          "title": {
           "x": 0.05
          },
          "xaxis": {
           "automargin": true,
           "gridcolor": "rgb(232,232,232)",
           "linecolor": "rgb(36,36,36)",
           "showgrid": false,
           "showline": true,
           "ticks": "outside",
           "title": {
            "standoff": 15
           },
           "zeroline": false,
           "zerolinecolor": "rgb(36,36,36)"
          },
          "yaxis": {
           "automargin": true,
           "gridcolor": "rgb(232,232,232)",
           "linecolor": "rgb(36,36,36)",
           "showgrid": false,
           "showline": true,
           "ticks": "outside",
           "title": {
            "standoff": 15
           },
           "zeroline": false,
           "zerolinecolor": "rgb(36,36,36)"
          }
         }
        },
        "title": {
         "text": "Vector field for GDP"
        },
        "width": 600,
        "xaxis": {
         "mirror": true,
         "showgrid": false,
         "zeroline": false
        },
        "yaxis": {
         "mirror": true,
         "showgrid": false,
         "zeroline": false
        }
       }
      }
     },
     "metadata": {},
     "output_type": "display_data"
    }
   ],
   "source": [
    "explainer.plot_arrow_fields(feature_id)"
   ]
  },
  {
   "cell_type": "markdown",
   "metadata": {},
   "source": [
    "##### PLOT ARROW WITH CONTOUR VALUE OF THE FEATURE IN HD"
   ]
  },
  {
   "cell_type": "code",
   "execution_count": 11,
   "metadata": {},
   "outputs": [
    {
     "data": {
      "application/vnd.plotly.v1+json": {
       "config": {
        "plotlyServerURL": "https://plot.ly"
       },
       "data": [
        {
         "line": {
          "color": "#00f514",
          "width": 3
         },
         "mode": "lines",
         "type": "scatter",
         "x": [
          -10.904447654805573,
          -10.856523859406854,
          null,
          -10.645779488589326,
          -10.856523859406854,
          -11.09428841236212,
          null
         ],
         "y": [
          -38.42840189436322,
          -36.24281461963105,
          null,
          -36.86386596088716,
          -36.24281461963105,
          -36.85403141886457,
          null
         ]
        },
        {
         "marker": {
          "color": "crimson",
          "size": 12
         },
         "showlegend": false,
         "type": "scatter",
         "x": [
          -10.904447654805573
         ],
         "y": [
          -38.42840189436322
         ]
        },
        {
         "type": "contour",
         "x": [
          -5.335488691700415,
          -2.6847173306626395,
          -4.521439176888646,
          -13.181306520591576,
          -5.501201649866014,
          -3.941703297750068,
          -11.052997539895667,
          -11.65579287341167,
          -7.56492311920172,
          -9.606084981670667,
          -4.881128134530332,
          -13.084467497173362,
          -11.147224447458418,
          -10.904447654805573,
          -8.08075378074755,
          -11.203947200033092,
          -9.693399447215336,
          -10.913657430916702,
          -7.595293303836653,
          -3.6341073894485643,
          -9.472261918572661,
          10.142630716347561,
          8.258923980675796,
          10.215999052208653,
          8.517193270112745,
          20.71765695334937,
          -13.468065883381717,
          10.076654131438227,
          22.474571240699156,
          19.573384041715528,
          -1.4362795553173344,
          24.005488678860576,
          -11.470622133028504,
          27.06853060976988,
          0.45670540318377484,
          1.930542606126764,
          22.90647612791764,
          25.655980125073274,
          21.937828051284214,
          -7.493526702295228,
          24.278550708599088,
          25.718806375547256,
          -2.66255050368534,
          -1.247337386869069,
          -6.5815397126488495,
          24.945414677184797,
          10.708355048227853,
          -8.217892689197758,
          -3.8913601086215786,
          27.82580116249071,
          13.138355422911715,
          10.614823625414509,
          30.183286106223456,
          25.92014986456106,
          29.046979654131707,
          -8.057121248152006,
          -10.000164821318203,
          -14.686294523411387,
          23.18830153320365,
          17.488036879591423,
          -2.759053208359292,
          29.239581045746192,
          1.1642996771581942,
          15.798118433320036,
          22.181420557974047,
          -24.10630172417276,
          -13.449184794677212,
          -15.59491530266507,
          -4.307359712713656,
          2.1668617865864457,
          -1.709708339359337,
          9.14913947932584,
          -20.50473429363443,
          2.4752636096906393,
          2.7595142296373014,
          -5.039806350171215,
          -7.006243580279071,
          -3.3346105449746117,
          21.160742145624273,
          14.38445996385869,
          -5.015592253189129,
          -1.0342638124753065,
          16.032166626120908,
          27.435735564398883,
          -0.9511248460148433,
          -2.2036430389070523,
          -6.3344022680121705,
          13.556861639512023,
          18.1542496091128,
          0.6296381744034077,
          -2.4305996933575864,
          29.72024754634821,
          -10.503741294767533,
          17.574740770889004,
          -14.170393487389443,
          -2.620794371927941,
          -9.06842976473323,
          0.29177640768427504,
          -18.634964796759807,
          7.039860968457317,
          -23.782649543471667,
          -2.3093521116445186,
          2.3488233056737684,
          -8.295440394420892,
          1.3106758508056475,
          -9.813590875072961,
          -1.9423524755685204,
          -2.549401020183381,
          -17.888399009735533,
          4.741622556523453,
          -6.46897544912936,
          -19.4936242507213,
          -5.816237073541895,
          -13.59807947999115,
          -12.255339761394715,
          14.481262625288151,
          -15.462694923281216,
          -9.491385485394767,
          -21.075286676323078,
          -7.296077611851698,
          -8.27674356078026,
          -19.01663928201382,
          -7.943434426770269,
          30.763103200612772,
          -5.110395396127763,
          -13.584992378778226,
          -18.643521723588467,
          -10.664357472154656,
          -6.800602057946359,
          -7.8775410537438155,
          -9.323759142867136,
          -8.333271741839622,
          -13.783937060206197,
          -16.750706293212122,
          -11.370603376776925,
          -12.467768306749077,
          -7.6409625790355955,
          -10.778503694440563
         ],
         "y": [
          -43.40757301268455,
          -40.2595805329575,
          -38.11490924954326,
          -40.23741913556531,
          -41.568770049014205,
          -35.803451346587046,
          -30.429357422006237,
          -28.420509031244674,
          -39.579094870385454,
          -40.77030806155414,
          -40.519319714241625,
          -42.262997793211724,
          -40.45067991108513,
          -38.42840189436322,
          -42.14839313925993,
          -32.61340555917635,
          -32.09793183542419,
          -33.48530519821042,
          -32.67404680754659,
          -34.68251037060013,
          -35.07638329871308,
          -15.740505981466761,
          -17.785601774038454,
          -3.6770013505126604,
          -11.061956070462882,
          6.312300858120517,
          -34.626756559193936,
          -5.0576913893620565,
          4.406350335231552,
          7.663500601060886,
          -15.008320658835425,
          6.406417869186235,
          3.789072950038908,
          -6.848289001028112,
          -6.3490672963986725,
          -12.926019810148633,
          1.380702385294671,
          1.2001333576386302,
          3.28943627172746,
          1.4737998812429975,
          4.020178819019543,
          0.1480104204570732,
          -0.26973187540302235,
          -15.895814143514595,
          5.452277411034531,
          -1.5603155567495812,
          -1.744656717149606,
          -3.525846429724759,
          -10.572670416380678,
          -6.108185347467688,
          -8.510383574420079,
          -7.368704565282618,
          -7.15068069163597,
          3.2256721271917126,
          4.606066287480672,
          8.448760494465887,
          11.985173258700868,
          5.3911761137388,
          -7.603457376474377,
          0.6609083926295405,
          -10.2900973402075,
          -4.792307211731796,
          1.6470008972713526,
          0.20112395364972172,
          -6.400921873367402,
          -6.368361431816477,
          4.898032543086575,
          6.116485792661516,
          8.669362476388322,
          0.14469696983243077,
          1.4881816073611103,
          -6.629347815798601,
          6.398015476501624,
          8.625929643698061,
          6.57464301220885,
          2.3856331074213935,
          -2.6652460818143577,
          -5.330299607678459,
          -4.732626971040539,
          2.12583335533585,
          4.208954991902344,
          -6.60789946247276,
          -10.660555528962021,
          -0.5385932570005605,
          18.611075798162844,
          -7.944384692608009,
          7.85551868180446,
          3.8026788472437314,
          -3.997869703001648,
          4.775223781018035,
          18.473710583877256,
          -1.0382369767191604,
          20.779889386241248,
          -4.082616596714781,
          8.276207866363068,
          6.442537899943086,
          4.523651145062201,
          3.177397833691031,
          25.168072303670154,
          -6.502464660725217,
          -5.853273065502623,
          28.158890547823248,
          -6.211763558704858,
          17.354253845816245,
          13.053393305310788,
          32.96219502530459,
          10.819837508729588,
          8.021458719748662,
          26.395007697295046,
          7.668383597910102,
          34.405606552058416,
          19.036632798310496,
          27.219401409132175,
          24.708385647912376,
          19.62950629474907,
          -9.941687010392904,
          17.119996292653354,
          26.11941605957211,
          20.121889345793637,
          18.970724326173876,
          37.77271796203438,
          16.594916405282824,
          27.78000655304581,
          6.241080847491796,
          35.349373116783305,
          18.992321700892404,
          18.15965442765171,
          23.046005416621195,
          28.439568450354166,
          36.535402591688346,
          39.40979475452892,
          34.0043962232708,
          29.10662066640273,
          30.80948555373964,
          27.65396576812661,
          28.19962225671593,
          22.85187613541246,
          25.068974072291166
         ],
         "z": [
          -0.03815796288573456,
          -0.24904166653047938,
          0.3050709990783057,
          -0.09887899567121174,
          0.04720605838786326,
          0.6070805738230075,
          3.8379713810712874,
          10.121933445542057,
          0.05704552501441505,
          0.2533916383280383,
          -0.09506731040146645,
          -0.23157882936443705,
          0.05243604515332775,
          -0.0007502609361413104,
          -0.04586997726870756,
          1.5543286852764515,
          1.2274101905131816,
          1.6232935955057965,
          0.6619511129386432,
          -0.17218745423119658,
          2.1695169590446435,
          -0.15623156240435584,
          -0.0779590486093539,
          -0.16518459059608315,
          0.3426559887148639,
          -0.23131289783398967,
          -0.11120048991527207,
          -0.24620506353904104,
          -0.16500730290911825,
          -0.2551580917307683,
          -0.2104815946156143,
          -0.1705918650485125,
          -0.12423113490719198,
          -0.04507218267736552,
          -0.1764423587183541,
          -0.2501053926522687,
          -0.24992810496530385,
          -0.24008863833875205,
          -0.22342359576405177,
          -0.24815522809565488,
          -0.22945137712085825,
          -0.24780065272172505,
          -0.24345710439108512,
          -0.16748933052662682,
          0.3398193857234255,
          -0.23849304915606798,
          -0.24877573500003203,
          -0.24771200887824266,
          -0.2383157614691031,
          -0.19496892200618582,
          -0.15499054859560157,
          -0.25453758482639116,
          0.25551909057161704,
          -0.25506944788728586,
          -0.2395567752778574,
          0.27555259919865044,
          -0.17325118035298598,
          -0.16225934376116236,
          -0.25311928333067196,
          -0.11651912052421898,
          -0.037714743668322316,
          -0.20241500485871147,
          -0.2405318575561643,
          -0.22377817113798157,
          -0.25710825628738215,
          1.4524769091151182,
          -0.19904653880637846,
          -0.2329971308601562,
          -0.1848635238491867,
          -0.2496621734348565,
          -0.2348586515732876,
          -0.2575514755047944,
          -0.2533852148611193,
          0.008557342629515774,
          -0.24203880289536592,
          -0.24327981670412022,
          -0.2588811331570311,
          -0.11501217518501734,
          -0.25524673557425076,
          -0.25232148873932997,
          -0.2458504881651112,
          -0.1848635238491867,
          -0.25914706468747845,
          -0.25196691336540017,
          -0.25905842084399605,
          -0.23858169299955045,
          -0.031509674624550905,
          -0.21978919818127138,
          -0.2579060508787242,
          -0.1900048667711687,
          -0.2557785986351454,
          -0.2575514755047944,
          -0.2520555572088826,
          -0.25843791393961885,
          -0.2532965710176369,
          -0.23547915847766476,
          -0.07122211650468781,
          -0.21553429369411387,
          -0.2534738587046018,
          -0.2548035163568385,
          0.3528500307153455,
          -0.2555126671046981,
          -0.2518782695219177,
          -0.25764011934827685,
          -0.17466948184870515,
          -0.25196691336540017,
          -0.20968380002427225,
          -0.253917077922014,
          -0.2563991055395226,
          -0.24115236446054142,
          -0.25382843407853156,
          -0.25799469472220665,
          -0.255689954791663,
          -0.25595588632211036,
          -0.2470915019738655,
          -0.2577287631917593,
          -0.24850980346958465,
          -0.24558455663466386,
          -0.2595016400614083,
          -0.25294199564370706,
          -0.258260626252654,
          -0.19594400428449277,
          -0.2563991055395226,
          -0.24257066595626062,
          -0.2501940364957512,
          -0.25622181785255765,
          -0.24611641969555856,
          -0.25506944788728586,
          -0.25817198240917155,
          -0.2544489409829087,
          -0.25923570853096095,
          -0.2527647079567422,
          -0.25613317400907526,
          -0.25870384547006625,
          -0.25560131094818056,
          -0.2555126671046981,
          -0.2588811331570311,
          -0.25710825628738215
         ]
        }
       ],
       "layout": {
        "font": {
         "size": 10
        },
        "height": 600,
        "hovermode": "closest",
        "showlegend": false,
        "template": {
         "data": {
          "bar": [
           {
            "error_x": {
             "color": "#2a3f5f"
            },
            "error_y": {
             "color": "#2a3f5f"
            },
            "marker": {
             "line": {
              "color": "#E5ECF6",
              "width": 0.5
             },
             "pattern": {
              "fillmode": "overlay",
              "size": 10,
              "solidity": 0.2
             }
            },
            "type": "bar"
           }
          ],
          "barpolar": [
           {
            "marker": {
             "line": {
              "color": "#E5ECF6",
              "width": 0.5
             },
             "pattern": {
              "fillmode": "overlay",
              "size": 10,
              "solidity": 0.2
             }
            },
            "type": "barpolar"
           }
          ],
          "carpet": [
           {
            "aaxis": {
             "endlinecolor": "#2a3f5f",
             "gridcolor": "white",
             "linecolor": "white",
             "minorgridcolor": "white",
             "startlinecolor": "#2a3f5f"
            },
            "baxis": {
             "endlinecolor": "#2a3f5f",
             "gridcolor": "white",
             "linecolor": "white",
             "minorgridcolor": "white",
             "startlinecolor": "#2a3f5f"
            },
            "type": "carpet"
           }
          ],
          "choropleth": [
           {
            "colorbar": {
             "outlinewidth": 0,
             "ticks": ""
            },
            "type": "choropleth"
           }
          ],
          "contour": [
           {
            "colorbar": {
             "outlinewidth": 0,
             "ticks": ""
            },
            "colorscale": [
             [
              0,
              "#0d0887"
             ],
             [
              0.1111111111111111,
              "#46039f"
             ],
             [
              0.2222222222222222,
              "#7201a8"
             ],
             [
              0.3333333333333333,
              "#9c179e"
             ],
             [
              0.4444444444444444,
              "#bd3786"
             ],
             [
              0.5555555555555556,
              "#d8576b"
             ],
             [
              0.6666666666666666,
              "#ed7953"
             ],
             [
              0.7777777777777778,
              "#fb9f3a"
             ],
             [
              0.8888888888888888,
              "#fdca26"
             ],
             [
              1,
              "#f0f921"
             ]
            ],
            "type": "contour"
           }
          ],
          "contourcarpet": [
           {
            "colorbar": {
             "outlinewidth": 0,
             "ticks": ""
            },
            "type": "contourcarpet"
           }
          ],
          "heatmap": [
           {
            "colorbar": {
             "outlinewidth": 0,
             "ticks": ""
            },
            "colorscale": [
             [
              0,
              "#0d0887"
             ],
             [
              0.1111111111111111,
              "#46039f"
             ],
             [
              0.2222222222222222,
              "#7201a8"
             ],
             [
              0.3333333333333333,
              "#9c179e"
             ],
             [
              0.4444444444444444,
              "#bd3786"
             ],
             [
              0.5555555555555556,
              "#d8576b"
             ],
             [
              0.6666666666666666,
              "#ed7953"
             ],
             [
              0.7777777777777778,
              "#fb9f3a"
             ],
             [
              0.8888888888888888,
              "#fdca26"
             ],
             [
              1,
              "#f0f921"
             ]
            ],
            "type": "heatmap"
           }
          ],
          "heatmapgl": [
           {
            "colorbar": {
             "outlinewidth": 0,
             "ticks": ""
            },
            "colorscale": [
             [
              0,
              "#0d0887"
             ],
             [
              0.1111111111111111,
              "#46039f"
             ],
             [
              0.2222222222222222,
              "#7201a8"
             ],
             [
              0.3333333333333333,
              "#9c179e"
             ],
             [
              0.4444444444444444,
              "#bd3786"
             ],
             [
              0.5555555555555556,
              "#d8576b"
             ],
             [
              0.6666666666666666,
              "#ed7953"
             ],
             [
              0.7777777777777778,
              "#fb9f3a"
             ],
             [
              0.8888888888888888,
              "#fdca26"
             ],
             [
              1,
              "#f0f921"
             ]
            ],
            "type": "heatmapgl"
           }
          ],
          "histogram": [
           {
            "marker": {
             "pattern": {
              "fillmode": "overlay",
              "size": 10,
              "solidity": 0.2
             }
            },
            "type": "histogram"
           }
          ],
          "histogram2d": [
           {
            "colorbar": {
             "outlinewidth": 0,
             "ticks": ""
            },
            "colorscale": [
             [
              0,
              "#0d0887"
             ],
             [
              0.1111111111111111,
              "#46039f"
             ],
             [
              0.2222222222222222,
              "#7201a8"
             ],
             [
              0.3333333333333333,
              "#9c179e"
             ],
             [
              0.4444444444444444,
              "#bd3786"
             ],
             [
              0.5555555555555556,
              "#d8576b"
             ],
             [
              0.6666666666666666,
              "#ed7953"
             ],
             [
              0.7777777777777778,
              "#fb9f3a"
             ],
             [
              0.8888888888888888,
              "#fdca26"
             ],
             [
              1,
              "#f0f921"
             ]
            ],
            "type": "histogram2d"
           }
          ],
          "histogram2dcontour": [
           {
            "colorbar": {
             "outlinewidth": 0,
             "ticks": ""
            },
            "colorscale": [
             [
              0,
              "#0d0887"
             ],
             [
              0.1111111111111111,
              "#46039f"
             ],
             [
              0.2222222222222222,
              "#7201a8"
             ],
             [
              0.3333333333333333,
              "#9c179e"
             ],
             [
              0.4444444444444444,
              "#bd3786"
             ],
             [
              0.5555555555555556,
              "#d8576b"
             ],
             [
              0.6666666666666666,
              "#ed7953"
             ],
             [
              0.7777777777777778,
              "#fb9f3a"
             ],
             [
              0.8888888888888888,
              "#fdca26"
             ],
             [
              1,
              "#f0f921"
             ]
            ],
            "type": "histogram2dcontour"
           }
          ],
          "mesh3d": [
           {
            "colorbar": {
             "outlinewidth": 0,
             "ticks": ""
            },
            "type": "mesh3d"
           }
          ],
          "parcoords": [
           {
            "line": {
             "colorbar": {
              "outlinewidth": 0,
              "ticks": ""
             }
            },
            "type": "parcoords"
           }
          ],
          "pie": [
           {
            "automargin": true,
            "type": "pie"
           }
          ],
          "scatter": [
           {
            "marker": {
             "colorbar": {
              "outlinewidth": 0,
              "ticks": ""
             }
            },
            "type": "scatter"
           }
          ],
          "scatter3d": [
           {
            "line": {
             "colorbar": {
              "outlinewidth": 0,
              "ticks": ""
             }
            },
            "marker": {
             "colorbar": {
              "outlinewidth": 0,
              "ticks": ""
             }
            },
            "type": "scatter3d"
           }
          ],
          "scattercarpet": [
           {
            "marker": {
             "colorbar": {
              "outlinewidth": 0,
              "ticks": ""
             }
            },
            "type": "scattercarpet"
           }
          ],
          "scattergeo": [
           {
            "marker": {
             "colorbar": {
              "outlinewidth": 0,
              "ticks": ""
             }
            },
            "type": "scattergeo"
           }
          ],
          "scattergl": [
           {
            "marker": {
             "colorbar": {
              "outlinewidth": 0,
              "ticks": ""
             }
            },
            "type": "scattergl"
           }
          ],
          "scattermapbox": [
           {
            "marker": {
             "colorbar": {
              "outlinewidth": 0,
              "ticks": ""
             }
            },
            "type": "scattermapbox"
           }
          ],
          "scatterpolar": [
           {
            "marker": {
             "colorbar": {
              "outlinewidth": 0,
              "ticks": ""
             }
            },
            "type": "scatterpolar"
           }
          ],
          "scatterpolargl": [
           {
            "marker": {
             "colorbar": {
              "outlinewidth": 0,
              "ticks": ""
             }
            },
            "type": "scatterpolargl"
           }
          ],
          "scatterternary": [
           {
            "marker": {
             "colorbar": {
              "outlinewidth": 0,
              "ticks": ""
             }
            },
            "type": "scatterternary"
           }
          ],
          "surface": [
           {
            "colorbar": {
             "outlinewidth": 0,
             "ticks": ""
            },
            "colorscale": [
             [
              0,
              "#0d0887"
             ],
             [
              0.1111111111111111,
              "#46039f"
             ],
             [
              0.2222222222222222,
              "#7201a8"
             ],
             [
              0.3333333333333333,
              "#9c179e"
             ],
             [
              0.4444444444444444,
              "#bd3786"
             ],
             [
              0.5555555555555556,
              "#d8576b"
             ],
             [
              0.6666666666666666,
              "#ed7953"
             ],
             [
              0.7777777777777778,
              "#fb9f3a"
             ],
             [
              0.8888888888888888,
              "#fdca26"
             ],
             [
              1,
              "#f0f921"
             ]
            ],
            "type": "surface"
           }
          ],
          "table": [
           {
            "cells": {
             "fill": {
              "color": "#EBF0F8"
             },
             "line": {
              "color": "white"
             }
            },
            "header": {
             "fill": {
              "color": "#C8D4E3"
             },
             "line": {
              "color": "white"
             }
            },
            "type": "table"
           }
          ]
         },
         "layout": {
          "annotationdefaults": {
           "arrowcolor": "#2a3f5f",
           "arrowhead": 0,
           "arrowwidth": 1
          },
          "autotypenumbers": "strict",
          "coloraxis": {
           "colorbar": {
            "outlinewidth": 0,
            "ticks": ""
           }
          },
          "colorscale": {
           "diverging": [
            [
             0,
             "#8e0152"
            ],
            [
             0.1,
             "#c51b7d"
            ],
            [
             0.2,
             "#de77ae"
            ],
            [
             0.3,
             "#f1b6da"
            ],
            [
             0.4,
             "#fde0ef"
            ],
            [
             0.5,
             "#f7f7f7"
            ],
            [
             0.6,
             "#e6f5d0"
            ],
            [
             0.7,
             "#b8e186"
            ],
            [
             0.8,
             "#7fbc41"
            ],
            [
             0.9,
             "#4d9221"
            ],
            [
             1,
             "#276419"
            ]
           ],
           "sequential": [
            [
             0,
             "#0d0887"
            ],
            [
             0.1111111111111111,
             "#46039f"
            ],
            [
             0.2222222222222222,
             "#7201a8"
            ],
            [
             0.3333333333333333,
             "#9c179e"
            ],
            [
             0.4444444444444444,
             "#bd3786"
            ],
            [
             0.5555555555555556,
             "#d8576b"
            ],
            [
             0.6666666666666666,
             "#ed7953"
            ],
            [
             0.7777777777777778,
             "#fb9f3a"
            ],
            [
             0.8888888888888888,
             "#fdca26"
            ],
            [
             1,
             "#f0f921"
            ]
           ],
           "sequentialminus": [
            [
             0,
             "#0d0887"
            ],
            [
             0.1111111111111111,
             "#46039f"
            ],
            [
             0.2222222222222222,
             "#7201a8"
            ],
            [
             0.3333333333333333,
             "#9c179e"
            ],
            [
             0.4444444444444444,
             "#bd3786"
            ],
            [
             0.5555555555555556,
             "#d8576b"
            ],
            [
             0.6666666666666666,
             "#ed7953"
            ],
            [
             0.7777777777777778,
             "#fb9f3a"
            ],
            [
             0.8888888888888888,
             "#fdca26"
            ],
            [
             1,
             "#f0f921"
            ]
           ]
          },
          "colorway": [
           "#636efa",
           "#EF553B",
           "#00cc96",
           "#ab63fa",
           "#FFA15A",
           "#19d3f3",
           "#FF6692",
           "#B6E880",
           "#FF97FF",
           "#FECB52"
          ],
          "font": {
           "color": "#2a3f5f"
          },
          "geo": {
           "bgcolor": "white",
           "lakecolor": "white",
           "landcolor": "#E5ECF6",
           "showlakes": true,
           "showland": true,
           "subunitcolor": "white"
          },
          "hoverlabel": {
           "align": "left"
          },
          "hovermode": "closest",
          "mapbox": {
           "style": "light"
          },
          "paper_bgcolor": "white",
          "plot_bgcolor": "#E5ECF6",
          "polar": {
           "angularaxis": {
            "gridcolor": "white",
            "linecolor": "white",
            "ticks": ""
           },
           "bgcolor": "#E5ECF6",
           "radialaxis": {
            "gridcolor": "white",
            "linecolor": "white",
            "ticks": ""
           }
          },
          "scene": {
           "xaxis": {
            "backgroundcolor": "#E5ECF6",
            "gridcolor": "white",
            "gridwidth": 2,
            "linecolor": "white",
            "showbackground": true,
            "ticks": "",
            "zerolinecolor": "white"
           },
           "yaxis": {
            "backgroundcolor": "#E5ECF6",
            "gridcolor": "white",
            "gridwidth": 2,
            "linecolor": "white",
            "showbackground": true,
            "ticks": "",
            "zerolinecolor": "white"
           },
           "zaxis": {
            "backgroundcolor": "#E5ECF6",
            "gridcolor": "white",
            "gridwidth": 2,
            "linecolor": "white",
            "showbackground": true,
            "ticks": "",
            "zerolinecolor": "white"
           }
          },
          "shapedefaults": {
           "line": {
            "color": "#2a3f5f"
           }
          },
          "ternary": {
           "aaxis": {
            "gridcolor": "white",
            "linecolor": "white",
            "ticks": ""
           },
           "baxis": {
            "gridcolor": "white",
            "linecolor": "white",
            "ticks": ""
           },
           "bgcolor": "#E5ECF6",
           "caxis": {
            "gridcolor": "white",
            "linecolor": "white",
            "ticks": ""
           }
          },
          "title": {
           "x": 0.05
          },
          "xaxis": {
           "automargin": true,
           "gridcolor": "white",
           "linecolor": "white",
           "ticks": "",
           "title": {
            "standoff": 15
           },
           "zerolinecolor": "white",
           "zerolinewidth": 2
          },
          "yaxis": {
           "automargin": true,
           "gridcolor": "white",
           "linecolor": "white",
           "ticks": "",
           "title": {
            "standoff": 15
           },
           "zerolinecolor": "white",
           "zerolinewidth": 2
          }
         }
        },
        "title": {
         "text": "Vector for feature GDP of Austria"
        },
        "width": 600,
        "xaxis": {
         "mirror": true,
         "showgrid": false,
         "zeroline": false
        },
        "yaxis": {
         "mirror": true,
         "showgrid": false,
         "zeroline": false
        }
       }
      }
     },
     "metadata": {},
     "output_type": "display_data"
    }
   ],
   "source": [
    "explainer.plot_one_arrow_with_contour(feature_id, instance_id)"
   ]
  }
 ],
 "metadata": {
  "interpreter": {
   "hash": "706b4d18ccd75c46aca3b385179c80b6c02f39d920afa94521c6140b14505d5b"
  },
  "kernelspec": {
   "display_name": "Python 3.8.8 ('venv': venv)",
   "language": "python",
   "name": "python3"
  },
  "language_info": {
   "codemirror_mode": {
    "name": "ipython",
    "version": 3
   },
   "file_extension": ".py",
   "mimetype": "text/x-python",
   "name": "python",
   "nbconvert_exporter": "python",
   "pygments_lexer": "ipython3",
   "version": "3.10.8"
  },
  "orig_nbformat": 4
 },
 "nbformat": 4,
 "nbformat_minor": 2
}
