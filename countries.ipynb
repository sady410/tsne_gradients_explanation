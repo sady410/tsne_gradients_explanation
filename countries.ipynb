{
 "cells": [
  {
   "cell_type": "markdown",
   "metadata": {},
   "source": [
    "#### IMPORTS"
   ]
  },
  {
   "cell_type": "code",
   "execution_count": 21,
   "metadata": {},
   "outputs": [],
   "source": [
    "import numpy as np\n",
    "from explainer import Explainer\n",
    "from custom_tsne import CustomTSNE\n",
    "import pandas as pd\n",
    "import matplotlib.pyplot as plt\n",
    "import seaborn as sns\n",
    "from sklearn.preprocessing import StandardScaler \n",
    "\n",
    "import plotly.express as px\n",
    "from plotly.subplots import make_subplots\n",
    "import plotly.graph_objects as go"
   ]
  },
  {
   "cell_type": "markdown",
   "metadata": {},
   "source": [
    "#### LOADING DATA"
   ]
  },
  {
   "cell_type": "code",
   "execution_count": 22,
   "metadata": {},
   "outputs": [],
   "source": [
    "filepath = \"datasets/country_dataset_with_names.csv\"\n",
    "\n",
    "# Loading dataset\n",
    "\n",
    "df = pd.read_csv(filepath, index_col = 0)\n",
    "\n",
    "data = df.to_numpy()\n",
    "X_init = data[0:].astype(np.float64)\n",
    "scaler = StandardScaler()\n",
    "X = scaler.fit_transform(X_init)\n",
    "countries = df.index.to_numpy()\n",
    "features = df.columns\n",
    "\n",
    "# Loading t-SNE data\n",
    "\n",
    "tsne = CustomTSNE(X, countries)\n",
    "tsne.load_tsne_data(\"embeddings/countries/perplexity_4\")"
   ]
  },
  {
   "cell_type": "markdown",
   "metadata": {},
   "source": [
    "#### Plot t-SNE embedding"
   ]
  },
  {
   "cell_type": "code",
   "execution_count": 23,
   "metadata": {},
   "outputs": [
    {
     "data": {
      "application/vnd.plotly.v1+json": {
       "config": {
        "plotlyServerURL": "https://plot.ly"
       },
       "data": [
        {
         "hovertemplate": "comp-1=%{x}<br>comp-2=%{y}<br>countries=%{text}<extra></extra>",
         "legendgroup": "",
         "marker": {
          "color": "#636efa",
          "symbol": "circle"
         },
         "mode": "markers+text",
         "name": "",
         "orientation": "v",
         "showlegend": false,
         "text": [
          "Norway",
          "Iceland",
          "Australia",
          "Ireland",
          "Sweden",
          "Canada",
          "Japan",
          "United States",
          "Switzerland",
          "Netherlands",
          "Finland",
          "Luxembourg",
          "Belgium",
          "Austria",
          "Denmark",
          "France",
          "Italy",
          "United Kingdom",
          "Spain",
          "New Zealand",
          "Germany",
          "Israel",
          "Greece",
          "Singapore",
          "Korea, Rep. of",
          "Slovenia",
          "Portugal",
          "Cyprus",
          "Czech Republic",
          "Malta",
          "Kuwait",
          "Hungary",
          "Argentina",
          "Poland",
          "Chile",
          "Bahrain",
          "Estonia",
          "Lithuania",
          "Slovakia",
          "Uruguay",
          "Croatia",
          "Latvia",
          "Costa Rica",
          "United Arab Emirates",
          "Mexico",
          "Bulgaria",
          "Trinidad and Tobago",
          "Panama",
          "Oman",
          "Romania",
          "Malaysia",
          "Mauritius",
          "Russian Federation",
          "Macedonia, TFYR",
          "Belarus",
          "Brazil",
          "Colombia",
          "Venezuela, RB",
          "Albania",
          "Thailand",
          "Saudi Arabia",
          "Ukraine",
          "Lebanon",
          "Kazakhstan",
          "Armenia",
          "China",
          "Peru",
          "Ecuador",
          "Philippines",
          "Jordan",
          "Tunisia",
          "Fiji",
          "Paraguay",
          "Turkey",
          "Sri Lanka",
          "Dominican Republic",
          "Belize",
          "Iran, Islamic Rep. of",
          "Georgia",
          "Azerbaijan",
          "El Salvador",
          "Algeria",
          "Guyana",
          "Jamaica",
          "Cape Verde",
          "Syrian Arab Republic",
          "Indonesia",
          "Viet Nam",
          "Kyrgyzstan",
          "Egypt",
          "Nicaragua",
          "Moldova, Rep. of",
          "Bolivia",
          "Mongolia",
          "Honduras",
          "Guatemala",
          "South Africa",
          "Morocco",
          "Gabon",
          "Namibia",
          "India",
          "Cambodia",
          "Botswana",
          "Lao People's Dem.  Rep.",
          "Pakistan",
          "Ghana",
          "Bangladesh",
          "Nepal",
          "Papua New Guinea",
          "Sudan",
          "Uganda",
          "Togo",
          "Zimbabwe",
          "Madagascar",
          "Cameroon",
          "Swaziland",
          "Yemen",
          "Kenya",
          "Gambia",
          "Senegal",
          "Rwanda",
          "Nigeria",
          "Guinea",
          "Angola",
          "Tanzania, U. Rep. of",
          "Benin",
          "Cote d'Ivoire",
          "Zambia",
          "Malawi",
          "Mozambique",
          "Burundi",
          "Ethiopia",
          "Chad",
          "Central African Republic",
          "Burkina Faso",
          "Mali",
          "Sierra Leone",
          "Niger"
         ],
         "textposition": "top center",
         "type": "scatter",
         "x": [
          -13.439659169431541,
          -17.41627663190408,
          -18.912671279442765,
          -14.687487516803118,
          -15.224850360571091,
          -21.320718369406823,
          -24.448471047286805,
          -26.678482519864108,
          -16.703879601703964,
          -15.04536788689018,
          -16.459103762964837,
          -12.671545554972075,
          -15.03851197985544,
          -17.288139108073917,
          -13.96844749629448,
          -22.47525725897187,
          -21.590170748172074,
          -22.30241352612701,
          -20.76532330325611,
          -22.489246924634063,
          -23.75706403566592,
          -16.392032070035803,
          -17.822528563793707,
          -12.62200397156745,
          -15.128067050008932,
          -24.115281763927193,
          -19.31910154555401,
          -11.487673861085387,
          -23.259450283910617,
          -24.571662202433963,
          -7.673510868258781,
          -25.59563429828497,
          5.209027657965058,
          -16.164077614623494,
          -0.3206915272619514,
          -5.616461315174769,
          -20.097763026932135,
          -19.935808920450608,
          -22.057047952698337,
          1.8108505936248978,
          -23.174827907109417,
          -18.87727949858482,
          3.899894003921186,
          -8.563418104381661,
          6.3241363103236665,
          -19.841238315621485,
          -11.21808065129475,
          -1.9884608477041152,
          -2.1648341182263953,
          -17.25204542727804,
          -12.578874953687988,
          -11.025290511203638,
          -18.70607519681541,
          -22.286263272540793,
          -22.85277032859193,
          8.352962070016407,
          14.907103343051471,
          7.636100843465525,
          -12.14523915472563,
          -10.916719494387525,
          -2.100342807449728,
          -19.079417771143568,
          10.772702618767024,
          -9.31280928133833,
          -12.153496697884135,
          19.417897235630033,
          6.92063666356977,
          8.448137955068441,
          11.126678482219114,
          11.72572707323218,
          5.902330824716798,
          -9.929348049608418,
          7.418732429949273,
          8.715879601919259,
          9.118423625642563,
          2.954282431881178,
          -0.47257189484979806,
          3.4894260893134494,
          -12.77562494844899,
          -6.869364216029878,
          4.780109633383869,
          0.4656375424898393,
          -16.305010068456564,
          -16.970495017974386,
          13.961865455949432,
          -0.0172026593086042,
          8.950580983663356,
          -5.038871053838727,
          -10.030351548554368,
          8.010956997759699,
          13.292453477079063,
          -16.235959554638644,
          18.373881901611444,
          -9.42816863592649,
          10.976202808526164,
          11.552130808512965,
          4.859250202383185,
          8.859512739984012,
          31.716492725253104,
          -7.703907001529456,
          19.37342903904253,
          16.631204466886878,
          -1.364359281653734,
          19.49413042013471,
          5.48770418174924,
          25.07101993878351,
          15.061348743534277,
          12.415822497061152,
          31.675988038255102,
          7.296286471042055,
          25.829801791370674,
          28.00977036172681,
          18.603721259690346,
          25.16272372547026,
          20.720688296539297,
          -14.62009668035418,
          24.02377655573082,
          22.298875529486914,
          29.972713969072156,
          18.58291952460711,
          22.54381887362248,
          26.05015330752826,
          20.95754679765263,
          -9.27907227157587,
          26.996438447280237,
          22.199125024528005,
          26.748847788060935,
          20.916603838867765,
          19.910750333865167,
          23.655692778317956,
          20.5807757516114,
          25.089691777609204,
          27.71118007195068,
          30.817991031710452,
          24.718044226687418,
          26.01447384005139,
          24.590972337372985,
          22.97573597323779
         ],
         "xaxis": "x",
         "y": [
          39.40298544188224,
          41.05763349090961,
          38.58563761733916,
          30.657080252319357,
          38.692376709944604,
          38.18459202146102,
          30.86266373650818,
          30.297547541711005,
          36.10436221713452,
          34.37745504736645,
          38.96748919174128,
          31.352242179939484,
          32.757765324905456,
          32.5204684992923,
          36.26001428463523,
          29.950848438798374,
          31.173264758640038,
          28.998662046009844,
          33.049201925365686,
          37.964735245241485,
          27.072990045813025,
          6.9651173829168265,
          9.439145282188028,
          3.6058945167649843,
          3.303359429525925,
          -5.571606805603756,
          29.22077252976691,
          1.8944053991625203,
          -8.146310922185002,
          -3.7885154206080944,
          12.39850507280467,
          -9.140575226347789,
          -8.27348298486773,
          -19.288415562378674,
          9.92531895522707,
          5.590673670572324,
          -8.807282811767267,
          -11.649802013981024,
          -8.171195726543852,
          -3.150367498426659,
          -10.145371034173923,
          -12.099063601133063,
          6.037354364811706,
          12.018208990003663,
          -2.678018564282881,
          -14.315802608847232,
          5.224187830485461,
          0.9032804811108501,
          15.565961258747725,
          -19.019753494226745,
          -2.8883787416116102,
          -0.6713666214170857,
          -21.231444538590022,
          -11.785796986075562,
          -14.857003886523126,
          -4.280637424492034,
          -13.929069127155321,
          -11.488622735499845,
          -17.373047149391656,
          -7.002379181180868,
          14.329780216777802,
          -18.590635950652253,
          7.993321597006763,
          -8.069499815405246,
          -15.731122308971157,
          20.663292290994114,
          -10.284494188941308,
          -12.389884606731856,
          -1.6065242199080263,
          9.783188612887749,
          6.433835484958241,
          0.5296875630201191,
          -17.69905837367123,
          1.9475324389221391,
          4.27730436736294,
          -0.5273654502234854,
          0.7801345599204225,
          13.998177784838877,
          -13.663680134175884,
          -8.418186688478544,
          -1.321082797777805,
          11.317141998003528,
          -3.744920375804988,
          -12.329656124090743,
          -7.956357859727588,
          13.065326690805454,
          -2.5416380446020668,
          -9.123796434312723,
          -12.157768826860742,
          8.834782936266368,
          -9.410094705777926,
          -10.334936001374144,
          -13.040195051652866,
          -11.932797186039982,
          -10.956063942476256,
          1.3399616848285056,
          -5.605833622149275,
          7.290732582133044,
          -12.448342865490428,
          0.35766279720070465,
          19.980479292920283,
          -22.51129522783311,
          8.451178547203675,
          -5.941381261540559,
          14.808054647869273,
          -23.75309557625565,
          0.1669298277855768,
          0.2630053440965633,
          -13.958032212113102,
          3.4200117813574025,
          -27.487206654661474,
          -6.245664346055826,
          -19.413332712110975,
          -20.774034557077368,
          -10.936939091412215,
          -3.07204772053658,
          -7.62358143105315,
          -17.798591826400553,
          -6.481648222927268,
          -7.74034251800641,
          -29.035839526450495,
          -4.416329807746921,
          -19.48827156289188,
          -23.712618151430863,
          -28.73027519898243,
          -10.225951452077357,
          -5.985526626378145,
          -14.613501974952122,
          -20.472901887256523,
          -28.277030496328912,
          -29.665338852021904,
          -25.70012931811194,
          -16.51008485801243,
          -18.24999771830738,
          -16.80553577781825,
          -16.57581458395884,
          -12.710374127462254,
          -15.863762707426107
         ],
         "yaxis": "y"
        }
       ],
       "layout": {
        "font": {
         "size": 10
        },
        "height": 1000,
        "legend": {
         "tracegroupgap": 0
        },
        "margin": {
         "t": 60
        },
        "template": {
         "data": {
          "bar": [
           {
            "error_x": {
             "color": "rgb(36,36,36)"
            },
            "error_y": {
             "color": "rgb(36,36,36)"
            },
            "marker": {
             "line": {
              "color": "white",
              "width": 0.5
             },
             "pattern": {
              "fillmode": "overlay",
              "size": 10,
              "solidity": 0.2
             }
            },
            "type": "bar"
           }
          ],
          "barpolar": [
           {
            "marker": {
             "line": {
              "color": "white",
              "width": 0.5
             },
             "pattern": {
              "fillmode": "overlay",
              "size": 10,
              "solidity": 0.2
             }
            },
            "type": "barpolar"
           }
          ],
          "carpet": [
           {
            "aaxis": {
             "endlinecolor": "rgb(36,36,36)",
             "gridcolor": "white",
             "linecolor": "white",
             "minorgridcolor": "white",
             "startlinecolor": "rgb(36,36,36)"
            },
            "baxis": {
             "endlinecolor": "rgb(36,36,36)",
             "gridcolor": "white",
             "linecolor": "white",
             "minorgridcolor": "white",
             "startlinecolor": "rgb(36,36,36)"
            },
            "type": "carpet"
           }
          ],
          "choropleth": [
           {
            "colorbar": {
             "outlinewidth": 1,
             "tickcolor": "rgb(36,36,36)",
             "ticks": "outside"
            },
            "type": "choropleth"
           }
          ],
          "contour": [
           {
            "colorbar": {
             "outlinewidth": 1,
             "tickcolor": "rgb(36,36,36)",
             "ticks": "outside"
            },
            "colorscale": [
             [
              0,
              "#440154"
             ],
             [
              0.1111111111111111,
              "#482878"
             ],
             [
              0.2222222222222222,
              "#3e4989"
             ],
             [
              0.3333333333333333,
              "#31688e"
             ],
             [
              0.4444444444444444,
              "#26828e"
             ],
             [
              0.5555555555555556,
              "#1f9e89"
             ],
             [
              0.6666666666666666,
              "#35b779"
             ],
             [
              0.7777777777777778,
              "#6ece58"
             ],
             [
              0.8888888888888888,
              "#b5de2b"
             ],
             [
              1,
              "#fde725"
             ]
            ],
            "type": "contour"
           }
          ],
          "contourcarpet": [
           {
            "colorbar": {
             "outlinewidth": 1,
             "tickcolor": "rgb(36,36,36)",
             "ticks": "outside"
            },
            "type": "contourcarpet"
           }
          ],
          "heatmap": [
           {
            "colorbar": {
             "outlinewidth": 1,
             "tickcolor": "rgb(36,36,36)",
             "ticks": "outside"
            },
            "colorscale": [
             [
              0,
              "#440154"
             ],
             [
              0.1111111111111111,
              "#482878"
             ],
             [
              0.2222222222222222,
              "#3e4989"
             ],
             [
              0.3333333333333333,
              "#31688e"
             ],
             [
              0.4444444444444444,
              "#26828e"
             ],
             [
              0.5555555555555556,
              "#1f9e89"
             ],
             [
              0.6666666666666666,
              "#35b779"
             ],
             [
              0.7777777777777778,
              "#6ece58"
             ],
             [
              0.8888888888888888,
              "#b5de2b"
             ],
             [
              1,
              "#fde725"
             ]
            ],
            "type": "heatmap"
           }
          ],
          "heatmapgl": [
           {
            "colorbar": {
             "outlinewidth": 1,
             "tickcolor": "rgb(36,36,36)",
             "ticks": "outside"
            },
            "colorscale": [
             [
              0,
              "#440154"
             ],
             [
              0.1111111111111111,
              "#482878"
             ],
             [
              0.2222222222222222,
              "#3e4989"
             ],
             [
              0.3333333333333333,
              "#31688e"
             ],
             [
              0.4444444444444444,
              "#26828e"
             ],
             [
              0.5555555555555556,
              "#1f9e89"
             ],
             [
              0.6666666666666666,
              "#35b779"
             ],
             [
              0.7777777777777778,
              "#6ece58"
             ],
             [
              0.8888888888888888,
              "#b5de2b"
             ],
             [
              1,
              "#fde725"
             ]
            ],
            "type": "heatmapgl"
           }
          ],
          "histogram": [
           {
            "marker": {
             "line": {
              "color": "white",
              "width": 0.6
             }
            },
            "type": "histogram"
           }
          ],
          "histogram2d": [
           {
            "colorbar": {
             "outlinewidth": 1,
             "tickcolor": "rgb(36,36,36)",
             "ticks": "outside"
            },
            "colorscale": [
             [
              0,
              "#440154"
             ],
             [
              0.1111111111111111,
              "#482878"
             ],
             [
              0.2222222222222222,
              "#3e4989"
             ],
             [
              0.3333333333333333,
              "#31688e"
             ],
             [
              0.4444444444444444,
              "#26828e"
             ],
             [
              0.5555555555555556,
              "#1f9e89"
             ],
             [
              0.6666666666666666,
              "#35b779"
             ],
             [
              0.7777777777777778,
              "#6ece58"
             ],
             [
              0.8888888888888888,
              "#b5de2b"
             ],
             [
              1,
              "#fde725"
             ]
            ],
            "type": "histogram2d"
           }
          ],
          "histogram2dcontour": [
           {
            "colorbar": {
             "outlinewidth": 1,
             "tickcolor": "rgb(36,36,36)",
             "ticks": "outside"
            },
            "colorscale": [
             [
              0,
              "#440154"
             ],
             [
              0.1111111111111111,
              "#482878"
             ],
             [
              0.2222222222222222,
              "#3e4989"
             ],
             [
              0.3333333333333333,
              "#31688e"
             ],
             [
              0.4444444444444444,
              "#26828e"
             ],
             [
              0.5555555555555556,
              "#1f9e89"
             ],
             [
              0.6666666666666666,
              "#35b779"
             ],
             [
              0.7777777777777778,
              "#6ece58"
             ],
             [
              0.8888888888888888,
              "#b5de2b"
             ],
             [
              1,
              "#fde725"
             ]
            ],
            "type": "histogram2dcontour"
           }
          ],
          "mesh3d": [
           {
            "colorbar": {
             "outlinewidth": 1,
             "tickcolor": "rgb(36,36,36)",
             "ticks": "outside"
            },
            "type": "mesh3d"
           }
          ],
          "parcoords": [
           {
            "line": {
             "colorbar": {
              "outlinewidth": 1,
              "tickcolor": "rgb(36,36,36)",
              "ticks": "outside"
             }
            },
            "type": "parcoords"
           }
          ],
          "pie": [
           {
            "automargin": true,
            "type": "pie"
           }
          ],
          "scatter": [
           {
            "marker": {
             "colorbar": {
              "outlinewidth": 1,
              "tickcolor": "rgb(36,36,36)",
              "ticks": "outside"
             }
            },
            "type": "scatter"
           }
          ],
          "scatter3d": [
           {
            "line": {
             "colorbar": {
              "outlinewidth": 1,
              "tickcolor": "rgb(36,36,36)",
              "ticks": "outside"
             }
            },
            "marker": {
             "colorbar": {
              "outlinewidth": 1,
              "tickcolor": "rgb(36,36,36)",
              "ticks": "outside"
             }
            },
            "type": "scatter3d"
           }
          ],
          "scattercarpet": [
           {
            "marker": {
             "colorbar": {
              "outlinewidth": 1,
              "tickcolor": "rgb(36,36,36)",
              "ticks": "outside"
             }
            },
            "type": "scattercarpet"
           }
          ],
          "scattergeo": [
           {
            "marker": {
             "colorbar": {
              "outlinewidth": 1,
              "tickcolor": "rgb(36,36,36)",
              "ticks": "outside"
             }
            },
            "type": "scattergeo"
           }
          ],
          "scattergl": [
           {
            "marker": {
             "colorbar": {
              "outlinewidth": 1,
              "tickcolor": "rgb(36,36,36)",
              "ticks": "outside"
             }
            },
            "type": "scattergl"
           }
          ],
          "scattermapbox": [
           {
            "marker": {
             "colorbar": {
              "outlinewidth": 1,
              "tickcolor": "rgb(36,36,36)",
              "ticks": "outside"
             }
            },
            "type": "scattermapbox"
           }
          ],
          "scatterpolar": [
           {
            "marker": {
             "colorbar": {
              "outlinewidth": 1,
              "tickcolor": "rgb(36,36,36)",
              "ticks": "outside"
             }
            },
            "type": "scatterpolar"
           }
          ],
          "scatterpolargl": [
           {
            "marker": {
             "colorbar": {
              "outlinewidth": 1,
              "tickcolor": "rgb(36,36,36)",
              "ticks": "outside"
             }
            },
            "type": "scatterpolargl"
           }
          ],
          "scatterternary": [
           {
            "marker": {
             "colorbar": {
              "outlinewidth": 1,
              "tickcolor": "rgb(36,36,36)",
              "ticks": "outside"
             }
            },
            "type": "scatterternary"
           }
          ],
          "surface": [
           {
            "colorbar": {
             "outlinewidth": 1,
             "tickcolor": "rgb(36,36,36)",
             "ticks": "outside"
            },
            "colorscale": [
             [
              0,
              "#440154"
             ],
             [
              0.1111111111111111,
              "#482878"
             ],
             [
              0.2222222222222222,
              "#3e4989"
             ],
             [
              0.3333333333333333,
              "#31688e"
             ],
             [
              0.4444444444444444,
              "#26828e"
             ],
             [
              0.5555555555555556,
              "#1f9e89"
             ],
             [
              0.6666666666666666,
              "#35b779"
             ],
             [
              0.7777777777777778,
              "#6ece58"
             ],
             [
              0.8888888888888888,
              "#b5de2b"
             ],
             [
              1,
              "#fde725"
             ]
            ],
            "type": "surface"
           }
          ],
          "table": [
           {
            "cells": {
             "fill": {
              "color": "rgb(237,237,237)"
             },
             "line": {
              "color": "white"
             }
            },
            "header": {
             "fill": {
              "color": "rgb(217,217,217)"
             },
             "line": {
              "color": "white"
             }
            },
            "type": "table"
           }
          ]
         },
         "layout": {
          "annotationdefaults": {
           "arrowhead": 0,
           "arrowwidth": 1
          },
          "autotypenumbers": "strict",
          "coloraxis": {
           "colorbar": {
            "outlinewidth": 1,
            "tickcolor": "rgb(36,36,36)",
            "ticks": "outside"
           }
          },
          "colorscale": {
           "diverging": [
            [
             0,
             "rgb(103,0,31)"
            ],
            [
             0.1,
             "rgb(178,24,43)"
            ],
            [
             0.2,
             "rgb(214,96,77)"
            ],
            [
             0.3,
             "rgb(244,165,130)"
            ],
            [
             0.4,
             "rgb(253,219,199)"
            ],
            [
             0.5,
             "rgb(247,247,247)"
            ],
            [
             0.6,
             "rgb(209,229,240)"
            ],
            [
             0.7,
             "rgb(146,197,222)"
            ],
            [
             0.8,
             "rgb(67,147,195)"
            ],
            [
             0.9,
             "rgb(33,102,172)"
            ],
            [
             1,
             "rgb(5,48,97)"
            ]
           ],
           "sequential": [
            [
             0,
             "#440154"
            ],
            [
             0.1111111111111111,
             "#482878"
            ],
            [
             0.2222222222222222,
             "#3e4989"
            ],
            [
             0.3333333333333333,
             "#31688e"
            ],
            [
             0.4444444444444444,
             "#26828e"
            ],
            [
             0.5555555555555556,
             "#1f9e89"
            ],
            [
             0.6666666666666666,
             "#35b779"
            ],
            [
             0.7777777777777778,
             "#6ece58"
            ],
            [
             0.8888888888888888,
             "#b5de2b"
            ],
            [
             1,
             "#fde725"
            ]
           ],
           "sequentialminus": [
            [
             0,
             "#440154"
            ],
            [
             0.1111111111111111,
             "#482878"
            ],
            [
             0.2222222222222222,
             "#3e4989"
            ],
            [
             0.3333333333333333,
             "#31688e"
            ],
            [
             0.4444444444444444,
             "#26828e"
            ],
            [
             0.5555555555555556,
             "#1f9e89"
            ],
            [
             0.6666666666666666,
             "#35b779"
            ],
            [
             0.7777777777777778,
             "#6ece58"
            ],
            [
             0.8888888888888888,
             "#b5de2b"
            ],
            [
             1,
             "#fde725"
            ]
           ]
          },
          "colorway": [
           "#1F77B4",
           "#FF7F0E",
           "#2CA02C",
           "#D62728",
           "#9467BD",
           "#8C564B",
           "#E377C2",
           "#7F7F7F",
           "#BCBD22",
           "#17BECF"
          ],
          "font": {
           "color": "rgb(36,36,36)"
          },
          "geo": {
           "bgcolor": "white",
           "lakecolor": "white",
           "landcolor": "white",
           "showlakes": true,
           "showland": true,
           "subunitcolor": "white"
          },
          "hoverlabel": {
           "align": "left"
          },
          "hovermode": "closest",
          "mapbox": {
           "style": "light"
          },
          "paper_bgcolor": "white",
          "plot_bgcolor": "white",
          "polar": {
           "angularaxis": {
            "gridcolor": "rgb(232,232,232)",
            "linecolor": "rgb(36,36,36)",
            "showgrid": false,
            "showline": true,
            "ticks": "outside"
           },
           "bgcolor": "white",
           "radialaxis": {
            "gridcolor": "rgb(232,232,232)",
            "linecolor": "rgb(36,36,36)",
            "showgrid": false,
            "showline": true,
            "ticks": "outside"
           }
          },
          "scene": {
           "xaxis": {
            "backgroundcolor": "white",
            "gridcolor": "rgb(232,232,232)",
            "gridwidth": 2,
            "linecolor": "rgb(36,36,36)",
            "showbackground": true,
            "showgrid": false,
            "showline": true,
            "ticks": "outside",
            "zeroline": false,
            "zerolinecolor": "rgb(36,36,36)"
           },
           "yaxis": {
            "backgroundcolor": "white",
            "gridcolor": "rgb(232,232,232)",
            "gridwidth": 2,
            "linecolor": "rgb(36,36,36)",
            "showbackground": true,
            "showgrid": false,
            "showline": true,
            "ticks": "outside",
            "zeroline": false,
            "zerolinecolor": "rgb(36,36,36)"
           },
           "zaxis": {
            "backgroundcolor": "white",
            "gridcolor": "rgb(232,232,232)",
            "gridwidth": 2,
            "linecolor": "rgb(36,36,36)",
            "showbackground": true,
            "showgrid": false,
            "showline": true,
            "ticks": "outside",
            "zeroline": false,
            "zerolinecolor": "rgb(36,36,36)"
           }
          },
          "shapedefaults": {
           "fillcolor": "black",
           "line": {
            "width": 0
           },
           "opacity": 0.3
          },
          "ternary": {
           "aaxis": {
            "gridcolor": "rgb(232,232,232)",
            "linecolor": "rgb(36,36,36)",
            "showgrid": false,
            "showline": true,
            "ticks": "outside"
           },
           "baxis": {
            "gridcolor": "rgb(232,232,232)",
            "linecolor": "rgb(36,36,36)",
            "showgrid": false,
            "showline": true,
            "ticks": "outside"
           },
           "bgcolor": "white",
           "caxis": {
            "gridcolor": "rgb(232,232,232)",
            "linecolor": "rgb(36,36,36)",
            "showgrid": false,
            "showline": true,
            "ticks": "outside"
           }
          },
          "title": {
           "x": 0.05
          },
          "xaxis": {
           "automargin": true,
           "gridcolor": "rgb(232,232,232)",
           "linecolor": "rgb(36,36,36)",
           "showgrid": false,
           "showline": true,
           "ticks": "outside",
           "title": {
            "standoff": 15
           },
           "zeroline": false,
           "zerolinecolor": "rgb(36,36,36)"
          },
          "yaxis": {
           "automargin": true,
           "gridcolor": "rgb(232,232,232)",
           "linecolor": "rgb(36,36,36)",
           "showgrid": false,
           "showline": true,
           "ticks": "outside",
           "title": {
            "standoff": 15
           },
           "zeroline": false,
           "zerolinecolor": "rgb(36,36,36)"
          }
         }
        },
        "width": 1000,
        "xaxis": {
         "anchor": "y",
         "domain": [
          0,
          1
         ],
         "mirror": true,
         "showgrid": false,
         "tickfont": {
          "size": 20
         },
         "ticks": "outside",
         "title": {},
         "zeroline": false
        },
        "yaxis": {
         "anchor": "x",
         "domain": [
          0,
          1
         ],
         "mirror": true,
         "showgrid": false,
         "tickfont": {
          "size": 20
         },
         "ticks": "outside",
         "title": {},
         "zeroline": false
        }
       }
      }
     },
     "metadata": {},
     "output_type": "display_data"
    }
   ],
   "source": [
    "tsne.plot_tsne_embedding_labels()"
   ]
  },
  {
   "cell_type": "markdown",
   "metadata": {},
   "source": [
    "#### COMPUTE GRADIENTS"
   ]
  },
  {
   "cell_type": "code",
   "execution_count": 24,
   "metadata": {},
   "outputs": [],
   "source": [
    "explainer = Explainer(tsne, features)\n",
    "gradients = explainer.compute_all_gradients()"
   ]
  },
  {
   "cell_type": "markdown",
   "metadata": {},
   "source": [
    "#### EXPLAIN EMBEDDING LOCALLY"
   ]
  },
  {
   "cell_type": "code",
   "execution_count": 25,
   "metadata": {},
   "outputs": [],
   "source": [
    "country = \"Ukraine\"\n",
    "instance_id = np.where(countries == country)[0][0]"
   ]
  },
  {
   "cell_type": "markdown",
   "metadata": {},
   "source": [
    "##### PLOT LOCAL EXPLANATION OF INSTANCE"
   ]
  },
  {
   "cell_type": "code",
   "execution_count": 26,
   "metadata": {},
   "outputs": [
    {
     "data": {
      "application/vnd.plotly.v1+json": {
       "config": {
        "plotlyServerURL": "https://plot.ly"
       },
       "data": [
        {
         "name": "X-axis gradients",
         "orientation": "h",
         "showlegend": false,
         "type": "bar",
         "x": [
          0.0029365154220764482,
          0.06998473926068341,
          -0.07152351815755706,
          -0.10362935259815724,
          0.009312147155057328,
          -0.10826667111589465,
          -0.06338571575107421,
          -0.017288616368009373,
          -0.04799865143108597,
          -0.006507025682327309,
          0.09817351167550106,
          0.01817862169424518,
          0.005745823049056486,
          0.005679970473954597,
          -0.010304907871909397,
          0.054425489387624065,
          0.00006557316425633521,
          0.057609319478960606,
          0.047657972662513676,
          0.02049088950116365,
          -0.03223436834925709,
          0.02771985373630179,
          0.03535865511155309,
          -0.09423336511820725,
          -0.0507018789895226,
          0.0865823148896069,
          -0.0073497463954963795,
          -0.057348825893061846,
          0.006573196658839942,
          -0.12392101620528997,
          -0.15549667532938288,
          0.04478830383108036,
          0.054904461994634966,
          0.04330165377616809,
          -0.07432493001100175,
          -0.05045003156212603,
          -0.04188401441587927,
          0.021160201657416795,
          0.0003630870727761896,
          -0.050447289888485035,
          -0.00039517539562998477,
          -0.0000758539154947017,
          -0.0011840877621276127,
          0.05826332648478148,
          0.1211148345512824
         ],
         "xaxis": "x",
         "y": [
          "Pop growth",
          "Pop growth 2004",
          "Price index",
          "Carbon Dioxide 2003",
          "Export 1990",
          "Export 2004",
          "Elec 2003",
          "GDP",
          "GDP PPP",
          "GDP pc",
          "GDP pc growth rate",
          "Fem Econo Rate",
          "Fem Econo 1990",
          "Fem Econo 2004",
          "Health Exp",
          "Babies",
          "Internet 1990",
          "Import 1990",
          "Import 2004",
          "Tertiary female ratio",
          "Babies immunized",
          "Manufactured Exp 2004",
          "Foreign invest 2004",
          "Military 2004",
          "Public Health 2003",
          "Private Health 2003",
          "Primary export 2004",
          "Public Health",
          "Refugees asylum",
          "Refugees origin",
          "Armed forces",
          "Parliament Women",
          "Female Male income",
          "House women 2006",
          "Pop 1975",
          "Pop 2004",
          "Pop 2015",
          "Tuberculosis detected",
          "Tuberculosis cured 2004",
          "Trad fuel",
          "ODA pc donnor 2004",
          "ODA to least dev 1990",
          "ODA to least dev 2004",
          "ODA received",
          "ODA received pc"
         ],
         "yaxis": "y"
        },
        {
         "name": "Y-axis gradients",
         "orientation": "h",
         "showlegend": false,
         "type": "bar",
         "x": [
          0.0008284806471741829,
          0.12506660746126316,
          -0.19498723468728857,
          -0.21988195535103822,
          0.327648712331227,
          0.08489113337312519,
          -0.10699265129064192,
          -0.0824272534918803,
          -0.1979317424874453,
          -0.0032893093838381776,
          0.05576936652165955,
          -0.021905060073566473,
          -0.08708473053899675,
          -0.031071567214925273,
          -0.01053178638824861,
          0.01805299381217364,
          0.0027621218210015027,
          0.3813482255334468,
          0.5098770121744589,
          0.0651559582649699,
          -0.06464162756680099,
          0.054002815770166857,
          0.03740635696146436,
          -0.3199392641995393,
          0.0312722428335484,
          0.1287392166565738,
          0.024956785342932393,
          0.0474270924089303,
          0.01376133984706278,
          -0.2992645234229031,
          -0.6179951119733571,
          0.3805857910627678,
          0.046691214295177516,
          0.3381417668468118,
          -0.2706548059064697,
          -0.18811072535468978,
          -0.15967960901918402,
          0.4298072948342757,
          0.05944250284940268,
          -0.188064356354794,
          0.0011263682522580038,
          0.0021744417760024637,
          0.0011823995556671017,
          -0.4452829243772704,
          0.2821422696291365
         ],
         "xaxis": "x2",
         "y": [
          "Pop growth",
          "Pop growth 2004",
          "Price index",
          "Carbon Dioxide 2003",
          "Export 1990",
          "Export 2004",
          "Elec 2003",
          "GDP",
          "GDP PPP",
          "GDP pc",
          "GDP pc growth rate",
          "Fem Econo Rate",
          "Fem Econo 1990",
          "Fem Econo 2004",
          "Health Exp",
          "Babies",
          "Internet 1990",
          "Import 1990",
          "Import 2004",
          "Tertiary female ratio",
          "Babies immunized",
          "Manufactured Exp 2004",
          "Foreign invest 2004",
          "Military 2004",
          "Public Health 2003",
          "Private Health 2003",
          "Primary export 2004",
          "Public Health",
          "Refugees asylum",
          "Refugees origin",
          "Armed forces",
          "Parliament Women",
          "Female Male income",
          "House women 2006",
          "Pop 1975",
          "Pop 2004",
          "Pop 2015",
          "Tuberculosis detected",
          "Tuberculosis cured 2004",
          "Trad fuel",
          "ODA pc donnor 2004",
          "ODA to least dev 1990",
          "ODA to least dev 2004",
          "ODA received",
          "ODA received pc"
         ],
         "yaxis": "y2"
        }
       ],
       "layout": {
        "font": {
         "size": 15
        },
        "height": 1000,
        "template": {
         "data": {
          "bar": [
           {
            "error_x": {
             "color": "rgb(36,36,36)"
            },
            "error_y": {
             "color": "rgb(36,36,36)"
            },
            "marker": {
             "line": {
              "color": "white",
              "width": 0.5
             },
             "pattern": {
              "fillmode": "overlay",
              "size": 10,
              "solidity": 0.2
             }
            },
            "type": "bar"
           }
          ],
          "barpolar": [
           {
            "marker": {
             "line": {
              "color": "white",
              "width": 0.5
             },
             "pattern": {
              "fillmode": "overlay",
              "size": 10,
              "solidity": 0.2
             }
            },
            "type": "barpolar"
           }
          ],
          "carpet": [
           {
            "aaxis": {
             "endlinecolor": "rgb(36,36,36)",
             "gridcolor": "white",
             "linecolor": "white",
             "minorgridcolor": "white",
             "startlinecolor": "rgb(36,36,36)"
            },
            "baxis": {
             "endlinecolor": "rgb(36,36,36)",
             "gridcolor": "white",
             "linecolor": "white",
             "minorgridcolor": "white",
             "startlinecolor": "rgb(36,36,36)"
            },
            "type": "carpet"
           }
          ],
          "choropleth": [
           {
            "colorbar": {
             "outlinewidth": 1,
             "tickcolor": "rgb(36,36,36)",
             "ticks": "outside"
            },
            "type": "choropleth"
           }
          ],
          "contour": [
           {
            "colorbar": {
             "outlinewidth": 1,
             "tickcolor": "rgb(36,36,36)",
             "ticks": "outside"
            },
            "colorscale": [
             [
              0,
              "#440154"
             ],
             [
              0.1111111111111111,
              "#482878"
             ],
             [
              0.2222222222222222,
              "#3e4989"
             ],
             [
              0.3333333333333333,
              "#31688e"
             ],
             [
              0.4444444444444444,
              "#26828e"
             ],
             [
              0.5555555555555556,
              "#1f9e89"
             ],
             [
              0.6666666666666666,
              "#35b779"
             ],
             [
              0.7777777777777778,
              "#6ece58"
             ],
             [
              0.8888888888888888,
              "#b5de2b"
             ],
             [
              1,
              "#fde725"
             ]
            ],
            "type": "contour"
           }
          ],
          "contourcarpet": [
           {
            "colorbar": {
             "outlinewidth": 1,
             "tickcolor": "rgb(36,36,36)",
             "ticks": "outside"
            },
            "type": "contourcarpet"
           }
          ],
          "heatmap": [
           {
            "colorbar": {
             "outlinewidth": 1,
             "tickcolor": "rgb(36,36,36)",
             "ticks": "outside"
            },
            "colorscale": [
             [
              0,
              "#440154"
             ],
             [
              0.1111111111111111,
              "#482878"
             ],
             [
              0.2222222222222222,
              "#3e4989"
             ],
             [
              0.3333333333333333,
              "#31688e"
             ],
             [
              0.4444444444444444,
              "#26828e"
             ],
             [
              0.5555555555555556,
              "#1f9e89"
             ],
             [
              0.6666666666666666,
              "#35b779"
             ],
             [
              0.7777777777777778,
              "#6ece58"
             ],
             [
              0.8888888888888888,
              "#b5de2b"
             ],
             [
              1,
              "#fde725"
             ]
            ],
            "type": "heatmap"
           }
          ],
          "heatmapgl": [
           {
            "colorbar": {
             "outlinewidth": 1,
             "tickcolor": "rgb(36,36,36)",
             "ticks": "outside"
            },
            "colorscale": [
             [
              0,
              "#440154"
             ],
             [
              0.1111111111111111,
              "#482878"
             ],
             [
              0.2222222222222222,
              "#3e4989"
             ],
             [
              0.3333333333333333,
              "#31688e"
             ],
             [
              0.4444444444444444,
              "#26828e"
             ],
             [
              0.5555555555555556,
              "#1f9e89"
             ],
             [
              0.6666666666666666,
              "#35b779"
             ],
             [
              0.7777777777777778,
              "#6ece58"
             ],
             [
              0.8888888888888888,
              "#b5de2b"
             ],
             [
              1,
              "#fde725"
             ]
            ],
            "type": "heatmapgl"
           }
          ],
          "histogram": [
           {
            "marker": {
             "line": {
              "color": "white",
              "width": 0.6
             }
            },
            "type": "histogram"
           }
          ],
          "histogram2d": [
           {
            "colorbar": {
             "outlinewidth": 1,
             "tickcolor": "rgb(36,36,36)",
             "ticks": "outside"
            },
            "colorscale": [
             [
              0,
              "#440154"
             ],
             [
              0.1111111111111111,
              "#482878"
             ],
             [
              0.2222222222222222,
              "#3e4989"
             ],
             [
              0.3333333333333333,
              "#31688e"
             ],
             [
              0.4444444444444444,
              "#26828e"
             ],
             [
              0.5555555555555556,
              "#1f9e89"
             ],
             [
              0.6666666666666666,
              "#35b779"
             ],
             [
              0.7777777777777778,
              "#6ece58"
             ],
             [
              0.8888888888888888,
              "#b5de2b"
             ],
             [
              1,
              "#fde725"
             ]
            ],
            "type": "histogram2d"
           }
          ],
          "histogram2dcontour": [
           {
            "colorbar": {
             "outlinewidth": 1,
             "tickcolor": "rgb(36,36,36)",
             "ticks": "outside"
            },
            "colorscale": [
             [
              0,
              "#440154"
             ],
             [
              0.1111111111111111,
              "#482878"
             ],
             [
              0.2222222222222222,
              "#3e4989"
             ],
             [
              0.3333333333333333,
              "#31688e"
             ],
             [
              0.4444444444444444,
              "#26828e"
             ],
             [
              0.5555555555555556,
              "#1f9e89"
             ],
             [
              0.6666666666666666,
              "#35b779"
             ],
             [
              0.7777777777777778,
              "#6ece58"
             ],
             [
              0.8888888888888888,
              "#b5de2b"
             ],
             [
              1,
              "#fde725"
             ]
            ],
            "type": "histogram2dcontour"
           }
          ],
          "mesh3d": [
           {
            "colorbar": {
             "outlinewidth": 1,
             "tickcolor": "rgb(36,36,36)",
             "ticks": "outside"
            },
            "type": "mesh3d"
           }
          ],
          "parcoords": [
           {
            "line": {
             "colorbar": {
              "outlinewidth": 1,
              "tickcolor": "rgb(36,36,36)",
              "ticks": "outside"
             }
            },
            "type": "parcoords"
           }
          ],
          "pie": [
           {
            "automargin": true,
            "type": "pie"
           }
          ],
          "scatter": [
           {
            "marker": {
             "colorbar": {
              "outlinewidth": 1,
              "tickcolor": "rgb(36,36,36)",
              "ticks": "outside"
             }
            },
            "type": "scatter"
           }
          ],
          "scatter3d": [
           {
            "line": {
             "colorbar": {
              "outlinewidth": 1,
              "tickcolor": "rgb(36,36,36)",
              "ticks": "outside"
             }
            },
            "marker": {
             "colorbar": {
              "outlinewidth": 1,
              "tickcolor": "rgb(36,36,36)",
              "ticks": "outside"
             }
            },
            "type": "scatter3d"
           }
          ],
          "scattercarpet": [
           {
            "marker": {
             "colorbar": {
              "outlinewidth": 1,
              "tickcolor": "rgb(36,36,36)",
              "ticks": "outside"
             }
            },
            "type": "scattercarpet"
           }
          ],
          "scattergeo": [
           {
            "marker": {
             "colorbar": {
              "outlinewidth": 1,
              "tickcolor": "rgb(36,36,36)",
              "ticks": "outside"
             }
            },
            "type": "scattergeo"
           }
          ],
          "scattergl": [
           {
            "marker": {
             "colorbar": {
              "outlinewidth": 1,
              "tickcolor": "rgb(36,36,36)",
              "ticks": "outside"
             }
            },
            "type": "scattergl"
           }
          ],
          "scattermapbox": [
           {
            "marker": {
             "colorbar": {
              "outlinewidth": 1,
              "tickcolor": "rgb(36,36,36)",
              "ticks": "outside"
             }
            },
            "type": "scattermapbox"
           }
          ],
          "scatterpolar": [
           {
            "marker": {
             "colorbar": {
              "outlinewidth": 1,
              "tickcolor": "rgb(36,36,36)",
              "ticks": "outside"
             }
            },
            "type": "scatterpolar"
           }
          ],
          "scatterpolargl": [
           {
            "marker": {
             "colorbar": {
              "outlinewidth": 1,
              "tickcolor": "rgb(36,36,36)",
              "ticks": "outside"
             }
            },
            "type": "scatterpolargl"
           }
          ],
          "scatterternary": [
           {
            "marker": {
             "colorbar": {
              "outlinewidth": 1,
              "tickcolor": "rgb(36,36,36)",
              "ticks": "outside"
             }
            },
            "type": "scatterternary"
           }
          ],
          "surface": [
           {
            "colorbar": {
             "outlinewidth": 1,
             "tickcolor": "rgb(36,36,36)",
             "ticks": "outside"
            },
            "colorscale": [
             [
              0,
              "#440154"
             ],
             [
              0.1111111111111111,
              "#482878"
             ],
             [
              0.2222222222222222,
              "#3e4989"
             ],
             [
              0.3333333333333333,
              "#31688e"
             ],
             [
              0.4444444444444444,
              "#26828e"
             ],
             [
              0.5555555555555556,
              "#1f9e89"
             ],
             [
              0.6666666666666666,
              "#35b779"
             ],
             [
              0.7777777777777778,
              "#6ece58"
             ],
             [
              0.8888888888888888,
              "#b5de2b"
             ],
             [
              1,
              "#fde725"
             ]
            ],
            "type": "surface"
           }
          ],
          "table": [
           {
            "cells": {
             "fill": {
              "color": "rgb(237,237,237)"
             },
             "line": {
              "color": "white"
             }
            },
            "header": {
             "fill": {
              "color": "rgb(217,217,217)"
             },
             "line": {
              "color": "white"
             }
            },
            "type": "table"
           }
          ]
         },
         "layout": {
          "annotationdefaults": {
           "arrowhead": 0,
           "arrowwidth": 1
          },
          "autotypenumbers": "strict",
          "coloraxis": {
           "colorbar": {
            "outlinewidth": 1,
            "tickcolor": "rgb(36,36,36)",
            "ticks": "outside"
           }
          },
          "colorscale": {
           "diverging": [
            [
             0,
             "rgb(103,0,31)"
            ],
            [
             0.1,
             "rgb(178,24,43)"
            ],
            [
             0.2,
             "rgb(214,96,77)"
            ],
            [
             0.3,
             "rgb(244,165,130)"
            ],
            [
             0.4,
             "rgb(253,219,199)"
            ],
            [
             0.5,
             "rgb(247,247,247)"
            ],
            [
             0.6,
             "rgb(209,229,240)"
            ],
            [
             0.7,
             "rgb(146,197,222)"
            ],
            [
             0.8,
             "rgb(67,147,195)"
            ],
            [
             0.9,
             "rgb(33,102,172)"
            ],
            [
             1,
             "rgb(5,48,97)"
            ]
           ],
           "sequential": [
            [
             0,
             "#440154"
            ],
            [
             0.1111111111111111,
             "#482878"
            ],
            [
             0.2222222222222222,
             "#3e4989"
            ],
            [
             0.3333333333333333,
             "#31688e"
            ],
            [
             0.4444444444444444,
             "#26828e"
            ],
            [
             0.5555555555555556,
             "#1f9e89"
            ],
            [
             0.6666666666666666,
             "#35b779"
            ],
            [
             0.7777777777777778,
             "#6ece58"
            ],
            [
             0.8888888888888888,
             "#b5de2b"
            ],
            [
             1,
             "#fde725"
            ]
           ],
           "sequentialminus": [
            [
             0,
             "#440154"
            ],
            [
             0.1111111111111111,
             "#482878"
            ],
            [
             0.2222222222222222,
             "#3e4989"
            ],
            [
             0.3333333333333333,
             "#31688e"
            ],
            [
             0.4444444444444444,
             "#26828e"
            ],
            [
             0.5555555555555556,
             "#1f9e89"
            ],
            [
             0.6666666666666666,
             "#35b779"
            ],
            [
             0.7777777777777778,
             "#6ece58"
            ],
            [
             0.8888888888888888,
             "#b5de2b"
            ],
            [
             1,
             "#fde725"
            ]
           ]
          },
          "colorway": [
           "#1F77B4",
           "#FF7F0E",
           "#2CA02C",
           "#D62728",
           "#9467BD",
           "#8C564B",
           "#E377C2",
           "#7F7F7F",
           "#BCBD22",
           "#17BECF"
          ],
          "font": {
           "color": "rgb(36,36,36)"
          },
          "geo": {
           "bgcolor": "white",
           "lakecolor": "white",
           "landcolor": "white",
           "showlakes": true,
           "showland": true,
           "subunitcolor": "white"
          },
          "hoverlabel": {
           "align": "left"
          },
          "hovermode": "closest",
          "mapbox": {
           "style": "light"
          },
          "paper_bgcolor": "white",
          "plot_bgcolor": "white",
          "polar": {
           "angularaxis": {
            "gridcolor": "rgb(232,232,232)",
            "linecolor": "rgb(36,36,36)",
            "showgrid": false,
            "showline": true,
            "ticks": "outside"
           },
           "bgcolor": "white",
           "radialaxis": {
            "gridcolor": "rgb(232,232,232)",
            "linecolor": "rgb(36,36,36)",
            "showgrid": false,
            "showline": true,
            "ticks": "outside"
           }
          },
          "scene": {
           "xaxis": {
            "backgroundcolor": "white",
            "gridcolor": "rgb(232,232,232)",
            "gridwidth": 2,
            "linecolor": "rgb(36,36,36)",
            "showbackground": true,
            "showgrid": false,
            "showline": true,
            "ticks": "outside",
            "zeroline": false,
            "zerolinecolor": "rgb(36,36,36)"
           },
           "yaxis": {
            "backgroundcolor": "white",
            "gridcolor": "rgb(232,232,232)",
            "gridwidth": 2,
            "linecolor": "rgb(36,36,36)",
            "showbackground": true,
            "showgrid": false,
            "showline": true,
            "ticks": "outside",
            "zeroline": false,
            "zerolinecolor": "rgb(36,36,36)"
           },
           "zaxis": {
            "backgroundcolor": "white",
            "gridcolor": "rgb(232,232,232)",
            "gridwidth": 2,
            "linecolor": "rgb(36,36,36)",
            "showbackground": true,
            "showgrid": false,
            "showline": true,
            "ticks": "outside",
            "zeroline": false,
            "zerolinecolor": "rgb(36,36,36)"
           }
          },
          "shapedefaults": {
           "fillcolor": "black",
           "line": {
            "width": 0
           },
           "opacity": 0.3
          },
          "ternary": {
           "aaxis": {
            "gridcolor": "rgb(232,232,232)",
            "linecolor": "rgb(36,36,36)",
            "showgrid": false,
            "showline": true,
            "ticks": "outside"
           },
           "baxis": {
            "gridcolor": "rgb(232,232,232)",
            "linecolor": "rgb(36,36,36)",
            "showgrid": false,
            "showline": true,
            "ticks": "outside"
           },
           "bgcolor": "white",
           "caxis": {
            "gridcolor": "rgb(232,232,232)",
            "linecolor": "rgb(36,36,36)",
            "showgrid": false,
            "showline": true,
            "ticks": "outside"
           }
          },
          "title": {
           "x": 0.05
          },
          "xaxis": {
           "automargin": true,
           "gridcolor": "rgb(232,232,232)",
           "linecolor": "rgb(36,36,36)",
           "showgrid": false,
           "showline": true,
           "ticks": "outside",
           "title": {
            "standoff": 15
           },
           "zeroline": false,
           "zerolinecolor": "rgb(36,36,36)"
          },
          "yaxis": {
           "automargin": true,
           "gridcolor": "rgb(232,232,232)",
           "linecolor": "rgb(36,36,36)",
           "showgrid": false,
           "showline": true,
           "ticks": "outside",
           "title": {
            "standoff": 15
           },
           "zeroline": false,
           "zerolinecolor": "rgb(36,36,36)"
          }
         }
        },
        "width": 900,
        "xaxis": {
         "anchor": "y",
         "domain": [
          0,
          0.33999999999999997
         ],
         "linecolor": "black",
         "linewidth": 2,
         "mirror": true,
         "showgrid": false,
         "showline": true,
         "ticks": "outside",
         "zerolinecolor": "grey",
         "zerolinewidth": 1
        },
        "xaxis2": {
         "anchor": "y2",
         "domain": [
          0.6599999999999999,
          0.9999999999999999
         ],
         "linecolor": "black",
         "linewidth": 2,
         "mirror": true,
         "showgrid": false,
         "showline": true,
         "ticks": "outside",
         "zerolinecolor": "grey",
         "zerolinewidth": 1
        },
        "yaxis": {
         "anchor": "x",
         "categoryorder": "total ascending",
         "domain": [
          0,
          1
         ],
         "linecolor": "black",
         "linewidth": 2,
         "mirror": true,
         "showline": true
        },
        "yaxis2": {
         "anchor": "x2",
         "categoryorder": "total ascending",
         "domain": [
          0,
          1
         ],
         "linecolor": "black",
         "linewidth": 2,
         "mirror": true,
         "showline": true
        }
       }
      }
     },
     "metadata": {},
     "output_type": "display_data"
    }
   ],
   "source": [
    "explainer.plot_instance_explanation(instance_id)"
   ]
  },
  {
   "cell_type": "markdown",
   "metadata": {},
   "source": [
    "##### PLOT SCOPE OF EXPLANATION AROUND INSTANCE"
   ]
  },
  {
   "cell_type": "code",
   "execution_count": 27,
   "metadata": {},
   "outputs": [
    {
     "data": {
      "application/vnd.plotly.v1+json": {
       "config": {
        "plotlyServerURL": "https://plot.ly"
       },
       "data": [
        {
         "marker": {
          "color": "black",
          "size": 7
         },
         "mode": "markers",
         "showlegend": false,
         "type": "scatter",
         "x": [
          -13.439659169431541,
          -17.41627663190408,
          -18.912671279442765,
          -14.687487516803118,
          -15.224850360571091,
          -21.320718369406823,
          -24.448471047286805,
          -26.678482519864108,
          -16.703879601703964,
          -15.04536788689018,
          -16.459103762964837,
          -12.671545554972075,
          -15.03851197985544,
          -17.288139108073917,
          -13.96844749629448,
          -22.47525725897187,
          -21.590170748172074,
          -22.30241352612701,
          -20.76532330325611,
          -22.489246924634063,
          -23.75706403566592,
          -16.392032070035803,
          -17.822528563793707,
          -12.62200397156745,
          -15.128067050008932,
          -24.115281763927193,
          -19.31910154555401,
          -11.487673861085387,
          -23.259450283910617,
          -24.571662202433963,
          -7.673510868258781,
          -25.59563429828497,
          5.209027657965058,
          -16.164077614623494,
          -0.3206915272619514,
          -5.616461315174769,
          -20.097763026932135,
          -19.935808920450608,
          -22.057047952698337,
          1.8108505936248978,
          -23.174827907109417,
          -18.87727949858482,
          3.899894003921186,
          -8.563418104381661,
          6.3241363103236665,
          -19.841238315621485,
          -11.21808065129475,
          -1.9884608477041152,
          -2.1648341182263953,
          -17.25204542727804,
          -12.578874953687988,
          -11.025290511203638,
          -18.70607519681541,
          -22.286263272540793,
          -22.85277032859193,
          8.352962070016407,
          14.907103343051471,
          7.636100843465525,
          -12.14523915472563,
          -10.916719494387525,
          -2.100342807449728,
          -19.079417771143568,
          10.772702618767024,
          -9.31280928133833,
          -12.153496697884135,
          19.417897235630033,
          6.92063666356977,
          8.448137955068441,
          11.126678482219114,
          11.72572707323218,
          5.902330824716798,
          -9.929348049608418,
          7.418732429949273,
          8.715879601919259,
          9.118423625642563,
          2.954282431881178,
          -0.47257189484979806,
          3.4894260893134494,
          -12.77562494844899,
          -6.869364216029878,
          4.780109633383869,
          0.4656375424898393,
          -16.305010068456564,
          -16.970495017974386,
          13.961865455949432,
          -0.0172026593086042,
          8.950580983663356,
          -5.038871053838727,
          -10.030351548554368,
          8.010956997759699,
          13.292453477079063,
          -16.235959554638644,
          18.373881901611444,
          -9.42816863592649,
          10.976202808526164,
          11.552130808512965,
          4.859250202383185,
          8.859512739984012,
          31.716492725253104,
          -7.703907001529456,
          19.37342903904253,
          16.631204466886878,
          -1.364359281653734,
          19.49413042013471,
          5.48770418174924,
          25.07101993878351,
          15.061348743534277,
          12.415822497061152,
          31.675988038255102,
          7.296286471042055,
          25.829801791370674,
          28.00977036172681,
          18.603721259690346,
          25.16272372547026,
          20.720688296539297,
          -14.62009668035418,
          24.02377655573082,
          22.298875529486914,
          29.972713969072156,
          18.58291952460711,
          22.54381887362248,
          26.05015330752826,
          20.95754679765263,
          -9.27907227157587,
          26.996438447280237,
          22.199125024528005,
          26.748847788060935,
          20.916603838867765,
          19.910750333865167,
          23.655692778317956,
          20.5807757516114,
          25.089691777609204,
          27.71118007195068,
          30.817991031710452,
          24.718044226687418,
          26.01447384005139,
          24.590972337372985,
          22.97573597323779
         ],
         "y": [
          39.40298544188224,
          41.05763349090961,
          38.58563761733916,
          30.657080252319357,
          38.692376709944604,
          38.18459202146102,
          30.86266373650818,
          30.297547541711005,
          36.10436221713452,
          34.37745504736645,
          38.96748919174128,
          31.352242179939484,
          32.757765324905456,
          32.5204684992923,
          36.26001428463523,
          29.950848438798374,
          31.173264758640038,
          28.998662046009844,
          33.049201925365686,
          37.964735245241485,
          27.072990045813025,
          6.9651173829168265,
          9.439145282188028,
          3.6058945167649843,
          3.303359429525925,
          -5.571606805603756,
          29.22077252976691,
          1.8944053991625203,
          -8.146310922185002,
          -3.7885154206080944,
          12.39850507280467,
          -9.140575226347789,
          -8.27348298486773,
          -19.288415562378674,
          9.92531895522707,
          5.590673670572324,
          -8.807282811767267,
          -11.649802013981024,
          -8.171195726543852,
          -3.150367498426659,
          -10.145371034173923,
          -12.099063601133063,
          6.037354364811706,
          12.018208990003663,
          -2.678018564282881,
          -14.315802608847232,
          5.224187830485461,
          0.9032804811108501,
          15.565961258747725,
          -19.019753494226745,
          -2.8883787416116102,
          -0.6713666214170857,
          -21.231444538590022,
          -11.785796986075562,
          -14.857003886523126,
          -4.280637424492034,
          -13.929069127155321,
          -11.488622735499845,
          -17.373047149391656,
          -7.002379181180868,
          14.329780216777802,
          -18.590635950652253,
          7.993321597006763,
          -8.069499815405246,
          -15.731122308971157,
          20.663292290994114,
          -10.284494188941308,
          -12.389884606731856,
          -1.6065242199080263,
          9.783188612887749,
          6.433835484958241,
          0.5296875630201191,
          -17.69905837367123,
          1.9475324389221391,
          4.27730436736294,
          -0.5273654502234854,
          0.7801345599204225,
          13.998177784838877,
          -13.663680134175884,
          -8.418186688478544,
          -1.321082797777805,
          11.317141998003528,
          -3.744920375804988,
          -12.329656124090743,
          -7.956357859727588,
          13.065326690805454,
          -2.5416380446020668,
          -9.123796434312723,
          -12.157768826860742,
          8.834782936266368,
          -9.410094705777926,
          -10.334936001374144,
          -13.040195051652866,
          -11.932797186039982,
          -10.956063942476256,
          1.3399616848285056,
          -5.605833622149275,
          7.290732582133044,
          -12.448342865490428,
          0.35766279720070465,
          19.980479292920283,
          -22.51129522783311,
          8.451178547203675,
          -5.941381261540559,
          14.808054647869273,
          -23.75309557625565,
          0.1669298277855768,
          0.2630053440965633,
          -13.958032212113102,
          3.4200117813574025,
          -27.487206654661474,
          -6.245664346055826,
          -19.413332712110975,
          -20.774034557077368,
          -10.936939091412215,
          -3.07204772053658,
          -7.62358143105315,
          -17.798591826400553,
          -6.481648222927268,
          -7.74034251800641,
          -29.035839526450495,
          -4.416329807746921,
          -19.48827156289188,
          -23.712618151430863,
          -28.73027519898243,
          -10.225951452077357,
          -5.985526626378145,
          -14.613501974952122,
          -20.472901887256523,
          -28.277030496328912,
          -29.665338852021904,
          -25.70012931811194,
          -16.51008485801243,
          -18.24999771830738,
          -16.80553577781825,
          -16.57581458395884,
          -12.710374127462254,
          -15.863762707426107
         ]
        },
        {
         "marker": {
          "color": "crimson",
          "size": 12
         },
         "showlegend": false,
         "type": "scatter",
         "x": [
          -19.079417771143568
         ],
         "y": [
          -18.590635950652253
         ]
        },
        {
         "type": "contour",
         "x": [
          -13.439659169431541,
          -17.41627663190408,
          -18.912671279442765,
          -14.687487516803118,
          -15.224850360571091,
          -21.320718369406823,
          -24.448471047286805,
          -26.678482519864108,
          -16.703879601703964,
          -15.04536788689018,
          -16.459103762964837,
          -12.671545554972075,
          -15.03851197985544,
          -17.288139108073917,
          -13.96844749629448,
          -22.47525725897187,
          -21.590170748172074,
          -22.30241352612701,
          -20.76532330325611,
          -22.489246924634063,
          -23.75706403566592,
          -16.392032070035803,
          -17.822528563793707,
          -12.62200397156745,
          -15.128067050008932,
          -24.115281763927193,
          -19.31910154555401,
          -11.487673861085387,
          -23.259450283910617,
          -24.571662202433963,
          -7.673510868258781,
          -25.59563429828497,
          5.209027657965058,
          -16.164077614623494,
          -0.3206915272619514,
          -5.616461315174769,
          -20.097763026932135,
          -19.935808920450608,
          -22.057047952698337,
          1.8108505936248978,
          -23.174827907109417,
          -18.87727949858482,
          3.899894003921186,
          -8.563418104381661,
          6.3241363103236665,
          -19.841238315621485,
          -11.21808065129475,
          -1.9884608477041152,
          -2.1648341182263953,
          -17.25204542727804,
          -12.578874953687988,
          -11.025290511203638,
          -18.70607519681541,
          -22.286263272540793,
          -22.85277032859193,
          8.352962070016407,
          14.907103343051471,
          7.636100843465525,
          -12.14523915472563,
          -10.916719494387525,
          -2.100342807449728,
          -19.079417771143568,
          10.772702618767024,
          -9.31280928133833,
          -12.153496697884135,
          19.417897235630033,
          6.92063666356977,
          8.448137955068441,
          11.126678482219114,
          11.72572707323218,
          5.902330824716798,
          -9.929348049608418,
          7.418732429949273,
          8.715879601919259,
          9.118423625642563,
          2.954282431881178,
          -0.47257189484979806,
          3.4894260893134494,
          -12.77562494844899,
          -6.869364216029878,
          4.780109633383869,
          0.4656375424898393,
          -16.305010068456564,
          -16.970495017974386,
          13.961865455949432,
          -0.0172026593086042,
          8.950580983663356,
          -5.038871053838727,
          -10.030351548554368,
          8.010956997759699,
          13.292453477079063,
          -16.235959554638644,
          18.373881901611444,
          -9.42816863592649,
          10.976202808526164,
          11.552130808512965,
          4.859250202383185,
          8.859512739984012,
          31.716492725253104,
          -7.703907001529456,
          19.37342903904253,
          16.631204466886878,
          -1.364359281653734,
          19.49413042013471,
          5.48770418174924,
          25.07101993878351,
          15.061348743534277,
          12.415822497061152,
          31.675988038255102,
          7.296286471042055,
          25.829801791370674,
          28.00977036172681,
          18.603721259690346,
          25.16272372547026,
          20.720688296539297,
          -14.62009668035418,
          24.02377655573082,
          22.298875529486914,
          29.972713969072156,
          18.58291952460711,
          22.54381887362248,
          26.05015330752826,
          20.95754679765263,
          -9.27907227157587,
          26.996438447280237,
          22.199125024528005,
          26.748847788060935,
          20.916603838867765,
          19.910750333865167,
          23.655692778317956,
          20.5807757516114,
          25.089691777609204,
          27.71118007195068,
          30.817991031710452,
          24.718044226687418,
          26.01447384005139,
          24.590972337372985,
          22.97573597323779
         ],
         "y": [
          39.40298544188224,
          41.05763349090961,
          38.58563761733916,
          30.657080252319357,
          38.692376709944604,
          38.18459202146102,
          30.86266373650818,
          30.297547541711005,
          36.10436221713452,
          34.37745504736645,
          38.96748919174128,
          31.352242179939484,
          32.757765324905456,
          32.5204684992923,
          36.26001428463523,
          29.950848438798374,
          31.173264758640038,
          28.998662046009844,
          33.049201925365686,
          37.964735245241485,
          27.072990045813025,
          6.9651173829168265,
          9.439145282188028,
          3.6058945167649843,
          3.303359429525925,
          -5.571606805603756,
          29.22077252976691,
          1.8944053991625203,
          -8.146310922185002,
          -3.7885154206080944,
          12.39850507280467,
          -9.140575226347789,
          -8.27348298486773,
          -19.288415562378674,
          9.92531895522707,
          5.590673670572324,
          -8.807282811767267,
          -11.649802013981024,
          -8.171195726543852,
          -3.150367498426659,
          -10.145371034173923,
          -12.099063601133063,
          6.037354364811706,
          12.018208990003663,
          -2.678018564282881,
          -14.315802608847232,
          5.224187830485461,
          0.9032804811108501,
          15.565961258747725,
          -19.019753494226745,
          -2.8883787416116102,
          -0.6713666214170857,
          -21.231444538590022,
          -11.785796986075562,
          -14.857003886523126,
          -4.280637424492034,
          -13.929069127155321,
          -11.488622735499845,
          -17.373047149391656,
          -7.002379181180868,
          14.329780216777802,
          -18.590635950652253,
          7.993321597006763,
          -8.069499815405246,
          -15.731122308971157,
          20.663292290994114,
          -10.284494188941308,
          -12.389884606731856,
          -1.6065242199080263,
          9.783188612887749,
          6.433835484958241,
          0.5296875630201191,
          -17.69905837367123,
          1.9475324389221391,
          4.27730436736294,
          -0.5273654502234854,
          0.7801345599204225,
          13.998177784838877,
          -13.663680134175884,
          -8.418186688478544,
          -1.321082797777805,
          11.317141998003528,
          -3.744920375804988,
          -12.329656124090743,
          -7.956357859727588,
          13.065326690805454,
          -2.5416380446020668,
          -9.123796434312723,
          -12.157768826860742,
          8.834782936266368,
          -9.410094705777926,
          -10.334936001374144,
          -13.040195051652866,
          -11.932797186039982,
          -10.956063942476256,
          1.3399616848285056,
          -5.605833622149275,
          7.290732582133044,
          -12.448342865490428,
          0.35766279720070465,
          19.980479292920283,
          -22.51129522783311,
          8.451178547203675,
          -5.941381261540559,
          14.808054647869273,
          -23.75309557625565,
          0.1669298277855768,
          0.2630053440965633,
          -13.958032212113102,
          3.4200117813574025,
          -27.487206654661474,
          -6.245664346055826,
          -19.413332712110975,
          -20.774034557077368,
          -10.936939091412215,
          -3.07204772053658,
          -7.62358143105315,
          -17.798591826400553,
          -6.481648222927268,
          -7.74034251800641,
          -29.035839526450495,
          -4.416329807746921,
          -19.48827156289188,
          -23.712618151430863,
          -28.73027519898243,
          -10.225951452077357,
          -5.985526626378145,
          -14.613501974952122,
          -20.472901887256523,
          -28.277030496328912,
          -29.665338852021904,
          -25.70012931811194,
          -16.51008485801243,
          -18.24999771830738,
          -16.80553577781825,
          -16.57581458395884,
          -12.710374127462254,
          -15.863762707426107
         ],
         "z": [
          0.10706777217101418,
          0.03442868206744702,
          0.10219847033247385,
          0.12116960090451631,
          0.031746294263626865,
          0.041496763098226454,
          0.06840152752015,
          0.12798326190787873,
          0.10016547472035485,
          0.10572198496945173,
          0.00366680786471281,
          0.0038695280507859467,
          0.07305574174310871,
          0.04983326946280693,
          0.013824305573119571,
          0.010353069181290782,
          0.2873210865839391,
          0.16527762854172887,
          0.1700038947253251,
          0.07056863973049733,
          0.3326959375608838,
          0.12137836087149566,
          0.14537836801754728,
          0.3605733002502408,
          0.10085800491321543,
          0.16769222733380612,
          0.2351283916262433,
          0.2934289934490485,
          0.07409470752644078,
          0.10184703289170677,
          0.38995638407676686,
          0.14363497377135906,
          0.013284525807471128,
          0.6536473237782651,
          0.2135226009799422,
          0.4706590735348085,
          0.3074606382278431,
          0.024735933233837548,
          0.20592902965147675,
          0.03890107135955754,
          0.15358124442185808,
          0.043579055485980775,
          0.06232102443263758,
          0.2431433912771487,
          0.2688659358551729,
          0.39643511707661566,
          0.26699476673782374,
          0.04090520849145726,
          0.25465178965346563,
          0.8372020088067036,
          0.11867192398727579,
          0.05839788179000618,
          0.13438127271608202,
          0.19049239349614303,
          0.29976596579112114,
          0.11427898418263417,
          0.23188879224930023,
          0.064885419554104,
          0.19744194388137462,
          0.0469985602932577,
          0.057632614553874806,
          1,
          0.11898642732215513,
          0.01773862329110287,
          0.11159593796800457,
          0.027034329316523567,
          0.09595095669156796,
          0.036365140557210594,
          0.25325752221961445,
          0.2410650685006679,
          0.14610348389617925,
          0.004537116996628012,
          0.0786158848630447,
          0.03210444390497051,
          0.21018643840869727,
          0.1348026032665232,
          0.006287392222439842,
          0.26180840116515514,
          0.04264957764976221,
          0.12243735067027407,
          0.14751607360028485,
          0.10561101683162147,
          0.04795758289484674,
          0.21792683975444022,
          0.06916727550757451,
          0.3196232351039808,
          0.3419363416787994,
          0.14057074728376592,
          0.030100506724035955,
          0.33035545793279064,
          0.18041207472034979,
          0.10578956180955686,
          0.09088502084211006,
          0.15076608261177224,
          0.2684452212226983,
          0.09874836557527587,
          0.01704255895730313,
          0.2508135885221665,
          0.086986978343272,
          0.0561957098187281,
          0.13977243226219205,
          0.06390316450753662,
          0.10865331142063797,
          0.07821000966155506,
          0.15960217800276572,
          0.16414998842175596,
          0.1286783055793431,
          0.18433634659035278,
          0.22586328869387653,
          0.15939113253727563,
          0.00014642942011527368,
          0.22399812467690583,
          0.04722368138138706,
          0.08710920232490074,
          0.25729648363964464,
          0.1626164367492833,
          0.010686274011684947,
          0.11807438279574364,
          0.1906839786641967,
          0.2088156619493425,
          0.016764783064556844,
          0.018353261215923358,
          0.1654565935187237,
          0.061818928624240814,
          0.19896394676677684,
          0.014159611295500009,
          0.0883960108163625,
          0.00027921977076338707,
          0.06991058144488219,
          0.27586837232249495,
          0.14734732023220445,
          0.0962871106846109,
          0.13247842148608235,
          0.07794946040489474,
          0.07833495882797854,
          0.19459130043317857,
          0.11564427381720499,
          0.018439029170582995
         ]
        }
       ],
       "layout": {
        "autosize": false,
        "font": {
         "size": 20
        },
        "height": 800,
        "template": {
         "data": {
          "bar": [
           {
            "error_x": {
             "color": "rgb(36,36,36)"
            },
            "error_y": {
             "color": "rgb(36,36,36)"
            },
            "marker": {
             "line": {
              "color": "white",
              "width": 0.5
             },
             "pattern": {
              "fillmode": "overlay",
              "size": 10,
              "solidity": 0.2
             }
            },
            "type": "bar"
           }
          ],
          "barpolar": [
           {
            "marker": {
             "line": {
              "color": "white",
              "width": 0.5
             },
             "pattern": {
              "fillmode": "overlay",
              "size": 10,
              "solidity": 0.2
             }
            },
            "type": "barpolar"
           }
          ],
          "carpet": [
           {
            "aaxis": {
             "endlinecolor": "rgb(36,36,36)",
             "gridcolor": "white",
             "linecolor": "white",
             "minorgridcolor": "white",
             "startlinecolor": "rgb(36,36,36)"
            },
            "baxis": {
             "endlinecolor": "rgb(36,36,36)",
             "gridcolor": "white",
             "linecolor": "white",
             "minorgridcolor": "white",
             "startlinecolor": "rgb(36,36,36)"
            },
            "type": "carpet"
           }
          ],
          "choropleth": [
           {
            "colorbar": {
             "outlinewidth": 1,
             "tickcolor": "rgb(36,36,36)",
             "ticks": "outside"
            },
            "type": "choropleth"
           }
          ],
          "contour": [
           {
            "colorbar": {
             "outlinewidth": 1,
             "tickcolor": "rgb(36,36,36)",
             "ticks": "outside"
            },
            "colorscale": [
             [
              0,
              "#440154"
             ],
             [
              0.1111111111111111,
              "#482878"
             ],
             [
              0.2222222222222222,
              "#3e4989"
             ],
             [
              0.3333333333333333,
              "#31688e"
             ],
             [
              0.4444444444444444,
              "#26828e"
             ],
             [
              0.5555555555555556,
              "#1f9e89"
             ],
             [
              0.6666666666666666,
              "#35b779"
             ],
             [
              0.7777777777777778,
              "#6ece58"
             ],
             [
              0.8888888888888888,
              "#b5de2b"
             ],
             [
              1,
              "#fde725"
             ]
            ],
            "type": "contour"
           }
          ],
          "contourcarpet": [
           {
            "colorbar": {
             "outlinewidth": 1,
             "tickcolor": "rgb(36,36,36)",
             "ticks": "outside"
            },
            "type": "contourcarpet"
           }
          ],
          "heatmap": [
           {
            "colorbar": {
             "outlinewidth": 1,
             "tickcolor": "rgb(36,36,36)",
             "ticks": "outside"
            },
            "colorscale": [
             [
              0,
              "#440154"
             ],
             [
              0.1111111111111111,
              "#482878"
             ],
             [
              0.2222222222222222,
              "#3e4989"
             ],
             [
              0.3333333333333333,
              "#31688e"
             ],
             [
              0.4444444444444444,
              "#26828e"
             ],
             [
              0.5555555555555556,
              "#1f9e89"
             ],
             [
              0.6666666666666666,
              "#35b779"
             ],
             [
              0.7777777777777778,
              "#6ece58"
             ],
             [
              0.8888888888888888,
              "#b5de2b"
             ],
             [
              1,
              "#fde725"
             ]
            ],
            "type": "heatmap"
           }
          ],
          "heatmapgl": [
           {
            "colorbar": {
             "outlinewidth": 1,
             "tickcolor": "rgb(36,36,36)",
             "ticks": "outside"
            },
            "colorscale": [
             [
              0,
              "#440154"
             ],
             [
              0.1111111111111111,
              "#482878"
             ],
             [
              0.2222222222222222,
              "#3e4989"
             ],
             [
              0.3333333333333333,
              "#31688e"
             ],
             [
              0.4444444444444444,
              "#26828e"
             ],
             [
              0.5555555555555556,
              "#1f9e89"
             ],
             [
              0.6666666666666666,
              "#35b779"
             ],
             [
              0.7777777777777778,
              "#6ece58"
             ],
             [
              0.8888888888888888,
              "#b5de2b"
             ],
             [
              1,
              "#fde725"
             ]
            ],
            "type": "heatmapgl"
           }
          ],
          "histogram": [
           {
            "marker": {
             "line": {
              "color": "white",
              "width": 0.6
             }
            },
            "type": "histogram"
           }
          ],
          "histogram2d": [
           {
            "colorbar": {
             "outlinewidth": 1,
             "tickcolor": "rgb(36,36,36)",
             "ticks": "outside"
            },
            "colorscale": [
             [
              0,
              "#440154"
             ],
             [
              0.1111111111111111,
              "#482878"
             ],
             [
              0.2222222222222222,
              "#3e4989"
             ],
             [
              0.3333333333333333,
              "#31688e"
             ],
             [
              0.4444444444444444,
              "#26828e"
             ],
             [
              0.5555555555555556,
              "#1f9e89"
             ],
             [
              0.6666666666666666,
              "#35b779"
             ],
             [
              0.7777777777777778,
              "#6ece58"
             ],
             [
              0.8888888888888888,
              "#b5de2b"
             ],
             [
              1,
              "#fde725"
             ]
            ],
            "type": "histogram2d"
           }
          ],
          "histogram2dcontour": [
           {
            "colorbar": {
             "outlinewidth": 1,
             "tickcolor": "rgb(36,36,36)",
             "ticks": "outside"
            },
            "colorscale": [
             [
              0,
              "#440154"
             ],
             [
              0.1111111111111111,
              "#482878"
             ],
             [
              0.2222222222222222,
              "#3e4989"
             ],
             [
              0.3333333333333333,
              "#31688e"
             ],
             [
              0.4444444444444444,
              "#26828e"
             ],
             [
              0.5555555555555556,
              "#1f9e89"
             ],
             [
              0.6666666666666666,
              "#35b779"
             ],
             [
              0.7777777777777778,
              "#6ece58"
             ],
             [
              0.8888888888888888,
              "#b5de2b"
             ],
             [
              1,
              "#fde725"
             ]
            ],
            "type": "histogram2dcontour"
           }
          ],
          "mesh3d": [
           {
            "colorbar": {
             "outlinewidth": 1,
             "tickcolor": "rgb(36,36,36)",
             "ticks": "outside"
            },
            "type": "mesh3d"
           }
          ],
          "parcoords": [
           {
            "line": {
             "colorbar": {
              "outlinewidth": 1,
              "tickcolor": "rgb(36,36,36)",
              "ticks": "outside"
             }
            },
            "type": "parcoords"
           }
          ],
          "pie": [
           {
            "automargin": true,
            "type": "pie"
           }
          ],
          "scatter": [
           {
            "marker": {
             "colorbar": {
              "outlinewidth": 1,
              "tickcolor": "rgb(36,36,36)",
              "ticks": "outside"
             }
            },
            "type": "scatter"
           }
          ],
          "scatter3d": [
           {
            "line": {
             "colorbar": {
              "outlinewidth": 1,
              "tickcolor": "rgb(36,36,36)",
              "ticks": "outside"
             }
            },
            "marker": {
             "colorbar": {
              "outlinewidth": 1,
              "tickcolor": "rgb(36,36,36)",
              "ticks": "outside"
             }
            },
            "type": "scatter3d"
           }
          ],
          "scattercarpet": [
           {
            "marker": {
             "colorbar": {
              "outlinewidth": 1,
              "tickcolor": "rgb(36,36,36)",
              "ticks": "outside"
             }
            },
            "type": "scattercarpet"
           }
          ],
          "scattergeo": [
           {
            "marker": {
             "colorbar": {
              "outlinewidth": 1,
              "tickcolor": "rgb(36,36,36)",
              "ticks": "outside"
             }
            },
            "type": "scattergeo"
           }
          ],
          "scattergl": [
           {
            "marker": {
             "colorbar": {
              "outlinewidth": 1,
              "tickcolor": "rgb(36,36,36)",
              "ticks": "outside"
             }
            },
            "type": "scattergl"
           }
          ],
          "scattermapbox": [
           {
            "marker": {
             "colorbar": {
              "outlinewidth": 1,
              "tickcolor": "rgb(36,36,36)",
              "ticks": "outside"
             }
            },
            "type": "scattermapbox"
           }
          ],
          "scatterpolar": [
           {
            "marker": {
             "colorbar": {
              "outlinewidth": 1,
              "tickcolor": "rgb(36,36,36)",
              "ticks": "outside"
             }
            },
            "type": "scatterpolar"
           }
          ],
          "scatterpolargl": [
           {
            "marker": {
             "colorbar": {
              "outlinewidth": 1,
              "tickcolor": "rgb(36,36,36)",
              "ticks": "outside"
             }
            },
            "type": "scatterpolargl"
           }
          ],
          "scatterternary": [
           {
            "marker": {
             "colorbar": {
              "outlinewidth": 1,
              "tickcolor": "rgb(36,36,36)",
              "ticks": "outside"
             }
            },
            "type": "scatterternary"
           }
          ],
          "surface": [
           {
            "colorbar": {
             "outlinewidth": 1,
             "tickcolor": "rgb(36,36,36)",
             "ticks": "outside"
            },
            "colorscale": [
             [
              0,
              "#440154"
             ],
             [
              0.1111111111111111,
              "#482878"
             ],
             [
              0.2222222222222222,
              "#3e4989"
             ],
             [
              0.3333333333333333,
              "#31688e"
             ],
             [
              0.4444444444444444,
              "#26828e"
             ],
             [
              0.5555555555555556,
              "#1f9e89"
             ],
             [
              0.6666666666666666,
              "#35b779"
             ],
             [
              0.7777777777777778,
              "#6ece58"
             ],
             [
              0.8888888888888888,
              "#b5de2b"
             ],
             [
              1,
              "#fde725"
             ]
            ],
            "type": "surface"
           }
          ],
          "table": [
           {
            "cells": {
             "fill": {
              "color": "rgb(237,237,237)"
             },
             "line": {
              "color": "white"
             }
            },
            "header": {
             "fill": {
              "color": "rgb(217,217,217)"
             },
             "line": {
              "color": "white"
             }
            },
            "type": "table"
           }
          ]
         },
         "layout": {
          "annotationdefaults": {
           "arrowhead": 0,
           "arrowwidth": 1
          },
          "autotypenumbers": "strict",
          "coloraxis": {
           "colorbar": {
            "outlinewidth": 1,
            "tickcolor": "rgb(36,36,36)",
            "ticks": "outside"
           }
          },
          "colorscale": {
           "diverging": [
            [
             0,
             "rgb(103,0,31)"
            ],
            [
             0.1,
             "rgb(178,24,43)"
            ],
            [
             0.2,
             "rgb(214,96,77)"
            ],
            [
             0.3,
             "rgb(244,165,130)"
            ],
            [
             0.4,
             "rgb(253,219,199)"
            ],
            [
             0.5,
             "rgb(247,247,247)"
            ],
            [
             0.6,
             "rgb(209,229,240)"
            ],
            [
             0.7,
             "rgb(146,197,222)"
            ],
            [
             0.8,
             "rgb(67,147,195)"
            ],
            [
             0.9,
             "rgb(33,102,172)"
            ],
            [
             1,
             "rgb(5,48,97)"
            ]
           ],
           "sequential": [
            [
             0,
             "#440154"
            ],
            [
             0.1111111111111111,
             "#482878"
            ],
            [
             0.2222222222222222,
             "#3e4989"
            ],
            [
             0.3333333333333333,
             "#31688e"
            ],
            [
             0.4444444444444444,
             "#26828e"
            ],
            [
             0.5555555555555556,
             "#1f9e89"
            ],
            [
             0.6666666666666666,
             "#35b779"
            ],
            [
             0.7777777777777778,
             "#6ece58"
            ],
            [
             0.8888888888888888,
             "#b5de2b"
            ],
            [
             1,
             "#fde725"
            ]
           ],
           "sequentialminus": [
            [
             0,
             "#440154"
            ],
            [
             0.1111111111111111,
             "#482878"
            ],
            [
             0.2222222222222222,
             "#3e4989"
            ],
            [
             0.3333333333333333,
             "#31688e"
            ],
            [
             0.4444444444444444,
             "#26828e"
            ],
            [
             0.5555555555555556,
             "#1f9e89"
            ],
            [
             0.6666666666666666,
             "#35b779"
            ],
            [
             0.7777777777777778,
             "#6ece58"
            ],
            [
             0.8888888888888888,
             "#b5de2b"
            ],
            [
             1,
             "#fde725"
            ]
           ]
          },
          "colorway": [
           "#1F77B4",
           "#FF7F0E",
           "#2CA02C",
           "#D62728",
           "#9467BD",
           "#8C564B",
           "#E377C2",
           "#7F7F7F",
           "#BCBD22",
           "#17BECF"
          ],
          "font": {
           "color": "rgb(36,36,36)"
          },
          "geo": {
           "bgcolor": "white",
           "lakecolor": "white",
           "landcolor": "white",
           "showlakes": true,
           "showland": true,
           "subunitcolor": "white"
          },
          "hoverlabel": {
           "align": "left"
          },
          "hovermode": "closest",
          "mapbox": {
           "style": "light"
          },
          "paper_bgcolor": "white",
          "plot_bgcolor": "white",
          "polar": {
           "angularaxis": {
            "gridcolor": "rgb(232,232,232)",
            "linecolor": "rgb(36,36,36)",
            "showgrid": false,
            "showline": true,
            "ticks": "outside"
           },
           "bgcolor": "white",
           "radialaxis": {
            "gridcolor": "rgb(232,232,232)",
            "linecolor": "rgb(36,36,36)",
            "showgrid": false,
            "showline": true,
            "ticks": "outside"
           }
          },
          "scene": {
           "xaxis": {
            "backgroundcolor": "white",
            "gridcolor": "rgb(232,232,232)",
            "gridwidth": 2,
            "linecolor": "rgb(36,36,36)",
            "showbackground": true,
            "showgrid": false,
            "showline": true,
            "ticks": "outside",
            "zeroline": false,
            "zerolinecolor": "rgb(36,36,36)"
           },
           "yaxis": {
            "backgroundcolor": "white",
            "gridcolor": "rgb(232,232,232)",
            "gridwidth": 2,
            "linecolor": "rgb(36,36,36)",
            "showbackground": true,
            "showgrid": false,
            "showline": true,
            "ticks": "outside",
            "zeroline": false,
            "zerolinecolor": "rgb(36,36,36)"
           },
           "zaxis": {
            "backgroundcolor": "white",
            "gridcolor": "rgb(232,232,232)",
            "gridwidth": 2,
            "linecolor": "rgb(36,36,36)",
            "showbackground": true,
            "showgrid": false,
            "showline": true,
            "ticks": "outside",
            "zeroline": false,
            "zerolinecolor": "rgb(36,36,36)"
           }
          },
          "shapedefaults": {
           "fillcolor": "black",
           "line": {
            "width": 0
           },
           "opacity": 0.3
          },
          "ternary": {
           "aaxis": {
            "gridcolor": "rgb(232,232,232)",
            "linecolor": "rgb(36,36,36)",
            "showgrid": false,
            "showline": true,
            "ticks": "outside"
           },
           "baxis": {
            "gridcolor": "rgb(232,232,232)",
            "linecolor": "rgb(36,36,36)",
            "showgrid": false,
            "showline": true,
            "ticks": "outside"
           },
           "bgcolor": "white",
           "caxis": {
            "gridcolor": "rgb(232,232,232)",
            "linecolor": "rgb(36,36,36)",
            "showgrid": false,
            "showline": true,
            "ticks": "outside"
           }
          },
          "title": {
           "x": 0.05
          },
          "xaxis": {
           "automargin": true,
           "gridcolor": "rgb(232,232,232)",
           "linecolor": "rgb(36,36,36)",
           "showgrid": false,
           "showline": true,
           "ticks": "outside",
           "title": {
            "standoff": 15
           },
           "zeroline": false,
           "zerolinecolor": "rgb(36,36,36)"
          },
          "yaxis": {
           "automargin": true,
           "gridcolor": "rgb(232,232,232)",
           "linecolor": "rgb(36,36,36)",
           "showgrid": false,
           "showline": true,
           "ticks": "outside",
           "title": {
            "standoff": 15
           },
           "zeroline": false,
           "zerolinecolor": "rgb(36,36,36)"
          }
         }
        },
        "width": 800,
        "xaxis": {
         "mirror": true,
         "showgrid": false,
         "ticks": "outside",
         "zeroline": false
        },
        "yaxis": {
         "mirror": true,
         "showgrid": false,
         "ticks": "outside",
         "zeroline": false
        }
       }
      }
     },
     "metadata": {},
     "output_type": "display_data"
    }
   ],
   "source": [
    "explainer.compute_all_angles()\n",
    "explainer.plot_scope_explanation(instance_id)"
   ]
  },
  {
   "cell_type": "markdown",
   "metadata": {},
   "source": [
    "#### EXPLAIN GLOBALLY"
   ]
  },
  {
   "cell_type": "markdown",
   "metadata": {},
   "source": [
    "##### PLOT FEATURE IMPORTANCE RANKING"
   ]
  },
  {
   "cell_type": "code",
   "execution_count": 28,
   "metadata": {},
   "outputs": [
    {
     "data": {
      "application/vnd.plotly.v1+json": {
       "config": {
        "plotlyServerURL": "https://plot.ly"
       },
       "data": [
        {
         "orientation": "h",
         "showlegend": false,
         "type": "bar",
         "x": [
          0.0702962649953621,
          0.08856443892351126,
          0.04542341283485174,
          0.0631582926515264,
          0.09496912218573003,
          0.09289903442129455,
          0.058918914240619964,
          0.025514870278908097,
          0.027812751391259088,
          0.04155679558399135,
          0.10153437890462702,
          0.09110106783194882,
          0.09669820081137842,
          0.08911832938137443,
          0.04060674577769396,
          0.08540019215175203,
          0.02930065355020219,
          0.09043823626415558,
          0.09304408474458749,
          0.08442061577338136,
          0.09580746645213935,
          0.09372102482392848,
          0.024517419270695173,
          0.07555293882665635,
          0.07795991173745948,
          0.10440296988057128,
          0.0907457319784693,
          0.07777889612211014,
          0.06604599143799275,
          0.03537713762651502,
          0.04165284328994843,
          0.1030594200672113,
          0.0981933876109618,
          0.10176094512913776,
          0.025159966918184364,
          0.025607985006868932,
          0.026108872933860505,
          0.10414130923583365,
          0.10233931891575096,
          0.025606387749667715,
          0.028114114762906265,
          0.029585639774780872,
          0.02811366130820182,
          0.09220432834290568,
          0.08233259476575357
         ],
         "y": [
          "Pop growth",
          "Pop growth 2004",
          "Price index",
          "Carbon Dioxide 2003",
          "Export 1990",
          "Export 2004",
          "Elec 2003",
          "GDP",
          "GDP PPP",
          "GDP pc",
          "GDP pc growth rate",
          "Fem Econo Rate",
          "Fem Econo 1990",
          "Fem Econo 2004",
          "Health Exp",
          "Babies",
          "Internet 1990",
          "Import 1990",
          "Import 2004",
          "Tertiary female ratio",
          "Babies immunized",
          "Manufactured Exp 2004",
          "Foreign invest 2004",
          "Military 2004",
          "Public Health 2003",
          "Private Health 2003",
          "Primary export 2004",
          "Public Health",
          "Refugees asylum",
          "Refugees origin",
          "Armed forces",
          "Parliament Women",
          "Female Male income",
          "House women 2006",
          "Pop 1975",
          "Pop 2004",
          "Pop 2015",
          "Tuberculosis detected",
          "Tuberculosis cured 2004",
          "Trad fuel",
          "ODA pc donnor 2004",
          "ODA to least dev 1990",
          "ODA to least dev 2004",
          "ODA received",
          "ODA received pc"
         ]
        }
       ],
       "layout": {
        "font": {
         "size": 15
        },
        "height": 1000,
        "template": {
         "data": {
          "bar": [
           {
            "error_x": {
             "color": "rgb(36,36,36)"
            },
            "error_y": {
             "color": "rgb(36,36,36)"
            },
            "marker": {
             "line": {
              "color": "white",
              "width": 0.5
             },
             "pattern": {
              "fillmode": "overlay",
              "size": 10,
              "solidity": 0.2
             }
            },
            "type": "bar"
           }
          ],
          "barpolar": [
           {
            "marker": {
             "line": {
              "color": "white",
              "width": 0.5
             },
             "pattern": {
              "fillmode": "overlay",
              "size": 10,
              "solidity": 0.2
             }
            },
            "type": "barpolar"
           }
          ],
          "carpet": [
           {
            "aaxis": {
             "endlinecolor": "rgb(36,36,36)",
             "gridcolor": "white",
             "linecolor": "white",
             "minorgridcolor": "white",
             "startlinecolor": "rgb(36,36,36)"
            },
            "baxis": {
             "endlinecolor": "rgb(36,36,36)",
             "gridcolor": "white",
             "linecolor": "white",
             "minorgridcolor": "white",
             "startlinecolor": "rgb(36,36,36)"
            },
            "type": "carpet"
           }
          ],
          "choropleth": [
           {
            "colorbar": {
             "outlinewidth": 1,
             "tickcolor": "rgb(36,36,36)",
             "ticks": "outside"
            },
            "type": "choropleth"
           }
          ],
          "contour": [
           {
            "colorbar": {
             "outlinewidth": 1,
             "tickcolor": "rgb(36,36,36)",
             "ticks": "outside"
            },
            "colorscale": [
             [
              0,
              "#440154"
             ],
             [
              0.1111111111111111,
              "#482878"
             ],
             [
              0.2222222222222222,
              "#3e4989"
             ],
             [
              0.3333333333333333,
              "#31688e"
             ],
             [
              0.4444444444444444,
              "#26828e"
             ],
             [
              0.5555555555555556,
              "#1f9e89"
             ],
             [
              0.6666666666666666,
              "#35b779"
             ],
             [
              0.7777777777777778,
              "#6ece58"
             ],
             [
              0.8888888888888888,
              "#b5de2b"
             ],
             [
              1,
              "#fde725"
             ]
            ],
            "type": "contour"
           }
          ],
          "contourcarpet": [
           {
            "colorbar": {
             "outlinewidth": 1,
             "tickcolor": "rgb(36,36,36)",
             "ticks": "outside"
            },
            "type": "contourcarpet"
           }
          ],
          "heatmap": [
           {
            "colorbar": {
             "outlinewidth": 1,
             "tickcolor": "rgb(36,36,36)",
             "ticks": "outside"
            },
            "colorscale": [
             [
              0,
              "#440154"
             ],
             [
              0.1111111111111111,
              "#482878"
             ],
             [
              0.2222222222222222,
              "#3e4989"
             ],
             [
              0.3333333333333333,
              "#31688e"
             ],
             [
              0.4444444444444444,
              "#26828e"
             ],
             [
              0.5555555555555556,
              "#1f9e89"
             ],
             [
              0.6666666666666666,
              "#35b779"
             ],
             [
              0.7777777777777778,
              "#6ece58"
             ],
             [
              0.8888888888888888,
              "#b5de2b"
             ],
             [
              1,
              "#fde725"
             ]
            ],
            "type": "heatmap"
           }
          ],
          "heatmapgl": [
           {
            "colorbar": {
             "outlinewidth": 1,
             "tickcolor": "rgb(36,36,36)",
             "ticks": "outside"
            },
            "colorscale": [
             [
              0,
              "#440154"
             ],
             [
              0.1111111111111111,
              "#482878"
             ],
             [
              0.2222222222222222,
              "#3e4989"
             ],
             [
              0.3333333333333333,
              "#31688e"
             ],
             [
              0.4444444444444444,
              "#26828e"
             ],
             [
              0.5555555555555556,
              "#1f9e89"
             ],
             [
              0.6666666666666666,
              "#35b779"
             ],
             [
              0.7777777777777778,
              "#6ece58"
             ],
             [
              0.8888888888888888,
              "#b5de2b"
             ],
             [
              1,
              "#fde725"
             ]
            ],
            "type": "heatmapgl"
           }
          ],
          "histogram": [
           {
            "marker": {
             "line": {
              "color": "white",
              "width": 0.6
             }
            },
            "type": "histogram"
           }
          ],
          "histogram2d": [
           {
            "colorbar": {
             "outlinewidth": 1,
             "tickcolor": "rgb(36,36,36)",
             "ticks": "outside"
            },
            "colorscale": [
             [
              0,
              "#440154"
             ],
             [
              0.1111111111111111,
              "#482878"
             ],
             [
              0.2222222222222222,
              "#3e4989"
             ],
             [
              0.3333333333333333,
              "#31688e"
             ],
             [
              0.4444444444444444,
              "#26828e"
             ],
             [
              0.5555555555555556,
              "#1f9e89"
             ],
             [
              0.6666666666666666,
              "#35b779"
             ],
             [
              0.7777777777777778,
              "#6ece58"
             ],
             [
              0.8888888888888888,
              "#b5de2b"
             ],
             [
              1,
              "#fde725"
             ]
            ],
            "type": "histogram2d"
           }
          ],
          "histogram2dcontour": [
           {
            "colorbar": {
             "outlinewidth": 1,
             "tickcolor": "rgb(36,36,36)",
             "ticks": "outside"
            },
            "colorscale": [
             [
              0,
              "#440154"
             ],
             [
              0.1111111111111111,
              "#482878"
             ],
             [
              0.2222222222222222,
              "#3e4989"
             ],
             [
              0.3333333333333333,
              "#31688e"
             ],
             [
              0.4444444444444444,
              "#26828e"
             ],
             [
              0.5555555555555556,
              "#1f9e89"
             ],
             [
              0.6666666666666666,
              "#35b779"
             ],
             [
              0.7777777777777778,
              "#6ece58"
             ],
             [
              0.8888888888888888,
              "#b5de2b"
             ],
             [
              1,
              "#fde725"
             ]
            ],
            "type": "histogram2dcontour"
           }
          ],
          "mesh3d": [
           {
            "colorbar": {
             "outlinewidth": 1,
             "tickcolor": "rgb(36,36,36)",
             "ticks": "outside"
            },
            "type": "mesh3d"
           }
          ],
          "parcoords": [
           {
            "line": {
             "colorbar": {
              "outlinewidth": 1,
              "tickcolor": "rgb(36,36,36)",
              "ticks": "outside"
             }
            },
            "type": "parcoords"
           }
          ],
          "pie": [
           {
            "automargin": true,
            "type": "pie"
           }
          ],
          "scatter": [
           {
            "marker": {
             "colorbar": {
              "outlinewidth": 1,
              "tickcolor": "rgb(36,36,36)",
              "ticks": "outside"
             }
            },
            "type": "scatter"
           }
          ],
          "scatter3d": [
           {
            "line": {
             "colorbar": {
              "outlinewidth": 1,
              "tickcolor": "rgb(36,36,36)",
              "ticks": "outside"
             }
            },
            "marker": {
             "colorbar": {
              "outlinewidth": 1,
              "tickcolor": "rgb(36,36,36)",
              "ticks": "outside"
             }
            },
            "type": "scatter3d"
           }
          ],
          "scattercarpet": [
           {
            "marker": {
             "colorbar": {
              "outlinewidth": 1,
              "tickcolor": "rgb(36,36,36)",
              "ticks": "outside"
             }
            },
            "type": "scattercarpet"
           }
          ],
          "scattergeo": [
           {
            "marker": {
             "colorbar": {
              "outlinewidth": 1,
              "tickcolor": "rgb(36,36,36)",
              "ticks": "outside"
             }
            },
            "type": "scattergeo"
           }
          ],
          "scattergl": [
           {
            "marker": {
             "colorbar": {
              "outlinewidth": 1,
              "tickcolor": "rgb(36,36,36)",
              "ticks": "outside"
             }
            },
            "type": "scattergl"
           }
          ],
          "scattermapbox": [
           {
            "marker": {
             "colorbar": {
              "outlinewidth": 1,
              "tickcolor": "rgb(36,36,36)",
              "ticks": "outside"
             }
            },
            "type": "scattermapbox"
           }
          ],
          "scatterpolar": [
           {
            "marker": {
             "colorbar": {
              "outlinewidth": 1,
              "tickcolor": "rgb(36,36,36)",
              "ticks": "outside"
             }
            },
            "type": "scatterpolar"
           }
          ],
          "scatterpolargl": [
           {
            "marker": {
             "colorbar": {
              "outlinewidth": 1,
              "tickcolor": "rgb(36,36,36)",
              "ticks": "outside"
             }
            },
            "type": "scatterpolargl"
           }
          ],
          "scatterternary": [
           {
            "marker": {
             "colorbar": {
              "outlinewidth": 1,
              "tickcolor": "rgb(36,36,36)",
              "ticks": "outside"
             }
            },
            "type": "scatterternary"
           }
          ],
          "surface": [
           {
            "colorbar": {
             "outlinewidth": 1,
             "tickcolor": "rgb(36,36,36)",
             "ticks": "outside"
            },
            "colorscale": [
             [
              0,
              "#440154"
             ],
             [
              0.1111111111111111,
              "#482878"
             ],
             [
              0.2222222222222222,
              "#3e4989"
             ],
             [
              0.3333333333333333,
              "#31688e"
             ],
             [
              0.4444444444444444,
              "#26828e"
             ],
             [
              0.5555555555555556,
              "#1f9e89"
             ],
             [
              0.6666666666666666,
              "#35b779"
             ],
             [
              0.7777777777777778,
              "#6ece58"
             ],
             [
              0.8888888888888888,
              "#b5de2b"
             ],
             [
              1,
              "#fde725"
             ]
            ],
            "type": "surface"
           }
          ],
          "table": [
           {
            "cells": {
             "fill": {
              "color": "rgb(237,237,237)"
             },
             "line": {
              "color": "white"
             }
            },
            "header": {
             "fill": {
              "color": "rgb(217,217,217)"
             },
             "line": {
              "color": "white"
             }
            },
            "type": "table"
           }
          ]
         },
         "layout": {
          "annotationdefaults": {
           "arrowhead": 0,
           "arrowwidth": 1
          },
          "autotypenumbers": "strict",
          "coloraxis": {
           "colorbar": {
            "outlinewidth": 1,
            "tickcolor": "rgb(36,36,36)",
            "ticks": "outside"
           }
          },
          "colorscale": {
           "diverging": [
            [
             0,
             "rgb(103,0,31)"
            ],
            [
             0.1,
             "rgb(178,24,43)"
            ],
            [
             0.2,
             "rgb(214,96,77)"
            ],
            [
             0.3,
             "rgb(244,165,130)"
            ],
            [
             0.4,
             "rgb(253,219,199)"
            ],
            [
             0.5,
             "rgb(247,247,247)"
            ],
            [
             0.6,
             "rgb(209,229,240)"
            ],
            [
             0.7,
             "rgb(146,197,222)"
            ],
            [
             0.8,
             "rgb(67,147,195)"
            ],
            [
             0.9,
             "rgb(33,102,172)"
            ],
            [
             1,
             "rgb(5,48,97)"
            ]
           ],
           "sequential": [
            [
             0,
             "#440154"
            ],
            [
             0.1111111111111111,
             "#482878"
            ],
            [
             0.2222222222222222,
             "#3e4989"
            ],
            [
             0.3333333333333333,
             "#31688e"
            ],
            [
             0.4444444444444444,
             "#26828e"
            ],
            [
             0.5555555555555556,
             "#1f9e89"
            ],
            [
             0.6666666666666666,
             "#35b779"
            ],
            [
             0.7777777777777778,
             "#6ece58"
            ],
            [
             0.8888888888888888,
             "#b5de2b"
            ],
            [
             1,
             "#fde725"
            ]
           ],
           "sequentialminus": [
            [
             0,
             "#440154"
            ],
            [
             0.1111111111111111,
             "#482878"
            ],
            [
             0.2222222222222222,
             "#3e4989"
            ],
            [
             0.3333333333333333,
             "#31688e"
            ],
            [
             0.4444444444444444,
             "#26828e"
            ],
            [
             0.5555555555555556,
             "#1f9e89"
            ],
            [
             0.6666666666666666,
             "#35b779"
            ],
            [
             0.7777777777777778,
             "#6ece58"
            ],
            [
             0.8888888888888888,
             "#b5de2b"
            ],
            [
             1,
             "#fde725"
            ]
           ]
          },
          "colorway": [
           "#1F77B4",
           "#FF7F0E",
           "#2CA02C",
           "#D62728",
           "#9467BD",
           "#8C564B",
           "#E377C2",
           "#7F7F7F",
           "#BCBD22",
           "#17BECF"
          ],
          "font": {
           "color": "rgb(36,36,36)"
          },
          "geo": {
           "bgcolor": "white",
           "lakecolor": "white",
           "landcolor": "white",
           "showlakes": true,
           "showland": true,
           "subunitcolor": "white"
          },
          "hoverlabel": {
           "align": "left"
          },
          "hovermode": "closest",
          "mapbox": {
           "style": "light"
          },
          "paper_bgcolor": "white",
          "plot_bgcolor": "white",
          "polar": {
           "angularaxis": {
            "gridcolor": "rgb(232,232,232)",
            "linecolor": "rgb(36,36,36)",
            "showgrid": false,
            "showline": true,
            "ticks": "outside"
           },
           "bgcolor": "white",
           "radialaxis": {
            "gridcolor": "rgb(232,232,232)",
            "linecolor": "rgb(36,36,36)",
            "showgrid": false,
            "showline": true,
            "ticks": "outside"
           }
          },
          "scene": {
           "xaxis": {
            "backgroundcolor": "white",
            "gridcolor": "rgb(232,232,232)",
            "gridwidth": 2,
            "linecolor": "rgb(36,36,36)",
            "showbackground": true,
            "showgrid": false,
            "showline": true,
            "ticks": "outside",
            "zeroline": false,
            "zerolinecolor": "rgb(36,36,36)"
           },
           "yaxis": {
            "backgroundcolor": "white",
            "gridcolor": "rgb(232,232,232)",
            "gridwidth": 2,
            "linecolor": "rgb(36,36,36)",
            "showbackground": true,
            "showgrid": false,
            "showline": true,
            "ticks": "outside",
            "zeroline": false,
            "zerolinecolor": "rgb(36,36,36)"
           },
           "zaxis": {
            "backgroundcolor": "white",
            "gridcolor": "rgb(232,232,232)",
            "gridwidth": 2,
            "linecolor": "rgb(36,36,36)",
            "showbackground": true,
            "showgrid": false,
            "showline": true,
            "ticks": "outside",
            "zeroline": false,
            "zerolinecolor": "rgb(36,36,36)"
           }
          },
          "shapedefaults": {
           "fillcolor": "black",
           "line": {
            "width": 0
           },
           "opacity": 0.3
          },
          "ternary": {
           "aaxis": {
            "gridcolor": "rgb(232,232,232)",
            "linecolor": "rgb(36,36,36)",
            "showgrid": false,
            "showline": true,
            "ticks": "outside"
           },
           "baxis": {
            "gridcolor": "rgb(232,232,232)",
            "linecolor": "rgb(36,36,36)",
            "showgrid": false,
            "showline": true,
            "ticks": "outside"
           },
           "bgcolor": "white",
           "caxis": {
            "gridcolor": "rgb(232,232,232)",
            "linecolor": "rgb(36,36,36)",
            "showgrid": false,
            "showline": true,
            "ticks": "outside"
           }
          },
          "title": {
           "x": 0.05
          },
          "xaxis": {
           "automargin": true,
           "gridcolor": "rgb(232,232,232)",
           "linecolor": "rgb(36,36,36)",
           "showgrid": false,
           "showline": true,
           "ticks": "outside",
           "title": {
            "standoff": 15
           },
           "zeroline": false,
           "zerolinecolor": "rgb(36,36,36)"
          },
          "yaxis": {
           "automargin": true,
           "gridcolor": "rgb(232,232,232)",
           "linecolor": "rgb(36,36,36)",
           "showgrid": false,
           "showline": true,
           "ticks": "outside",
           "title": {
            "standoff": 15
           },
           "zeroline": false,
           "zerolinecolor": "rgb(36,36,36)"
          }
         }
        },
        "width": 900,
        "xaxis": {
         "linecolor": "black",
         "linewidth": 2,
         "mirror": true,
         "showgrid": false,
         "showline": true,
         "ticks": "outside",
         "zerolinecolor": "grey",
         "zerolinewidth": 1
        },
        "yaxis": {
         "categoryorder": "total ascending",
         "linecolor": "black",
         "linewidth": 2,
         "mirror": true,
         "showline": true
        }
       }
      }
     },
     "metadata": {},
     "output_type": "display_data"
    }
   ],
   "source": [
    "explainer.plot_feature_importance_ranking()"
   ]
  },
  {
   "cell_type": "markdown",
   "metadata": {},
   "source": [
    "##### PLOT VECTOR FIELDS"
   ]
  },
  {
   "cell_type": "code",
   "execution_count": 29,
   "metadata": {},
   "outputs": [],
   "source": [
    "explainer.scale_gradients()\n",
    "feature_id = 7"
   ]
  },
  {
   "cell_type": "code",
   "execution_count": 30,
   "metadata": {},
   "outputs": [
    {
     "data": {
      "application/vnd.plotly.v1+json": {
       "config": {
        "plotlyServerURL": "https://plot.ly"
       },
       "data": [
        {
         "mode": "lines",
         "type": "scatter",
         "x": [
          -13.439659169431541,
          -13.38142519783969,
          null,
          -17.41627663190408,
          -18.599250295988057,
          null,
          -18.912671279442765,
          -20.24845358813845,
          null,
          -14.687487516803118,
          -15.730993968965407,
          null,
          -15.224850360571091,
          -14.952094586445627,
          null,
          -21.320718369406823,
          -19.809577167591804,
          null,
          -24.448471047286805,
          -27.971072988217525,
          null,
          -26.678482519864108,
          -21.627818211463847,
          null,
          -16.703879601703964,
          -18.250894684468644,
          null,
          -15.04536788689018,
          -15.550025102806895,
          null,
          -16.459103762964837,
          -17.313379898659164,
          null,
          -12.671545554972075,
          -12.862027185245134,
          null,
          -15.03851197985544,
          -15.482450241118537,
          null,
          -17.288139108073917,
          -19.669280415090338,
          null,
          -13.96844749629448,
          -14.254889004336562,
          null,
          -22.47525725897187,
          -31.552304622535146,
          null,
          -21.590170748172074,
          -28.6643467352266,
          null,
          -22.30241352612701,
          -31.642331468622892,
          null,
          -20.76532330325611,
          -25.312350573555033,
          null,
          -22.489246924634063,
          -21.35556180935712,
          null,
          -23.75706403566592,
          -31.859219097744223,
          null,
          -16.392032070035803,
          -16.47113692034461,
          null,
          -17.822528563793707,
          -18.81632457308225,
          null,
          -12.62200397156745,
          -13.565351955313188,
          null,
          -15.128067050008932,
          -16.015151987779713,
          null,
          -24.115281763927193,
          -24.09456627986475,
          null,
          -19.31910154555401,
          -24.456775244486092,
          null,
          -11.487673861085387,
          -11.943257882427842,
          null,
          -23.259450283910617,
          -23.562038098822295,
          null,
          -24.571662202433963,
          -24.610331541320726,
          null,
          -7.673510868258781,
          -7.904836283076074,
          null,
          -25.59563429828497,
          -25.82062033206089,
          null,
          5.209027657965058,
          5.14477665492485,
          null,
          -16.164077614623494,
          -16.348411562433117,
          null,
          -0.3206915272619514,
          -0.26946412486980215,
          null,
          -5.616461315174769,
          -5.780319171511256,
          null,
          -20.097763026932135,
          -20.186629336264865,
          null,
          -19.935808920450608,
          -19.97214039815168,
          null,
          -22.057047952698337,
          -22.073542564817078,
          null,
          1.8108505936248978,
          2.507269390001928,
          null,
          -23.174827907109417,
          -23.37523345713552,
          null,
          -18.87727949858482,
          -18.863206721052233,
          null,
          3.899894003921186,
          3.6631740506211914,
          null,
          -8.563418104381661,
          -8.89329891739512,
          null,
          6.3241363103236665,
          6.045168917222145,
          null,
          -19.841238315621485,
          -19.745227123583202,
          null,
          -11.21808065129475,
          -11.604555880374036,
          null,
          -1.9884608477041152,
          -2.022842136868348,
          null,
          -2.1648341182263953,
          -2.497190139538727,
          null,
          -17.25204542727804,
          -17.360490174353227,
          null,
          -12.578874953687988,
          -12.380432419360769,
          null,
          -11.025290511203638,
          -11.19397898450829,
          null,
          -18.70607519681541,
          -18.576313203129544,
          null,
          -22.286263272540793,
          -22.37146494270292,
          null,
          -22.85277032859193,
          -22.898752010352794,
          null,
          8.352962070016407,
          7.202618276047146,
          null,
          14.907103343051471,
          14.169124997574402,
          null,
          7.636100843465525,
          7.845145690262327,
          null,
          -12.14523915472563,
          -12.40345559156299,
          null,
          -10.916719494387525,
          -10.89996016010936,
          null,
          -2.100342807449728,
          -2.477912911039186,
          null,
          -19.079417771143568,
          -19.31070243169306,
          null,
          10.772702618767024,
          10.684887807476354,
          null,
          -9.31280928133833,
          -9.605271031738656,
          null,
          -12.153496697884135,
          -12.220143164390521,
          null,
          19.417897235630033,
          20.631785144975503,
          null,
          6.92063666356977,
          6.847831763609296,
          null,
          8.448137955068441,
          8.477848563817268,
          null,
          11.126678482219114,
          10.18576479983696,
          null,
          11.72572707323218,
          11.603707933713368,
          null,
          5.902330824716798,
          5.825450569065981,
          null,
          -9.929348049608418,
          -9.919066157793074,
          null,
          7.418732429949273,
          7.214657538628257,
          null,
          8.715879601919259,
          8.089549427827915,
          null,
          9.118423625642563,
          9.089215118725317,
          null,
          2.954282431881178,
          3.14646608498377,
          null,
          -0.47257189484979806,
          -0.49164025577053194,
          null,
          3.4894260893134494,
          3.3561678446793706,
          null,
          -12.77562494844899,
          -12.816906815253647,
          null,
          -6.869364216029878,
          -6.848333157299746,
          null,
          4.780109633383869,
          5.736363713281017,
          null,
          0.4656375424898393,
          0.43738044607267973,
          null,
          -16.305010068456564,
          -16.355696060923112,
          null,
          -16.970495017974386,
          -16.84211592915658,
          null,
          13.961865455949432,
          13.750311720446101,
          null,
          -0.0172026593086042,
          -0.33796364812695984,
          null,
          8.950580983663356,
          7.295698438565535,
          null,
          -5.038871053838727,
          -4.984403134836355,
          null,
          -10.030351548554368,
          -10.13223332477458,
          null,
          8.010956997759699,
          7.910629486689182,
          null,
          13.292453477079063,
          13.20381663964952,
          null,
          -16.235959554638644,
          -16.260424452530216,
          null,
          18.373881901611444,
          18.257972852416966,
          null,
          -9.42816863592649,
          -9.518357387356607,
          null,
          10.976202808526164,
          10.691241867843035,
          null,
          11.552130808512965,
          10.9135811478139,
          null,
          4.859250202383185,
          5.577032644962383,
          null,
          8.859512739984012,
          8.786538656929345,
          null,
          31.716492725253104,
          31.68603472098555,
          null,
          -7.703907001529456,
          -7.653935332800293,
          null,
          19.37342903904253,
          19.060829292909073,
          null,
          16.631204466886878,
          16.356892591749446,
          null,
          -1.364359281653734,
          -1.2102874254758806,
          null,
          19.49413042013471,
          19.430669421127668,
          null,
          5.48770418174924,
          5.182940180054613,
          null,
          25.07101993878351,
          25.054138224071476,
          null,
          15.061348743534277,
          15.080494005427797,
          null,
          12.415822497061152,
          12.024818415213396,
          null,
          31.675988038255102,
          31.68702991485748,
          null,
          7.296286471042055,
          7.371384437695968,
          null,
          25.829801791370674,
          25.84143986576186,
          null,
          28.00977036172681,
          27.96763997271077,
          null,
          18.603721259690346,
          18.52607638019687,
          null,
          25.16272372547026,
          25.150749969944457,
          null,
          20.720688296539297,
          20.71543618811438,
          null,
          -14.62009668035418,
          -14.325230242552552,
          null,
          24.02377655573082,
          23.908035936842992,
          null,
          22.298875529486914,
          22.295122532202917,
          null,
          29.972713969072156,
          29.97753213893506,
          null,
          18.58291952460711,
          18.58912416951634,
          null,
          22.54381887362248,
          22.52074572287368,
          null,
          26.05015330752826,
          25.966454731588918,
          null,
          20.95754679765263,
          20.962402080610683,
          null,
          -9.27907227157587,
          -9.349388788669634,
          null,
          26.996438447280237,
          27.020440594216424,
          null,
          22.199125024528005,
          22.13056688219262,
          null,
          26.748847788060935,
          26.679014392685083,
          null,
          20.916603838867765,
          20.893330300493727,
          null,
          19.910750333865167,
          19.8980175676984,
          null,
          23.655692778317956,
          23.660023060306674,
          null,
          20.5807757516114,
          20.53278316933637,
          null,
          25.089691777609204,
          25.08587563591611,
          null,
          27.71118007195068,
          27.706556291030758,
          null,
          30.817991031710452,
          30.809209086517647,
          null,
          24.718044226687418,
          24.7157037795069,
          null,
          26.01447384005139,
          26.005783535036553,
          null,
          24.590972337372985,
          24.62471597516691,
          null,
          22.97573597323779,
          22.944509681338566,
          null,
          -13.408659408691726,
          -13.38142519783969,
          -13.387024207018005,
          null,
          -18.265121560522793,
          -18.599250295988057,
          -18.26640005781905,
          null,
          -20.072844904654588,
          -20.24845358813845,
          -19.670927404547694,
          null,
          -15.442062158371396,
          -15.730993968965407,
          -15.431580591855786,
          null,
          -15.084578319538027,
          -14.952094586445627,
          -14.973394806286695,
          null,
          -20.5002191560043,
          -19.809577167591804,
          -19.970940120965984,
          null,
          -27.430104191507553,
          -27.971072988217525,
          -26.525943955012266,
          null,
          -23.04304825067389,
          -21.627818211463847,
          -23.060231360656093,
          null,
          -17.923316708286478,
          -18.250894684468644,
          -17.706241466139726,
          null,
          -15.436477886039691,
          -15.550025102806895,
          -15.37903872248012,
          null,
          -17.14944017717716,
          -17.313379898659164,
          -16.995665431645893,
          null,
          -12.747464255817949,
          -12.862027185245134,
          -12.869193605254603,
          null,
          -15.329510882121983,
          -15.482450241118537,
          -15.385090295199015,
          null,
          -19.054653981733956,
          -19.669280415090338,
          -18.94138229929561,
          null,
          -14.257651455019,
          -14.254889004336562,
          -14.090626370817766,
          null,
          -29.007307233773584,
          -31.552304622535146,
          -28.97952135565795,
          null,
          -26.39000295879319,
          -28.6643467352266,
          -26.950159927754406,
          null,
          -29.099132763604125,
          -31.642331468622892,
          -28.91953899205609,
          null,
          -24.04893241420432,
          -25.312350573555033,
          -24.012083949458432,
          null,
          -22.002703287645573,
          -21.35556180935712,
          -21.347609653341003,
          null,
          -29.119218600237595,
          -31.859219097744223,
          -30.031098400671947,
          null,
          -16.43878887734573,
          -16.47113692034461,
          -16.458884416881354,
          null,
          -18.31464783824114,
          -18.81632457308225,
          -18.757683642026407,
          null,
          -13.267043011295995,
          -13.565351955313188,
          -13.3317866158349,
          null,
          -15.751889427525585,
          -16.015151987779713,
          -15.778262246013725,
          null,
          -24.11173300212493,
          -24.09456627986475,
          -24.089079270110265,
          null,
          -23.136708280737505,
          -24.456775244486092,
          -22.88014177049929,
          null,
          -11.796109746951911,
          -11.943257882427842,
          -11.833540652101687,
          null,
          -23.436572377091956,
          -23.562038098822295,
          -23.516900098465293,
          null,
          -24.58406675214969,
          -24.610331541320726,
          -24.614793955050224,
          null,
          -7.782446610006154,
          -7.904836283076074,
          -7.896801084963564,
          null,
          -25.72501415072469,
          -25.82062033206089,
          -25.78937588396562,
          null,
          5.242195588626859,
          5.14477665492485,
          5.083583437283826,
          null,
          -16.442389782060967,
          -16.348411562433117,
          -16.150502992495042,
          null,
          -0.2641229576196184,
          -0.26946412486980215,
          -0.3036880993259457,
          null,
          -5.707368358019061,
          -5.780319171511256,
          -5.760884373929135,
          null,
          -20.141466568155888,
          -20.186629336264865,
          -20.181687895303973,
          null,
          -19.965689451384154,
          -19.97214039815168,
          -19.958107092020438,
          null,
          -22.042510424446373,
          -22.073542564817078,
          -22.09527478601336,
          null,
          2.2928362317405906,
          2.507269390001928,
          2.329050785904006,
          null,
          -23.29022545657322,
          -23.37523345713552,
          -23.347249687783375,
          null,
          -18.86616605733831,
          -18.863206721052233,
          -18.868181835886954,
          null,
          3.6838872557903755,
          3.6631740506211914,
          3.775927241437281,
          null,
          -8.728209711642837,
          -8.89329891739512,
          -8.87239618371084,
          null,
          5.990066905036066,
          6.045168917222145,
          6.2575570898506525,
          null,
          -19.792041318427046,
          -19.745227123583202,
          -19.752545533942097,
          null,
          -11.4796376418208,
          -11.604555880374036,
          -11.511573366397863,
          null,
          -2.00195783644241,
          -2.022842136868348,
          -2.024341731061844,
          null,
          -2.419868532635235,
          -2.497190139538727,
          -2.3871242460216413,
          null,
          -17.437717489329223,
          -17.360490174353227,
          -17.222120022223503,
          null,
          -12.46634352969347,
          -12.380432419360769,
          -12.406406300122475,
          null,
          -11.157336811516458,
          -11.19397898450829,
          -11.135511969354507,
          null,
          -18.666614821013333,
          -18.576313203129544,
          -18.5591734180008,
          null,
          -22.341584917385962,
          -22.37146494270292,
          -22.353306939581888,
          null,
          -22.89119130558529,
          -22.898752010352794,
          -22.880387526895092,
          null,
          7.588790449198196,
          7.202618276047146,
          7.465027847631963,
          null,
          14.413867891956167,
          14.169124997574402,
          14.340465786519394,
          null,
          7.831448097077693,
          7.845145690262327,
          7.7409805434779955,
          null,
          -12.336402358140978,
          -12.40345559156299,
          -12.324922376827983,
          null,
          -10.891315456435365,
          -10.89996016010936,
          -10.918054037433642,
          null,
          -2.384737583787519,
          -2.477912911039186,
          -2.3582083341874225,
          null,
          -19.35864518097508,
          -19.31070243169306,
          -19.132357789119435,
          null,
          10.710105719184316,
          10.684887807476354,
          10.709181253867722,
          null,
          -9.48618435104063,
          -9.605271031738656,
          -9.559463223208693,
          null,
          -12.201135868029805,
          -12.220143164390521,
          -12.201574145084733,
          null,
          20.29400205277767,
          20.631785144975503,
          20.28515933064943,
          null,
          6.890792148109336,
          6.847831763609296,
          6.845919915459205,
          null,
          8.485533022279661,
          8.477848563817268,
          8.453412801474677,
          null,
          10.443612476916957,
          10.18576479983696,
          10.458418909235567,
          null,
          11.647602906879207,
          11.603707933713368,
          11.628609251547813,
          null,
          5.8150633751493315,
          5.825450569065981,
          5.879184048334155,
          null,
          -9.920391657788652,
          -9.919066157793074,
          -9.923537748517454,
          null,
          7.298942521853467,
          7.214657538628257,
          7.245433157080274,
          null,
          8.181265467156098,
          8.089549427827915,
          8.350968094161246,
          null,
          9.065984678043659,
          9.089215118725317,
          9.128913770455561,
          null,
          3.084313769427957,
          3.14646608498377,
          3.100262264145872,
          null,
          -0.4766504144818817,
          -0.49164025577053194,
          -0.49587905823056455,
          null,
          3.4156418312587062,
          3.3561678446793706,
          3.371826931584951,
          null,
          -12.804524903562852,
          -12.816906815253647,
          -12.806013367579279,
          null,
          -6.850243528969176,
          -6.848333157299746,
          -6.858280424047928,
          null,
          5.391832107920494,
          5.736363713281017,
          5.54174437715608,
          null,
          0.43790994086735413,
          0.43738044607267973,
          0.4527827422708298,
          null,
          -16.329223610718103,
          -16.355696060923112,
          -16.353590959269305,
          null,
          -16.87353508232953,
          -16.84211592915658,
          -16.88307890543882,
          null,
          13.824100032710135,
          13.750311720446101,
          13.795800698673373,
          null,
          -0.26299426269592885,
          -0.33796364812695984,
          -0.2320829930208308,
          null,
          7.701347870602497,
          7.295698438565535,
          7.823097556066068,
          null,
          -5.011104995783744,
          -4.984403134836355,
          -4.988411134822622,
          null,
          -10.07942178013857,
          -10.13223332477458,
          -10.127602337426572,
          null,
          7.9508320698114066,
          7.910629486689182,
          7.926993116655827,
          null,
          13.232147340668616,
          13.20381663964952,
          13.22546076786783,
          null,
          -16.25110127281456,
          -16.260424452530216,
          -16.25595394183568,
          null,
          18.294950287061404,
          18.257972852416966,
          18.286346744698747,
          null,
          -9.466392919236128,
          -9.518357387356607,
          -9.51947203295902,
          null,
          10.791961421920346,
          10.691241867843035,
          10.751187729669011,
          null,
          11.0496164568116,
          10.9135811478139,
          11.137570081314754,
          null,
          5.478761641690569,
          5.577032644962383,
          5.270606729461383,
          null,
          8.805298917619625,
          8.786538656929345,
          8.808922320652119,
          null,
          31.69690284408284,
          31.68603472098555,
          31.692339295000714,
          null,
          -7.668142191424112,
          -7.653935332800293,
          -7.667903279188365,
          null,
          19.162579854369895,
          19.060829292909073,
          19.135327336268944,
          null,
          16.44182327232108,
          16.356892591749446,
          16.426623218094168,
          null,
          -1.2315822801673026,
          -1.2102874254758806,
          -1.2758606825771286,
          null,
          19.449003709749228,
          19.430669421127668,
          19.44811543199088,
          null,
          5.298327518295563,
          5.182940180054613,
          5.239383531897838,
          null,
          25.058008259819164,
          25.054138224071476,
          25.059786361968456,
          null,
          15.078991911946545,
          15.080494005427797,
          15.071201702114434,
          null,
          12.102263717026668,
          12.024818415213396,
          12.167827303645828,
          null,
          31.684621587178185,
          31.68702991485748,
          31.683212660559047,
          null,
          7.3101767907420605,
          7.371384437695968,
          7.3902506815894515,
          null,
          25.838766535461623,
          25.84143986576186,
          25.83755146848676,
          null,
          27.988066871238132,
          27.96763997271077,
          27.97096684358494,
          null,
          18.553289901719694,
          18.52607638019687,
          18.54264025085514,
          null,
          25.152009775740964,
          25.150749969944457,
          25.156241153974364,
          null,
          20.71682964816908,
          20.71543618811438,
          20.717003948577958,
          null,
          -14.420721753578727,
          -14.325230242552552,
          -14.395989020958147,
          null,
          23.959939254120158,
          23.908035936842992,
          23.921388982862275,
          null,
          22.29606759055944,
          22.295122532202917,
          22.296293472158556,
          null,
          29.979853273569532,
          29.97753213893506,
          29.972494445101074,
          null,
          18.584291160407243,
          18.58912416951634,
          18.590458903203956,
          null,
          22.5272036078037,
          22.52074572287368,
          22.52729683964182,
          null,
          26.01604587741461,
          25.966454731588918,
          25.964054146271522,
          null,
          20.96853560558855,
          20.962402080610683,
          20.95353107149231,
          null,
          -9.33259501407333,
          -9.349388788669634,
          -9.326537015926512,
          null,
          27.01493778904473,
          27.020440594216424,
          27.012410615172744,
          null,
          22.162406162613188,
          22.13056688219262,
          22.137381750040465,
          null,
          26.71236547533351,
          26.679014392685083,
          26.685036465828123,
          null,
          20.900390122650705,
          20.893330300493727,
          20.899392461698547,
          null,
          19.90236123109972,
          19.8980175676984,
          19.90085283614254,
          null,
          23.66050207541292,
          23.660023060306674,
          23.657102564781997,
          null,
          20.545059304474375,
          20.53278316933637,
          20.54756599944815,
          null,
          25.08756823739676,
          25.08587563591611,
          25.086334634548784,
          null,
          27.709928973591623,
          27.706556291030758,
          27.70579056815624,
          null,
          30.812623559051943,
          30.809209086517647,
          30.810746011439644,
          null,
          24.7148285706328,
          24.7157037795069,
          24.717898568947923,
          null,
          26.012743655683902,
          26.005783535036553,
          26.0037231436861,
          null,
          24.621406707099084,
          24.62471597516691,
          24.609000054774683,
          null,
          22.95028337536474,
          22.944509681338566,
          22.956341856955717,
          null
         ],
         "y": [
          39.40298544188224,
          39.29755694546216,
          null,
          41.05763349090961,
          41.063863617610274,
          null,
          38.58563761733916,
          36.62709069181402,
          null,
          30.657080252319357,
          30.60600350182112,
          null,
          38.692376709944604,
          38.150578634494885,
          null,
          38.18459202146102,
          35.605411402195855,
          null,
          30.86266373650818,
          26.45668427331249,
          null,
          30.297547541711005,
          30.381280962668416,
          null,
          36.10436221713452,
          35.046552970209284,
          null,
          34.37745504736645,
          34.09755358210452,
          null,
          38.96748919174128,
          38.21814372904417,
          null,
          31.352242179939484,
          31.94543019245928,
          null,
          32.757765324905456,
          33.028604212427304,
          null,
          32.5204684992923,
          31.968494760080443,
          null,
          36.26001428463523,
          35.446099824426604,
          null,
          29.950848438798374,
          29.81544765097024,
          null,
          31.173264758640038,
          33.90291377635807,
          null,
          28.998662046009844,
          28.12350028018647,
          null,
          33.049201925365686,
          32.86963908642688,
          null,
          37.964735245241485,
          34.772459161077265,
          null,
          27.072990045813025,
          31.51658700069602,
          null,
          6.9651173829168265,
          7.063043094446679,
          null,
          9.439145282188028,
          11.598062003083285,
          null,
          3.6058945167649843,
          3.9213905764870987,
          null,
          3.303359429525925,
          3.43187436742647,
          null,
          -5.571606805603756,
          -5.6819986078447435,
          null,
          29.22077252976691,
          27.970522043818605,
          null,
          1.8944053991625203,
          2.076806474460852,
          null,
          -8.146310922185002,
          -7.754873346840933,
          null,
          -3.7885154206080944,
          -3.6387815355326096,
          null,
          12.39850507280467,
          12.955755267902692,
          null,
          -9.140575226347789,
          -8.826940028261197,
          null,
          -8.27348298486773,
          -7.50056480817424,
          null,
          -19.288415562378674,
          -20.710782028515894,
          null,
          9.92531895522707,
          10.11812018091713,
          null,
          5.590673670572324,
          5.851457608567439,
          null,
          -8.807282811767267,
          -8.611283989607308,
          null,
          -11.649802013981024,
          -11.686750906766434,
          null,
          -8.171195726543852,
          -7.9140746056749505,
          null,
          -3.150367498426659,
          -3.3268412864482246,
          null,
          -10.145371034173923,
          -9.867491537293636,
          null,
          -12.099063601133063,
          -12.089240697482607,
          null,
          6.037354364811706,
          5.5888428397694225,
          null,
          12.018208990003663,
          12.720830725797695,
          null,
          -2.678018564282881,
          -3.9815001965517576,
          null,
          -14.315802608847232,
          -14.508265856288867,
          null,
          5.224187830485461,
          5.379810850553494,
          null,
          0.9032804811108501,
          1.0123573637459968,
          null,
          15.565961258747725,
          15.406398109946014,
          null,
          -19.019753494226745,
          -20.07036153253962,
          null,
          -2.8883787416116102,
          -3.1804533008670415,
          null,
          -0.6713666214170857,
          -0.7777192373270547,
          null,
          -21.231444538590022,
          -21.75500728340292,
          null,
          -11.785796986075562,
          -11.728675485950133,
          null,
          -14.857003886523126,
          -14.909650779311118,
          null,
          -4.280637424492034,
          -3.677541359433727,
          null,
          -13.929069127155321,
          -13.571380129059872,
          null,
          -11.488622735499845,
          -11.047773683355201,
          null,
          -17.373047149391656,
          -17.428989182519523,
          null,
          -7.002379181180868,
          -6.872081879886067,
          null,
          14.329780216777802,
          14.20050298892149,
          null,
          -18.590635950652253,
          -19.693336070667197,
          null,
          7.993321597006763,
          7.997826523274189,
          null,
          -8.069499815405246,
          -7.712411333931958,
          null,
          -15.731122308971157,
          -15.728986581668346,
          null,
          20.663292290994114,
          20.70638294077407,
          null,
          -10.284494188941308,
          -10.065831470161983,
          null,
          -12.389884606731856,
          -12.233362535192157,
          null,
          -1.6065242199080263,
          -1.6786760731811419,
          null,
          9.783188612887749,
          9.875744834609607,
          null,
          6.433835484958241,
          6.1213749742929,
          null,
          0.5296875630201191,
          0.5450184862137525,
          null,
          -17.69905837367123,
          -17.438306846714912,
          null,
          1.9475324389221391,
          1.1205702929940011,
          null,
          4.27730436736294,
          3.970650438542619,
          null,
          -0.5273654502234854,
          -0.605082581943848,
          null,
          0.7801345599204225,
          0.8738358819230347,
          null,
          13.998177784838877,
          14.21168811227026,
          null,
          -13.663680134175884,
          -13.656426838108024,
          null,
          -8.418186688478544,
          -8.37902283982037,
          null,
          -1.321082797777805,
          -2.0516063851602055,
          null,
          11.317141998003528,
          11.244666727693138,
          null,
          -3.744920375804988,
          -3.626178107614461,
          null,
          -12.329656124090743,
          -12.283149004088555,
          null,
          -7.956357859727588,
          -7.818454997430309,
          null,
          13.065326690805454,
          12.914695846987655,
          null,
          -2.5416380446020668,
          -3.1349251547301646,
          null,
          -9.123796434312723,
          -9.23438378520409,
          null,
          -12.157768826860742,
          -11.922984617859132,
          null,
          8.834782936266368,
          8.950950329818978,
          null,
          -9.410094705777926,
          -9.377510987483005,
          null,
          -10.334936001374144,
          -10.311288909646661,
          null,
          -13.040195051652866,
          -12.998269926624662,
          null,
          -11.932797186039982,
          -11.674142275607064,
          null,
          -10.956063942476256,
          -10.757373441117341,
          null,
          1.3399616848285056,
          0.9113630276074893,
          null,
          -5.605833622149275,
          -4.591493208330518,
          null,
          7.290732582133044,
          7.273075712583098,
          null,
          -12.448342865490428,
          -12.426104657345974,
          null,
          0.35766279720070465,
          0.35649857612382085,
          null,
          19.980479292920283,
          20.113281013485423,
          null,
          -22.51129522783311,
          -22.43722525211417,
          null,
          8.451178547203675,
          8.666947526867077,
          null,
          -5.941381261540559,
          -5.937052677509857,
          null,
          14.808054647869273,
          15.09528912585731,
          null,
          -23.75309557625565,
          -23.761760281069037,
          null,
          0.1669298277855768,
          0.20489157742777567,
          null,
          0.2630053440965633,
          -0.05648649431605823,
          null,
          -13.958032212113102,
          -13.95116650236553,
          null,
          3.4200117813574025,
          3.029811124027768,
          null,
          -27.487206654661474,
          -27.481285624382146,
          null,
          -6.245664346055826,
          -6.162335785896974,
          null,
          -19.413332712110975,
          -19.36143688534767,
          null,
          -20.774034557077368,
          -20.794654094239988,
          null,
          -10.936939091412215,
          -10.937788458582922,
          null,
          -3.07204772053658,
          -3.1925705079767615,
          null,
          -7.62358143105315,
          -7.4357256765010185,
          null,
          -17.798591826400553,
          -17.79969254908958,
          null,
          -6.481648222927268,
          -6.445788597833725,
          null,
          -7.74034251800641,
          -7.7703979738865705,
          null,
          -29.035839526450495,
          -29.036293845881392,
          null,
          -4.416329807746921,
          -4.162973720599834,
          null,
          -19.48827156289188,
          -19.415154358203583,
          null,
          -23.712618151430863,
          -23.742138820827282,
          null,
          -28.73027519898243,
          -28.717960262170948,
          null,
          -10.225951452077357,
          -10.104007306091315,
          null,
          -5.985526626378145,
          -5.85235216263823,
          null,
          -14.613501974952122,
          -14.608640365815795,
          null,
          -20.472901887256523,
          -20.465551467568215,
          null,
          -28.277030496328912,
          -28.26046465609375,
          null,
          -29.665338852021904,
          -29.67755399501221,
          null,
          -25.70012931811194,
          -25.694117962387004,
          null,
          -16.51008485801243,
          -16.48991837797637,
          null,
          -18.24999771830738,
          -18.240848415023454,
          null,
          -16.80553577781825,
          -16.82049590212201,
          null,
          -16.57581458395884,
          -16.531857562840663,
          null,
          -12.710374127462254,
          -12.649916419699949,
          null,
          -15.863762707426107,
          -15.893285732649447,
          null,
          39.32130290210103,
          39.29755694546216,
          39.333253216887194,
          null,
          41.18348754302627,
          41.063863617610274,
          40.94072704974197,
          null,
          37.31627965682929,
          36.62709069181402,
          37.04216098282609,
          null,
          30.727472503381136,
          30.60600350182112,
          30.513332367583253,
          null,
          38.27532933984393,
          38.150578634494885,
          38.33130212121951,
          null,
          36.177450281746076,
          35.605411402195855,
          36.487554720004134,
          null,
          28.060204436197186,
          26.45668427331249,
          27.33732394376734,
          null,
          29.839447180137697,
          30.381280962668416,
          30.875904538527035,
          null,
          35.50349072936995,
          35.046552970209284,
          35.186024537169466,
          null,
          34.22824086453611,
          34.09755358210452,
          34.12467910454521,
          null,
          38.51704394346989,
          38.21814372904417,
          38.34173615564797,
          null,
          31.797750439374298,
          31.94543019245928,
          31.758661306682157,
          null,
          32.99780336954294,
          33.028604212427304,
          32.90670187289597,
          null,
          32.368419942293265,
          31.968494760080443,
          31.879780967630612,
          null,
          35.70493927777979,
          35.446099824426604,
          35.64615801839881,
          null,
          30.784978099399385,
          29.81544765097024,
          28.922258275243507,
          null,
          33.859257670073546,
          33.90291377635807,
          32.40755125907151,
          null,
          29.328547218190653,
          28.12350028018647,
          27.4118831741852,
          null,
          33.38681172445034,
          32.86963908642688,
          32.45370677323432,
          null,
          35.55606370133344,
          34.772459161077265,
          35.78870958870136,
          null,
          31.09523249089458,
          31.51658700069602,
          29.432572349547293,
          null,
          7.043553709565848,
          7.063043094446679,
          7.027320438221624,
          null,
          11.091416045688314,
          11.598062003083285,
          10.887477093568306,
          null,
          3.929242984506738,
          3.9213905764870987,
          3.735656576942719,
          null,
          3.486665281052221,
          3.43187436742647,
          3.304624730517178,
          null,
          -5.6530038331048384,
          -5.6819986078447435,
          -5.6487527654079805,
          null,
          28.85013375901327,
          27.970522043818605,
          27.795821022091708,
          null,
          2.0721318647994043,
          2.076806474460852,
          1.9786405174335455,
          null,
          -7.83417530880827,
          -7.754873346840933,
          -7.896269985503086,
          null,
          -3.6770249757502134,
          -3.6387815355326096,
          -3.684960391447229,
          null,
          12.82239748448236,
          12.955755267902692,
          12.774926713563952,
          null,
          -8.892271305983911,
          -8.826940028261197,
          -8.9384411592949,
          null,
          -7.711863919126703,
          -7.50056480817424,
          -7.72504900148788,
          null,
          -20.290892069856262,
          -20.710782028515894,
          -20.32871962380604,
          null,
          10.058511773146792,
          10.11812018091713,
          10.069024255251811,
          null,
          5.794753392174162,
          5.851457608567439,
          5.761127779668616,
          null,
          -8.657419363310801,
          -8.611283989607308,
          -8.675655804023682,
          null,
          -11.672606897034271,
          -11.686750906766434,
          -11.680062555360603,
          null,
          -7.984866604773277,
          -7.9140746056749505,
          -7.988251498533849,
          null,
          -3.3485487285038924,
          -3.3268412864482246,
          -3.2056351745729557,
          null,
          -9.925265110616513,
          -9.867491537293636,
          -9.966390751582423,
          null,
          -12.09345380252172,
          -12.089240697482607,
          -12.090565898488508,
          null,
          5.739570628602036,
          5.5888428397694225,
          5.69099283318861,
          null,
          12.556603952583039,
          12.720830725797695,
          12.488908422814688,
          null,
          -3.585414834868316,
          -3.9815001965517576,
          -3.6426623155313784,
          null,
          -14.463860296769388,
          -14.508265856288867,
          -14.444157639772307,
          null,
          5.375594203451246,
          5.379810850553494,
          5.2962848155063345,
          null,
          0.9851354692671251,
          1.0123573637459968,
          0.9780800131985218,
          null,
          15.485481940202831,
          15.406398109946014,
          15.417278467776196,
          null,
          -19.76305985987606,
          -20.07036153253962,
          -19.785314032638603,
          null,
          -3.1184766116613054,
          -3.1804533008670415,
          -3.0777538052418025,
          null,
          -0.7304291500703783,
          -0.7777192373270547,
          -0.7650460635606056,
          null,
          -21.62072523376079,
          -21.75500728340292,
          -21.594096504353594,
          null,
          -11.736036275364828,
          -11.728675485950133,
          -11.75352068782909,
          null,
          -14.890091211897202,
          -14.909650779311118,
          -14.899527208728925,
          null,
          -3.7295266112356718,
          -3.677541359433727,
          -3.965591060807968,
          null,
          -13.596494404826458,
          -13.571380129059872,
          -13.747936480521243,
          null,
          -11.193501728248316,
          -11.047773683355201,
          -11.150603199170556,
          null,
          -17.38672412098207,
          -17.428989182519523,
          -17.439713254623765,
          null,
          -6.910533312620138,
          -6.872081879886067,
          -6.907094094673021,
          null,
          14.275688220320708,
          14.20050298892149,
          14.198206271753614,
          null,
          -19.358745117126812,
          -19.693336070667197,
          -19.406207524776914,
          null,
          8.005566879786109,
          7.997826523274189,
          7.987546219179858,
          null,
          -7.783069014297627,
          -7.712411333931958,
          -7.8430857001711445,
          null,
          -15.722750329616286,
          -15.728986581668346,
          -15.736426990032284,
          null,
          20.56968311606645,
          20.70638294077407,
          20.81878758610783,
          null,
          -10.12000397044957,
          -10.065831470161983,
          -10.134944415841145,
          null,
          -12.280535813875721,
          -12.233362535192157,
          -12.274438837878181,
          null,
          -1.5617924742004814,
          -1.6786760731811419,
          -1.7548793337037376,
          null,
          9.86217241611766,
          9.875744834609607,
          9.837132613965641,
          null,
          6.217348403957647,
          6.1213749742929,
          6.201571646323683,
          null,
          0.5396415953615817,
          0.5450184862137525,
          0.5417515638289876,
          null,
          -17.49087541536313,
          -17.438306846714912,
          -17.5327540495104,
          null,
          1.41796262162696,
          1.1205702929940011,
          1.2894321000798126,
          null,
          4.060095538073508,
          3.970650438542619,
          4.054101599440209,
          null,
          -0.6028927215616664,
          -0.605082581943848,
          -0.5634543132142669,
          null,
          0.8493772787304416,
          0.8738358819230347,
          0.8454642206093845,
          null,
          14.165170989704325,
          14.21168811227026,
          14.137824787346881,
          null,
          -13.654235829745042,
          -13.656426838108024,
          -13.66270736774581,
          null,
          -8.39222134741242,
          -8.37902283982037,
          -8.387905519979718,
          null,
          -1.9437835450868715,
          -2.0516063851602055,
          -1.7475486506095648,
          null,
          11.267997419553149,
          11.244666727693138,
          11.26219872185321,
          null,
          -3.654451788450263,
          -3.626178107614461,
          -3.6648531666950706,
          null,
          -12.309432193639818,
          -12.283149004088555,
          -12.283087253025329,
          null,
          -7.835624196374733,
          -7.818454997430309,
          -7.87903757973749,
          null,
          12.990071870517838,
          12.914695846987655,
          12.924247838896477,
          null,
          -2.7978719493332824,
          -3.1349251547301646,
          -3.137473848490185,
          null,
          -9.20879708756778,
          -9.23438378520409,
          -9.197619612289474,
          null,
          -11.97871842855036,
          -11.922984617859132,
          -11.999625800373426,
          null,
          8.928496045984536,
          8.950950329818978,
          8.907907628155028,
          null,
          -9.37760191622238,
          -9.377510987483005,
          -9.39579126652733,
          null,
          -10.315444962561473,
          -10.311288909646661,
          -10.320465455291467,
          null,
          -12.998195976923549,
          -12.998269926624662,
          -13.021981914694493,
          null,
          -11.737805197899073,
          -11.674142275607064,
          -11.756313019713367,
          null,
          -10.78414712596911,
          -10.757373441117341,
          -10.842624555033908,
          null,
          1.097707380190146,
          0.9113630276074893,
          0.9666692723064354,
          null,
          -4.951092485045917,
          -4.591493208330518,
          -4.803794852713366,
          null,
          7.285540903493402,
          7.273075712583098,
          7.270565739686152,
          null,
          -12.429248606078326,
          -12.426104657345974,
          -12.435498956669328,
          null,
          0.35169938392000283,
          0.35649857612382085,
          0.3619541743005855,
          null,
          20.107917797425443,
          20.113281013485423,
          20.04376855143976,
          null,
          -22.4299600989405,
          -22.43722525211417,
          -22.486252211050765,
          null,
          8.590311867972096,
          8.666947526867077,
          8.621929274971537,
          null,
          -5.931761457058694,
          -5.937052677509857,
          -5.944784421044281,
          null,
          15.045586118299145,
          15.09528912585731,
          14.983044861775085,
          null,
          -23.75758546737109,
          -23.761760281069037,
          -23.761049799262327,
          null,
          0.192225445059458,
          0.20489157742777567,
          0.19615428418955552,
          null,
          0.07370012420558833,
          -0.05648649431605823,
          -0.006538639063106248,
          null,
          -13.954234962666844,
          -13.95116650236553,
          -13.951969036135965,
          null,
          3.1321062223277774,
          3.029811124027768,
          3.14751723271884,
          null,
          -27.48414894568182,
          -27.481285624382146,
          -27.481760672159034,
          null,
          -6.181503923314681,
          -6.162335785896974,
          -6.1901495883284605,
          null,
          -19.36809988914153,
          -19.36143688534767,
          -19.384033556829245,
          null,
          -20.787612706490943,
          -20.794654094239988,
          -20.79006986583959,
          null,
          -10.937010117301252,
          -10.937788458582922,
          -10.938087913427003,
          null,
          -3.188849274174188,
          -3.1925705079767615,
          -3.1283391173828825,
          null,
          -7.4768079894802755,
          -7.4357256765010185,
          -7.500559363316645,
          null,
          -17.798997166592365,
          -17.79969254908958,
          -17.79976732699375,
          null,
          -6.456392078703214,
          -6.445788597833725,
          -6.455403332014967,
          null,
          -7.7625617409174295,
          -7.7703979738865705,
          -7.761288472792746,
          null,
          -29.03379832499856,
          -29.036293845881392,
          -29.038533214394207,
          null,
          -4.225808794575149,
          -4.162973720599834,
          -4.242984753938505,
          null,
          -19.43626484888497,
          -19.415154358203583,
          -19.435268486141048,
          null,
          -23.72660181469317,
          -23.742138820827282,
          -23.741031613845912,
          null,
          -28.72389470406568,
          -28.717960262170948,
          -28.718969173424533,
          null,
          -10.131349830630345,
          -10.104007306091315,
          -10.14541879003096,
          null,
          -5.882729752525675,
          -5.85235216263823,
          -5.897060409262895,
          null,
          -14.607622885605846,
          -14.608640365815795,
          -14.612398896964075,
          null,
          -20.466317149357664,
          -20.465551467568215,
          -20.468930066863237,
          null,
          -28.265579008541504,
          -28.26046465609375,
          -28.26469038234165,
          null,
          -29.66918612213278,
          -29.67755399501221,
          -29.679034780053744,
          null,
          -25.69542105117305,
          -25.694117962387004,
          -25.696204169570343,
          null,
          -16.495129037855623,
          -16.48991837797637,
          -16.496077893583383,
          null,
          -18.242526594211768,
          -18.240848415023454,
          -18.244328755503883,
          null,
          -16.816038382573687,
          -16.82049590212201,
          -16.81651867062176,
          null,
          -16.543357711543592,
          -16.531857562840663,
          -16.545141067163623,
          null,
          -12.670422219406491,
          -12.649916419699949,
          -12.663497617105728,
          null,
          -15.881758955716482,
          -15.893285732649447,
          -15.888166968215023,
          null
         ]
        }
       ],
       "layout": {
        "font": {
         "size": 10
        },
        "height": 600,
        "hovermode": "closest",
        "showlegend": false,
        "template": {
         "data": {
          "bar": [
           {
            "error_x": {
             "color": "rgb(36,36,36)"
            },
            "error_y": {
             "color": "rgb(36,36,36)"
            },
            "marker": {
             "line": {
              "color": "white",
              "width": 0.5
             },
             "pattern": {
              "fillmode": "overlay",
              "size": 10,
              "solidity": 0.2
             }
            },
            "type": "bar"
           }
          ],
          "barpolar": [
           {
            "marker": {
             "line": {
              "color": "white",
              "width": 0.5
             },
             "pattern": {
              "fillmode": "overlay",
              "size": 10,
              "solidity": 0.2
             }
            },
            "type": "barpolar"
           }
          ],
          "carpet": [
           {
            "aaxis": {
             "endlinecolor": "rgb(36,36,36)",
             "gridcolor": "white",
             "linecolor": "white",
             "minorgridcolor": "white",
             "startlinecolor": "rgb(36,36,36)"
            },
            "baxis": {
             "endlinecolor": "rgb(36,36,36)",
             "gridcolor": "white",
             "linecolor": "white",
             "minorgridcolor": "white",
             "startlinecolor": "rgb(36,36,36)"
            },
            "type": "carpet"
           }
          ],
          "choropleth": [
           {
            "colorbar": {
             "outlinewidth": 1,
             "tickcolor": "rgb(36,36,36)",
             "ticks": "outside"
            },
            "type": "choropleth"
           }
          ],
          "contour": [
           {
            "colorbar": {
             "outlinewidth": 1,
             "tickcolor": "rgb(36,36,36)",
             "ticks": "outside"
            },
            "colorscale": [
             [
              0,
              "#440154"
             ],
             [
              0.1111111111111111,
              "#482878"
             ],
             [
              0.2222222222222222,
              "#3e4989"
             ],
             [
              0.3333333333333333,
              "#31688e"
             ],
             [
              0.4444444444444444,
              "#26828e"
             ],
             [
              0.5555555555555556,
              "#1f9e89"
             ],
             [
              0.6666666666666666,
              "#35b779"
             ],
             [
              0.7777777777777778,
              "#6ece58"
             ],
             [
              0.8888888888888888,
              "#b5de2b"
             ],
             [
              1,
              "#fde725"
             ]
            ],
            "type": "contour"
           }
          ],
          "contourcarpet": [
           {
            "colorbar": {
             "outlinewidth": 1,
             "tickcolor": "rgb(36,36,36)",
             "ticks": "outside"
            },
            "type": "contourcarpet"
           }
          ],
          "heatmap": [
           {
            "colorbar": {
             "outlinewidth": 1,
             "tickcolor": "rgb(36,36,36)",
             "ticks": "outside"
            },
            "colorscale": [
             [
              0,
              "#440154"
             ],
             [
              0.1111111111111111,
              "#482878"
             ],
             [
              0.2222222222222222,
              "#3e4989"
             ],
             [
              0.3333333333333333,
              "#31688e"
             ],
             [
              0.4444444444444444,
              "#26828e"
             ],
             [
              0.5555555555555556,
              "#1f9e89"
             ],
             [
              0.6666666666666666,
              "#35b779"
             ],
             [
              0.7777777777777778,
              "#6ece58"
             ],
             [
              0.8888888888888888,
              "#b5de2b"
             ],
             [
              1,
              "#fde725"
             ]
            ],
            "type": "heatmap"
           }
          ],
          "heatmapgl": [
           {
            "colorbar": {
             "outlinewidth": 1,
             "tickcolor": "rgb(36,36,36)",
             "ticks": "outside"
            },
            "colorscale": [
             [
              0,
              "#440154"
             ],
             [
              0.1111111111111111,
              "#482878"
             ],
             [
              0.2222222222222222,
              "#3e4989"
             ],
             [
              0.3333333333333333,
              "#31688e"
             ],
             [
              0.4444444444444444,
              "#26828e"
             ],
             [
              0.5555555555555556,
              "#1f9e89"
             ],
             [
              0.6666666666666666,
              "#35b779"
             ],
             [
              0.7777777777777778,
              "#6ece58"
             ],
             [
              0.8888888888888888,
              "#b5de2b"
             ],
             [
              1,
              "#fde725"
             ]
            ],
            "type": "heatmapgl"
           }
          ],
          "histogram": [
           {
            "marker": {
             "line": {
              "color": "white",
              "width": 0.6
             }
            },
            "type": "histogram"
           }
          ],
          "histogram2d": [
           {
            "colorbar": {
             "outlinewidth": 1,
             "tickcolor": "rgb(36,36,36)",
             "ticks": "outside"
            },
            "colorscale": [
             [
              0,
              "#440154"
             ],
             [
              0.1111111111111111,
              "#482878"
             ],
             [
              0.2222222222222222,
              "#3e4989"
             ],
             [
              0.3333333333333333,
              "#31688e"
             ],
             [
              0.4444444444444444,
              "#26828e"
             ],
             [
              0.5555555555555556,
              "#1f9e89"
             ],
             [
              0.6666666666666666,
              "#35b779"
             ],
             [
              0.7777777777777778,
              "#6ece58"
             ],
             [
              0.8888888888888888,
              "#b5de2b"
             ],
             [
              1,
              "#fde725"
             ]
            ],
            "type": "histogram2d"
           }
          ],
          "histogram2dcontour": [
           {
            "colorbar": {
             "outlinewidth": 1,
             "tickcolor": "rgb(36,36,36)",
             "ticks": "outside"
            },
            "colorscale": [
             [
              0,
              "#440154"
             ],
             [
              0.1111111111111111,
              "#482878"
             ],
             [
              0.2222222222222222,
              "#3e4989"
             ],
             [
              0.3333333333333333,
              "#31688e"
             ],
             [
              0.4444444444444444,
              "#26828e"
             ],
             [
              0.5555555555555556,
              "#1f9e89"
             ],
             [
              0.6666666666666666,
              "#35b779"
             ],
             [
              0.7777777777777778,
              "#6ece58"
             ],
             [
              0.8888888888888888,
              "#b5de2b"
             ],
             [
              1,
              "#fde725"
             ]
            ],
            "type": "histogram2dcontour"
           }
          ],
          "mesh3d": [
           {
            "colorbar": {
             "outlinewidth": 1,
             "tickcolor": "rgb(36,36,36)",
             "ticks": "outside"
            },
            "type": "mesh3d"
           }
          ],
          "parcoords": [
           {
            "line": {
             "colorbar": {
              "outlinewidth": 1,
              "tickcolor": "rgb(36,36,36)",
              "ticks": "outside"
             }
            },
            "type": "parcoords"
           }
          ],
          "pie": [
           {
            "automargin": true,
            "type": "pie"
           }
          ],
          "scatter": [
           {
            "marker": {
             "colorbar": {
              "outlinewidth": 1,
              "tickcolor": "rgb(36,36,36)",
              "ticks": "outside"
             }
            },
            "type": "scatter"
           }
          ],
          "scatter3d": [
           {
            "line": {
             "colorbar": {
              "outlinewidth": 1,
              "tickcolor": "rgb(36,36,36)",
              "ticks": "outside"
             }
            },
            "marker": {
             "colorbar": {
              "outlinewidth": 1,
              "tickcolor": "rgb(36,36,36)",
              "ticks": "outside"
             }
            },
            "type": "scatter3d"
           }
          ],
          "scattercarpet": [
           {
            "marker": {
             "colorbar": {
              "outlinewidth": 1,
              "tickcolor": "rgb(36,36,36)",
              "ticks": "outside"
             }
            },
            "type": "scattercarpet"
           }
          ],
          "scattergeo": [
           {
            "marker": {
             "colorbar": {
              "outlinewidth": 1,
              "tickcolor": "rgb(36,36,36)",
              "ticks": "outside"
             }
            },
            "type": "scattergeo"
           }
          ],
          "scattergl": [
           {
            "marker": {
             "colorbar": {
              "outlinewidth": 1,
              "tickcolor": "rgb(36,36,36)",
              "ticks": "outside"
             }
            },
            "type": "scattergl"
           }
          ],
          "scattermapbox": [
           {
            "marker": {
             "colorbar": {
              "outlinewidth": 1,
              "tickcolor": "rgb(36,36,36)",
              "ticks": "outside"
             }
            },
            "type": "scattermapbox"
           }
          ],
          "scatterpolar": [
           {
            "marker": {
             "colorbar": {
              "outlinewidth": 1,
              "tickcolor": "rgb(36,36,36)",
              "ticks": "outside"
             }
            },
            "type": "scatterpolar"
           }
          ],
          "scatterpolargl": [
           {
            "marker": {
             "colorbar": {
              "outlinewidth": 1,
              "tickcolor": "rgb(36,36,36)",
              "ticks": "outside"
             }
            },
            "type": "scatterpolargl"
           }
          ],
          "scatterternary": [
           {
            "marker": {
             "colorbar": {
              "outlinewidth": 1,
              "tickcolor": "rgb(36,36,36)",
              "ticks": "outside"
             }
            },
            "type": "scatterternary"
           }
          ],
          "surface": [
           {
            "colorbar": {
             "outlinewidth": 1,
             "tickcolor": "rgb(36,36,36)",
             "ticks": "outside"
            },
            "colorscale": [
             [
              0,
              "#440154"
             ],
             [
              0.1111111111111111,
              "#482878"
             ],
             [
              0.2222222222222222,
              "#3e4989"
             ],
             [
              0.3333333333333333,
              "#31688e"
             ],
             [
              0.4444444444444444,
              "#26828e"
             ],
             [
              0.5555555555555556,
              "#1f9e89"
             ],
             [
              0.6666666666666666,
              "#35b779"
             ],
             [
              0.7777777777777778,
              "#6ece58"
             ],
             [
              0.8888888888888888,
              "#b5de2b"
             ],
             [
              1,
              "#fde725"
             ]
            ],
            "type": "surface"
           }
          ],
          "table": [
           {
            "cells": {
             "fill": {
              "color": "rgb(237,237,237)"
             },
             "line": {
              "color": "white"
             }
            },
            "header": {
             "fill": {
              "color": "rgb(217,217,217)"
             },
             "line": {
              "color": "white"
             }
            },
            "type": "table"
           }
          ]
         },
         "layout": {
          "annotationdefaults": {
           "arrowhead": 0,
           "arrowwidth": 1
          },
          "autotypenumbers": "strict",
          "coloraxis": {
           "colorbar": {
            "outlinewidth": 1,
            "tickcolor": "rgb(36,36,36)",
            "ticks": "outside"
           }
          },
          "colorscale": {
           "diverging": [
            [
             0,
             "rgb(103,0,31)"
            ],
            [
             0.1,
             "rgb(178,24,43)"
            ],
            [
             0.2,
             "rgb(214,96,77)"
            ],
            [
             0.3,
             "rgb(244,165,130)"
            ],
            [
             0.4,
             "rgb(253,219,199)"
            ],
            [
             0.5,
             "rgb(247,247,247)"
            ],
            [
             0.6,
             "rgb(209,229,240)"
            ],
            [
             0.7,
             "rgb(146,197,222)"
            ],
            [
             0.8,
             "rgb(67,147,195)"
            ],
            [
             0.9,
             "rgb(33,102,172)"
            ],
            [
             1,
             "rgb(5,48,97)"
            ]
           ],
           "sequential": [
            [
             0,
             "#440154"
            ],
            [
             0.1111111111111111,
             "#482878"
            ],
            [
             0.2222222222222222,
             "#3e4989"
            ],
            [
             0.3333333333333333,
             "#31688e"
            ],
            [
             0.4444444444444444,
             "#26828e"
            ],
            [
             0.5555555555555556,
             "#1f9e89"
            ],
            [
             0.6666666666666666,
             "#35b779"
            ],
            [
             0.7777777777777778,
             "#6ece58"
            ],
            [
             0.8888888888888888,
             "#b5de2b"
            ],
            [
             1,
             "#fde725"
            ]
           ],
           "sequentialminus": [
            [
             0,
             "#440154"
            ],
            [
             0.1111111111111111,
             "#482878"
            ],
            [
             0.2222222222222222,
             "#3e4989"
            ],
            [
             0.3333333333333333,
             "#31688e"
            ],
            [
             0.4444444444444444,
             "#26828e"
            ],
            [
             0.5555555555555556,
             "#1f9e89"
            ],
            [
             0.6666666666666666,
             "#35b779"
            ],
            [
             0.7777777777777778,
             "#6ece58"
            ],
            [
             0.8888888888888888,
             "#b5de2b"
            ],
            [
             1,
             "#fde725"
            ]
           ]
          },
          "colorway": [
           "#1F77B4",
           "#FF7F0E",
           "#2CA02C",
           "#D62728",
           "#9467BD",
           "#8C564B",
           "#E377C2",
           "#7F7F7F",
           "#BCBD22",
           "#17BECF"
          ],
          "font": {
           "color": "rgb(36,36,36)"
          },
          "geo": {
           "bgcolor": "white",
           "lakecolor": "white",
           "landcolor": "white",
           "showlakes": true,
           "showland": true,
           "subunitcolor": "white"
          },
          "hoverlabel": {
           "align": "left"
          },
          "hovermode": "closest",
          "mapbox": {
           "style": "light"
          },
          "paper_bgcolor": "white",
          "plot_bgcolor": "white",
          "polar": {
           "angularaxis": {
            "gridcolor": "rgb(232,232,232)",
            "linecolor": "rgb(36,36,36)",
            "showgrid": false,
            "showline": true,
            "ticks": "outside"
           },
           "bgcolor": "white",
           "radialaxis": {
            "gridcolor": "rgb(232,232,232)",
            "linecolor": "rgb(36,36,36)",
            "showgrid": false,
            "showline": true,
            "ticks": "outside"
           }
          },
          "scene": {
           "xaxis": {
            "backgroundcolor": "white",
            "gridcolor": "rgb(232,232,232)",
            "gridwidth": 2,
            "linecolor": "rgb(36,36,36)",
            "showbackground": true,
            "showgrid": false,
            "showline": true,
            "ticks": "outside",
            "zeroline": false,
            "zerolinecolor": "rgb(36,36,36)"
           },
           "yaxis": {
            "backgroundcolor": "white",
            "gridcolor": "rgb(232,232,232)",
            "gridwidth": 2,
            "linecolor": "rgb(36,36,36)",
            "showbackground": true,
            "showgrid": false,
            "showline": true,
            "ticks": "outside",
            "zeroline": false,
            "zerolinecolor": "rgb(36,36,36)"
           },
           "zaxis": {
            "backgroundcolor": "white",
            "gridcolor": "rgb(232,232,232)",
            "gridwidth": 2,
            "linecolor": "rgb(36,36,36)",
            "showbackground": true,
            "showgrid": false,
            "showline": true,
            "ticks": "outside",
            "zeroline": false,
            "zerolinecolor": "rgb(36,36,36)"
           }
          },
          "shapedefaults": {
           "fillcolor": "black",
           "line": {
            "width": 0
           },
           "opacity": 0.3
          },
          "ternary": {
           "aaxis": {
            "gridcolor": "rgb(232,232,232)",
            "linecolor": "rgb(36,36,36)",
            "showgrid": false,
            "showline": true,
            "ticks": "outside"
           },
           "baxis": {
            "gridcolor": "rgb(232,232,232)",
            "linecolor": "rgb(36,36,36)",
            "showgrid": false,
            "showline": true,
            "ticks": "outside"
           },
           "bgcolor": "white",
           "caxis": {
            "gridcolor": "rgb(232,232,232)",
            "linecolor": "rgb(36,36,36)",
            "showgrid": false,
            "showline": true,
            "ticks": "outside"
           }
          },
          "title": {
           "x": 0.05
          },
          "xaxis": {
           "automargin": true,
           "gridcolor": "rgb(232,232,232)",
           "linecolor": "rgb(36,36,36)",
           "showgrid": false,
           "showline": true,
           "ticks": "outside",
           "title": {
            "standoff": 15
           },
           "zeroline": false,
           "zerolinecolor": "rgb(36,36,36)"
          },
          "yaxis": {
           "automargin": true,
           "gridcolor": "rgb(232,232,232)",
           "linecolor": "rgb(36,36,36)",
           "showgrid": false,
           "showline": true,
           "ticks": "outside",
           "title": {
            "standoff": 15
           },
           "zeroline": false,
           "zerolinecolor": "rgb(36,36,36)"
          }
         }
        },
        "title": {
         "text": "Vector field for GDP"
        },
        "width": 600,
        "xaxis": {
         "mirror": true,
         "showgrid": false,
         "zeroline": false
        },
        "yaxis": {
         "mirror": true,
         "showgrid": false,
         "zeroline": false
        }
       }
      }
     },
     "metadata": {},
     "output_type": "display_data"
    }
   ],
   "source": [
    "explainer.plot_arrow_fields(feature_id)"
   ]
  },
  {
   "cell_type": "markdown",
   "metadata": {},
   "source": [
    "##### PLOT ARROW WITH CONTOUR VALUE OF THE FEATURE IN HD"
   ]
  },
  {
   "cell_type": "code",
   "execution_count": 31,
   "metadata": {},
   "outputs": [
    {
     "data": {
      "application/vnd.plotly.v1+json": {
       "config": {
        "plotlyServerURL": "https://plot.ly"
       },
       "data": [
        {
         "line": {
          "color": "#00f514",
          "width": 3
         },
         "mode": "lines",
         "type": "scatter",
         "x": [
          -19.079417771143568,
          -19.31070243169306,
          null,
          -19.35864518097508,
          -19.31070243169306,
          -19.132357789119435,
          null
         ],
         "y": [
          -18.590635950652253,
          -19.693336070667197,
          null,
          -19.358745117126812,
          -19.693336070667197,
          -19.406207524776914,
          null
         ]
        },
        {
         "marker": {
          "color": "crimson",
          "size": 12
         },
         "showlegend": false,
         "type": "scatter",
         "x": [
          -19.079417771143568
         ],
         "y": [
          -18.590635950652253
         ]
        },
        {
         "type": "contour",
         "x": [
          -13.439659169431541,
          -17.41627663190408,
          -18.912671279442765,
          -14.687487516803118,
          -15.224850360571091,
          -21.320718369406823,
          -24.448471047286805,
          -26.678482519864108,
          -16.703879601703964,
          -15.04536788689018,
          -16.459103762964837,
          -12.671545554972075,
          -15.03851197985544,
          -17.288139108073917,
          -13.96844749629448,
          -22.47525725897187,
          -21.590170748172074,
          -22.30241352612701,
          -20.76532330325611,
          -22.489246924634063,
          -23.75706403566592,
          -16.392032070035803,
          -17.822528563793707,
          -12.62200397156745,
          -15.128067050008932,
          -24.115281763927193,
          -19.31910154555401,
          -11.487673861085387,
          -23.259450283910617,
          -24.571662202433963,
          -7.673510868258781,
          -25.59563429828497,
          5.209027657965058,
          -16.164077614623494,
          -0.3206915272619514,
          -5.616461315174769,
          -20.097763026932135,
          -19.935808920450608,
          -22.057047952698337,
          1.8108505936248978,
          -23.174827907109417,
          -18.87727949858482,
          3.899894003921186,
          -8.563418104381661,
          6.3241363103236665,
          -19.841238315621485,
          -11.21808065129475,
          -1.9884608477041152,
          -2.1648341182263953,
          -17.25204542727804,
          -12.578874953687988,
          -11.025290511203638,
          -18.70607519681541,
          -22.286263272540793,
          -22.85277032859193,
          8.352962070016407,
          14.907103343051471,
          7.636100843465525,
          -12.14523915472563,
          -10.916719494387525,
          -2.100342807449728,
          -19.079417771143568,
          10.772702618767024,
          -9.31280928133833,
          -12.153496697884135,
          19.417897235630033,
          6.92063666356977,
          8.448137955068441,
          11.126678482219114,
          11.72572707323218,
          5.902330824716798,
          -9.929348049608418,
          7.418732429949273,
          8.715879601919259,
          9.118423625642563,
          2.954282431881178,
          -0.47257189484979806,
          3.4894260893134494,
          -12.77562494844899,
          -6.869364216029878,
          4.780109633383869,
          0.4656375424898393,
          -16.305010068456564,
          -16.970495017974386,
          13.961865455949432,
          -0.0172026593086042,
          8.950580983663356,
          -5.038871053838727,
          -10.030351548554368,
          8.010956997759699,
          13.292453477079063,
          -16.235959554638644,
          18.373881901611444,
          -9.42816863592649,
          10.976202808526164,
          11.552130808512965,
          4.859250202383185,
          8.859512739984012,
          31.716492725253104,
          -7.703907001529456,
          19.37342903904253,
          16.631204466886878,
          -1.364359281653734,
          19.49413042013471,
          5.48770418174924,
          25.07101993878351,
          15.061348743534277,
          12.415822497061152,
          31.675988038255102,
          7.296286471042055,
          25.829801791370674,
          28.00977036172681,
          18.603721259690346,
          25.16272372547026,
          20.720688296539297,
          -14.62009668035418,
          24.02377655573082,
          22.298875529486914,
          29.972713969072156,
          18.58291952460711,
          22.54381887362248,
          26.05015330752826,
          20.95754679765263,
          -9.27907227157587,
          26.996438447280237,
          22.199125024528005,
          26.748847788060935,
          20.916603838867765,
          19.910750333865167,
          23.655692778317956,
          20.5807757516114,
          25.089691777609204,
          27.71118007195068,
          30.817991031710452,
          24.718044226687418,
          26.01447384005139,
          24.590972337372985,
          22.97573597323779
         ],
         "y": [
          39.40298544188224,
          41.05763349090961,
          38.58563761733916,
          30.657080252319357,
          38.692376709944604,
          38.18459202146102,
          30.86266373650818,
          30.297547541711005,
          36.10436221713452,
          34.37745504736645,
          38.96748919174128,
          31.352242179939484,
          32.757765324905456,
          32.5204684992923,
          36.26001428463523,
          29.950848438798374,
          31.173264758640038,
          28.998662046009844,
          33.049201925365686,
          37.964735245241485,
          27.072990045813025,
          6.9651173829168265,
          9.439145282188028,
          3.6058945167649843,
          3.303359429525925,
          -5.571606805603756,
          29.22077252976691,
          1.8944053991625203,
          -8.146310922185002,
          -3.7885154206080944,
          12.39850507280467,
          -9.140575226347789,
          -8.27348298486773,
          -19.288415562378674,
          9.92531895522707,
          5.590673670572324,
          -8.807282811767267,
          -11.649802013981024,
          -8.171195726543852,
          -3.150367498426659,
          -10.145371034173923,
          -12.099063601133063,
          6.037354364811706,
          12.018208990003663,
          -2.678018564282881,
          -14.315802608847232,
          5.224187830485461,
          0.9032804811108501,
          15.565961258747725,
          -19.019753494226745,
          -2.8883787416116102,
          -0.6713666214170857,
          -21.231444538590022,
          -11.785796986075562,
          -14.857003886523126,
          -4.280637424492034,
          -13.929069127155321,
          -11.488622735499845,
          -17.373047149391656,
          -7.002379181180868,
          14.329780216777802,
          -18.590635950652253,
          7.993321597006763,
          -8.069499815405246,
          -15.731122308971157,
          20.663292290994114,
          -10.284494188941308,
          -12.389884606731856,
          -1.6065242199080263,
          9.783188612887749,
          6.433835484958241,
          0.5296875630201191,
          -17.69905837367123,
          1.9475324389221391,
          4.27730436736294,
          -0.5273654502234854,
          0.7801345599204225,
          13.998177784838877,
          -13.663680134175884,
          -8.418186688478544,
          -1.321082797777805,
          11.317141998003528,
          -3.744920375804988,
          -12.329656124090743,
          -7.956357859727588,
          13.065326690805454,
          -2.5416380446020668,
          -9.123796434312723,
          -12.157768826860742,
          8.834782936266368,
          -9.410094705777926,
          -10.334936001374144,
          -13.040195051652866,
          -11.932797186039982,
          -10.956063942476256,
          1.3399616848285056,
          -5.605833622149275,
          7.290732582133044,
          -12.448342865490428,
          0.35766279720070465,
          19.980479292920283,
          -22.51129522783311,
          8.451178547203675,
          -5.941381261540559,
          14.808054647869273,
          -23.75309557625565,
          0.1669298277855768,
          0.2630053440965633,
          -13.958032212113102,
          3.4200117813574025,
          -27.487206654661474,
          -6.245664346055826,
          -19.413332712110975,
          -20.774034557077368,
          -10.936939091412215,
          -3.07204772053658,
          -7.62358143105315,
          -17.798591826400553,
          -6.481648222927268,
          -7.74034251800641,
          -29.035839526450495,
          -4.416329807746921,
          -19.48827156289188,
          -23.712618151430863,
          -28.73027519898243,
          -10.225951452077357,
          -5.985526626378145,
          -14.613501974952122,
          -20.472901887256523,
          -28.277030496328912,
          -29.665338852021904,
          -25.70012931811194,
          -16.51008485801243,
          -18.24999771830738,
          -16.80553577781825,
          -16.57581458395884,
          -12.710374127462254,
          -15.863762707426107
         ],
         "z": [
          -0.03815796288573456,
          -0.24904166653047938,
          0.3050709990783057,
          -0.09887899567121174,
          0.04720605838786326,
          0.6070805738230075,
          3.8379713810712874,
          10.121933445542057,
          0.05704552501441505,
          0.2533916383280383,
          -0.09506731040146645,
          -0.23157882936443705,
          0.05243604515332775,
          -0.0007502609361413104,
          -0.04586997726870756,
          1.5543286852764515,
          1.2274101905131816,
          1.6232935955057965,
          0.6619511129386432,
          -0.17218745423119658,
          2.1695169590446435,
          -0.15623156240435584,
          -0.0779590486093539,
          -0.16518459059608315,
          0.3426559887148639,
          -0.23131289783398967,
          -0.11120048991527207,
          -0.24620506353904104,
          -0.16500730290911825,
          -0.2551580917307683,
          -0.2104815946156143,
          -0.1705918650485125,
          -0.12423113490719198,
          -0.04507218267736552,
          -0.1764423587183541,
          -0.2501053926522687,
          -0.24992810496530385,
          -0.24008863833875205,
          -0.22342359576405177,
          -0.24815522809565488,
          -0.22945137712085825,
          -0.24780065272172505,
          -0.24345710439108512,
          -0.16748933052662682,
          0.3398193857234255,
          -0.23849304915606798,
          -0.24877573500003203,
          -0.24771200887824266,
          -0.2383157614691031,
          -0.19496892200618582,
          -0.15499054859560157,
          -0.25453758482639116,
          0.25551909057161704,
          -0.25506944788728586,
          -0.2395567752778574,
          0.27555259919865044,
          -0.17325118035298598,
          -0.16225934376116236,
          -0.25311928333067196,
          -0.11651912052421898,
          -0.037714743668322316,
          -0.20241500485871147,
          -0.2405318575561643,
          -0.22377817113798157,
          -0.25710825628738215,
          1.4524769091151182,
          -0.19904653880637846,
          -0.2329971308601562,
          -0.1848635238491867,
          -0.2496621734348565,
          -0.2348586515732876,
          -0.2575514755047944,
          -0.2533852148611193,
          0.008557342629515774,
          -0.24203880289536592,
          -0.24327981670412022,
          -0.2588811331570311,
          -0.11501217518501734,
          -0.25524673557425076,
          -0.25232148873932997,
          -0.2458504881651112,
          -0.1848635238491867,
          -0.25914706468747845,
          -0.25196691336540017,
          -0.25905842084399605,
          -0.23858169299955045,
          -0.031509674624550905,
          -0.21978919818127138,
          -0.2579060508787242,
          -0.1900048667711687,
          -0.2557785986351454,
          -0.2575514755047944,
          -0.2520555572088826,
          -0.25843791393961885,
          -0.2532965710176369,
          -0.23547915847766476,
          -0.07122211650468781,
          -0.21553429369411387,
          -0.2534738587046018,
          -0.2548035163568385,
          0.3528500307153455,
          -0.2555126671046981,
          -0.2518782695219177,
          -0.25764011934827685,
          -0.17466948184870515,
          -0.25196691336540017,
          -0.20968380002427225,
          -0.253917077922014,
          -0.2563991055395226,
          -0.24115236446054142,
          -0.25382843407853156,
          -0.25799469472220665,
          -0.255689954791663,
          -0.25595588632211036,
          -0.2470915019738655,
          -0.2577287631917593,
          -0.24850980346958465,
          -0.24558455663466386,
          -0.2595016400614083,
          -0.25294199564370706,
          -0.258260626252654,
          -0.19594400428449277,
          -0.2563991055395226,
          -0.24257066595626062,
          -0.2501940364957512,
          -0.25622181785255765,
          -0.24611641969555856,
          -0.25506944788728586,
          -0.25817198240917155,
          -0.2544489409829087,
          -0.25923570853096095,
          -0.2527647079567422,
          -0.25613317400907526,
          -0.25870384547006625,
          -0.25560131094818056,
          -0.2555126671046981,
          -0.2588811331570311,
          -0.25710825628738215
         ]
        }
       ],
       "layout": {
        "font": {
         "size": 10
        },
        "height": 600,
        "hovermode": "closest",
        "showlegend": false,
        "template": {
         "data": {
          "bar": [
           {
            "error_x": {
             "color": "#2a3f5f"
            },
            "error_y": {
             "color": "#2a3f5f"
            },
            "marker": {
             "line": {
              "color": "#E5ECF6",
              "width": 0.5
             },
             "pattern": {
              "fillmode": "overlay",
              "size": 10,
              "solidity": 0.2
             }
            },
            "type": "bar"
           }
          ],
          "barpolar": [
           {
            "marker": {
             "line": {
              "color": "#E5ECF6",
              "width": 0.5
             },
             "pattern": {
              "fillmode": "overlay",
              "size": 10,
              "solidity": 0.2
             }
            },
            "type": "barpolar"
           }
          ],
          "carpet": [
           {
            "aaxis": {
             "endlinecolor": "#2a3f5f",
             "gridcolor": "white",
             "linecolor": "white",
             "minorgridcolor": "white",
             "startlinecolor": "#2a3f5f"
            },
            "baxis": {
             "endlinecolor": "#2a3f5f",
             "gridcolor": "white",
             "linecolor": "white",
             "minorgridcolor": "white",
             "startlinecolor": "#2a3f5f"
            },
            "type": "carpet"
           }
          ],
          "choropleth": [
           {
            "colorbar": {
             "outlinewidth": 0,
             "ticks": ""
            },
            "type": "choropleth"
           }
          ],
          "contour": [
           {
            "colorbar": {
             "outlinewidth": 0,
             "ticks": ""
            },
            "colorscale": [
             [
              0,
              "#0d0887"
             ],
             [
              0.1111111111111111,
              "#46039f"
             ],
             [
              0.2222222222222222,
              "#7201a8"
             ],
             [
              0.3333333333333333,
              "#9c179e"
             ],
             [
              0.4444444444444444,
              "#bd3786"
             ],
             [
              0.5555555555555556,
              "#d8576b"
             ],
             [
              0.6666666666666666,
              "#ed7953"
             ],
             [
              0.7777777777777778,
              "#fb9f3a"
             ],
             [
              0.8888888888888888,
              "#fdca26"
             ],
             [
              1,
              "#f0f921"
             ]
            ],
            "type": "contour"
           }
          ],
          "contourcarpet": [
           {
            "colorbar": {
             "outlinewidth": 0,
             "ticks": ""
            },
            "type": "contourcarpet"
           }
          ],
          "heatmap": [
           {
            "colorbar": {
             "outlinewidth": 0,
             "ticks": ""
            },
            "colorscale": [
             [
              0,
              "#0d0887"
             ],
             [
              0.1111111111111111,
              "#46039f"
             ],
             [
              0.2222222222222222,
              "#7201a8"
             ],
             [
              0.3333333333333333,
              "#9c179e"
             ],
             [
              0.4444444444444444,
              "#bd3786"
             ],
             [
              0.5555555555555556,
              "#d8576b"
             ],
             [
              0.6666666666666666,
              "#ed7953"
             ],
             [
              0.7777777777777778,
              "#fb9f3a"
             ],
             [
              0.8888888888888888,
              "#fdca26"
             ],
             [
              1,
              "#f0f921"
             ]
            ],
            "type": "heatmap"
           }
          ],
          "heatmapgl": [
           {
            "colorbar": {
             "outlinewidth": 0,
             "ticks": ""
            },
            "colorscale": [
             [
              0,
              "#0d0887"
             ],
             [
              0.1111111111111111,
              "#46039f"
             ],
             [
              0.2222222222222222,
              "#7201a8"
             ],
             [
              0.3333333333333333,
              "#9c179e"
             ],
             [
              0.4444444444444444,
              "#bd3786"
             ],
             [
              0.5555555555555556,
              "#d8576b"
             ],
             [
              0.6666666666666666,
              "#ed7953"
             ],
             [
              0.7777777777777778,
              "#fb9f3a"
             ],
             [
              0.8888888888888888,
              "#fdca26"
             ],
             [
              1,
              "#f0f921"
             ]
            ],
            "type": "heatmapgl"
           }
          ],
          "histogram": [
           {
            "marker": {
             "pattern": {
              "fillmode": "overlay",
              "size": 10,
              "solidity": 0.2
             }
            },
            "type": "histogram"
           }
          ],
          "histogram2d": [
           {
            "colorbar": {
             "outlinewidth": 0,
             "ticks": ""
            },
            "colorscale": [
             [
              0,
              "#0d0887"
             ],
             [
              0.1111111111111111,
              "#46039f"
             ],
             [
              0.2222222222222222,
              "#7201a8"
             ],
             [
              0.3333333333333333,
              "#9c179e"
             ],
             [
              0.4444444444444444,
              "#bd3786"
             ],
             [
              0.5555555555555556,
              "#d8576b"
             ],
             [
              0.6666666666666666,
              "#ed7953"
             ],
             [
              0.7777777777777778,
              "#fb9f3a"
             ],
             [
              0.8888888888888888,
              "#fdca26"
             ],
             [
              1,
              "#f0f921"
             ]
            ],
            "type": "histogram2d"
           }
          ],
          "histogram2dcontour": [
           {
            "colorbar": {
             "outlinewidth": 0,
             "ticks": ""
            },
            "colorscale": [
             [
              0,
              "#0d0887"
             ],
             [
              0.1111111111111111,
              "#46039f"
             ],
             [
              0.2222222222222222,
              "#7201a8"
             ],
             [
              0.3333333333333333,
              "#9c179e"
             ],
             [
              0.4444444444444444,
              "#bd3786"
             ],
             [
              0.5555555555555556,
              "#d8576b"
             ],
             [
              0.6666666666666666,
              "#ed7953"
             ],
             [
              0.7777777777777778,
              "#fb9f3a"
             ],
             [
              0.8888888888888888,
              "#fdca26"
             ],
             [
              1,
              "#f0f921"
             ]
            ],
            "type": "histogram2dcontour"
           }
          ],
          "mesh3d": [
           {
            "colorbar": {
             "outlinewidth": 0,
             "ticks": ""
            },
            "type": "mesh3d"
           }
          ],
          "parcoords": [
           {
            "line": {
             "colorbar": {
              "outlinewidth": 0,
              "ticks": ""
             }
            },
            "type": "parcoords"
           }
          ],
          "pie": [
           {
            "automargin": true,
            "type": "pie"
           }
          ],
          "scatter": [
           {
            "marker": {
             "colorbar": {
              "outlinewidth": 0,
              "ticks": ""
             }
            },
            "type": "scatter"
           }
          ],
          "scatter3d": [
           {
            "line": {
             "colorbar": {
              "outlinewidth": 0,
              "ticks": ""
             }
            },
            "marker": {
             "colorbar": {
              "outlinewidth": 0,
              "ticks": ""
             }
            },
            "type": "scatter3d"
           }
          ],
          "scattercarpet": [
           {
            "marker": {
             "colorbar": {
              "outlinewidth": 0,
              "ticks": ""
             }
            },
            "type": "scattercarpet"
           }
          ],
          "scattergeo": [
           {
            "marker": {
             "colorbar": {
              "outlinewidth": 0,
              "ticks": ""
             }
            },
            "type": "scattergeo"
           }
          ],
          "scattergl": [
           {
            "marker": {
             "colorbar": {
              "outlinewidth": 0,
              "ticks": ""
             }
            },
            "type": "scattergl"
           }
          ],
          "scattermapbox": [
           {
            "marker": {
             "colorbar": {
              "outlinewidth": 0,
              "ticks": ""
             }
            },
            "type": "scattermapbox"
           }
          ],
          "scatterpolar": [
           {
            "marker": {
             "colorbar": {
              "outlinewidth": 0,
              "ticks": ""
             }
            },
            "type": "scatterpolar"
           }
          ],
          "scatterpolargl": [
           {
            "marker": {
             "colorbar": {
              "outlinewidth": 0,
              "ticks": ""
             }
            },
            "type": "scatterpolargl"
           }
          ],
          "scatterternary": [
           {
            "marker": {
             "colorbar": {
              "outlinewidth": 0,
              "ticks": ""
             }
            },
            "type": "scatterternary"
           }
          ],
          "surface": [
           {
            "colorbar": {
             "outlinewidth": 0,
             "ticks": ""
            },
            "colorscale": [
             [
              0,
              "#0d0887"
             ],
             [
              0.1111111111111111,
              "#46039f"
             ],
             [
              0.2222222222222222,
              "#7201a8"
             ],
             [
              0.3333333333333333,
              "#9c179e"
             ],
             [
              0.4444444444444444,
              "#bd3786"
             ],
             [
              0.5555555555555556,
              "#d8576b"
             ],
             [
              0.6666666666666666,
              "#ed7953"
             ],
             [
              0.7777777777777778,
              "#fb9f3a"
             ],
             [
              0.8888888888888888,
              "#fdca26"
             ],
             [
              1,
              "#f0f921"
             ]
            ],
            "type": "surface"
           }
          ],
          "table": [
           {
            "cells": {
             "fill": {
              "color": "#EBF0F8"
             },
             "line": {
              "color": "white"
             }
            },
            "header": {
             "fill": {
              "color": "#C8D4E3"
             },
             "line": {
              "color": "white"
             }
            },
            "type": "table"
           }
          ]
         },
         "layout": {
          "annotationdefaults": {
           "arrowcolor": "#2a3f5f",
           "arrowhead": 0,
           "arrowwidth": 1
          },
          "autotypenumbers": "strict",
          "coloraxis": {
           "colorbar": {
            "outlinewidth": 0,
            "ticks": ""
           }
          },
          "colorscale": {
           "diverging": [
            [
             0,
             "#8e0152"
            ],
            [
             0.1,
             "#c51b7d"
            ],
            [
             0.2,
             "#de77ae"
            ],
            [
             0.3,
             "#f1b6da"
            ],
            [
             0.4,
             "#fde0ef"
            ],
            [
             0.5,
             "#f7f7f7"
            ],
            [
             0.6,
             "#e6f5d0"
            ],
            [
             0.7,
             "#b8e186"
            ],
            [
             0.8,
             "#7fbc41"
            ],
            [
             0.9,
             "#4d9221"
            ],
            [
             1,
             "#276419"
            ]
           ],
           "sequential": [
            [
             0,
             "#0d0887"
            ],
            [
             0.1111111111111111,
             "#46039f"
            ],
            [
             0.2222222222222222,
             "#7201a8"
            ],
            [
             0.3333333333333333,
             "#9c179e"
            ],
            [
             0.4444444444444444,
             "#bd3786"
            ],
            [
             0.5555555555555556,
             "#d8576b"
            ],
            [
             0.6666666666666666,
             "#ed7953"
            ],
            [
             0.7777777777777778,
             "#fb9f3a"
            ],
            [
             0.8888888888888888,
             "#fdca26"
            ],
            [
             1,
             "#f0f921"
            ]
           ],
           "sequentialminus": [
            [
             0,
             "#0d0887"
            ],
            [
             0.1111111111111111,
             "#46039f"
            ],
            [
             0.2222222222222222,
             "#7201a8"
            ],
            [
             0.3333333333333333,
             "#9c179e"
            ],
            [
             0.4444444444444444,
             "#bd3786"
            ],
            [
             0.5555555555555556,
             "#d8576b"
            ],
            [
             0.6666666666666666,
             "#ed7953"
            ],
            [
             0.7777777777777778,
             "#fb9f3a"
            ],
            [
             0.8888888888888888,
             "#fdca26"
            ],
            [
             1,
             "#f0f921"
            ]
           ]
          },
          "colorway": [
           "#636efa",
           "#EF553B",
           "#00cc96",
           "#ab63fa",
           "#FFA15A",
           "#19d3f3",
           "#FF6692",
           "#B6E880",
           "#FF97FF",
           "#FECB52"
          ],
          "font": {
           "color": "#2a3f5f"
          },
          "geo": {
           "bgcolor": "white",
           "lakecolor": "white",
           "landcolor": "#E5ECF6",
           "showlakes": true,
           "showland": true,
           "subunitcolor": "white"
          },
          "hoverlabel": {
           "align": "left"
          },
          "hovermode": "closest",
          "mapbox": {
           "style": "light"
          },
          "paper_bgcolor": "white",
          "plot_bgcolor": "#E5ECF6",
          "polar": {
           "angularaxis": {
            "gridcolor": "white",
            "linecolor": "white",
            "ticks": ""
           },
           "bgcolor": "#E5ECF6",
           "radialaxis": {
            "gridcolor": "white",
            "linecolor": "white",
            "ticks": ""
           }
          },
          "scene": {
           "xaxis": {
            "backgroundcolor": "#E5ECF6",
            "gridcolor": "white",
            "gridwidth": 2,
            "linecolor": "white",
            "showbackground": true,
            "ticks": "",
            "zerolinecolor": "white"
           },
           "yaxis": {
            "backgroundcolor": "#E5ECF6",
            "gridcolor": "white",
            "gridwidth": 2,
            "linecolor": "white",
            "showbackground": true,
            "ticks": "",
            "zerolinecolor": "white"
           },
           "zaxis": {
            "backgroundcolor": "#E5ECF6",
            "gridcolor": "white",
            "gridwidth": 2,
            "linecolor": "white",
            "showbackground": true,
            "ticks": "",
            "zerolinecolor": "white"
           }
          },
          "shapedefaults": {
           "line": {
            "color": "#2a3f5f"
           }
          },
          "ternary": {
           "aaxis": {
            "gridcolor": "white",
            "linecolor": "white",
            "ticks": ""
           },
           "baxis": {
            "gridcolor": "white",
            "linecolor": "white",
            "ticks": ""
           },
           "bgcolor": "#E5ECF6",
           "caxis": {
            "gridcolor": "white",
            "linecolor": "white",
            "ticks": ""
           }
          },
          "title": {
           "x": 0.05
          },
          "xaxis": {
           "automargin": true,
           "gridcolor": "white",
           "linecolor": "white",
           "ticks": "",
           "title": {
            "standoff": 15
           },
           "zerolinecolor": "white",
           "zerolinewidth": 2
          },
          "yaxis": {
           "automargin": true,
           "gridcolor": "white",
           "linecolor": "white",
           "ticks": "",
           "title": {
            "standoff": 15
           },
           "zerolinecolor": "white",
           "zerolinewidth": 2
          }
         }
        },
        "title": {
         "text": "Vector for feature GDP of Ukraine"
        },
        "width": 600,
        "xaxis": {
         "mirror": true,
         "showgrid": false,
         "zeroline": false
        },
        "yaxis": {
         "mirror": true,
         "showgrid": false,
         "zeroline": false
        }
       }
      }
     },
     "metadata": {},
     "output_type": "display_data"
    }
   ],
   "source": [
    "explainer.plot_one_arrow_with_contour(feature_id, instance_id)"
   ]
  },
  {
   "cell_type": "code",
   "execution_count": 32,
   "metadata": {},
   "outputs": [
    {
     "data": {
      "application/vnd.plotly.v1+json": {
       "config": {
        "plotlyServerURL": "https://plot.ly"
       },
       "data": [
        {
         "name": "Combined Gradients",
         "orientation": "h",
         "showlegend": false,
         "type": "bar",
         "x": [
          0.003051147817926063,
          0.1433161541182833,
          0.2076912018854678,
          0.24307841740662448,
          0.32778101649874203,
          0.137579709986215,
          0.12435906236168266,
          0.08422083099883838,
          0.20366846889815626,
          0.00729115487786901,
          0.11290819561452102,
          0.028465662534517575,
          0.08727407848588688,
          0.03158645839242847,
          0.014734641182473328,
          0.05734147260634976,
          0.0027629000694783094,
          0.3856751259912124,
          0.5120994531360624,
          0.06830208964574508,
          0.0722329185161488,
          0.06070168368561572,
          0.051473002947431123,
          0.3335281995244839,
          0.05957040964194063,
          0.15514600593309288,
          0.026016531412379265,
          0.07441919729262024,
          0.015250619289135193,
          0.32390688976446463,
          0.6372575417062192,
          0.38321212992145476,
          0.07207336150949603,
          0.34090304736982735,
          0.2806745787943915,
          0.19475844186603836,
          0.16508133813399095,
          0.4303278573680079,
          0.05944361174443948,
          0.1947129456102901,
          0.0011936787813335984,
          0.0021757644297397236,
          0.0016733596558009092,
          0.44907849865591,
          0.30703918880147024
         ],
         "y": [
          "Pop growth",
          "Pop growth 2004",
          "Price index",
          "Carbon Dioxide 2003",
          "Export 1990",
          "Export 2004",
          "Elec 2003",
          "GDP",
          "GDP PPP",
          "GDP pc",
          "GDP pc growth rate",
          "Fem Econo Rate",
          "Fem Econo 1990",
          "Fem Econo 2004",
          "Health Exp",
          "Babies",
          "Internet 1990",
          "Import 1990",
          "Import 2004",
          "Tertiary female ratio",
          "Babies immunized",
          "Manufactured Exp 2004",
          "Foreign invest 2004",
          "Military 2004",
          "Public Health 2003",
          "Private Health 2003",
          "Primary export 2004",
          "Public Health",
          "Refugees asylum",
          "Refugees origin",
          "Armed forces",
          "Parliament Women",
          "Female Male income",
          "House women 2006",
          "Pop 1975",
          "Pop 2004",
          "Pop 2015",
          "Tuberculosis detected",
          "Tuberculosis cured 2004",
          "Trad fuel",
          "ODA pc donnor 2004",
          "ODA to least dev 1990",
          "ODA to least dev 2004",
          "ODA received",
          "ODA received pc"
         ]
        }
       ],
       "layout": {
        "font": {
         "size": 15
        },
        "height": 1000,
        "template": {
         "data": {
          "bar": [
           {
            "error_x": {
             "color": "rgb(36,36,36)"
            },
            "error_y": {
             "color": "rgb(36,36,36)"
            },
            "marker": {
             "line": {
              "color": "white",
              "width": 0.5
             },
             "pattern": {
              "fillmode": "overlay",
              "size": 10,
              "solidity": 0.2
             }
            },
            "type": "bar"
           }
          ],
          "barpolar": [
           {
            "marker": {
             "line": {
              "color": "white",
              "width": 0.5
             },
             "pattern": {
              "fillmode": "overlay",
              "size": 10,
              "solidity": 0.2
             }
            },
            "type": "barpolar"
           }
          ],
          "carpet": [
           {
            "aaxis": {
             "endlinecolor": "rgb(36,36,36)",
             "gridcolor": "white",
             "linecolor": "white",
             "minorgridcolor": "white",
             "startlinecolor": "rgb(36,36,36)"
            },
            "baxis": {
             "endlinecolor": "rgb(36,36,36)",
             "gridcolor": "white",
             "linecolor": "white",
             "minorgridcolor": "white",
             "startlinecolor": "rgb(36,36,36)"
            },
            "type": "carpet"
           }
          ],
          "choropleth": [
           {
            "colorbar": {
             "outlinewidth": 1,
             "tickcolor": "rgb(36,36,36)",
             "ticks": "outside"
            },
            "type": "choropleth"
           }
          ],
          "contour": [
           {
            "colorbar": {
             "outlinewidth": 1,
             "tickcolor": "rgb(36,36,36)",
             "ticks": "outside"
            },
            "colorscale": [
             [
              0,
              "#440154"
             ],
             [
              0.1111111111111111,
              "#482878"
             ],
             [
              0.2222222222222222,
              "#3e4989"
             ],
             [
              0.3333333333333333,
              "#31688e"
             ],
             [
              0.4444444444444444,
              "#26828e"
             ],
             [
              0.5555555555555556,
              "#1f9e89"
             ],
             [
              0.6666666666666666,
              "#35b779"
             ],
             [
              0.7777777777777778,
              "#6ece58"
             ],
             [
              0.8888888888888888,
              "#b5de2b"
             ],
             [
              1,
              "#fde725"
             ]
            ],
            "type": "contour"
           }
          ],
          "contourcarpet": [
           {
            "colorbar": {
             "outlinewidth": 1,
             "tickcolor": "rgb(36,36,36)",
             "ticks": "outside"
            },
            "type": "contourcarpet"
           }
          ],
          "heatmap": [
           {
            "colorbar": {
             "outlinewidth": 1,
             "tickcolor": "rgb(36,36,36)",
             "ticks": "outside"
            },
            "colorscale": [
             [
              0,
              "#440154"
             ],
             [
              0.1111111111111111,
              "#482878"
             ],
             [
              0.2222222222222222,
              "#3e4989"
             ],
             [
              0.3333333333333333,
              "#31688e"
             ],
             [
              0.4444444444444444,
              "#26828e"
             ],
             [
              0.5555555555555556,
              "#1f9e89"
             ],
             [
              0.6666666666666666,
              "#35b779"
             ],
             [
              0.7777777777777778,
              "#6ece58"
             ],
             [
              0.8888888888888888,
              "#b5de2b"
             ],
             [
              1,
              "#fde725"
             ]
            ],
            "type": "heatmap"
           }
          ],
          "heatmapgl": [
           {
            "colorbar": {
             "outlinewidth": 1,
             "tickcolor": "rgb(36,36,36)",
             "ticks": "outside"
            },
            "colorscale": [
             [
              0,
              "#440154"
             ],
             [
              0.1111111111111111,
              "#482878"
             ],
             [
              0.2222222222222222,
              "#3e4989"
             ],
             [
              0.3333333333333333,
              "#31688e"
             ],
             [
              0.4444444444444444,
              "#26828e"
             ],
             [
              0.5555555555555556,
              "#1f9e89"
             ],
             [
              0.6666666666666666,
              "#35b779"
             ],
             [
              0.7777777777777778,
              "#6ece58"
             ],
             [
              0.8888888888888888,
              "#b5de2b"
             ],
             [
              1,
              "#fde725"
             ]
            ],
            "type": "heatmapgl"
           }
          ],
          "histogram": [
           {
            "marker": {
             "line": {
              "color": "white",
              "width": 0.6
             }
            },
            "type": "histogram"
           }
          ],
          "histogram2d": [
           {
            "colorbar": {
             "outlinewidth": 1,
             "tickcolor": "rgb(36,36,36)",
             "ticks": "outside"
            },
            "colorscale": [
             [
              0,
              "#440154"
             ],
             [
              0.1111111111111111,
              "#482878"
             ],
             [
              0.2222222222222222,
              "#3e4989"
             ],
             [
              0.3333333333333333,
              "#31688e"
             ],
             [
              0.4444444444444444,
              "#26828e"
             ],
             [
              0.5555555555555556,
              "#1f9e89"
             ],
             [
              0.6666666666666666,
              "#35b779"
             ],
             [
              0.7777777777777778,
              "#6ece58"
             ],
             [
              0.8888888888888888,
              "#b5de2b"
             ],
             [
              1,
              "#fde725"
             ]
            ],
            "type": "histogram2d"
           }
          ],
          "histogram2dcontour": [
           {
            "colorbar": {
             "outlinewidth": 1,
             "tickcolor": "rgb(36,36,36)",
             "ticks": "outside"
            },
            "colorscale": [
             [
              0,
              "#440154"
             ],
             [
              0.1111111111111111,
              "#482878"
             ],
             [
              0.2222222222222222,
              "#3e4989"
             ],
             [
              0.3333333333333333,
              "#31688e"
             ],
             [
              0.4444444444444444,
              "#26828e"
             ],
             [
              0.5555555555555556,
              "#1f9e89"
             ],
             [
              0.6666666666666666,
              "#35b779"
             ],
             [
              0.7777777777777778,
              "#6ece58"
             ],
             [
              0.8888888888888888,
              "#b5de2b"
             ],
             [
              1,
              "#fde725"
             ]
            ],
            "type": "histogram2dcontour"
           }
          ],
          "mesh3d": [
           {
            "colorbar": {
             "outlinewidth": 1,
             "tickcolor": "rgb(36,36,36)",
             "ticks": "outside"
            },
            "type": "mesh3d"
           }
          ],
          "parcoords": [
           {
            "line": {
             "colorbar": {
              "outlinewidth": 1,
              "tickcolor": "rgb(36,36,36)",
              "ticks": "outside"
             }
            },
            "type": "parcoords"
           }
          ],
          "pie": [
           {
            "automargin": true,
            "type": "pie"
           }
          ],
          "scatter": [
           {
            "marker": {
             "colorbar": {
              "outlinewidth": 1,
              "tickcolor": "rgb(36,36,36)",
              "ticks": "outside"
             }
            },
            "type": "scatter"
           }
          ],
          "scatter3d": [
           {
            "line": {
             "colorbar": {
              "outlinewidth": 1,
              "tickcolor": "rgb(36,36,36)",
              "ticks": "outside"
             }
            },
            "marker": {
             "colorbar": {
              "outlinewidth": 1,
              "tickcolor": "rgb(36,36,36)",
              "ticks": "outside"
             }
            },
            "type": "scatter3d"
           }
          ],
          "scattercarpet": [
           {
            "marker": {
             "colorbar": {
              "outlinewidth": 1,
              "tickcolor": "rgb(36,36,36)",
              "ticks": "outside"
             }
            },
            "type": "scattercarpet"
           }
          ],
          "scattergeo": [
           {
            "marker": {
             "colorbar": {
              "outlinewidth": 1,
              "tickcolor": "rgb(36,36,36)",
              "ticks": "outside"
             }
            },
            "type": "scattergeo"
           }
          ],
          "scattergl": [
           {
            "marker": {
             "colorbar": {
              "outlinewidth": 1,
              "tickcolor": "rgb(36,36,36)",
              "ticks": "outside"
             }
            },
            "type": "scattergl"
           }
          ],
          "scattermapbox": [
           {
            "marker": {
             "colorbar": {
              "outlinewidth": 1,
              "tickcolor": "rgb(36,36,36)",
              "ticks": "outside"
             }
            },
            "type": "scattermapbox"
           }
          ],
          "scatterpolar": [
           {
            "marker": {
             "colorbar": {
              "outlinewidth": 1,
              "tickcolor": "rgb(36,36,36)",
              "ticks": "outside"
             }
            },
            "type": "scatterpolar"
           }
          ],
          "scatterpolargl": [
           {
            "marker": {
             "colorbar": {
              "outlinewidth": 1,
              "tickcolor": "rgb(36,36,36)",
              "ticks": "outside"
             }
            },
            "type": "scatterpolargl"
           }
          ],
          "scatterternary": [
           {
            "marker": {
             "colorbar": {
              "outlinewidth": 1,
              "tickcolor": "rgb(36,36,36)",
              "ticks": "outside"
             }
            },
            "type": "scatterternary"
           }
          ],
          "surface": [
           {
            "colorbar": {
             "outlinewidth": 1,
             "tickcolor": "rgb(36,36,36)",
             "ticks": "outside"
            },
            "colorscale": [
             [
              0,
              "#440154"
             ],
             [
              0.1111111111111111,
              "#482878"
             ],
             [
              0.2222222222222222,
              "#3e4989"
             ],
             [
              0.3333333333333333,
              "#31688e"
             ],
             [
              0.4444444444444444,
              "#26828e"
             ],
             [
              0.5555555555555556,
              "#1f9e89"
             ],
             [
              0.6666666666666666,
              "#35b779"
             ],
             [
              0.7777777777777778,
              "#6ece58"
             ],
             [
              0.8888888888888888,
              "#b5de2b"
             ],
             [
              1,
              "#fde725"
             ]
            ],
            "type": "surface"
           }
          ],
          "table": [
           {
            "cells": {
             "fill": {
              "color": "rgb(237,237,237)"
             },
             "line": {
              "color": "white"
             }
            },
            "header": {
             "fill": {
              "color": "rgb(217,217,217)"
             },
             "line": {
              "color": "white"
             }
            },
            "type": "table"
           }
          ]
         },
         "layout": {
          "annotationdefaults": {
           "arrowhead": 0,
           "arrowwidth": 1
          },
          "autotypenumbers": "strict",
          "coloraxis": {
           "colorbar": {
            "outlinewidth": 1,
            "tickcolor": "rgb(36,36,36)",
            "ticks": "outside"
           }
          },
          "colorscale": {
           "diverging": [
            [
             0,
             "rgb(103,0,31)"
            ],
            [
             0.1,
             "rgb(178,24,43)"
            ],
            [
             0.2,
             "rgb(214,96,77)"
            ],
            [
             0.3,
             "rgb(244,165,130)"
            ],
            [
             0.4,
             "rgb(253,219,199)"
            ],
            [
             0.5,
             "rgb(247,247,247)"
            ],
            [
             0.6,
             "rgb(209,229,240)"
            ],
            [
             0.7,
             "rgb(146,197,222)"
            ],
            [
             0.8,
             "rgb(67,147,195)"
            ],
            [
             0.9,
             "rgb(33,102,172)"
            ],
            [
             1,
             "rgb(5,48,97)"
            ]
           ],
           "sequential": [
            [
             0,
             "#440154"
            ],
            [
             0.1111111111111111,
             "#482878"
            ],
            [
             0.2222222222222222,
             "#3e4989"
            ],
            [
             0.3333333333333333,
             "#31688e"
            ],
            [
             0.4444444444444444,
             "#26828e"
            ],
            [
             0.5555555555555556,
             "#1f9e89"
            ],
            [
             0.6666666666666666,
             "#35b779"
            ],
            [
             0.7777777777777778,
             "#6ece58"
            ],
            [
             0.8888888888888888,
             "#b5de2b"
            ],
            [
             1,
             "#fde725"
            ]
           ],
           "sequentialminus": [
            [
             0,
             "#440154"
            ],
            [
             0.1111111111111111,
             "#482878"
            ],
            [
             0.2222222222222222,
             "#3e4989"
            ],
            [
             0.3333333333333333,
             "#31688e"
            ],
            [
             0.4444444444444444,
             "#26828e"
            ],
            [
             0.5555555555555556,
             "#1f9e89"
            ],
            [
             0.6666666666666666,
             "#35b779"
            ],
            [
             0.7777777777777778,
             "#6ece58"
            ],
            [
             0.8888888888888888,
             "#b5de2b"
            ],
            [
             1,
             "#fde725"
            ]
           ]
          },
          "colorway": [
           "#1F77B4",
           "#FF7F0E",
           "#2CA02C",
           "#D62728",
           "#9467BD",
           "#8C564B",
           "#E377C2",
           "#7F7F7F",
           "#BCBD22",
           "#17BECF"
          ],
          "font": {
           "color": "rgb(36,36,36)"
          },
          "geo": {
           "bgcolor": "white",
           "lakecolor": "white",
           "landcolor": "white",
           "showlakes": true,
           "showland": true,
           "subunitcolor": "white"
          },
          "hoverlabel": {
           "align": "left"
          },
          "hovermode": "closest",
          "mapbox": {
           "style": "light"
          },
          "paper_bgcolor": "white",
          "plot_bgcolor": "white",
          "polar": {
           "angularaxis": {
            "gridcolor": "rgb(232,232,232)",
            "linecolor": "rgb(36,36,36)",
            "showgrid": false,
            "showline": true,
            "ticks": "outside"
           },
           "bgcolor": "white",
           "radialaxis": {
            "gridcolor": "rgb(232,232,232)",
            "linecolor": "rgb(36,36,36)",
            "showgrid": false,
            "showline": true,
            "ticks": "outside"
           }
          },
          "scene": {
           "xaxis": {
            "backgroundcolor": "white",
            "gridcolor": "rgb(232,232,232)",
            "gridwidth": 2,
            "linecolor": "rgb(36,36,36)",
            "showbackground": true,
            "showgrid": false,
            "showline": true,
            "ticks": "outside",
            "zeroline": false,
            "zerolinecolor": "rgb(36,36,36)"
           },
           "yaxis": {
            "backgroundcolor": "white",
            "gridcolor": "rgb(232,232,232)",
            "gridwidth": 2,
            "linecolor": "rgb(36,36,36)",
            "showbackground": true,
            "showgrid": false,
            "showline": true,
            "ticks": "outside",
            "zeroline": false,
            "zerolinecolor": "rgb(36,36,36)"
           },
           "zaxis": {
            "backgroundcolor": "white",
            "gridcolor": "rgb(232,232,232)",
            "gridwidth": 2,
            "linecolor": "rgb(36,36,36)",
            "showbackground": true,
            "showgrid": false,
            "showline": true,
            "ticks": "outside",
            "zeroline": false,
            "zerolinecolor": "rgb(36,36,36)"
           }
          },
          "shapedefaults": {
           "fillcolor": "black",
           "line": {
            "width": 0
           },
           "opacity": 0.3
          },
          "ternary": {
           "aaxis": {
            "gridcolor": "rgb(232,232,232)",
            "linecolor": "rgb(36,36,36)",
            "showgrid": false,
            "showline": true,
            "ticks": "outside"
           },
           "baxis": {
            "gridcolor": "rgb(232,232,232)",
            "linecolor": "rgb(36,36,36)",
            "showgrid": false,
            "showline": true,
            "ticks": "outside"
           },
           "bgcolor": "white",
           "caxis": {
            "gridcolor": "rgb(232,232,232)",
            "linecolor": "rgb(36,36,36)",
            "showgrid": false,
            "showline": true,
            "ticks": "outside"
           }
          },
          "title": {
           "x": 0.05
          },
          "xaxis": {
           "automargin": true,
           "gridcolor": "rgb(232,232,232)",
           "linecolor": "rgb(36,36,36)",
           "showgrid": false,
           "showline": true,
           "ticks": "outside",
           "title": {
            "standoff": 15
           },
           "zeroline": false,
           "zerolinecolor": "rgb(36,36,36)"
          },
          "yaxis": {
           "automargin": true,
           "gridcolor": "rgb(232,232,232)",
           "linecolor": "rgb(36,36,36)",
           "showgrid": false,
           "showline": true,
           "ticks": "outside",
           "title": {
            "standoff": 15
           },
           "zeroline": false,
           "zerolinecolor": "rgb(36,36,36)"
          }
         }
        },
        "width": 900,
        "xaxis": {
         "linecolor": "black",
         "linewidth": 2,
         "mirror": true,
         "showgrid": false,
         "showline": true,
         "ticks": "outside",
         "zerolinecolor": "grey",
         "zerolinewidth": 1
        },
        "yaxis": {
         "categoryorder": "total ascending",
         "linecolor": "black",
         "linewidth": 2,
         "mirror": true,
         "showline": true
        }
       }
      }
     },
     "metadata": {},
     "output_type": "display_data"
    }
   ],
   "source": [
    "explainer.plot_combined_gradients(instance_id)"
   ]
  },
  {
   "cell_type": "code",
   "execution_count": 33,
   "metadata": {},
   "outputs": [
    {
     "data": {
      "application/vnd.plotly.v1+json": {
       "config": {
        "plotlyServerURL": "https://plot.ly"
       },
       "data": [
        {
         "marker": {
          "size": 7
         },
         "mode": "markers",
         "showlegend": false,
         "type": "scatter",
         "x": [
          -13.439659169431541,
          -17.41627663190408,
          -18.912671279442765,
          -14.687487516803118,
          -15.224850360571091,
          -21.320718369406823,
          -24.448471047286805,
          -26.678482519864108,
          -16.703879601703964,
          -15.04536788689018,
          -16.459103762964837,
          -12.671545554972075,
          -15.03851197985544,
          -17.288139108073917,
          -13.96844749629448,
          -22.47525725897187,
          -21.590170748172074,
          -22.30241352612701,
          -20.76532330325611,
          -22.489246924634063,
          -23.75706403566592,
          -16.392032070035803,
          -17.822528563793707,
          -12.62200397156745,
          -15.128067050008932,
          -24.115281763927193,
          -19.31910154555401,
          -11.487673861085387,
          -23.259450283910617,
          -24.571662202433963,
          -7.673510868258781,
          -25.59563429828497,
          5.209027657965058,
          -16.164077614623494,
          -0.3206915272619514,
          -5.616461315174769,
          -20.097763026932135,
          -19.935808920450608,
          -22.057047952698337,
          1.8108505936248978,
          -23.174827907109417,
          -18.87727949858482,
          3.899894003921186,
          -8.563418104381661,
          6.3241363103236665,
          -19.841238315621485,
          -11.21808065129475,
          -1.9884608477041152,
          -2.1648341182263953,
          -17.25204542727804,
          -12.578874953687988,
          -11.025290511203638,
          -18.70607519681541,
          -22.286263272540793,
          -22.85277032859193,
          8.352962070016407,
          14.907103343051471,
          7.636100843465525,
          -12.14523915472563,
          -10.916719494387525,
          -2.100342807449728,
          -19.079417771143568,
          10.772702618767024,
          -9.31280928133833,
          -12.153496697884135,
          19.417897235630033,
          6.92063666356977,
          8.448137955068441,
          11.126678482219114,
          11.72572707323218,
          5.902330824716798,
          -9.929348049608418,
          7.418732429949273,
          8.715879601919259,
          9.118423625642563,
          2.954282431881178,
          -0.47257189484979806,
          3.4894260893134494,
          -12.77562494844899,
          -6.869364216029878,
          4.780109633383869,
          0.4656375424898393,
          -16.305010068456564,
          -16.970495017974386,
          13.961865455949432,
          -0.0172026593086042,
          8.950580983663356,
          -5.038871053838727,
          -10.030351548554368,
          8.010956997759699,
          13.292453477079063,
          -16.235959554638644,
          18.373881901611444,
          -9.42816863592649,
          10.976202808526164,
          11.552130808512965,
          4.859250202383185,
          8.859512739984012,
          31.716492725253104,
          -7.703907001529456,
          19.37342903904253,
          16.631204466886878,
          -1.364359281653734,
          19.49413042013471,
          5.48770418174924,
          25.07101993878351,
          15.061348743534277,
          12.415822497061152,
          31.675988038255102,
          7.296286471042055,
          25.829801791370674,
          28.00977036172681,
          18.603721259690346,
          25.16272372547026,
          20.720688296539297,
          -14.62009668035418,
          24.02377655573082,
          22.298875529486914,
          29.972713969072156,
          18.58291952460711,
          22.54381887362248,
          26.05015330752826,
          20.95754679765263,
          -9.27907227157587,
          26.996438447280237,
          22.199125024528005,
          26.748847788060935,
          20.916603838867765,
          19.910750333865167,
          23.655692778317956,
          20.5807757516114,
          25.089691777609204,
          27.71118007195068,
          30.817991031710452,
          24.718044226687418,
          26.01447384005139,
          24.590972337372985,
          22.97573597323779
         ],
         "y": [
          39.40298544188224,
          41.05763349090961,
          38.58563761733916,
          30.657080252319357,
          38.692376709944604,
          38.18459202146102,
          30.86266373650818,
          30.297547541711005,
          36.10436221713452,
          34.37745504736645,
          38.96748919174128,
          31.352242179939484,
          32.757765324905456,
          32.5204684992923,
          36.26001428463523,
          29.950848438798374,
          31.173264758640038,
          28.998662046009844,
          33.049201925365686,
          37.964735245241485,
          27.072990045813025,
          6.9651173829168265,
          9.439145282188028,
          3.6058945167649843,
          3.303359429525925,
          -5.571606805603756,
          29.22077252976691,
          1.8944053991625203,
          -8.146310922185002,
          -3.7885154206080944,
          12.39850507280467,
          -9.140575226347789,
          -8.27348298486773,
          -19.288415562378674,
          9.92531895522707,
          5.590673670572324,
          -8.807282811767267,
          -11.649802013981024,
          -8.171195726543852,
          -3.150367498426659,
          -10.145371034173923,
          -12.099063601133063,
          6.037354364811706,
          12.018208990003663,
          -2.678018564282881,
          -14.315802608847232,
          5.224187830485461,
          0.9032804811108501,
          15.565961258747725,
          -19.019753494226745,
          -2.8883787416116102,
          -0.6713666214170857,
          -21.231444538590022,
          -11.785796986075562,
          -14.857003886523126,
          -4.280637424492034,
          -13.929069127155321,
          -11.488622735499845,
          -17.373047149391656,
          -7.002379181180868,
          14.329780216777802,
          -18.590635950652253,
          7.993321597006763,
          -8.069499815405246,
          -15.731122308971157,
          20.663292290994114,
          -10.284494188941308,
          -12.389884606731856,
          -1.6065242199080263,
          9.783188612887749,
          6.433835484958241,
          0.5296875630201191,
          -17.69905837367123,
          1.9475324389221391,
          4.27730436736294,
          -0.5273654502234854,
          0.7801345599204225,
          13.998177784838877,
          -13.663680134175884,
          -8.418186688478544,
          -1.321082797777805,
          11.317141998003528,
          -3.744920375804988,
          -12.329656124090743,
          -7.956357859727588,
          13.065326690805454,
          -2.5416380446020668,
          -9.123796434312723,
          -12.157768826860742,
          8.834782936266368,
          -9.410094705777926,
          -10.334936001374144,
          -13.040195051652866,
          -11.932797186039982,
          -10.956063942476256,
          1.3399616848285056,
          -5.605833622149275,
          7.290732582133044,
          -12.448342865490428,
          0.35766279720070465,
          19.980479292920283,
          -22.51129522783311,
          8.451178547203675,
          -5.941381261540559,
          14.808054647869273,
          -23.75309557625565,
          0.1669298277855768,
          0.2630053440965633,
          -13.958032212113102,
          3.4200117813574025,
          -27.487206654661474,
          -6.245664346055826,
          -19.413332712110975,
          -20.774034557077368,
          -10.936939091412215,
          -3.07204772053658,
          -7.62358143105315,
          -17.798591826400553,
          -6.481648222927268,
          -7.74034251800641,
          -29.035839526450495,
          -4.416329807746921,
          -19.48827156289188,
          -23.712618151430863,
          -28.73027519898243,
          -10.225951452077357,
          -5.985526626378145,
          -14.613501974952122,
          -20.472901887256523,
          -28.277030496328912,
          -29.665338852021904,
          -25.70012931811194,
          -16.51008485801243,
          -18.24999771830738,
          -16.80553577781825,
          -16.57581458395884,
          -12.710374127462254,
          -15.863762707426107
         ]
        },
        {
         "marker": {
          "color": "crimson",
          "size": 7
         },
         "mode": "markers",
         "name": "Instance 61",
         "type": "scatter",
         "x": [
          -19.079417771143568
         ],
         "y": [
          -18.590635950652253
         ]
        },
        {
         "line": {
          "color": "yellow",
          "width": 2
         },
         "mode": "lines",
         "name": "Import 1990",
         "type": "scatter",
         "x": [
          -19.079417771143568,
          -17.927231381564354
         ],
         "y": [
          -18.590635950652253,
          -10.963671439983315
         ]
        },
        {
         "line": {
          "color": "green",
          "width": 2
         },
         "mode": "lines",
         "name": "Tuberculosis detected",
         "type": "scatter",
         "x": [
          -19.079417771143568,
          -18.65621373799523
         ],
         "y": [
          -18.590635950652253,
          -9.99449005396674
         ]
        },
        {
         "line": {
          "color": "blue",
          "width": 2
         },
         "mode": "lines",
         "name": "ODA received",
         "type": "scatter",
         "x": [
          -19.079417771143568,
          -17.91415124144794
         ],
         "y": [
          -18.590635950652253,
          -27.49629443819766
         ]
        },
        {
         "line": {
          "color": "orange",
          "width": 2
         },
         "mode": "lines",
         "name": "Import 2004",
         "type": "scatter",
         "x": [
          -19.079417771143568,
          -18.126258317893296
         ],
         "y": [
          -18.590635950652253,
          -8.393095707163074
         ]
        },
        {
         "line": {
          "color": "purple",
          "width": 2
         },
         "mode": "lines",
         "name": "Armed forces",
         "type": "scatter",
         "x": [
          -19.079417771143568,
          -22.189351277731227
         ],
         "y": [
          -18.590635950652253,
          -30.950538190119396
         ]
        }
       ],
       "layout": {
        "height": 600,
        "legend": {
         "bgcolor": "rgba(255, 255, 255, 0)",
         "bordercolor": "rgba(255, 255, 255, 0)",
         "x": 1,
         "xanchor": "right",
         "y": 1,
         "yanchor": "top"
        },
        "template": {
         "data": {
          "bar": [
           {
            "error_x": {
             "color": "rgb(36,36,36)"
            },
            "error_y": {
             "color": "rgb(36,36,36)"
            },
            "marker": {
             "line": {
              "color": "white",
              "width": 0.5
             },
             "pattern": {
              "fillmode": "overlay",
              "size": 10,
              "solidity": 0.2
             }
            },
            "type": "bar"
           }
          ],
          "barpolar": [
           {
            "marker": {
             "line": {
              "color": "white",
              "width": 0.5
             },
             "pattern": {
              "fillmode": "overlay",
              "size": 10,
              "solidity": 0.2
             }
            },
            "type": "barpolar"
           }
          ],
          "carpet": [
           {
            "aaxis": {
             "endlinecolor": "rgb(36,36,36)",
             "gridcolor": "white",
             "linecolor": "white",
             "minorgridcolor": "white",
             "startlinecolor": "rgb(36,36,36)"
            },
            "baxis": {
             "endlinecolor": "rgb(36,36,36)",
             "gridcolor": "white",
             "linecolor": "white",
             "minorgridcolor": "white",
             "startlinecolor": "rgb(36,36,36)"
            },
            "type": "carpet"
           }
          ],
          "choropleth": [
           {
            "colorbar": {
             "outlinewidth": 1,
             "tickcolor": "rgb(36,36,36)",
             "ticks": "outside"
            },
            "type": "choropleth"
           }
          ],
          "contour": [
           {
            "colorbar": {
             "outlinewidth": 1,
             "tickcolor": "rgb(36,36,36)",
             "ticks": "outside"
            },
            "colorscale": [
             [
              0,
              "#440154"
             ],
             [
              0.1111111111111111,
              "#482878"
             ],
             [
              0.2222222222222222,
              "#3e4989"
             ],
             [
              0.3333333333333333,
              "#31688e"
             ],
             [
              0.4444444444444444,
              "#26828e"
             ],
             [
              0.5555555555555556,
              "#1f9e89"
             ],
             [
              0.6666666666666666,
              "#35b779"
             ],
             [
              0.7777777777777778,
              "#6ece58"
             ],
             [
              0.8888888888888888,
              "#b5de2b"
             ],
             [
              1,
              "#fde725"
             ]
            ],
            "type": "contour"
           }
          ],
          "contourcarpet": [
           {
            "colorbar": {
             "outlinewidth": 1,
             "tickcolor": "rgb(36,36,36)",
             "ticks": "outside"
            },
            "type": "contourcarpet"
           }
          ],
          "heatmap": [
           {
            "colorbar": {
             "outlinewidth": 1,
             "tickcolor": "rgb(36,36,36)",
             "ticks": "outside"
            },
            "colorscale": [
             [
              0,
              "#440154"
             ],
             [
              0.1111111111111111,
              "#482878"
             ],
             [
              0.2222222222222222,
              "#3e4989"
             ],
             [
              0.3333333333333333,
              "#31688e"
             ],
             [
              0.4444444444444444,
              "#26828e"
             ],
             [
              0.5555555555555556,
              "#1f9e89"
             ],
             [
              0.6666666666666666,
              "#35b779"
             ],
             [
              0.7777777777777778,
              "#6ece58"
             ],
             [
              0.8888888888888888,
              "#b5de2b"
             ],
             [
              1,
              "#fde725"
             ]
            ],
            "type": "heatmap"
           }
          ],
          "heatmapgl": [
           {
            "colorbar": {
             "outlinewidth": 1,
             "tickcolor": "rgb(36,36,36)",
             "ticks": "outside"
            },
            "colorscale": [
             [
              0,
              "#440154"
             ],
             [
              0.1111111111111111,
              "#482878"
             ],
             [
              0.2222222222222222,
              "#3e4989"
             ],
             [
              0.3333333333333333,
              "#31688e"
             ],
             [
              0.4444444444444444,
              "#26828e"
             ],
             [
              0.5555555555555556,
              "#1f9e89"
             ],
             [
              0.6666666666666666,
              "#35b779"
             ],
             [
              0.7777777777777778,
              "#6ece58"
             ],
             [
              0.8888888888888888,
              "#b5de2b"
             ],
             [
              1,
              "#fde725"
             ]
            ],
            "type": "heatmapgl"
           }
          ],
          "histogram": [
           {
            "marker": {
             "line": {
              "color": "white",
              "width": 0.6
             }
            },
            "type": "histogram"
           }
          ],
          "histogram2d": [
           {
            "colorbar": {
             "outlinewidth": 1,
             "tickcolor": "rgb(36,36,36)",
             "ticks": "outside"
            },
            "colorscale": [
             [
              0,
              "#440154"
             ],
             [
              0.1111111111111111,
              "#482878"
             ],
             [
              0.2222222222222222,
              "#3e4989"
             ],
             [
              0.3333333333333333,
              "#31688e"
             ],
             [
              0.4444444444444444,
              "#26828e"
             ],
             [
              0.5555555555555556,
              "#1f9e89"
             ],
             [
              0.6666666666666666,
              "#35b779"
             ],
             [
              0.7777777777777778,
              "#6ece58"
             ],
             [
              0.8888888888888888,
              "#b5de2b"
             ],
             [
              1,
              "#fde725"
             ]
            ],
            "type": "histogram2d"
           }
          ],
          "histogram2dcontour": [
           {
            "colorbar": {
             "outlinewidth": 1,
             "tickcolor": "rgb(36,36,36)",
             "ticks": "outside"
            },
            "colorscale": [
             [
              0,
              "#440154"
             ],
             [
              0.1111111111111111,
              "#482878"
             ],
             [
              0.2222222222222222,
              "#3e4989"
             ],
             [
              0.3333333333333333,
              "#31688e"
             ],
             [
              0.4444444444444444,
              "#26828e"
             ],
             [
              0.5555555555555556,
              "#1f9e89"
             ],
             [
              0.6666666666666666,
              "#35b779"
             ],
             [
              0.7777777777777778,
              "#6ece58"
             ],
             [
              0.8888888888888888,
              "#b5de2b"
             ],
             [
              1,
              "#fde725"
             ]
            ],
            "type": "histogram2dcontour"
           }
          ],
          "mesh3d": [
           {
            "colorbar": {
             "outlinewidth": 1,
             "tickcolor": "rgb(36,36,36)",
             "ticks": "outside"
            },
            "type": "mesh3d"
           }
          ],
          "parcoords": [
           {
            "line": {
             "colorbar": {
              "outlinewidth": 1,
              "tickcolor": "rgb(36,36,36)",
              "ticks": "outside"
             }
            },
            "type": "parcoords"
           }
          ],
          "pie": [
           {
            "automargin": true,
            "type": "pie"
           }
          ],
          "scatter": [
           {
            "marker": {
             "colorbar": {
              "outlinewidth": 1,
              "tickcolor": "rgb(36,36,36)",
              "ticks": "outside"
             }
            },
            "type": "scatter"
           }
          ],
          "scatter3d": [
           {
            "line": {
             "colorbar": {
              "outlinewidth": 1,
              "tickcolor": "rgb(36,36,36)",
              "ticks": "outside"
             }
            },
            "marker": {
             "colorbar": {
              "outlinewidth": 1,
              "tickcolor": "rgb(36,36,36)",
              "ticks": "outside"
             }
            },
            "type": "scatter3d"
           }
          ],
          "scattercarpet": [
           {
            "marker": {
             "colorbar": {
              "outlinewidth": 1,
              "tickcolor": "rgb(36,36,36)",
              "ticks": "outside"
             }
            },
            "type": "scattercarpet"
           }
          ],
          "scattergeo": [
           {
            "marker": {
             "colorbar": {
              "outlinewidth": 1,
              "tickcolor": "rgb(36,36,36)",
              "ticks": "outside"
             }
            },
            "type": "scattergeo"
           }
          ],
          "scattergl": [
           {
            "marker": {
             "colorbar": {
              "outlinewidth": 1,
              "tickcolor": "rgb(36,36,36)",
              "ticks": "outside"
             }
            },
            "type": "scattergl"
           }
          ],
          "scattermapbox": [
           {
            "marker": {
             "colorbar": {
              "outlinewidth": 1,
              "tickcolor": "rgb(36,36,36)",
              "ticks": "outside"
             }
            },
            "type": "scattermapbox"
           }
          ],
          "scatterpolar": [
           {
            "marker": {
             "colorbar": {
              "outlinewidth": 1,
              "tickcolor": "rgb(36,36,36)",
              "ticks": "outside"
             }
            },
            "type": "scatterpolar"
           }
          ],
          "scatterpolargl": [
           {
            "marker": {
             "colorbar": {
              "outlinewidth": 1,
              "tickcolor": "rgb(36,36,36)",
              "ticks": "outside"
             }
            },
            "type": "scatterpolargl"
           }
          ],
          "scatterternary": [
           {
            "marker": {
             "colorbar": {
              "outlinewidth": 1,
              "tickcolor": "rgb(36,36,36)",
              "ticks": "outside"
             }
            },
            "type": "scatterternary"
           }
          ],
          "surface": [
           {
            "colorbar": {
             "outlinewidth": 1,
             "tickcolor": "rgb(36,36,36)",
             "ticks": "outside"
            },
            "colorscale": [
             [
              0,
              "#440154"
             ],
             [
              0.1111111111111111,
              "#482878"
             ],
             [
              0.2222222222222222,
              "#3e4989"
             ],
             [
              0.3333333333333333,
              "#31688e"
             ],
             [
              0.4444444444444444,
              "#26828e"
             ],
             [
              0.5555555555555556,
              "#1f9e89"
             ],
             [
              0.6666666666666666,
              "#35b779"
             ],
             [
              0.7777777777777778,
              "#6ece58"
             ],
             [
              0.8888888888888888,
              "#b5de2b"
             ],
             [
              1,
              "#fde725"
             ]
            ],
            "type": "surface"
           }
          ],
          "table": [
           {
            "cells": {
             "fill": {
              "color": "rgb(237,237,237)"
             },
             "line": {
              "color": "white"
             }
            },
            "header": {
             "fill": {
              "color": "rgb(217,217,217)"
             },
             "line": {
              "color": "white"
             }
            },
            "type": "table"
           }
          ]
         },
         "layout": {
          "annotationdefaults": {
           "arrowhead": 0,
           "arrowwidth": 1
          },
          "autotypenumbers": "strict",
          "coloraxis": {
           "colorbar": {
            "outlinewidth": 1,
            "tickcolor": "rgb(36,36,36)",
            "ticks": "outside"
           }
          },
          "colorscale": {
           "diverging": [
            [
             0,
             "rgb(103,0,31)"
            ],
            [
             0.1,
             "rgb(178,24,43)"
            ],
            [
             0.2,
             "rgb(214,96,77)"
            ],
            [
             0.3,
             "rgb(244,165,130)"
            ],
            [
             0.4,
             "rgb(253,219,199)"
            ],
            [
             0.5,
             "rgb(247,247,247)"
            ],
            [
             0.6,
             "rgb(209,229,240)"
            ],
            [
             0.7,
             "rgb(146,197,222)"
            ],
            [
             0.8,
             "rgb(67,147,195)"
            ],
            [
             0.9,
             "rgb(33,102,172)"
            ],
            [
             1,
             "rgb(5,48,97)"
            ]
           ],
           "sequential": [
            [
             0,
             "#440154"
            ],
            [
             0.1111111111111111,
             "#482878"
            ],
            [
             0.2222222222222222,
             "#3e4989"
            ],
            [
             0.3333333333333333,
             "#31688e"
            ],
            [
             0.4444444444444444,
             "#26828e"
            ],
            [
             0.5555555555555556,
             "#1f9e89"
            ],
            [
             0.6666666666666666,
             "#35b779"
            ],
            [
             0.7777777777777778,
             "#6ece58"
            ],
            [
             0.8888888888888888,
             "#b5de2b"
            ],
            [
             1,
             "#fde725"
            ]
           ],
           "sequentialminus": [
            [
             0,
             "#440154"
            ],
            [
             0.1111111111111111,
             "#482878"
            ],
            [
             0.2222222222222222,
             "#3e4989"
            ],
            [
             0.3333333333333333,
             "#31688e"
            ],
            [
             0.4444444444444444,
             "#26828e"
            ],
            [
             0.5555555555555556,
             "#1f9e89"
            ],
            [
             0.6666666666666666,
             "#35b779"
            ],
            [
             0.7777777777777778,
             "#6ece58"
            ],
            [
             0.8888888888888888,
             "#b5de2b"
            ],
            [
             1,
             "#fde725"
            ]
           ]
          },
          "colorway": [
           "#1F77B4",
           "#FF7F0E",
           "#2CA02C",
           "#D62728",
           "#9467BD",
           "#8C564B",
           "#E377C2",
           "#7F7F7F",
           "#BCBD22",
           "#17BECF"
          ],
          "font": {
           "color": "rgb(36,36,36)"
          },
          "geo": {
           "bgcolor": "white",
           "lakecolor": "white",
           "landcolor": "white",
           "showlakes": true,
           "showland": true,
           "subunitcolor": "white"
          },
          "hoverlabel": {
           "align": "left"
          },
          "hovermode": "closest",
          "mapbox": {
           "style": "light"
          },
          "paper_bgcolor": "white",
          "plot_bgcolor": "white",
          "polar": {
           "angularaxis": {
            "gridcolor": "rgb(232,232,232)",
            "linecolor": "rgb(36,36,36)",
            "showgrid": false,
            "showline": true,
            "ticks": "outside"
           },
           "bgcolor": "white",
           "radialaxis": {
            "gridcolor": "rgb(232,232,232)",
            "linecolor": "rgb(36,36,36)",
            "showgrid": false,
            "showline": true,
            "ticks": "outside"
           }
          },
          "scene": {
           "xaxis": {
            "backgroundcolor": "white",
            "gridcolor": "rgb(232,232,232)",
            "gridwidth": 2,
            "linecolor": "rgb(36,36,36)",
            "showbackground": true,
            "showgrid": false,
            "showline": true,
            "ticks": "outside",
            "zeroline": false,
            "zerolinecolor": "rgb(36,36,36)"
           },
           "yaxis": {
            "backgroundcolor": "white",
            "gridcolor": "rgb(232,232,232)",
            "gridwidth": 2,
            "linecolor": "rgb(36,36,36)",
            "showbackground": true,
            "showgrid": false,
            "showline": true,
            "ticks": "outside",
            "zeroline": false,
            "zerolinecolor": "rgb(36,36,36)"
           },
           "zaxis": {
            "backgroundcolor": "white",
            "gridcolor": "rgb(232,232,232)",
            "gridwidth": 2,
            "linecolor": "rgb(36,36,36)",
            "showbackground": true,
            "showgrid": false,
            "showline": true,
            "ticks": "outside",
            "zeroline": false,
            "zerolinecolor": "rgb(36,36,36)"
           }
          },
          "shapedefaults": {
           "fillcolor": "black",
           "line": {
            "width": 0
           },
           "opacity": 0.3
          },
          "ternary": {
           "aaxis": {
            "gridcolor": "rgb(232,232,232)",
            "linecolor": "rgb(36,36,36)",
            "showgrid": false,
            "showline": true,
            "ticks": "outside"
           },
           "baxis": {
            "gridcolor": "rgb(232,232,232)",
            "linecolor": "rgb(36,36,36)",
            "showgrid": false,
            "showline": true,
            "ticks": "outside"
           },
           "bgcolor": "white",
           "caxis": {
            "gridcolor": "rgb(232,232,232)",
            "linecolor": "rgb(36,36,36)",
            "showgrid": false,
            "showline": true,
            "ticks": "outside"
           }
          },
          "title": {
           "x": 0.05
          },
          "xaxis": {
           "automargin": true,
           "gridcolor": "rgb(232,232,232)",
           "linecolor": "rgb(36,36,36)",
           "showgrid": false,
           "showline": true,
           "ticks": "outside",
           "title": {
            "standoff": 15
           },
           "zeroline": false,
           "zerolinecolor": "rgb(36,36,36)"
          },
          "yaxis": {
           "automargin": true,
           "gridcolor": "rgb(232,232,232)",
           "linecolor": "rgb(36,36,36)",
           "showgrid": false,
           "showline": true,
           "ticks": "outside",
           "title": {
            "standoff": 15
           },
           "zeroline": false,
           "zerolinecolor": "rgb(36,36,36)"
          }
         }
        },
        "title": {
         "text": "Top Gradient Vectors for Instance 61"
        },
        "width": 600,
        "xaxis": {
         "mirror": true,
         "showgrid": false,
         "ticks": "outside",
         "zeroline": false
        },
        "yaxis": {
         "mirror": true,
         "showgrid": false,
         "ticks": "outside",
         "zeroline": false
        }
       }
      }
     },
     "metadata": {},
     "output_type": "display_data"
    }
   ],
   "source": [
    "explainer.plot_top_gradient_vectors(instance_id, 5)"
   ]
  }
 ],
 "metadata": {
  "interpreter": {
   "hash": "706b4d18ccd75c46aca3b385179c80b6c02f39d920afa94521c6140b14505d5b"
  },
  "kernelspec": {
   "display_name": "Python 3.8.8 ('venv': venv)",
   "language": "python",
   "name": "python3"
  },
  "language_info": {
   "codemirror_mode": {
    "name": "ipython",
    "version": 3
   },
   "file_extension": ".py",
   "mimetype": "text/x-python",
   "name": "python",
   "nbconvert_exporter": "python",
   "pygments_lexer": "ipython3",
   "version": "3.10.8"
  },
  "orig_nbformat": 4
 },
 "nbformat": 4,
 "nbformat_minor": 2
}
